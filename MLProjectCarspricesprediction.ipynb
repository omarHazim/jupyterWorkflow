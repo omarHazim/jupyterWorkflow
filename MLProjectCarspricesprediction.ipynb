{
 "cells": [
  {
   "cell_type": "markdown",
   "metadata": {
    "cell_style": "center",
    "extensions": {
     "jupyter_dashboards": {
      "version": 1,
      "views": {
       "grid_default": {
        "col": 0,
        "height": 4,
        "hidden": false,
        "row": 0,
        "width": 4
       },
       "report_default": {
        "hidden": false
       }
      }
     }
    },
    "raw_mimetype": "text/markdown",
    "slideshow": {
     "slide_type": ""
    }
   },
   "source": [
    "## ML Project: Predicting Car Prices\n"
   ]
  },
  {
   "cell_type": "code",
   "execution_count": 1,
   "metadata": {
    "cell_style": "center",
    "collapsed": true,
    "extensions": {
     "jupyter_dashboards": {
      "version": 1,
      "views": {
       "grid_default": {
        "col": 0,
        "height": 15,
        "hidden": false,
        "row": 22,
        "width": 4
       },
       "report_default": {
        "hidden": true
       }
      }
     }
    },
    "scrolled": true,
    "slideshow": {
     "slide_type": "slide"
    }
   },
   "outputs": [],
   "source": [
    "# Import front end lib\n",
    "import pandas as pd\n",
    "import requests\n",
    "from collections import namedtuple\n",
    "import re\n",
    "import numpy as np\n",
    "import itertools\n",
    "from sklearn.neighbors import KNeighborsRegressor\n",
    "from sklearn.metrics import mean_squared_error\n",
    "import matplotlib.pyplot as plt\n",
    "\n",
    "#Building wedgets to make interactive function\n",
    "import ipywidgets as wg\n",
    "from ipywidgets import *\n",
    "from IPython.display import display\n",
    "\n",
    "#the lib below to make pandas DF shows pretty tabels\n",
    "from IPython.core.interactiveshell import InteractiveShell\n",
    "InteractiveShell.ast_node_interactivity = \"all\"\n",
    "# Run IPython kernal as HTML slidshow\n",
    "#!jupyter nbconvert  MLProjectCarspricesprediction.ipynb   --to slides --post serve"
   ]
  },
  {
   "cell_type": "markdown",
   "metadata": {
    "extensions": {
     "jupyter_dashboards": {
      "version": 1,
      "views": {
       "grid_default": {
        "col": 8,
        "height": 4,
        "hidden": false,
        "row": 0,
        "width": 4
       },
       "report_default": {
        "hidden": false
       }
      }
     }
    },
    "slideshow": {
     "slide_type": "subslide"
    }
   },
   "source": [
    "### Dataset download and preperations process "
   ]
  },
  {
   "cell_type": "code",
   "execution_count": 2,
   "metadata": {
    "collapsed": true,
    "extensions": {
     "jupyter_dashboards": {
      "version": 1,
      "views": {
       "grid_default": {
        "hidden": true
       },
       "report_default": {
        "hidden": true
       }
      }
     }
    },
    "lang": "en",
    "slideshow": {
     "slide_type": "slide"
    }
   },
   "outputs": [],
   "source": [
    "## Download the webpage to extract the columns name and dataset dataframe\n",
    "def download_pars_dataset(url_cols, url_dataset):\n",
    "    \"\"\"\n",
    "    Downloading and parsing columnes /dataset\n",
    "    Inputs:\n",
    "    __________________\n",
    "     - url_cols: str\n",
    "        URL of columns data\n",
    "     - url_dataset: str\n",
    "        URL of dataset\n",
    "    Outputs:\n",
    "    __________________\n",
    "     - columns name with final dataset as dataframe \n",
    "    \"\"\"\n",
    "    #Downloading and parsing columns\n",
    "    r_cols = requests.get(url_cols)\n",
    "    data_text = r_cols.text\n",
    "    data_text_lines = data_text.splitlines()\n",
    "    cols = []\n",
    "    for line in data_text_lines:\n",
    "        pattern0 = r\"\\s\\d+. ([a-zA-Z]+).*:\"\n",
    "        if re.search(pattern0, line):\n",
    "            cols.append(line)\n",
    "    col_nme = [re.split(':?', entry, 3) for entry in cols]\n",
    "\n",
    "    # Final column names\n",
    "    pattern1 = r\"([a-zA-Z]+)\"\n",
    "    cols_nme = [re.search(pattern1, col[0]).group() for col in col_nme]\n",
    "\n",
    "    #Downloadung and parsing dataset\n",
    "    r_dataset = requests.get(url_dataset)\n",
    "    dataset_text = r_dataset.text.split('\\n')\n",
    "    data_set_cars = [item for item in dataset_text]\n",
    "    cars_dataset = pd.DataFrame(\n",
    "        [x.split(\",\") for x in data_set_cars], columns=cols_nme)\n",
    "    return cars_dataset"
   ]
  },
  {
   "cell_type": "markdown",
   "metadata": {
    "extensions": {
     "jupyter_dashboards": {
      "version": 1,
      "views": {
       "grid_default": {
        "col": 0,
        "height": 29,
        "hidden": false,
        "row": 86,
        "width": 12
       },
       "report_default": {
        "hidden": false
       }
      }
     }
    },
    "lang": "fr"
   },
   "source": [
    "## Téléchargez la page Web pour extraire le nom des colonnes et l'ensemble de données du dataset\n",
    "def download _pars_ ensemble de données (url _cols, url_ ensemble de données):\n",
    "    \"\" \"\n",
    "    Téléchargement et analyse de columnes / dataset\n",
    "    Contributions:\n",
    "    ____ ____ ____ ____ __- url_cols: str\n",
    "        URL des données de colonnes\n",
    "     - url_dataset: str\n",
    "        URL de l'ensemble de données\n",
    "    Les sorties:__ ____ ____ ____ ____\n",
    "     - nom des colonnes avec l'ensemble de données final en tant que données\n",
    "    \"\" \"\n",
    "    #Télécharger et analyser les colonnes\n",
    "    r _cols = requests.get (url_ cols)\n",
    "    données _text = r_ cols.text\n",
    "    data _text_ lignes = données _text.splitlines ()\n",
    "    cols = []\n",
    "    pour les lignes de données_ text _:\n",
    "        pattern0 = r \"\\ s \\ d +. ([a-zA-Z] +). *:\"\n",
    "        si re.search (motif0, ligne):\n",
    "            cols.append (ligne)\n",
    "    col_ nme = [re.split (':?', entry, 3) pour l'entrée dans cols]\n",
    "\n",
    "    # Noms de colonnes finaux\n",
    "    pattern1 = r \"([a-zA-Z] +)\"\n",
    "    cols _nme = [re.search (pattern1, col [0]). group () pour col dans col_ nme]\n",
    "\n",
    "    #Downloadung et l'analyse de données\n",
    "    r _dataset = requests.get (url_ ensemble de données)\n",
    "    dataset _text = r_ dataset.text.split ('\\ n')\n",
    "    data _set_ cars = [élément de l'élément dans le jeu de données _texte]\n",
    "    cars_ dataset = pd.DataFrame (\n",
    "        [x.split (\",\") pour x dans les données _set_ cars], columns = cols _nme)\n",
    "    retour des voitures_ ensemble de données"
   ]
  },
  {
   "cell_type": "code",
   "execution_count": 3,
   "metadata": {
    "cell_style": "center",
    "extensions": {
     "jupyter_dashboards": {
      "version": 1,
      "views": {
       "grid_default": {
        "col": 0,
        "height": 8,
        "hidden": false,
        "row": 14,
        "width": 4
       },
       "report_default": {
        "hidden": false
       }
      }
     }
    },
    "scrolled": false,
    "slideshow": {
     "slide_type": "slide"
    }
   },
   "outputs": [
    {
     "name": "stderr",
     "output_type": "stream",
     "text": [
      "/Users/omar/anaconda3/lib/python3.6/re.py:212: FutureWarning: split() requires a non-empty pattern match.\n",
      "  return _compile(pattern, flags).split(string, maxsplit)\n"
     ]
    },
    {
     "data": {
      "text/html": [
       "<div>\n",
       "<style>\n",
       "    .dataframe thead tr:only-child th {\n",
       "        text-align: right;\n",
       "    }\n",
       "\n",
       "    .dataframe thead th {\n",
       "        text-align: left;\n",
       "    }\n",
       "\n",
       "    .dataframe tbody tr th {\n",
       "        vertical-align: top;\n",
       "    }\n",
       "</style>\n",
       "<table border=\"1\" class=\"dataframe\">\n",
       "  <thead>\n",
       "    <tr style=\"text-align: right;\">\n",
       "      <th></th>\n",
       "      <th>symboling</th>\n",
       "      <th>normalized</th>\n",
       "      <th>wheel</th>\n",
       "      <th>length</th>\n",
       "      <th>width</th>\n",
       "      <th>height</th>\n",
       "      <th>curb</th>\n",
       "      <th>bore</th>\n",
       "      <th>stroke</th>\n",
       "      <th>compression</th>\n",
       "      <th>horsepower</th>\n",
       "      <th>peak</th>\n",
       "      <th>city</th>\n",
       "      <th>highway</th>\n",
       "      <th>price</th>\n",
       "    </tr>\n",
       "  </thead>\n",
       "  <tbody>\n",
       "    <tr>\n",
       "      <th>0</th>\n",
       "      <td>3.0</td>\n",
       "      <td>NaN</td>\n",
       "      <td>88.6</td>\n",
       "      <td>168.8</td>\n",
       "      <td>64.1</td>\n",
       "      <td>48.8</td>\n",
       "      <td>2548.0</td>\n",
       "      <td>3.47</td>\n",
       "      <td>2.68</td>\n",
       "      <td>9.0</td>\n",
       "      <td>111.0</td>\n",
       "      <td>5000.0</td>\n",
       "      <td>21.0</td>\n",
       "      <td>27.0</td>\n",
       "      <td>13495.0</td>\n",
       "    </tr>\n",
       "    <tr>\n",
       "      <th>1</th>\n",
       "      <td>3.0</td>\n",
       "      <td>NaN</td>\n",
       "      <td>88.6</td>\n",
       "      <td>168.8</td>\n",
       "      <td>64.1</td>\n",
       "      <td>48.8</td>\n",
       "      <td>2548.0</td>\n",
       "      <td>3.47</td>\n",
       "      <td>2.68</td>\n",
       "      <td>9.0</td>\n",
       "      <td>111.0</td>\n",
       "      <td>5000.0</td>\n",
       "      <td>21.0</td>\n",
       "      <td>27.0</td>\n",
       "      <td>16500.0</td>\n",
       "    </tr>\n",
       "    <tr>\n",
       "      <th>2</th>\n",
       "      <td>1.0</td>\n",
       "      <td>NaN</td>\n",
       "      <td>94.5</td>\n",
       "      <td>171.2</td>\n",
       "      <td>65.5</td>\n",
       "      <td>52.4</td>\n",
       "      <td>2823.0</td>\n",
       "      <td>2.68</td>\n",
       "      <td>3.47</td>\n",
       "      <td>9.0</td>\n",
       "      <td>154.0</td>\n",
       "      <td>5000.0</td>\n",
       "      <td>19.0</td>\n",
       "      <td>26.0</td>\n",
       "      <td>16500.0</td>\n",
       "    </tr>\n",
       "    <tr>\n",
       "      <th>3</th>\n",
       "      <td>2.0</td>\n",
       "      <td>164.0</td>\n",
       "      <td>99.8</td>\n",
       "      <td>176.6</td>\n",
       "      <td>66.2</td>\n",
       "      <td>54.3</td>\n",
       "      <td>2337.0</td>\n",
       "      <td>3.19</td>\n",
       "      <td>3.40</td>\n",
       "      <td>10.0</td>\n",
       "      <td>102.0</td>\n",
       "      <td>5500.0</td>\n",
       "      <td>24.0</td>\n",
       "      <td>30.0</td>\n",
       "      <td>13950.0</td>\n",
       "    </tr>\n",
       "    <tr>\n",
       "      <th>4</th>\n",
       "      <td>2.0</td>\n",
       "      <td>164.0</td>\n",
       "      <td>99.4</td>\n",
       "      <td>176.6</td>\n",
       "      <td>66.4</td>\n",
       "      <td>54.3</td>\n",
       "      <td>2824.0</td>\n",
       "      <td>3.19</td>\n",
       "      <td>3.40</td>\n",
       "      <td>8.0</td>\n",
       "      <td>115.0</td>\n",
       "      <td>5500.0</td>\n",
       "      <td>18.0</td>\n",
       "      <td>22.0</td>\n",
       "      <td>17450.0</td>\n",
       "    </tr>\n",
       "  </tbody>\n",
       "</table>\n",
       "</div>"
      ],
      "text/plain": [
       "   symboling  normalized  wheel  length  width  height    curb  bore  stroke  \\\n",
       "0        3.0         NaN   88.6   168.8   64.1    48.8  2548.0  3.47    2.68   \n",
       "1        3.0         NaN   88.6   168.8   64.1    48.8  2548.0  3.47    2.68   \n",
       "2        1.0         NaN   94.5   171.2   65.5    52.4  2823.0  2.68    3.47   \n",
       "3        2.0       164.0   99.8   176.6   66.2    54.3  2337.0  3.19    3.40   \n",
       "4        2.0       164.0   99.4   176.6   66.4    54.3  2824.0  3.19    3.40   \n",
       "\n",
       "   compression  horsepower    peak  city  highway    price  \n",
       "0          9.0       111.0  5000.0  21.0     27.0  13495.0  \n",
       "1          9.0       111.0  5000.0  21.0     27.0  16500.0  \n",
       "2          9.0       154.0  5000.0  19.0     26.0  16500.0  \n",
       "3         10.0       102.0  5500.0  24.0     30.0  13950.0  \n",
       "4          8.0       115.0  5500.0  18.0     22.0  17450.0  "
      ]
     },
     "execution_count": 3,
     "metadata": {},
     "output_type": "execute_result"
    }
   ],
   "source": [
    "# Setting up a numeric features dataframe\n",
    "## Parsing \"imports-85.names\" to find the column names for the dataset\n",
    "url_cols = \"http://archive.ics.uci.edu/ml/machine-learning-databases/autos/imports-85.names\"\n",
    "url_dataset = \"https://archive.ics.uci.edu/ml/machine-learning-databases/autos/imports-85.data\"\n",
    "\n",
    "# Download the dataset and convert it to dataframe\n",
    "cars_dataset_numeric_features = download_pars_dataset(url_cols=url_cols, url_dataset=url_dataset)\n",
    "cars_dataset_numeric_features = cars_dataset_numeric_features.apply(lambda x: pd.to_numeric(x,errors='coerce'))    \n",
    "\n",
    "# Decide which cols. have certain Nan values (e.g. > 100) to be reduced from the original dataframet\n",
    "new = cars_dataset_numeric_features.isnull().apply(sum, axis=0) > 100 \n",
    "cars_new_numeric_dataset = cars_dataset_numeric_features.drop(cars_dataset_numeric_features.loc[:,new], axis=1)\n",
    "cars_new_numeric_dataset.head()\n"
   ]
  },
  {
   "cell_type": "code",
   "execution_count": 4,
   "metadata": {
    "extensions": {
     "jupyter_dashboards": {
      "version": 1,
      "views": {
       "grid_default": {
        "col": 8,
        "height": 4,
        "hidden": false,
        "row": 12,
        "width": 4
       },
       "report_default": {
        "hidden": false
       }
      }
     }
    },
    "scrolled": true,
    "slideshow": {
     "slide_type": "slide"
    }
   },
   "outputs": [
    {
     "data": {
      "text/plain": [
       "Int64Index([0, 1, 2, 3, 15], dtype='int64')"
      ]
     },
     "execution_count": 4,
     "metadata": {},
     "output_type": "execute_result"
    }
   ],
   "source": [
    "# Detremine missing values in cols with max number of NaN among rows\n",
    "missing_values_cars_df = cars_new_numeric_dataset.isnull().apply(sum, axis=1)\n",
    "\n",
    "# max number of NaN presnets in the data across the cols\n",
    "max_num_nan_rows = missing_values_cars_df.value_counts() \n",
    "\n",
    "# max number of NaN among rows is 15\n",
    "max_num_nan_rows.index "
   ]
  },
  {
   "cell_type": "code",
   "execution_count": 5,
   "metadata": {
    "extensions": {
     "jupyter_dashboards": {
      "version": 1,
      "views": {
       "grid_default": {
        "col": 8,
        "height": 8,
        "hidden": false,
        "row": 4,
        "width": 4
       },
       "report_default": {
        "hidden": false
       }
      }
     }
    },
    "scrolled": true,
    "slideshow": {
     "slide_type": "slide"
    }
   },
   "outputs": [
    {
     "data": {
      "text/html": [
       "<div>\n",
       "<style>\n",
       "    .dataframe thead tr:only-child th {\n",
       "        text-align: right;\n",
       "    }\n",
       "\n",
       "    .dataframe thead th {\n",
       "        text-align: left;\n",
       "    }\n",
       "\n",
       "    .dataframe tbody tr th {\n",
       "        vertical-align: top;\n",
       "    }\n",
       "</style>\n",
       "<table border=\"1\" class=\"dataframe\">\n",
       "  <thead>\n",
       "    <tr style=\"text-align: right;\">\n",
       "      <th></th>\n",
       "      <th>symboling</th>\n",
       "      <th>normalized</th>\n",
       "      <th>wheel</th>\n",
       "      <th>length</th>\n",
       "      <th>width</th>\n",
       "      <th>height</th>\n",
       "      <th>curb</th>\n",
       "      <th>bore</th>\n",
       "      <th>stroke</th>\n",
       "      <th>compression</th>\n",
       "      <th>horsepower</th>\n",
       "      <th>peak</th>\n",
       "      <th>city</th>\n",
       "      <th>highway</th>\n",
       "      <th>price</th>\n",
       "    </tr>\n",
       "  </thead>\n",
       "  <tbody>\n",
       "    <tr>\n",
       "      <th>0</th>\n",
       "      <td>3.0</td>\n",
       "      <td>122.0</td>\n",
       "      <td>88.6</td>\n",
       "      <td>168.8</td>\n",
       "      <td>64.1</td>\n",
       "      <td>48.8</td>\n",
       "      <td>2548.0</td>\n",
       "      <td>3.47</td>\n",
       "      <td>2.68</td>\n",
       "      <td>9.0</td>\n",
       "      <td>111.0</td>\n",
       "      <td>5000.0</td>\n",
       "      <td>21.0</td>\n",
       "      <td>27.0</td>\n",
       "      <td>13495.0</td>\n",
       "    </tr>\n",
       "    <tr>\n",
       "      <th>1</th>\n",
       "      <td>3.0</td>\n",
       "      <td>122.0</td>\n",
       "      <td>88.6</td>\n",
       "      <td>168.8</td>\n",
       "      <td>64.1</td>\n",
       "      <td>48.8</td>\n",
       "      <td>2548.0</td>\n",
       "      <td>3.47</td>\n",
       "      <td>2.68</td>\n",
       "      <td>9.0</td>\n",
       "      <td>111.0</td>\n",
       "      <td>5000.0</td>\n",
       "      <td>21.0</td>\n",
       "      <td>27.0</td>\n",
       "      <td>16500.0</td>\n",
       "    </tr>\n",
       "    <tr>\n",
       "      <th>2</th>\n",
       "      <td>1.0</td>\n",
       "      <td>122.0</td>\n",
       "      <td>94.5</td>\n",
       "      <td>171.2</td>\n",
       "      <td>65.5</td>\n",
       "      <td>52.4</td>\n",
       "      <td>2823.0</td>\n",
       "      <td>2.68</td>\n",
       "      <td>3.47</td>\n",
       "      <td>9.0</td>\n",
       "      <td>154.0</td>\n",
       "      <td>5000.0</td>\n",
       "      <td>19.0</td>\n",
       "      <td>26.0</td>\n",
       "      <td>16500.0</td>\n",
       "    </tr>\n",
       "    <tr>\n",
       "      <th>3</th>\n",
       "      <td>2.0</td>\n",
       "      <td>164.0</td>\n",
       "      <td>99.8</td>\n",
       "      <td>176.6</td>\n",
       "      <td>66.2</td>\n",
       "      <td>54.3</td>\n",
       "      <td>2337.0</td>\n",
       "      <td>3.19</td>\n",
       "      <td>3.40</td>\n",
       "      <td>10.0</td>\n",
       "      <td>102.0</td>\n",
       "      <td>5500.0</td>\n",
       "      <td>24.0</td>\n",
       "      <td>30.0</td>\n",
       "      <td>13950.0</td>\n",
       "    </tr>\n",
       "    <tr>\n",
       "      <th>4</th>\n",
       "      <td>2.0</td>\n",
       "      <td>164.0</td>\n",
       "      <td>99.4</td>\n",
       "      <td>176.6</td>\n",
       "      <td>66.4</td>\n",
       "      <td>54.3</td>\n",
       "      <td>2824.0</td>\n",
       "      <td>3.19</td>\n",
       "      <td>3.40</td>\n",
       "      <td>8.0</td>\n",
       "      <td>115.0</td>\n",
       "      <td>5500.0</td>\n",
       "      <td>18.0</td>\n",
       "      <td>22.0</td>\n",
       "      <td>17450.0</td>\n",
       "    </tr>\n",
       "  </tbody>\n",
       "</table>\n",
       "</div>"
      ],
      "text/plain": [
       "   symboling  normalized  wheel  length  width  height    curb  bore  stroke  \\\n",
       "0        3.0       122.0   88.6   168.8   64.1    48.8  2548.0  3.47    2.68   \n",
       "1        3.0       122.0   88.6   168.8   64.1    48.8  2548.0  3.47    2.68   \n",
       "2        1.0       122.0   94.5   171.2   65.5    52.4  2823.0  2.68    3.47   \n",
       "3        2.0       164.0   99.8   176.6   66.2    54.3  2337.0  3.19    3.40   \n",
       "4        2.0       164.0   99.4   176.6   66.4    54.3  2824.0  3.19    3.40   \n",
       "\n",
       "   compression  horsepower    peak  city  highway    price  \n",
       "0          9.0       111.0  5000.0  21.0     27.0  13495.0  \n",
       "1          9.0       111.0  5000.0  21.0     27.0  16500.0  \n",
       "2          9.0       154.0  5000.0  19.0     26.0  16500.0  \n",
       "3         10.0       102.0  5500.0  24.0     30.0  13950.0  \n",
       "4          8.0       115.0  5500.0  18.0     22.0  17450.0  "
      ]
     },
     "execution_count": 5,
     "metadata": {},
     "output_type": "execute_result"
    }
   ],
   "source": [
    "# Drop row across set of cols that have all NaN values \n",
    "row_max_nan = missing_values_cars_df[missing_values_cars_df.apply(\n",
    "    lambda x: x == max(max_num_nan_rows.index))]\n",
    "cars_df_after_removing_nan_max = cars_new_numeric_dataset.drop(list(row_max_nan.index))\n",
    "\n",
    "# Impute missing values \"NaN\" using mean values across cols\n",
    "## Note: there is a class called \"imputer\" within \"from sklearn.preprocessing \n",
    "##import Imputer\" which can handel missing values \"other than NaN\"\n",
    "mean_vla_cols = cars_df_after_removing_nan_max.apply(lambda x: np.mean(x), axis=0)\n",
    "cars_df_with_mean = cars_df_after_removing_nan_max.replace(np.nan, mean_vla_cols)\n",
    "cars_df_with_mean.head()\n",
    "\n",
    "## Imputing missing values: Simulating distribution method\n",
    "#mean_df_nan = cars_df_after_removing_nan_max['price'].mean()\n",
    "#std_df_nan = cars_df_after_removing_nan_max['price'].std()\n",
    "#cars_new_sim_df = pd.DataFrame(np.random.normal(mean_df_nan, std_df_nan, \n",
    "#len(cars_df_after_removing_nan_max['price'])))\n",
    "#nan_label = cars_new_sim_df[cars_df_after_removing_nan_max['price'].isnull()]\n",
    "#cars_df_after_removing_nan_max['price'].loc[list(nan_label[0].index)]=nan_label[0]\n",
    "#cars_df_after_removing_nan_max['price'].head(10)\n",
    "#nan_label\n"
   ]
  },
  {
   "cell_type": "code",
   "execution_count": 6,
   "metadata": {
    "extensions": {
     "jupyter_dashboards": {
      "version": 1,
      "views": {
       "grid_default": {
        "col": 0,
        "height": 8,
        "hidden": false,
        "row": 43,
        "width": 4
       },
       "report_default": {
        "hidden": false
       }
      }
     }
    },
    "scrolled": true,
    "slideshow": {
     "slide_type": "slide"
    }
   },
   "outputs": [
    {
     "data": {
      "text/html": [
       "<div>\n",
       "<style>\n",
       "    .dataframe thead tr:only-child th {\n",
       "        text-align: right;\n",
       "    }\n",
       "\n",
       "    .dataframe thead th {\n",
       "        text-align: left;\n",
       "    }\n",
       "\n",
       "    .dataframe tbody tr th {\n",
       "        vertical-align: top;\n",
       "    }\n",
       "</style>\n",
       "<table border=\"1\" class=\"dataframe\">\n",
       "  <thead>\n",
       "    <tr style=\"text-align: right;\">\n",
       "      <th></th>\n",
       "      <th>symboling</th>\n",
       "      <th>normalized</th>\n",
       "      <th>wheel</th>\n",
       "      <th>length</th>\n",
       "      <th>width</th>\n",
       "      <th>height</th>\n",
       "      <th>curb</th>\n",
       "      <th>bore</th>\n",
       "      <th>stroke</th>\n",
       "      <th>compression</th>\n",
       "      <th>horsepower</th>\n",
       "      <th>peak</th>\n",
       "      <th>city</th>\n",
       "      <th>highway</th>\n",
       "      <th>price</th>\n",
       "    </tr>\n",
       "  </thead>\n",
       "  <tbody>\n",
       "    <tr>\n",
       "      <th>0</th>\n",
       "      <td>0.433171</td>\n",
       "      <td>0.000000</td>\n",
       "      <td>-0.296110</td>\n",
       "      <td>-0.078347</td>\n",
       "      <td>-0.150650</td>\n",
       "      <td>-0.410407</td>\n",
       "      <td>-0.002935</td>\n",
       "      <td>0.100178</td>\n",
       "      <td>-0.274011</td>\n",
       "      <td>-0.071409</td>\n",
       "      <td>0.028099</td>\n",
       "      <td>-0.051171</td>\n",
       "      <td>-0.117209</td>\n",
       "      <td>-0.098716</td>\n",
       "      <td>0.007146</td>\n",
       "    </tr>\n",
       "    <tr>\n",
       "      <th>1</th>\n",
       "      <td>0.433171</td>\n",
       "      <td>0.000000</td>\n",
       "      <td>-0.296110</td>\n",
       "      <td>-0.078347</td>\n",
       "      <td>-0.150650</td>\n",
       "      <td>-0.410407</td>\n",
       "      <td>-0.002935</td>\n",
       "      <td>0.100178</td>\n",
       "      <td>-0.274011</td>\n",
       "      <td>-0.071409</td>\n",
       "      <td>0.028099</td>\n",
       "      <td>-0.051171</td>\n",
       "      <td>-0.117209</td>\n",
       "      <td>-0.098716</td>\n",
       "      <td>0.081745</td>\n",
       "    </tr>\n",
       "    <tr>\n",
       "      <th>2</th>\n",
       "      <td>0.033171</td>\n",
       "      <td>0.000000</td>\n",
       "      <td>-0.124099</td>\n",
       "      <td>-0.042526</td>\n",
       "      <td>-0.033984</td>\n",
       "      <td>-0.110407</td>\n",
       "      <td>0.103737</td>\n",
       "      <td>-0.464108</td>\n",
       "      <td>0.102180</td>\n",
       "      <td>-0.071409</td>\n",
       "      <td>0.207266</td>\n",
       "      <td>-0.051171</td>\n",
       "      <td>-0.172764</td>\n",
       "      <td>-0.125032</td>\n",
       "      <td>0.081745</td>\n",
       "    </tr>\n",
       "    <tr>\n",
       "      <th>3</th>\n",
       "      <td>0.233171</td>\n",
       "      <td>0.219895</td>\n",
       "      <td>0.030420</td>\n",
       "      <td>0.038071</td>\n",
       "      <td>0.024350</td>\n",
       "      <td>0.047927</td>\n",
       "      <td>-0.084781</td>\n",
       "      <td>-0.099822</td>\n",
       "      <td>0.068846</td>\n",
       "      <td>-0.008909</td>\n",
       "      <td>-0.009401</td>\n",
       "      <td>0.152910</td>\n",
       "      <td>-0.033875</td>\n",
       "      <td>-0.019769</td>\n",
       "      <td>0.018442</td>\n",
       "    </tr>\n",
       "    <tr>\n",
       "      <th>4</th>\n",
       "      <td>0.233171</td>\n",
       "      <td>0.219895</td>\n",
       "      <td>0.018758</td>\n",
       "      <td>0.038071</td>\n",
       "      <td>0.041016</td>\n",
       "      <td>0.047927</td>\n",
       "      <td>0.104125</td>\n",
       "      <td>-0.099822</td>\n",
       "      <td>0.068846</td>\n",
       "      <td>-0.133909</td>\n",
       "      <td>0.044766</td>\n",
       "      <td>0.152910</td>\n",
       "      <td>-0.200542</td>\n",
       "      <td>-0.230295</td>\n",
       "      <td>0.105329</td>\n",
       "    </tr>\n",
       "  </tbody>\n",
       "</table>\n",
       "</div>"
      ],
      "text/plain": [
       "   symboling  normalized     wheel    length     width    height      curb  \\\n",
       "0   0.433171    0.000000 -0.296110 -0.078347 -0.150650 -0.410407 -0.002935   \n",
       "1   0.433171    0.000000 -0.296110 -0.078347 -0.150650 -0.410407 -0.002935   \n",
       "2   0.033171    0.000000 -0.124099 -0.042526 -0.033984 -0.110407  0.103737   \n",
       "3   0.233171    0.219895  0.030420  0.038071  0.024350  0.047927 -0.084781   \n",
       "4   0.233171    0.219895  0.018758  0.038071  0.041016  0.047927  0.104125   \n",
       "\n",
       "       bore    stroke  compression  horsepower      peak      city   highway  \\\n",
       "0  0.100178 -0.274011    -0.071409    0.028099 -0.051171 -0.117209 -0.098716   \n",
       "1  0.100178 -0.274011    -0.071409    0.028099 -0.051171 -0.117209 -0.098716   \n",
       "2 -0.464108  0.102180    -0.071409    0.207266 -0.051171 -0.172764 -0.125032   \n",
       "3 -0.099822  0.068846    -0.008909   -0.009401  0.152910 -0.033875 -0.019769   \n",
       "4 -0.099822  0.068846    -0.133909    0.044766  0.152910 -0.200542 -0.230295   \n",
       "\n",
       "      price  \n",
       "0  0.007146  \n",
       "1  0.081745  \n",
       "2  0.081745  \n",
       "3  0.018442  \n",
       "4  0.105329  "
      ]
     },
     "execution_count": 6,
     "metadata": {},
     "output_type": "execute_result"
    }
   ],
   "source": [
    "# Normalize cars dataset\n",
    "cars_normalized_df = (cars_df_with_mean-cars_df_with_mean.mean()) / (cars_df_with_mean.max() - cars_df_with_mean.min())\n",
    "cars_normalized_df.head()"
   ]
  },
  {
   "cell_type": "markdown",
   "metadata": {
    "extensions": {
     "jupyter_dashboards": {
      "version": 1,
      "views": {
       "grid_default": {
        "col": 0,
        "height": 4,
        "hidden": false,
        "row": 37,
        "width": 12
       },
       "report_default": {
        "hidden": false
       }
      }
     }
    },
    "slideshow": {
     "slide_type": "slide"
    }
   },
   "source": [
    "### Building univariate k-nearest neighbors models: Predicting car prices"
   ]
  },
  {
   "cell_type": "code",
   "execution_count": 7,
   "metadata": {
    "collapsed": true,
    "extensions": {
     "jupyter_dashboards": {
      "version": 1,
      "views": {
       "grid_default": {
        "hidden": true
       },
       "report_default": {
        "hidden": true
       }
      }
     }
    },
    "scrolled": true,
    "slideshow": {
     "slide_type": "slide"
    }
   },
   "outputs": [],
   "source": [
    "# univariate k-nearest neighbors \n",
    "\n",
    "## Building univariate k-nearest neighbors function\n",
    "def knn_train_test(feature_nme, target_nme, df, perc_fig, n_neigh):\n",
    "    \"\"\"\n",
    "    Univariate KNN model\n",
    "    Inputs:\n",
    "    _____________\n",
    "     - feature_nme: str\n",
    "         a col. that used as a feature input\n",
    "     - target_nme: str\n",
    "         a col. to predict \n",
    "     - df: dataframe\n",
    "         dataframe input\n",
    "     - perc_fig: float\n",
    "         a '%' used to set up training/testing samples\n",
    "     Outputs:\n",
    "     ____________\n",
    "     - list of average RMSE for Knn model \n",
    "    \"\"\"\n",
    "    # Set up training /testing set\n",
    "    perc_train_test = round(len(df[feature_nme])* perc_fig)\n",
    "    training_set = df.iloc[:perc_train_test]\n",
    "    testing_set = df.iloc[perc_train_test:]\n",
    "    \n",
    "    # Set up univariate k-nearest neighbors models\n",
    "    knn = KNeighborsRegressor(n_neighbors = n_neigh, algorithm='brute')\n",
    "    fit = knn.fit(training_set[feature_nme], training_set[target_nme])\n",
    "    predicts = knn.predict(testing_set[feature_nme])\n",
    "    RMSE = np.sqrt(mean_squared_error(testing_set[target_nme], predicts))\n",
    "    return RMSE"
   ]
  },
  {
   "cell_type": "code",
   "execution_count": 8,
   "metadata": {
    "cell_style": "center",
    "collapsed": true,
    "extensions": {
     "jupyter_dashboards": {
      "version": 1,
      "views": {
       "grid_default": {
        "hidden": true
       },
       "report_default": {
        "hidden": true
       }
      }
     }
    }
   },
   "outputs": [],
   "source": [
    "# Applying univariate k-nearest neighbors function to cars \n",
    "#datatframe and find the best fit\n",
    "\n",
    "## Link a float slide widget to univariate Knn model\n",
    "def knn_model(perc_fig, n_neigh):\n",
    "    \"\"\"\n",
    "    apply knn func \"knn_train_test\" to find best univariate model\n",
    "    Inputs:\n",
    "    _____________\n",
    "     - perc_fig: float\n",
    "         a % to use for setting up training/testing data sebsets\n",
    "     - n_neigh: int\n",
    "         n_neigh. value to set up Knn model\n",
    "    Outputs:\n",
    "    ____________\n",
    "     - plot of average RMSE for n random iteration/hyperprameter\n",
    "    \"\"\"\n",
    "    ## Applying \"knn_train_test\" to find best univariate Knn model\n",
    "    knn_model_rmse = {}\n",
    "    for col in cars_normalized_df.columns:\n",
    "        if col != 'price':\n",
    "            feature_model = knn_train_test([col],['price'], cars_normalized_df, perc_fig, n_neigh)\n",
    "            knn_model_rmse[col] = feature_model\n",
    "    ## Plotting RMSE of univariate Knn model\n",
    "    ax.clear()\n",
    "    ax.bar(knn_model_rmse.keys(),knn_model_rmse.values())\n",
    "    frm_color = 'white'\n",
    "    ax.tick_params(color=frm_color, labelcolor=frm_color)\n",
    "    for spine in ax.spines.values():\n",
    "        spine.set_edgecolor(frm_color)\n",
    "    plt.suptitle('Univariate k-nearest neighbors RMSE', color=frm_color)\n",
    "    plt.xticks(rotation=40)\n",
    "    plt.show()\n",
    " "
   ]
  },
  {
   "cell_type": "code",
   "execution_count": 30,
   "metadata": {
    "cell_style": "center",
    "extensions": {
     "jupyter_dashboards": {
      "version": 1,
      "views": {
       "grid_default": {
        "col": 6,
        "height": 6,
        "hidden": false,
        "row": 47,
        "width": 4
       },
       "report_default": {
        "hidden": false
       }
      }
     }
    },
    "scrolled": false,
    "slideshow": {
     "slide_type": "slide"
    }
   },
   "outputs": [
    {
     "data": {
      "application/javascript": [
       "/* Put everything inside the global mpl namespace */\n",
       "window.mpl = {};\n",
       "\n",
       "\n",
       "mpl.get_websocket_type = function() {\n",
       "    if (typeof(WebSocket) !== 'undefined') {\n",
       "        return WebSocket;\n",
       "    } else if (typeof(MozWebSocket) !== 'undefined') {\n",
       "        return MozWebSocket;\n",
       "    } else {\n",
       "        alert('Your browser does not have WebSocket support.' +\n",
       "              'Please try Chrome, Safari or Firefox ≥ 6. ' +\n",
       "              'Firefox 4 and 5 are also supported but you ' +\n",
       "              'have to enable WebSockets in about:config.');\n",
       "    };\n",
       "}\n",
       "\n",
       "mpl.figure = function(figure_id, websocket, ondownload, parent_element) {\n",
       "    this.id = figure_id;\n",
       "\n",
       "    this.ws = websocket;\n",
       "\n",
       "    this.supports_binary = (this.ws.binaryType != undefined);\n",
       "\n",
       "    if (!this.supports_binary) {\n",
       "        var warnings = document.getElementById(\"mpl-warnings\");\n",
       "        if (warnings) {\n",
       "            warnings.style.display = 'block';\n",
       "            warnings.textContent = (\n",
       "                \"This browser does not support binary websocket messages. \" +\n",
       "                    \"Performance may be slow.\");\n",
       "        }\n",
       "    }\n",
       "\n",
       "    this.imageObj = new Image();\n",
       "\n",
       "    this.context = undefined;\n",
       "    this.message = undefined;\n",
       "    this.canvas = undefined;\n",
       "    this.rubberband_canvas = undefined;\n",
       "    this.rubberband_context = undefined;\n",
       "    this.format_dropdown = undefined;\n",
       "\n",
       "    this.image_mode = 'full';\n",
       "\n",
       "    this.root = $('<div/>');\n",
       "    this._root_extra_style(this.root)\n",
       "    this.root.attr('style', 'display: inline-block');\n",
       "\n",
       "    $(parent_element).append(this.root);\n",
       "\n",
       "    this._init_header(this);\n",
       "    this._init_canvas(this);\n",
       "    this._init_toolbar(this);\n",
       "\n",
       "    var fig = this;\n",
       "\n",
       "    this.waiting = false;\n",
       "\n",
       "    this.ws.onopen =  function () {\n",
       "            fig.send_message(\"supports_binary\", {value: fig.supports_binary});\n",
       "            fig.send_message(\"send_image_mode\", {});\n",
       "            if (mpl.ratio != 1) {\n",
       "                fig.send_message(\"set_dpi_ratio\", {'dpi_ratio': mpl.ratio});\n",
       "            }\n",
       "            fig.send_message(\"refresh\", {});\n",
       "        }\n",
       "\n",
       "    this.imageObj.onload = function() {\n",
       "            if (fig.image_mode == 'full') {\n",
       "                // Full images could contain transparency (where diff images\n",
       "                // almost always do), so we need to clear the canvas so that\n",
       "                // there is no ghosting.\n",
       "                fig.context.clearRect(0, 0, fig.canvas.width, fig.canvas.height);\n",
       "            }\n",
       "            fig.context.drawImage(fig.imageObj, 0, 0);\n",
       "        };\n",
       "\n",
       "    this.imageObj.onunload = function() {\n",
       "        fig.ws.close();\n",
       "    }\n",
       "\n",
       "    this.ws.onmessage = this._make_on_message_function(this);\n",
       "\n",
       "    this.ondownload = ondownload;\n",
       "}\n",
       "\n",
       "mpl.figure.prototype._init_header = function() {\n",
       "    var titlebar = $(\n",
       "        '<div class=\"ui-dialog-titlebar ui-widget-header ui-corner-all ' +\n",
       "        'ui-helper-clearfix\"/>');\n",
       "    var titletext = $(\n",
       "        '<div class=\"ui-dialog-title\" style=\"width: 100%; ' +\n",
       "        'text-align: center; padding: 3px;\"/>');\n",
       "    titlebar.append(titletext)\n",
       "    this.root.append(titlebar);\n",
       "    this.header = titletext[0];\n",
       "}\n",
       "\n",
       "\n",
       "\n",
       "mpl.figure.prototype._canvas_extra_style = function(canvas_div) {\n",
       "\n",
       "}\n",
       "\n",
       "\n",
       "mpl.figure.prototype._root_extra_style = function(canvas_div) {\n",
       "\n",
       "}\n",
       "\n",
       "mpl.figure.prototype._init_canvas = function() {\n",
       "    var fig = this;\n",
       "\n",
       "    var canvas_div = $('<div/>');\n",
       "\n",
       "    canvas_div.attr('style', 'position: relative; clear: both; outline: 0');\n",
       "\n",
       "    function canvas_keyboard_event(event) {\n",
       "        return fig.key_event(event, event['data']);\n",
       "    }\n",
       "\n",
       "    canvas_div.keydown('key_press', canvas_keyboard_event);\n",
       "    canvas_div.keyup('key_release', canvas_keyboard_event);\n",
       "    this.canvas_div = canvas_div\n",
       "    this._canvas_extra_style(canvas_div)\n",
       "    this.root.append(canvas_div);\n",
       "\n",
       "    var canvas = $('<canvas/>');\n",
       "    canvas.addClass('mpl-canvas');\n",
       "    canvas.attr('style', \"left: 0; top: 0; z-index: 0; outline: 0\")\n",
       "\n",
       "    this.canvas = canvas[0];\n",
       "    this.context = canvas[0].getContext(\"2d\");\n",
       "\n",
       "    var backingStore = this.context.backingStorePixelRatio ||\n",
       "\tthis.context.webkitBackingStorePixelRatio ||\n",
       "\tthis.context.mozBackingStorePixelRatio ||\n",
       "\tthis.context.msBackingStorePixelRatio ||\n",
       "\tthis.context.oBackingStorePixelRatio ||\n",
       "\tthis.context.backingStorePixelRatio || 1;\n",
       "\n",
       "    mpl.ratio = (window.devicePixelRatio || 1) / backingStore;\n",
       "\n",
       "    var rubberband = $('<canvas/>');\n",
       "    rubberband.attr('style', \"position: absolute; left: 0; top: 0; z-index: 1;\")\n",
       "\n",
       "    var pass_mouse_events = true;\n",
       "\n",
       "    canvas_div.resizable({\n",
       "        start: function(event, ui) {\n",
       "            pass_mouse_events = false;\n",
       "        },\n",
       "        resize: function(event, ui) {\n",
       "            fig.request_resize(ui.size.width, ui.size.height);\n",
       "        },\n",
       "        stop: function(event, ui) {\n",
       "            pass_mouse_events = true;\n",
       "            fig.request_resize(ui.size.width, ui.size.height);\n",
       "        },\n",
       "    });\n",
       "\n",
       "    function mouse_event_fn(event) {\n",
       "        if (pass_mouse_events)\n",
       "            return fig.mouse_event(event, event['data']);\n",
       "    }\n",
       "\n",
       "    rubberband.mousedown('button_press', mouse_event_fn);\n",
       "    rubberband.mouseup('button_release', mouse_event_fn);\n",
       "    // Throttle sequential mouse events to 1 every 20ms.\n",
       "    rubberband.mousemove('motion_notify', mouse_event_fn);\n",
       "\n",
       "    rubberband.mouseenter('figure_enter', mouse_event_fn);\n",
       "    rubberband.mouseleave('figure_leave', mouse_event_fn);\n",
       "\n",
       "    canvas_div.on(\"wheel\", function (event) {\n",
       "        event = event.originalEvent;\n",
       "        event['data'] = 'scroll'\n",
       "        if (event.deltaY < 0) {\n",
       "            event.step = 1;\n",
       "        } else {\n",
       "            event.step = -1;\n",
       "        }\n",
       "        mouse_event_fn(event);\n",
       "    });\n",
       "\n",
       "    canvas_div.append(canvas);\n",
       "    canvas_div.append(rubberband);\n",
       "\n",
       "    this.rubberband = rubberband;\n",
       "    this.rubberband_canvas = rubberband[0];\n",
       "    this.rubberband_context = rubberband[0].getContext(\"2d\");\n",
       "    this.rubberband_context.strokeStyle = \"#000000\";\n",
       "\n",
       "    this._resize_canvas = function(width, height) {\n",
       "        // Keep the size of the canvas, canvas container, and rubber band\n",
       "        // canvas in synch.\n",
       "        canvas_div.css('width', width)\n",
       "        canvas_div.css('height', height)\n",
       "\n",
       "        canvas.attr('width', width * mpl.ratio);\n",
       "        canvas.attr('height', height * mpl.ratio);\n",
       "        canvas.attr('style', 'width: ' + width + 'px; height: ' + height + 'px;');\n",
       "\n",
       "        rubberband.attr('width', width);\n",
       "        rubberband.attr('height', height);\n",
       "    }\n",
       "\n",
       "    // Set the figure to an initial 600x600px, this will subsequently be updated\n",
       "    // upon first draw.\n",
       "    this._resize_canvas(600, 600);\n",
       "\n",
       "    // Disable right mouse context menu.\n",
       "    $(this.rubberband_canvas).bind(\"contextmenu\",function(e){\n",
       "        return false;\n",
       "    });\n",
       "\n",
       "    function set_focus () {\n",
       "        canvas.focus();\n",
       "        canvas_div.focus();\n",
       "    }\n",
       "\n",
       "    window.setTimeout(set_focus, 100);\n",
       "}\n",
       "\n",
       "mpl.figure.prototype._init_toolbar = function() {\n",
       "    var fig = this;\n",
       "\n",
       "    var nav_element = $('<div/>')\n",
       "    nav_element.attr('style', 'width: 100%');\n",
       "    this.root.append(nav_element);\n",
       "\n",
       "    // Define a callback function for later on.\n",
       "    function toolbar_event(event) {\n",
       "        return fig.toolbar_button_onclick(event['data']);\n",
       "    }\n",
       "    function toolbar_mouse_event(event) {\n",
       "        return fig.toolbar_button_onmouseover(event['data']);\n",
       "    }\n",
       "\n",
       "    for(var toolbar_ind in mpl.toolbar_items) {\n",
       "        var name = mpl.toolbar_items[toolbar_ind][0];\n",
       "        var tooltip = mpl.toolbar_items[toolbar_ind][1];\n",
       "        var image = mpl.toolbar_items[toolbar_ind][2];\n",
       "        var method_name = mpl.toolbar_items[toolbar_ind][3];\n",
       "\n",
       "        if (!name) {\n",
       "            // put a spacer in here.\n",
       "            continue;\n",
       "        }\n",
       "        var button = $('<button/>');\n",
       "        button.addClass('ui-button ui-widget ui-state-default ui-corner-all ' +\n",
       "                        'ui-button-icon-only');\n",
       "        button.attr('role', 'button');\n",
       "        button.attr('aria-disabled', 'false');\n",
       "        button.click(method_name, toolbar_event);\n",
       "        button.mouseover(tooltip, toolbar_mouse_event);\n",
       "\n",
       "        var icon_img = $('<span/>');\n",
       "        icon_img.addClass('ui-button-icon-primary ui-icon');\n",
       "        icon_img.addClass(image);\n",
       "        icon_img.addClass('ui-corner-all');\n",
       "\n",
       "        var tooltip_span = $('<span/>');\n",
       "        tooltip_span.addClass('ui-button-text');\n",
       "        tooltip_span.html(tooltip);\n",
       "\n",
       "        button.append(icon_img);\n",
       "        button.append(tooltip_span);\n",
       "\n",
       "        nav_element.append(button);\n",
       "    }\n",
       "\n",
       "    var fmt_picker_span = $('<span/>');\n",
       "\n",
       "    var fmt_picker = $('<select/>');\n",
       "    fmt_picker.addClass('mpl-toolbar-option ui-widget ui-widget-content');\n",
       "    fmt_picker_span.append(fmt_picker);\n",
       "    nav_element.append(fmt_picker_span);\n",
       "    this.format_dropdown = fmt_picker[0];\n",
       "\n",
       "    for (var ind in mpl.extensions) {\n",
       "        var fmt = mpl.extensions[ind];\n",
       "        var option = $(\n",
       "            '<option/>', {selected: fmt === mpl.default_extension}).html(fmt);\n",
       "        fmt_picker.append(option)\n",
       "    }\n",
       "\n",
       "    // Add hover states to the ui-buttons\n",
       "    $( \".ui-button\" ).hover(\n",
       "        function() { $(this).addClass(\"ui-state-hover\");},\n",
       "        function() { $(this).removeClass(\"ui-state-hover\");}\n",
       "    );\n",
       "\n",
       "    var status_bar = $('<span class=\"mpl-message\"/>');\n",
       "    nav_element.append(status_bar);\n",
       "    this.message = status_bar[0];\n",
       "}\n",
       "\n",
       "mpl.figure.prototype.request_resize = function(x_pixels, y_pixels) {\n",
       "    // Request matplotlib to resize the figure. Matplotlib will then trigger a resize in the client,\n",
       "    // which will in turn request a refresh of the image.\n",
       "    this.send_message('resize', {'width': x_pixels, 'height': y_pixels});\n",
       "}\n",
       "\n",
       "mpl.figure.prototype.send_message = function(type, properties) {\n",
       "    properties['type'] = type;\n",
       "    properties['figure_id'] = this.id;\n",
       "    this.ws.send(JSON.stringify(properties));\n",
       "}\n",
       "\n",
       "mpl.figure.prototype.send_draw_message = function() {\n",
       "    if (!this.waiting) {\n",
       "        this.waiting = true;\n",
       "        this.ws.send(JSON.stringify({type: \"draw\", figure_id: this.id}));\n",
       "    }\n",
       "}\n",
       "\n",
       "\n",
       "mpl.figure.prototype.handle_save = function(fig, msg) {\n",
       "    var format_dropdown = fig.format_dropdown;\n",
       "    var format = format_dropdown.options[format_dropdown.selectedIndex].value;\n",
       "    fig.ondownload(fig, format);\n",
       "}\n",
       "\n",
       "\n",
       "mpl.figure.prototype.handle_resize = function(fig, msg) {\n",
       "    var size = msg['size'];\n",
       "    if (size[0] != fig.canvas.width || size[1] != fig.canvas.height) {\n",
       "        fig._resize_canvas(size[0], size[1]);\n",
       "        fig.send_message(\"refresh\", {});\n",
       "    };\n",
       "}\n",
       "\n",
       "mpl.figure.prototype.handle_rubberband = function(fig, msg) {\n",
       "    var x0 = msg['x0'] / mpl.ratio;\n",
       "    var y0 = (fig.canvas.height - msg['y0']) / mpl.ratio;\n",
       "    var x1 = msg['x1'] / mpl.ratio;\n",
       "    var y1 = (fig.canvas.height - msg['y1']) / mpl.ratio;\n",
       "    x0 = Math.floor(x0) + 0.5;\n",
       "    y0 = Math.floor(y0) + 0.5;\n",
       "    x1 = Math.floor(x1) + 0.5;\n",
       "    y1 = Math.floor(y1) + 0.5;\n",
       "    var min_x = Math.min(x0, x1);\n",
       "    var min_y = Math.min(y0, y1);\n",
       "    var width = Math.abs(x1 - x0);\n",
       "    var height = Math.abs(y1 - y0);\n",
       "\n",
       "    fig.rubberband_context.clearRect(\n",
       "        0, 0, fig.canvas.width, fig.canvas.height);\n",
       "\n",
       "    fig.rubberband_context.strokeRect(min_x, min_y, width, height);\n",
       "}\n",
       "\n",
       "mpl.figure.prototype.handle_figure_label = function(fig, msg) {\n",
       "    // Updates the figure title.\n",
       "    fig.header.textContent = msg['label'];\n",
       "}\n",
       "\n",
       "mpl.figure.prototype.handle_cursor = function(fig, msg) {\n",
       "    var cursor = msg['cursor'];\n",
       "    switch(cursor)\n",
       "    {\n",
       "    case 0:\n",
       "        cursor = 'pointer';\n",
       "        break;\n",
       "    case 1:\n",
       "        cursor = 'default';\n",
       "        break;\n",
       "    case 2:\n",
       "        cursor = 'crosshair';\n",
       "        break;\n",
       "    case 3:\n",
       "        cursor = 'move';\n",
       "        break;\n",
       "    }\n",
       "    fig.rubberband_canvas.style.cursor = cursor;\n",
       "}\n",
       "\n",
       "mpl.figure.prototype.handle_message = function(fig, msg) {\n",
       "    fig.message.textContent = msg['message'];\n",
       "}\n",
       "\n",
       "mpl.figure.prototype.handle_draw = function(fig, msg) {\n",
       "    // Request the server to send over a new figure.\n",
       "    fig.send_draw_message();\n",
       "}\n",
       "\n",
       "mpl.figure.prototype.handle_image_mode = function(fig, msg) {\n",
       "    fig.image_mode = msg['mode'];\n",
       "}\n",
       "\n",
       "mpl.figure.prototype.updated_canvas_event = function() {\n",
       "    // Called whenever the canvas gets updated.\n",
       "    this.send_message(\"ack\", {});\n",
       "}\n",
       "\n",
       "// A function to construct a web socket function for onmessage handling.\n",
       "// Called in the figure constructor.\n",
       "mpl.figure.prototype._make_on_message_function = function(fig) {\n",
       "    return function socket_on_message(evt) {\n",
       "        if (evt.data instanceof Blob) {\n",
       "            /* FIXME: We get \"Resource interpreted as Image but\n",
       "             * transferred with MIME type text/plain:\" errors on\n",
       "             * Chrome.  But how to set the MIME type?  It doesn't seem\n",
       "             * to be part of the websocket stream */\n",
       "            evt.data.type = \"image/png\";\n",
       "\n",
       "            /* Free the memory for the previous frames */\n",
       "            if (fig.imageObj.src) {\n",
       "                (window.URL || window.webkitURL).revokeObjectURL(\n",
       "                    fig.imageObj.src);\n",
       "            }\n",
       "\n",
       "            fig.imageObj.src = (window.URL || window.webkitURL).createObjectURL(\n",
       "                evt.data);\n",
       "            fig.updated_canvas_event();\n",
       "            fig.waiting = false;\n",
       "            return;\n",
       "        }\n",
       "        else if (typeof evt.data === 'string' && evt.data.slice(0, 21) == \"data:image/png;base64\") {\n",
       "            fig.imageObj.src = evt.data;\n",
       "            fig.updated_canvas_event();\n",
       "            fig.waiting = false;\n",
       "            return;\n",
       "        }\n",
       "\n",
       "        var msg = JSON.parse(evt.data);\n",
       "        var msg_type = msg['type'];\n",
       "\n",
       "        // Call the  \"handle_{type}\" callback, which takes\n",
       "        // the figure and JSON message as its only arguments.\n",
       "        try {\n",
       "            var callback = fig[\"handle_\" + msg_type];\n",
       "        } catch (e) {\n",
       "            console.log(\"No handler for the '\" + msg_type + \"' message type: \", msg);\n",
       "            return;\n",
       "        }\n",
       "\n",
       "        if (callback) {\n",
       "            try {\n",
       "                // console.log(\"Handling '\" + msg_type + \"' message: \", msg);\n",
       "                callback(fig, msg);\n",
       "            } catch (e) {\n",
       "                console.log(\"Exception inside the 'handler_\" + msg_type + \"' callback:\", e, e.stack, msg);\n",
       "            }\n",
       "        }\n",
       "    };\n",
       "}\n",
       "\n",
       "// from http://stackoverflow.com/questions/1114465/getting-mouse-location-in-canvas\n",
       "mpl.findpos = function(e) {\n",
       "    //this section is from http://www.quirksmode.org/js/events_properties.html\n",
       "    var targ;\n",
       "    if (!e)\n",
       "        e = window.event;\n",
       "    if (e.target)\n",
       "        targ = e.target;\n",
       "    else if (e.srcElement)\n",
       "        targ = e.srcElement;\n",
       "    if (targ.nodeType == 3) // defeat Safari bug\n",
       "        targ = targ.parentNode;\n",
       "\n",
       "    // jQuery normalizes the pageX and pageY\n",
       "    // pageX,Y are the mouse positions relative to the document\n",
       "    // offset() returns the position of the element relative to the document\n",
       "    var x = e.pageX - $(targ).offset().left;\n",
       "    var y = e.pageY - $(targ).offset().top;\n",
       "\n",
       "    return {\"x\": x, \"y\": y};\n",
       "};\n",
       "\n",
       "/*\n",
       " * return a copy of an object with only non-object keys\n",
       " * we need this to avoid circular references\n",
       " * http://stackoverflow.com/a/24161582/3208463\n",
       " */\n",
       "function simpleKeys (original) {\n",
       "  return Object.keys(original).reduce(function (obj, key) {\n",
       "    if (typeof original[key] !== 'object')\n",
       "        obj[key] = original[key]\n",
       "    return obj;\n",
       "  }, {});\n",
       "}\n",
       "\n",
       "mpl.figure.prototype.mouse_event = function(event, name) {\n",
       "    var canvas_pos = mpl.findpos(event)\n",
       "\n",
       "    if (name === 'button_press')\n",
       "    {\n",
       "        this.canvas.focus();\n",
       "        this.canvas_div.focus();\n",
       "    }\n",
       "\n",
       "    var x = canvas_pos.x * mpl.ratio;\n",
       "    var y = canvas_pos.y * mpl.ratio;\n",
       "\n",
       "    this.send_message(name, {x: x, y: y, button: event.button,\n",
       "                             step: event.step,\n",
       "                             guiEvent: simpleKeys(event)});\n",
       "\n",
       "    /* This prevents the web browser from automatically changing to\n",
       "     * the text insertion cursor when the button is pressed.  We want\n",
       "     * to control all of the cursor setting manually through the\n",
       "     * 'cursor' event from matplotlib */\n",
       "    event.preventDefault();\n",
       "    return false;\n",
       "}\n",
       "\n",
       "mpl.figure.prototype._key_event_extra = function(event, name) {\n",
       "    // Handle any extra behaviour associated with a key event\n",
       "}\n",
       "\n",
       "mpl.figure.prototype.key_event = function(event, name) {\n",
       "\n",
       "    // Prevent repeat events\n",
       "    if (name == 'key_press')\n",
       "    {\n",
       "        if (event.which === this._key)\n",
       "            return;\n",
       "        else\n",
       "            this._key = event.which;\n",
       "    }\n",
       "    if (name == 'key_release')\n",
       "        this._key = null;\n",
       "\n",
       "    var value = '';\n",
       "    if (event.ctrlKey && event.which != 17)\n",
       "        value += \"ctrl+\";\n",
       "    if (event.altKey && event.which != 18)\n",
       "        value += \"alt+\";\n",
       "    if (event.shiftKey && event.which != 16)\n",
       "        value += \"shift+\";\n",
       "\n",
       "    value += 'k';\n",
       "    value += event.which.toString();\n",
       "\n",
       "    this._key_event_extra(event, name);\n",
       "\n",
       "    this.send_message(name, {key: value,\n",
       "                             guiEvent: simpleKeys(event)});\n",
       "    return false;\n",
       "}\n",
       "\n",
       "mpl.figure.prototype.toolbar_button_onclick = function(name) {\n",
       "    if (name == 'download') {\n",
       "        this.handle_save(this, null);\n",
       "    } else {\n",
       "        this.send_message(\"toolbar_button\", {name: name});\n",
       "    }\n",
       "};\n",
       "\n",
       "mpl.figure.prototype.toolbar_button_onmouseover = function(tooltip) {\n",
       "    this.message.textContent = tooltip;\n",
       "};\n",
       "mpl.toolbar_items = [[\"Home\", \"Reset original view\", \"fa fa-home icon-home\", \"home\"], [\"Back\", \"Back to  previous view\", \"fa fa-arrow-left icon-arrow-left\", \"back\"], [\"Forward\", \"Forward to next view\", \"fa fa-arrow-right icon-arrow-right\", \"forward\"], [\"\", \"\", \"\", \"\"], [\"Pan\", \"Pan axes with left mouse, zoom with right\", \"fa fa-arrows icon-move\", \"pan\"], [\"Zoom\", \"Zoom to rectangle\", \"fa fa-square-o icon-check-empty\", \"zoom\"], [\"\", \"\", \"\", \"\"], [\"Download\", \"Download plot\", \"fa fa-floppy-o icon-save\", \"download\"]];\n",
       "\n",
       "mpl.extensions = [\"eps\", \"jpeg\", \"pdf\", \"png\", \"ps\", \"raw\", \"svg\", \"tif\"];\n",
       "\n",
       "mpl.default_extension = \"png\";var comm_websocket_adapter = function(comm) {\n",
       "    // Create a \"websocket\"-like object which calls the given IPython comm\n",
       "    // object with the appropriate methods. Currently this is a non binary\n",
       "    // socket, so there is still some room for performance tuning.\n",
       "    var ws = {};\n",
       "\n",
       "    ws.close = function() {\n",
       "        comm.close()\n",
       "    };\n",
       "    ws.send = function(m) {\n",
       "        //console.log('sending', m);\n",
       "        comm.send(m);\n",
       "    };\n",
       "    // Register the callback with on_msg.\n",
       "    comm.on_msg(function(msg) {\n",
       "        //console.log('receiving', msg['content']['data'], msg);\n",
       "        // Pass the mpl event to the overriden (by mpl) onmessage function.\n",
       "        ws.onmessage(msg['content']['data'])\n",
       "    });\n",
       "    return ws;\n",
       "}\n",
       "\n",
       "mpl.mpl_figure_comm = function(comm, msg) {\n",
       "    // This is the function which gets called when the mpl process\n",
       "    // starts-up an IPython Comm through the \"matplotlib\" channel.\n",
       "\n",
       "    var id = msg.content.data.id;\n",
       "    // Get hold of the div created by the display call when the Comm\n",
       "    // socket was opened in Python.\n",
       "    var element = $(\"#\" + id);\n",
       "    var ws_proxy = comm_websocket_adapter(comm)\n",
       "\n",
       "    function ondownload(figure, format) {\n",
       "        window.open(figure.imageObj.src);\n",
       "    }\n",
       "\n",
       "    var fig = new mpl.figure(id, ws_proxy,\n",
       "                           ondownload,\n",
       "                           element.get(0));\n",
       "\n",
       "    // Call onopen now - mpl needs it, as it is assuming we've passed it a real\n",
       "    // web socket which is closed, not our websocket->open comm proxy.\n",
       "    ws_proxy.onopen();\n",
       "\n",
       "    fig.parent_element = element.get(0);\n",
       "    fig.cell_info = mpl.find_output_cell(\"<div id='\" + id + \"'></div>\");\n",
       "    if (!fig.cell_info) {\n",
       "        console.error(\"Failed to find cell for figure\", id, fig);\n",
       "        return;\n",
       "    }\n",
       "\n",
       "    var output_index = fig.cell_info[2]\n",
       "    var cell = fig.cell_info[0];\n",
       "\n",
       "};\n",
       "\n",
       "mpl.figure.prototype.handle_close = function(fig, msg) {\n",
       "    var width = fig.canvas.width/mpl.ratio\n",
       "    fig.root.unbind('remove')\n",
       "\n",
       "    // Update the output cell to use the data from the current canvas.\n",
       "    fig.push_to_output();\n",
       "    var dataURL = fig.canvas.toDataURL();\n",
       "    // Re-enable the keyboard manager in IPython - without this line, in FF,\n",
       "    // the notebook keyboard shortcuts fail.\n",
       "    IPython.keyboard_manager.enable()\n",
       "    $(fig.parent_element).html('<img src=\"' + dataURL + '\" width=\"' + width + '\">');\n",
       "    fig.close_ws(fig, msg);\n",
       "}\n",
       "\n",
       "mpl.figure.prototype.close_ws = function(fig, msg){\n",
       "    fig.send_message('closing', msg);\n",
       "    // fig.ws.close()\n",
       "}\n",
       "\n",
       "mpl.figure.prototype.push_to_output = function(remove_interactive) {\n",
       "    // Turn the data on the canvas into data in the output cell.\n",
       "    var width = this.canvas.width/mpl.ratio\n",
       "    var dataURL = this.canvas.toDataURL();\n",
       "    this.cell_info[1]['text/html'] = '<img src=\"' + dataURL + '\" width=\"' + width + '\">';\n",
       "}\n",
       "\n",
       "mpl.figure.prototype.updated_canvas_event = function() {\n",
       "    // Tell IPython that the notebook contents must change.\n",
       "    IPython.notebook.set_dirty(true);\n",
       "    this.send_message(\"ack\", {});\n",
       "    var fig = this;\n",
       "    // Wait a second, then push the new image to the DOM so\n",
       "    // that it is saved nicely (might be nice to debounce this).\n",
       "    setTimeout(function () { fig.push_to_output() }, 1000);\n",
       "}\n",
       "\n",
       "mpl.figure.prototype._init_toolbar = function() {\n",
       "    var fig = this;\n",
       "\n",
       "    var nav_element = $('<div/>')\n",
       "    nav_element.attr('style', 'width: 100%');\n",
       "    this.root.append(nav_element);\n",
       "\n",
       "    // Define a callback function for later on.\n",
       "    function toolbar_event(event) {\n",
       "        return fig.toolbar_button_onclick(event['data']);\n",
       "    }\n",
       "    function toolbar_mouse_event(event) {\n",
       "        return fig.toolbar_button_onmouseover(event['data']);\n",
       "    }\n",
       "\n",
       "    for(var toolbar_ind in mpl.toolbar_items){\n",
       "        var name = mpl.toolbar_items[toolbar_ind][0];\n",
       "        var tooltip = mpl.toolbar_items[toolbar_ind][1];\n",
       "        var image = mpl.toolbar_items[toolbar_ind][2];\n",
       "        var method_name = mpl.toolbar_items[toolbar_ind][3];\n",
       "\n",
       "        if (!name) { continue; };\n",
       "\n",
       "        var button = $('<button class=\"btn btn-default\" href=\"#\" title=\"' + name + '\"><i class=\"fa ' + image + ' fa-lg\"></i></button>');\n",
       "        button.click(method_name, toolbar_event);\n",
       "        button.mouseover(tooltip, toolbar_mouse_event);\n",
       "        nav_element.append(button);\n",
       "    }\n",
       "\n",
       "    // Add the status bar.\n",
       "    var status_bar = $('<span class=\"mpl-message\" style=\"text-align:right; float: right;\"/>');\n",
       "    nav_element.append(status_bar);\n",
       "    this.message = status_bar[0];\n",
       "\n",
       "    // Add the close button to the window.\n",
       "    var buttongrp = $('<div class=\"btn-group inline pull-right\"></div>');\n",
       "    var button = $('<button class=\"btn btn-mini btn-primary\" href=\"#\" title=\"Stop Interaction\"><i class=\"fa fa-power-off icon-remove icon-large\"></i></button>');\n",
       "    button.click(function (evt) { fig.handle_close(fig, {}); } );\n",
       "    button.mouseover('Stop Interaction', toolbar_mouse_event);\n",
       "    buttongrp.append(button);\n",
       "    var titlebar = this.root.find($('.ui-dialog-titlebar'));\n",
       "    titlebar.prepend(buttongrp);\n",
       "}\n",
       "\n",
       "mpl.figure.prototype._root_extra_style = function(el){\n",
       "    var fig = this\n",
       "    el.on(\"remove\", function(){\n",
       "\tfig.close_ws(fig, {});\n",
       "    });\n",
       "}\n",
       "\n",
       "mpl.figure.prototype._canvas_extra_style = function(el){\n",
       "    // this is important to make the div 'focusable\n",
       "    el.attr('tabindex', 0)\n",
       "    // reach out to IPython and tell the keyboard manager to turn it's self\n",
       "    // off when our div gets focus\n",
       "\n",
       "    // location in version 3\n",
       "    if (IPython.notebook.keyboard_manager) {\n",
       "        IPython.notebook.keyboard_manager.register_events(el);\n",
       "    }\n",
       "    else {\n",
       "        // location in version 2\n",
       "        IPython.keyboard_manager.register_events(el);\n",
       "    }\n",
       "\n",
       "}\n",
       "\n",
       "mpl.figure.prototype._key_event_extra = function(event, name) {\n",
       "    var manager = IPython.notebook.keyboard_manager;\n",
       "    if (!manager)\n",
       "        manager = IPython.keyboard_manager;\n",
       "\n",
       "    // Check for shift+enter\n",
       "    if (event.shiftKey && event.which == 13) {\n",
       "        this.canvas_div.blur();\n",
       "        event.shiftKey = false;\n",
       "        // Send a \"J\" for go to next cell\n",
       "        event.which = 74;\n",
       "        event.keyCode = 74;\n",
       "        manager.command_mode();\n",
       "        manager.handle_keydown(event);\n",
       "    }\n",
       "}\n",
       "\n",
       "mpl.figure.prototype.handle_save = function(fig, msg) {\n",
       "    fig.ondownload(fig, null);\n",
       "}\n",
       "\n",
       "\n",
       "mpl.find_output_cell = function(html_output) {\n",
       "    // Return the cell and output element which can be found *uniquely* in the notebook.\n",
       "    // Note - this is a bit hacky, but it is done because the \"notebook_saving.Notebook\"\n",
       "    // IPython event is triggered only after the cells have been serialised, which for\n",
       "    // our purposes (turning an active figure into a static one), is too late.\n",
       "    var cells = IPython.notebook.get_cells();\n",
       "    var ncells = cells.length;\n",
       "    for (var i=0; i<ncells; i++) {\n",
       "        var cell = cells[i];\n",
       "        if (cell.cell_type === 'code'){\n",
       "            for (var j=0; j<cell.output_area.outputs.length; j++) {\n",
       "                var data = cell.output_area.outputs[j];\n",
       "                if (data.data) {\n",
       "                    // IPython >= 3 moved mimebundle to data attribute of output\n",
       "                    data = data.data;\n",
       "                }\n",
       "                if (data['text/html'] == html_output) {\n",
       "                    return [cell, data, j];\n",
       "                }\n",
       "            }\n",
       "        }\n",
       "    }\n",
       "}\n",
       "\n",
       "// Register the function which deals with the matplotlib target/channel.\n",
       "// The kernel may be null if the page has been refreshed.\n",
       "if (IPython.notebook.kernel != null) {\n",
       "    IPython.notebook.kernel.comm_manager.register_target('matplotlib', mpl.mpl_figure_comm);\n",
       "}\n"
      ],
      "text/plain": [
       "<IPython.core.display.Javascript object>"
      ]
     },
     "metadata": {},
     "output_type": "display_data"
    },
    {
     "data": {
      "text/html": [
       "<img src=\"data:image/png;base64,iVBORw0KGgoAAAANSUhEUgAAB1AAAALQCAYAAAAuBeLfAAAAAXNSR0IArs4c6QAAQABJREFUeAHs3QmYZWV5J3BaGjEI7rjEJY0ibhiXGGNwa0kyUaNx18wkmnaJiYJxi6iPW7uMEiQYHJG4ZESdMVExriRoFDtGJaCOG7igaLsrmwgoKkvP/719vvJU9b3VVd19u+699fue563vnG855zu/c6qUevvc2mMPhQABAgQIECBAgAABAgQIECBAgAABAgQIECBAgAABAgQIECBAgAABAgQIECBAgAABAgQIECBAgAABAgQIECBAgAABAgQIECBAgAABAgQIECBAgAABAgQIECBAgAABAgQIECBAgAABAgQIECBAgAABAgQIECBAgAABAgQIECBAgAABAgQIECBAgAABAgQIECBAgAABAgQIECBAgAABAgQIECBAgAABAgQIECBAgAABAgQIECBAgAABAgQIECBAgAABAgQIECBAgAABAgQIECBAgAABAgQIECBAgAABAgQIECBAgAABAgQIECBAgAABAgQIECBAgAABAgQIECBAgAABAgQIECBAgAABAgQIECBAgAABAgQIECBAgAABAgQIECBAgAABAgQIECBAgAABAgQIECBAgAABAgQIECBAgAABAgQIECBAgAABAgQIECBAgAABAgQIECBAgAABAgQIECBAgAABAgQIECBAgAABAgQIECBAgAABAgQIECBAgAABAgQIECBAgAABAgQIECBAgAABAgQIECBAgAABAgQIECBAgAABAgQIECBAgAABAgQIECBAgAABAgQIECBAgAABAgQIECBAgAABAgQIECBAgAABAgQIECBAYEYEtmzZsi7RyrrtXVYGbu4Gb9je2O315zibumMdvr2xu7u/W1dVB++Kc+c4N0hca1cca9QxcvwTElWOHjVG+3gEYr534oDxHH3njloPRFd26lnOMdZ3xzlvOSvKnPYz4wHLmTfJY3NNGzqLUdUV6bgocUbiNYkbLbyetK1L9MvTFo5ZuJ/BaxPn9yatXzim9tP/u4l/THw98dPExYmvJd6UOHTYnG5eupdVtrvmUefSToAAAQIECBAgQIDA8gXWLn+KGQQIECBAgAABAgQIEJhMgaQjKsnw4sTdExdO5iqtakcFcn//IHNfmzg28ZodPY55Uynwi6z600NWXr/XuHHidl38jzwnd1uzZs1ZQ8a2podm4+/bzoj699J+nRF9g+ac5++y8fTEmsQ5iTMT+yTWJTZUZMzbUv951nN56mHljDT+ZFjHgrbvLdi3S4AAAQIECBAgQIDAGAUkUMeI69AECBAgQIAAAQIEJkjgMVlL/WL/hxO0praU23Qb32gNO1G/aifmmjr5As/LEg+c4GXuymd5gi9zRZb2wyQh7zHqzElU3jt9Jyaul3hTov4RxbBSicy7Z/z1c7xKeo4qDx/VUe2Z/1epnpH4UeK/51gfTT0o6dszG49NVJL2fyTq5+4zE8PKUzJ307AObQQIECBAgAABAgQIrJzAVVbu1M5MgAABAgQIECBAgMDuEsgv6L+d+Epi4t7K7NZVa/vl7vJwHgLjEPAsj0N1aceM/X9kZCU0qxySJOatt25u83VTWup3IQ/epqdr6BKg1f+dxAUjxj27a39izj2XPK227F+ReGM2n9KNeXKOuejbrN04FQECBAgQIECAAAECEyIggTohN8IyCBAgQIAAAQIECBAgQIAAgZ0S+Lfe7Nv2tvub7+p2HtpvXLB9n+zXm6z1RuuWBX319um107aua//Uwv7e/v/N9qWJqyVu32u3SYAAAQIECBAgQIDAhAtIoE74DbI8AgQIECBAgAABAn2B/OJ+XaLKGYm1iSO67UtTn594T+Iu/Tm1nbZNiSqHd/sv3rq75f0Lx7b99L+5G/O3ra2b+4C0vyvxncTPE5ckvpw4JnHDBWP7671t+k9N1JzvJ9pasjkoBy+Ye7W01ptbH0mck/hl4sLEaYlnJvZu47O9MdFPdHyx9lPWtzFVZ/9eiXcnfpT4RaKu4R8Tu+RjYXOcGyS+mqhS6/61/vlHbWfcYP2p/yZRZm9J/CBRazw78beJaw6bn/b9Ei9K1DX/LHFR4pOJv0jUR4luU9J+jcRzEp9I1HNzWeKCxH8knpCY99+K2e+v70nZ/16inrl6Dufssn1A4nWJbyZq7eclPpD4vW0WkYa0XzXxjMSnEj9N1DHret+QmHuDMNvrE3V/790d53/VfsrGbn9klTGbBiPzfZG6jvPBRF1rWf2/RD1j8663HSzty72eTBmUhc/ynmkt19MTdX/q/P+SuF1iY6LK0GtJ+76JlyTOStT3Tj0Xb03coq1zWJ3+P0vU9ZXpDxP/J9E+YnibKem7T6J9b9T3Wn2P/nNi2M+TDWmv8prEQxNfT9TavpYYfHRu6usnjknUuutZqOv+XOKliXG9jXll78LW9Lb7m/Uzr952PzTrGPo9lb728b3v7E/sbV/W275/b3veZt5CrfP8duLmiVPnddohQIAAAQIECBAgQIAAAQIECBAgQIAAAQIEBsmidfmFfSvrtmeSgZu7wRva2Oy3Y3wl2yd3/ZUcqURJJTCqVH23Nqfq7G+qjpSWtLzl1t1BYqPepppX0lfJy590Y+aSQdl/Y9dW1bcSlfiqJGQr383GddvBst3WW2MqLk7UWit5NUiqpW6lf55rpvHTXcflqet6P5OoZF8rc2+bpeFxiY+3jtR1jtq/U28tz+/1n5vtOv6Pu7ZK3t2vjd1enbEndPOObmOzf+3E57v28q6/ObukkrEbu3l13EoS1zV/OVHJp1ZqvWv7B8z+ukQlrapUEvTMRM1r5d+yMZdorrnZv1mikpRV6lmpOZ9NtPudzS3/sOA8bX2VAK+yOVHnqXqQfEz9h4lLElXKs+5B/9l40YJjrkn/SYkqtfYvJWpOPSNV6hi/0635Ttmu+9nWWOuv/cf1jzlsO2M2Jaq8OnFlop69SuRVIrKVYxfOTceyrqdbZzte/1neK40nto7U5VbJ7raWD3V9G9sasr++ayuLWmuVbyZqXiU3q9RzUom5uZL9uh9V/nNrNRhT36M1tsqliT+Ym9BtpO0V1dmV+nlSid7zuv0rUh/en5P9DV1fPZN172rOFxKVJL1GopKn9fOhSrXV83VGosZW+Vpim587/XO07Yxr59rc2kbVGfsXiSpl+xttXLbXVWNX9k3dnrs/a2Nanb6rJOofWNSzW89oc1jfxlSd9tMSVSo5/PeJO/b7t7ddE7uyfntj9RMgQIAAAQIECBAgQIAAAQIECBAgQIAAgZkVyC/L+7/EX7e9C834zd0v2De0sQuOUcmqR/X6bpT9M7s5/9raq07bpq59LhGS/VO7tsf3x3bjH971fa71Zf+BXVudtz7icq5k/96Jlvg6onWkrX/NlQy8fvWlvk5i8IZY6lb6Sae/6xorqdZPhOyZ/ae2Canv2s7VHbd1zR2ra39o11EJuL5ZJbdaYrX6btY/3qjtjDshUeXo7viVlGmeH8v21UfNHdae8RsTrdRx5t4uzPZDEpUQqvLINj/bZVEJxyrvTdyg13fb7Jddlb9v7VVn/12D1q1vm+7f+tK2d+KVXV+db+5t4mz31/eq7Ld7Vx9zWsdclyi/Ki9JXLV33D/Ofuurvys5KGn7o0SVryZu0mvfL/vvro6Uj7T2qrO/adC6IKHXH7Nwuzenpv5jYr/uWOXXrrcS1jdqc7O97OvpjpmpgzL3/GXvb7q2c1MP3s7sxh6c/a93fVVt7J1/fa/9/Gzft9d3q+zX26FVjm/tVWd/86B165c3phq8AZ16n8RbtjYPkoNzb16m7TFdeyUCH5do97Z8jkjUs1Axl3jN9oZEK+/Mxl7d+dvz0Fzfkb6574VsH5Co5GmVF/TXPmo749q5Ni8y5ioZ9+BEe87e1h+b9nWJVup7ta6zyr/0x9V22tYPerZseVW3PyqBereMq4R0v1Qi+e2Jekv7gIXH7u/3Jq3vt9smQIAAAQIECBAgQIAAAQIECBAgQIAAAQKrSiC/MO//En/d9i4+4zd3v2Tf0MYuOMazW3ur0/9n3ZwLWlvVadvUtR/e2rP/5K7t31tbq9PekmzP7LUdm/Z6++0Vra1fp70SNlVOaO3Z7l/zE1t7vx7M2Pqln3T6TJoqafOH/bFtO+0t8bShtVW99TCDr3PH6trP6Poe2x/fttNXSY8qg6RJax9VZ9wJg9FJoKaut3U/0u1/IvW+o+aNas+cjd38ekPvxgvHpe3DXf8xrS/7Lcldb+fW31icV9JWCbp6e7ASYy1xXWv9bqJs5z4it01MWyXN6q3UKut77W19daxtri9tr6kJKW9uc/p12iuhVOWzrT3bzxm0LEjwVn/a1yU+mJj3Zmj2NyWqHN6Os706Y9uc+scFg+Rgm5P9+gjhnyWq/HGvfdnXU3O3HmbwdfD8ZWttohKgVeaO3zvPb6a97kWVjb329VubBl8f3dpbndZKbFb5fGurOvubB61b344cvBnc+tNea6m3X6s8pdd+9tamLdv8POmOWW9XVjmtN2fD1qbB14Nae6vTenLXP5cw7/XVP2Z4b+JJrW2xOuPaueq5rLeOF0a93frjRCt17kGSvB03++taZ+pKoF43Ud9r9ZbzIMncG3tc2qocUm2phyZQu767pP8LNXhEOS3tv9+O3a9HjB/VvKk/1zYBAgQIECBAgAABAgQIECBAgAABAgQIEJgZgfxmvP9L/HXbu7CM39z9Nn1DG7vgGLdv7a1O/293cy5vbVWnbVPXPpd4yn4lESohdnlikGDrxtZHcNabVdU+91Ze11cJtrm3C6utlbRXgrXKO3pt/WveZr01buuUwddB0qk3t96InJfw6sZX0utT3bwnt/FdX9e8Ze5YabhF11jJxKEfq5v2enutylf6xxu1nXEnDEZv/ejO93Xb9TboNUbNWaw98zZ2x/jMsHHpa0mdN7b+tL21m3Nka1tYp/9z3Zg/6felbV7SqPWl/eqJH3Rz7t9r3976vt3NmXtTss2tOn3XTrRE4eDN1uw/optzUeonJOY++rk/t7+dMZu6OXPPcb9/2HZvzt+N6D+zO+bcx7lmf9nXU8fujlPV4PlLfa+urUy3eZa7OR/rxmys/SrZX9+1VbXNM5W2B3T93906Y+vXtG3u2od+tHH6ntf1n9Sd59bdfn1vXKt/rLad9pt3Y6pqifgNXdv5bVy/Tl97Xr+S7fsntknw98cvtp257VzZHFnOSc8/Jkb9g4t1vZn71vmy3/5RwkPa+dN2lUS93fvdxOB+pR6ZQO2OUx/ze8/EMYn6iOVh5WXtHK3uDao5C5PCC/f/V5unJkCAAAECBAgQIEBg9wjM+/s5u+eUzkKAAAECBAgQIEBg1QpcucwrbwmXK0bM+96Q9ku7tj2H9M1rWrNmTb0Z969prLfEHpE4rhvw0NSV8Pj3jPlB1zaosl+JlnqL8dA03DZRf4Pxlok7JwYf35l63ptv2W9l3rFa46g656rk7g0T98iYWyUOSNwmccdES4SOOleGzJVaZ5Xyr783OdhZ8KUd75bpz6nXDB20YE7t1lu1LRk593G4Q8YttWnYPa25w+5ru65KRJbRsHKTrrH85kqurxLk69JQb9nV/Svb2yV+M9ES5MNst7mHOc5+mXPTRJWXZ//5Wze3+VrPcf03aK3lh4n3Jk5L/E7iDYnXZe6nUn8w8f6s8dOpd2VZku1OXM+wtdbzWuWLizxT9VbuPQejtv1ySeZdtG3zHpd0baMSk58bMqeazuza2/PQ3h79Zs5z4bA5af9GTH6Svmsm6lk5pzdum+eh66tk9aMSdZ6TEvWW78dSn5x4b465OfVyy7cyb12blONVYvkxiSMT10nU+rd5mz5to8qJ6ai/w1w/797dDbp76vpHI8fmXEv6GdCN+8/MqajEbP0cqONWYvZhiT0Tlbj+ZMbWz9uF5Slp37Sw0T4BAgQIECBAgAABAisrIIG6sv7OToAAAQIECBAgsLoEfta73L1726M2298O7M/rj/1lf2cHt9+aeQ9O1BuKx3XH+O9dXX1zJQmASqg9N/GMRCUsWvl5Nk5PVP+oRF6NrXFLKjnXtTPwmMSfJvbqTbog2x9K3CFRSb+llEq0VKn//qkEyWKlrqESghctNqjXV8nTzycqAVvJpUrmPDkxV3It98vO8+Ya5m88PMmTSia2sr17uqYNTN2u6+bZrlisVPJrULKem2Xj2MSDEv3j1ToqqVTrLf9hZdg9bOuo8XcaNmlB22Atue76OOj7pK8+JvrPEwcmKpla8cL0VbLvLzPuE6l3RVmq7Q5dz4gFtrdqfzqiv5ovXqTvF4v0LdbVEqwLx7T2el6r1LNeZbE1VH/Nq/vWxldblWHPwx65Z5V0vWP6K5n+sMT1Evftoj4SuBKJT8y476XeoZK59T1aH7X8ldQnJ+rnUv2s+OvEUsq7M6h+5tXbvHvleJdl++HdxHd29bKrHOfcTPrnihz3DqlrbTdM1D+2GJZATbNCgAABAgQIECBAgMCkCdQvBxQCBAgQIECAAAECBHaPwPk5TUviXH+xU+YX71dLf0tijXrLa7FDLLXvpAz8ceLuOedNErWuenvqZ4lKMPTLS7PzskQlmF6TqGTDrRP7JWlw79T/mdjpkjVUUu/9iQ2JeqvshYlKvtws57lu4iHZ/mFiqaUlr87M3KWUpSZP6/xnJMqrJU3/KutfmKS9QfqrbVjUfd7R0q7rEUu4qEou1dtxlTj7SKKS5psTRyQOTdwox6j402z/PLGc0tZRc/Zfwlre1w6esZcmXpao5POtEuX4nkSt4XaJ+juoN069O8sOX8+QRbZjLUw89ocu1tcft5zt9o8vFs5p56rvqyqXbK3mkvHd7jbVNbuWNn6bAQsbck+/m/irtNfzf7fE8xIfT9SbnfdPvL/7Xs/mjpec48OZ/YruCE/JMR+5lKNl3o8yrpLz10oc2q2lkr2V1P1kYmTJ2KMTX0sMvq9GDcw5Pp++v+366xlXCBAgQIAAAQIECBCYEgEJ1Cm5UZZJgAABAgQIECAw/QL5ZXolDs7sruSO27mi6q//v35los3ZzpTld2dN9YbbOxKVtHxQohIIeybenb65ZEkSBXul7amJKk9IX33s5LsSX01cvrV5j5t09c5Wv5sDVLKxjntIjv/SxAcT3+kdeDnn+lo374Bcx1V7x5jbTPsNEvdILDdZV+s6P/HhHOxtiXJ8Q/886TshMapszvgdLe26bj3qAFnH7yYOTvxaN+bBqetNz0rm/3YW9crERxODhHTGVUL3uokll8y9MIPrrbsqQ9eS49bfzv39xIG1XQNT19/grcT9/rWf45yVOD5RCfJaY62pEoG15t1WdvR6RizwS1173YN6NoaVg4c17mTbQSPm18+VKu1nyle37u6xLuu7Vrc9r0p7HWvfrvHr8zpH7GTOTRN1v8O55srEaYmXJ+qjin+/m3an1LcdcYjlNr8kE+ofM1Q5Pue93tbN7X59VzeinrFK8tb3f/1cq5/Vi5W901nP6AMXG9T1VaK2Sn3PKQQIECBAgAABAgQITImABOqU3CjLJECAAAECBAgQmBmB9vZdvSlVv4QfVf6y6zglv8z/yahBu6j9Ld1x/jj1Q7vtty44diW52lttn13QV8mw66ftAV372oX9y9xf142/KNe+TcIm5/qD9N+0G7PwXC3x0U9WVRJrc2KfRP3NxGHlFWn8z8Q/D+tcYlu9jXZh4jaJ5y9xzs4MO6mb/OcxqcTnvJK2m6fhY4kvJg7pOtd19bdjOyyh8+j0tyTzQttu6tDqX7vWvxrau/WjmP89fZ9LtGTc/832xxOPT8wrWdv30vDlrnGQcO226x8UVOnf360tu/brjlzPsBXUM3VBot7CvN/CAblHt0jbvRe274L9bZ7znKuS6H/eHfsDVcf5K6nOTtTvBtrPnGzOK4d1e/V3XCupvWjJefbOgEpm1v3+nSGDy6S9id+/t0OGLq0p67osI5+YqO//6ySOTiylVAK15tTPvvrHI1XeubVa9Ovbu971ud6au1h5RNf5ocUG6SNAgAABAgQIECBAgAABAgQIECBAgAABAqtWIL9sv0bi+4kqH03cuo+R/WslXpGocnnizgv6602xVloiam5IOupNt0GZa8xGGjZ1zYf329t2+r6e+EUXP0g9L7GR/bWJHyeqvCVRSZJByfYdE59NtHJyr2/R9da4Nin1wd3+XXptT+od6yppf0jivF7/c1p/N/eiru8BC9of17VfkvpPWl+267qe1fVVVW+ibbdk3AndnKP7g9NWH+Fbpf6+5+36fYttZ+zGmpRy4rBxaT960Jvztv7s7504q2s/KfUNe323zP4Xu765hHf2H9611bM19/ZctvdKPCHx00Qrfaftre+2mXRpN/F/pp5L6Gb7DxPtvryqt8bHdOMvTv3fWnvV2X9E4rLEFYlbtb5svy9RZZ576x9WZ+ymwYwtWw4f0f/prn9D68/+sq+n5nbHqerg3rGe07XX99VcQjHbt0h8oeuramNvzvqu/bzW1q/TN7Q/7Zu7eVW9JDFIgqe+ZuI9iSpfSfS/f9t9qO//xyYGyenU9dZwfW9cmajyR20N2d4waNmy5dOtrV+n7393/WekrjdYByXbV028suurtW43SZ8x7Vybu8OMrDL2jd2xq7pXG5jtdb32fVt71Wn/r66vnsPvJeYl57Pfft6sXzDvHd28n6d+YaL+EclcyX69hXtCosq3E5XYnSuD1q1f1s812iBAgAABAgQIECBAgAABAgQIECBAgAABAqtVIL8zv3PiW71foH8z26clvpyoxFaVSmTNJbiaVdpGJgJqTPoPTgxKm9O1b+qaD++3t+30bez6qzqmtffrtD+9N+aCbFfi6Ru9tlO67S+0edlfdL01rjf/4N68luyp7u8kPpU4p3ZSyqYlPV7d5nTH+vhgxJYtlSitOXOJuWwf0/VVVUns6m/JkWp7cf9Yi21n7Ak1IeXo/rjsV5K3re3U2u/3j9rOuOZ/4rAx6T86UeWEfn/2K9FXPlUq4fi5xJcS7Tmqvpu1OdmuhHHdt1bOzkbtt+R4eXy+63xGb96i66txmVNJz0omVamEaflurp2u/Hvqq/aOuSb7J7bO1O0+VxKrlee28d05XtZ11PVV0n5ef39s286YTd2cUc9+89jQ5lSdOcu6nm5Od6p5CdQyP6l1pK7v87pPdQ0XJr6WqDL31nK21w9a8nz219S2R/WnvXn/Sze/vmfqPtT3Q5VK4m6T2E/bUdXZlRpzeqKehSq1zrlnobvODYOe0QnU66S/XVfNr0T/ZxLtOatk+33a9SxWZ1w71+bFxlVfxl4vcX6iypmJ+ujxal9XDV3Zt9paSduzWkfqeT9PakzamsP6Nqdr3zt9b+vNrWR/XXP9LP96r72ufZh5G1L/0KF+bm0v3tQ/v20CBAgQIECAAAECBAgQIECAAAECBAgQIDBzAvll+bUTf534WKISR/X2148SlcypN8duPOyi0z4yEVDj039wYlD689OwqWselUS6Rddf1Z37c/vb6XtA4j8SlZiptywr2fXuxH0S+yaq7crEATUv9aLr7cZk2KAc3M6Vvb0ST0tUkqyScZVwqeTE6xK3TPxhokolKuaSlNk+KFGJ3J8mfpI4rB2zO9d/S9t7E2V9WaKSLScntvcxnP3D1HWdkKhy9LyO7KTtDok6dpW/Xtg/bD/jNg5GL+MN1HaczKtk1UsTlYj5WaKepXrL8JWJ+ujleSVtV0+8OFFvB5ZTRSVdj07cKPGXiSofbROzvej6euNunbFvTGxO1DoqcVfJuKcmBsmsNrbqakvU98Gpibpf5faDRCUAD+2P7cbXM3ZC4oJEPRP1McCLlozZlKgy6tn/9NbuLRsWHijty72e7lC/SqDWMdNYSdSnJz6fqHtU639Hop7lDyaqPLOdP9vrBy07nkCt4z45Ufe17sN3E69NzL2l3M7V6vT9fuJ9iXMTNWdz4s2J32pjWp22DYkqn25tC+v07Z+oZ/DMRF1zJdfrH1y8PnHgwvGj9jO2nWvzqDH99ox/YqKVQYI9O+taQ+p9F4y/ea9v7q3VNiZ953X961tbv07fPRPHJer7r8bWz8AfJurnUN2DubexF8xL17JKffy1QoAAAQIECBAgQIAAAQIECBAgQIAAAQIECBAgQGC2BZJCqzcWq/zpbF+pqyNAgAABAgQIECBAgAABAgQIECBAgAABAgQIECBAYFULJClab8x+L/HRxD4LMdJ2w0S97Vnltgv77RMgQIAAAQIECBAgQIAAAQIECBAgQIAAAQIECBAgQGCmBJIYrY9KrnJMYu7jXLN9k0R9HHaVj83URbsYAgQIECBAgAABAgQIECBAgAABAgQIECBAgAABAgQIDBNIcrT+tmj9/c8qFyY+k/hyov2d3K9le92wudoIECBAgAABAgQIECBAgAABAgQIECBAgAABAgQIECAwcwJJkN4i8drEmYlLEpVI/Wzi+YlrztwFuyACBAgQIECAAAECBAgQIECAAAECBAgQIECAAAECBAgQIECAAAECBAgQIECAAAECBAgQIECAAAECBAgQIECAAAECBAgQIECAAAECBAgQIECAAAECBAgQIECAAAECBAgQIECAAAECBAgQIECAAAECBAgQIECAAAECBAgQIECAAAECBAgQIECAAAECBAgQIECAAAECBAgQIECAAAECBAgQIECAAAECBAgQIECAAAECBAgQIECAAAECBAgQIECAAAECBAgQIECAAAECBAgQIECAAAECBAgQIECAAAECBAgQIECAAAECBAgQIECAAAECBAgQIECAAAECBAgQIECAAAECBAgQIECAAAECBAgQIECAAAECBAgQIECAAAECBAgQIECAAAECBAgQIECAAAECBAgQIECAAAECBAgQIECAAAECBAgQIECAAAECBAgQIECAAAECBAgQIECAAAECBAgQIECAAAECBAgQIECAAAECBAgQIECAAAECBAgQIECAAAECBAgQIECAAAECBAgQIECAAAECBAgQIECAAAECBAgQIECAAAECBAgQIECAAAECBAgQIECAAAECBAgQIECAAAECBAgQIECAAAECBAgQIECAAAECBAgQIECAAAECBAgQIECAAAECBAgQIECAAAECBAgQIECAAAECBAgQIECAAAECBAgQIECAAAECBAgQIECAAAECBAgQIECAAAECBAgQIECAAAECBAgQIECAAAECBAgQIECAAAECBAgQIECAAAECBAgQIECAAAECBAgQIECAAAECBAgQIECAAAECBAgQIECAAAECBAgQIECAAAECBAgQIECAAAECBAgQIECAAAECBAgQIECAAAECBAgQIECAAAECBAgQIECAAAECBAgQIECAAAECBAgQIECAAAECBAgQIECAAAECBAgQIECAAAECBAgQIECAAAECBAgQIECAAAECBAgQIECAAAECBAgQIECAAAECBAgQIECAAAECBAgQIECAAAECBAgQIECAAAECBAgQIECAAAECBAgQIECAAAECBAgQIECAAAECBAgQIECAAAECBAgQIECAAAECBAgQIECAAAECBAgQIECAAAECBAgQIECAAAECBAgQIECAAAECBAgQIECAAAECBAgQIECAAAECBAgQIECAAAECBAgQIECAAAECBAgQIECAAAECBAgQIECAAAECBAgQIECAAAECBAgQIECAAAECBAgQIECAAAECBAgQIECAAAECBAgQIECAAAECBAgQIECAAAECBAgQIECAAAECBAgQIECAAAECBAgQIECAAAECBAgQIECAAAECBAgQIECAAAECBAgQIECAAAECBAgQIECAAAECBAgQIECAAAECBAgQIECAAAECBAgQIECAAAECBAgQIECAAAECBAgQIECAAAECBAgQIECAAAECBAgQIECAAAECBAgQIECAAAECBAgQIECAAAECBAgQIECAAAECBAgQIECAAAECBAgQIECAAAECBAgQIECAAAECBAgQIECAAAECBAgQIECAAAECBAgQIECAAAECBAgQIECAAAECBAgQIECAAAECBAgQIECAAAECBAgQIECAAAECBAgQIECAAAECBAgQIECAAAECBAgQIECAAAECBAgQIECAAAECBAgQIECAAAECBAgQIECAAAECBAgQIECAAAECBAgQIECAAAECBAgQIECAAAECBAgQIECAAAECBAgQIECAAAECBAgQIECAAAECBAgQIECAAAECBAgQIECAAAECBAgQIECAAAECBAgQIECAAAECBAgQIECAAAECBAgQIECAAAECBAgQIECAAAECBAgQIECAAAECBAgQIECAAAECBAgQIECAAAECBAgQIECAAAECBAgQIECAAAECBAgQIECAAAECBAgQIECAAAECBAgQIECAAAECBAgQIECAAAECBAgQIECAAAECBAgQIECAAAECBAgQIECAAAECBAgQIECAAAECBAgQIECAAAECBAgQIECAAAECBAgQIECAAAECBAgQIECAAAECBAgQIECAAAECBAgQIECAAAECBAgQIECAAAECBAgQIECAAAECBAgQIECAAAECBAgQIECAAAECBAgQIECAAAECBAgQIECAAAECBAgQIECAAAECBAgQIECAAAECBAgQIECAAAECBLYVWLNtkxYCBCZN4JxzLtoyaWta7evZf//9BgTnnnvxaqcY2/UzHhvt3IEZz1GMbYPx2GjnDsx4jmJsG4zHRjt3YMZzFGPbYDw22nkH5jyPYyw7jMfCOu+gjOdxjGWH8VhY5x2U8TyOsewwHgvrvIMynscxUTvXv/415JUm6o5YzLgErjKuAzsuAQIECBAgQIAAAQIECBAgQIAAAQIECBAgQIAAAQIEpk1AAnXa7pj1EiBAgAABAgQIECBAgAABAgQIECBAgAABAgQIECAwNgEJ1LHROjABAgQIECBAgAABAgQIECBAgAABAgQIECBAgAABAtMmIIE6bXfMegkQIECAAAECBAgQIECAAAECBAgQIECAAAECBAgQGJuABOrYaB2YAAECBAgQIECAAAECBAgQIECAAAECBAgQIECAAIFpE5BAnbY7Zr0ECBAgQIAAAQIECBAgQIAAAQIECBAgQIAAAQIECIxNQAJ1bLQOTIAAAQIECBAgQIAAAQIECBAgQIAAAQIECBAgQIDAtAlIoE7bHbNeAgQIECBAgAABAgQIECBAgAABAgQIECBAgAABAgTGJiCBOjZaByZAgAABAgQIECBAgAABAgQIECBAgAABAgQIECBAYNoEJFCn7Y5ZLwECBAgQIECAAAECBAgQIECAAAECBAgQIECAAAECYxOQQB0brQMTIECAAAECBAgQIECAAAECBAgQIECAAAECBAgQIDBtAhKo03bHrJcAAQIECBAgQIAAAQIECBAgQIAAAQIECBAgQIAAgbEJSKCOjdaBCRAgQIAAAQIECBAgQIAAAQIECBAgQIAAAQIECBCYNgEJ1Gm7Y9ZLgAABAgQIECBAgAABAgQIECBAgAABAgQIECBAgMDYBCRQx0brwAQIECBAgAABAgQIECBAgAABAgQIECBAgAABAgQITJuABOq03THrJUCAAAECBAgQIECAAAECBAgQIECAAAECBAgQIEBgbAISqGOjdWACBAgQIECAAAECBAgQIECAAAECBAgQIECAAAECBKZNQAJ12u6Y9RIgQIAAAQIECBAgQIAAAQIECBAgQIAAAQIECBAgMDYBCdSx0TowAQIECBAgQIAAAQIECBAgQIAAAQIECBAgQIAAAQLTJiCBOm13zHoJECBAgAABAgQIECBAgAABAgQIECBAgAABAgQIEBibgATq2GgdmAABAgQIECBAgAABAgQIECBAgAABAgQIECBAgACBaROQQJ22O2a9BAgQIECAAAECBAgQIECAAAECBAgQIECAAAECBAiMTUACdWy0DkyAAAECBAgQIECAAAECBAgQIECAAAECBAgQIECAwLQJSKBO2x2zXgIECBAgQIAAAQIECBAgQIAAAQIECBAgQIAAAQIExiYggTo2WgcmQIAAAQIECBAgQIAAAQIECBAgQIAAAQIECBAgQGDaBNZO24KtlwCB1Stw/JGbVu/Fb+fKn/Sc9dsZoZsAAQIECBAgQIAAAQIECBAgQIAAAQIECBBYioA3UJeiZAwBAgQIECBAgAABAgQIECBAgAABAgQIECBAgAABAqtCQAJ1VdxmF0mAAAECBAgQIECAAAECBAgQIECAAAECBAgQIECAwFIEJFCXomQMAQIECBAgQIAAAQIECBAgQIAAAQIECBAgQIAAAQKrQkACdVXcZhdJgAABAgQIECBAgAABAgQIECBAgAABAgQIECBAgMBSBCRQl6JkDAECBAgQIECAAAECBAgQIECAAAECBAgQIECAAAECq0JAAnVV3GYXSYAAAQIECBAgQIAAAQIECBAgQIAAAQIECBAgQIDAUgQkUJeiZAwBAgQIECBAgAABAgQIECBAgAABAgQIECBAgAABAqtCQAJ1VdxmF0mAAAECBAgQIECAAAECBAgQIECAAAECBAgQIECAwFIEJFCXomQMAQIECBAgQIAAAQIECBAgQIAAAQIECBAgQIAAAQKrQkACdVXcZhdJgAABAgQIECBAgAABAgQIECBAgAABAgQIECBAgMBSBCRQl6JkDAECBAgQIECAAAECBAgQIECAAAECBAgQIECAAAECq0JAAnVV3GYXSYAAAQIECBAgQIAAAQIECBAgQIAAAQIECBAgQIDAUgQkUJeiZAwBAgQIECBAgAABAgQIECBAgAABAgQIECBAgAABAqtCQAJ1VdxmF0mAAAECBAgQIECAAAECBAgQIECAAAECBAgQIECAwFIEJFCXomQMAQIECBAgQIAAAQIECBAgQIAAAQIECBAgQIAAAQKrQkACdVXc5tV7kVu2bFmbeHriS4lLE99IvCCx11JUMu52iX9J/CBxSeLjiYcOm5v2fRIvTXw9Ueeqcx6WWDNsvDYCBAgQIECAAAECBAgQIECAAAECBAgQIECAAIHJE5BAnbx7YkW7VuC4HO6YxPmJYxPfS7wk8U+JRUsSn3fIgNMT9038W+INiRsn3pW+Z6WeK9nfMzvvTDw/8dVEneuyxGsSr0woBAgQIECAAAECBAgQIECAAAECBAgQIECAAAECUyAggToFN8kSd0wgSc1DMvOJiRMT91qzZs1zqk68JfGw9D8g9WLl+HTWm6r3zNzHJZ6e7dsnvp54SeZfN3Urj8rG/RNHZ9wfdee6S/ZPSTwjY2ueQoAAAQIECBAgQIAAAQIECBAgQIAAAQIECBAgMOECEqgTfoMsb6cEDutmvzgJzS213dXPzWbtP6HahpUkPK+R9qsnPpA5n2ljsn1Jtt+fuFriTq09dZ3r8sTLW1vG1huo9UZqfYTv41u7mgABAgQIECBAgAABAgQIECBAgAABAgQIECBAYHIF1k7u0qyMwE4L1Num5yWReUb/SNn/fhKkZ6Xt3v32/nbGXJT9+gjfYeXWXeOPqs6x9k5118TnMu/H1dYr9RHAP0uMPFdvrE0CBAgQIECAAAECBAgQIECAAAECBAgQIECAAIEVFvAG6grfAKcfj0CX1LxJjn72iDNsTvu1Mm7/Ef3zmjNuz8SBiVen436JejP1i92g30hd/xhhm3NlzBVp/07ioIRCgAABAgQIECBAgAABAgQIECBAgAABAgQIECAw4QLeQJ3wG2R5OyxwnW7mhSOO8JOu/Zqpzx0xpt+8KTv36Bo+kfpPuu2q2t9CXexct0rydW0SqvUxv8su+++/37LnmLC6BGb5GZnla5uUp5Tx+O8EY8bjFxj/GTzHjMcvMP4zeI7Hb1xn4Dx+Z8aMxy8w/jN4jhmPX2D8Z/AcMx6/gDMQILBSAt5AXSl55x23wF7dCX4x4kStvf6W6VLKpgw6OnFq4u6JU5IQbUnaXX2uHF4hQIAAAQIECBAgQIAAAQIECBAgQIAAAQIECBBYCQFvoK6EunPuDoFLu5NcdcTJ6u+WVvnp1mrxr3lz9AVtRBKnR2X7WYmXJg5LLOVcWzKu/hbqDpVzz714h+aZtHoEZvEZaf+KcxavbVKeTMbjvxOMGY9fYPxn8BwzHr/A+M/gOR6/cZ2B8/idGTMev8D4z+A5Zjx+gfGfwXPMePwCzkCAwEoLeAN1pe+A849LoD6i98pEfUTvsNLa20f5Dhszqu356ahk6IO6AT/u6nbMbneuqvZLkoSt9SgECBAgQIAAAQIECBAgQIAAAQIECBAgQIAAAQITLCCBOsE3x9J2XCDJyl9m9rcSB4w4SrWfm3EXDOuvj+dNPDDxmwv7u2P/IO3X6/o2p67zbXOuzN8z7TdNfDWhECBAgAABAgQIECBAgAABAgQIECBAgAABAgQITLiABOqE3yDL2ymBj2f2DZPEPKh/lOz/evar7b/67Qu2b5P99yVetKB9j8yvN0p/I3F29SWhenmq0xJ3St9+1dYrd832Pon626kKAQIECBAgQIAAAQIECBAgQIAAAQIECBAgQIDAhAtIoE74DbK8nRJ4Szf75UlsDp711GvS9oqu/fWLHL2Sq99OPChz7tHGZbv+bvBxiar/d2tPXeeqv6v64taWsXtlu/5OapU3bK18JUCAAAECBAgQIECAAAECBAgQIECAAAECBAgQmGSBSgIpBGZSIG+GfjhJzLfn4h6VODXbH019SOKeiRMTJyUGJX0bayNzWn1F2h6fphrzkWy/I/V5iT9I3C5R7ccmWnlTNh6beHrG3j71ZxL3TdwhcXSO+8XUCgECBAgQIECAAAECBAgQIECAAAECBAgQIECAwIQLDN7Km/A1Wh6BnRF4dCa/MFF/r/RpiRt2+3+WpOaWbLfyomxUzJVKwGanEq4fSjww8aREzXlG4kHpr4/uHZRsX5GNSpi+KlEf//vURP0DhcMTz04oBAgQIECAAAECBAgQIECAAAECBAgQIECAAAECUyDgDdQpuEmWuOMCSWxeltn1Mbrto3SHHizj6qN9tylprjdJK3m63ZKxF2dQJVcrFAIECBAgQIAAAQIECBAgQIAAAQIECBAgQIAAgSkU8AbqFN40SyZAgAABAgQIECBAgAABAgQIECBAgAABAgQIECBAYDwCEqjjcXVUAgQIECBAgAABAgQIECBAgAABAgQIECBAgAABAgSmUEACdQpvmiUTIECAAAECBAgQIECAAAECBAgQIECAAAECBAgQIDAeAQnU8bg6KgECBAgQIECAAAECBAgQIECAAAECBAgQIECAAAECUygggTqFN82SCRAgQIAAAQIECBAgQIAAAQIECBAgQIAAAQIECBAYj4AE6nhcHZUAAQIECBAgQIAAAQIECBAgQIAAAQIECBAgQIAAgSkUkECdwptmyQQIECBAgAABAgQIECBAgAABAgQIECBAgAABAgQIjEdAAnU8ro5KgAABAgQIECBAgAABAgQIECBAgAABAgQIECBAgMAUCkigTuFNs2QCBAgQIECAAAECBAgQIECAAAECBAgQIECAAAECBMYjIIE6HldHJUCAAAECBAgQIECAAAECBAgQIECAAAECBAgQIEBgCgUkUKfwplkyAQIECBAgQIAAAQIECBAgQIAAAQIECBAgQIAAAQLjEZBAHY+roxIgQIAAAQIECBAgQIAAAQIECBAgQIAAAQIECBAgMIUCEqhTeNMsmQABAgQIECBAgAABAgQIECBAgAABAgQIECBAgACB8QhIoI7H1VEJECBAgAABAgQIECBAgAABAgQIECBAgAABAgQIEJhCAQnUKbxplkyAAAECBAgQIECAAAECBAgQIECAAAECBAgQIECAwHgEJFDH4+qoBAgQIECAAAECBAgQIECAAAECBAgQIECAAAECBAhMoYAE6hTeNEsmQIAAAQIECBAgQIAAAQIECBAgQIAAAQIECBAgQGA8AhKo43F1VAIECBAgQIAAAQIECBAgQIAAAQIECBAgQIAAAQIEplBAAnUKb5olEyBAgAABAgQIECBAgAABAgQIECBAgAABAgQIECAwHgEJ1PG4OioBAgQIECBAgAABAgQIECBAgAABAgQIECBAgAABAlMoIIE6hTfNkgkQIECAAAECBAgQIECAAAECBAgQIECAAAECBAgQGI+ABOp4XB2VAAECBAgQIECAAAECBAgQIECAAAECBAgQIECAAIEpFJBAncKbZskECBAgQIAAAQIECBAgQIAAAQIECBAgQIAAAQIECIxHQAJ1PK6OSoAAAQIECBAgQIAAAQIECBAgQIAAAQIECBAgQIDAFApIoE7hTbNkAgQIECBAgAABAgQIECBAgAABAgQIECBAgAABAgTGI7B2PId1VAIECBAgQIAAAQIECBAgQIAAAQIEJkHgrCdsmIRlDNZw1sSs5FcLOeiNJ/xqxxYBAgQIECBAIALeQPUYECBAgAABAgQIECBAgAABAgQIECBAgAABAgQIECBAoBOQQPUoECBAgAABAgQIECBAgAABAgQIECBAgAABAgQIECBAoBOQQPUoECBAgAABAgQIECBAgAABAgQIECBAgAABAgQIECBAoBOQQPUoECBAgAABAgQIECBAgAABAgQIECBAgAABAgQIECBAoBOQQPUoECBAgAABAgQIECBAgAABAgQIECBAgAABAgQIECBAoBOQQPUoECBAgAABAgQIECBAgAABAgQIECBAgAABAgQIECBAoBOQQPUoECBAgAABAgQIECBAgAABAgQIECBAgAABAgQIECBAoBOQQPUoECBAgAABAgQIECBAgAABAgQIECBAgAABAgQIECBAoBOQQPUoECBAgAABAgQIECBAgAABAgQIECBAgAABAgQIECBAoBOQQPUoECBAgAABAgQIECBAgAABAgQIECBAgAABAgQIECBAoBOQQPUoECBAgAABAgQIECBAgAABAgQIECBAgAABAgQIECBAoBOQQPUoECBAgAABAgQIECBAgAABAgQIECBAgAABAgQIECBAoBOQQPUoECBAgAABAgQIECBAgAABAgQIECBAgAABAgQIECBAoBOQQPUoECBAgAABAgQIECBAgAABAgQIECBAgAABAgQIECBAoBOQQPUoECBAgAABAgQIECBAgAABAgQIECBAgAABAgQIECBAoBOQQPUoECBAgAABAgQIECBAgAABAgQIECBAgAABAgQIECBAoBOQQPUoECBAgAABAgQIECBAgAABAgQIECBAgAABAgQIECBAoBOQQPUoECBAgAABAgQIECBAgAABAgQIECBAgAABAgQIECBAoBOQQPUoECBAgAABAgQIECBAgAABAgQIECBAgAABAgQIECBAoBOQQPUoECBAgAABAgQIECBAgAABAgQIECBAgAABAgQIECBAoBOQQPUoECBAgAABAgQIECBAgAABAgQIECBAgAABAgQIECBAoBOQQPUoECBAgAABAgQIECBAgAABAgQIECBAgAABAgQIECBAoBNYS4IAAQIECBAgQIAAAQIECBAgQIAAgdkV+MiBG2b34nbBlR20C47hEAQIECBAgMBsCXgDdbbup6shQIAAAQIECBAgQIAAAQIECBAgQIAAAQIECBAgQGAnBCRQdwLPVAIECBAgQIAAAQIECBAgQIAAAQIECBAgQIAAAQIEZktAAnW27qerIUCAAAECBAgQIECAAAECBAgQIECAAAECBAgQIEBgJwQkUHcCz1QCBAgQIECAAAECBAgQIECAAAECBAgQIECAAAECBGZLQAJ1tu6nqyFAgAABAgQIECBAgAABAgQIECBAgAABAgQIECBAYCcEJFB3As9UAgQIECBAgAABAgQIECBAgAABAgQIECBAgAABAgRmS0ACdbbup6shQIAAAQIECBAgQIAAAQIECBAgQIAAAQIECBAgQGAnBCRQdwLPVAIECBAgQIAAAQIECBAgQIAAAQIECBAgQIAAAQIEZktg7WxdjqshQIAAAQIECBAgMBsCxx+5aTYuZAxX8aTnrB/DUR2SAAECBAgQIECAAAECBAgQILBVwBuongQCBAgQIECAAAECBAgQIECAAAECBAgQIECAAAECBAh0AhKoHgUCBAgQIECAAAECBAgQIECAAAECBAgQIECAAAECBAh0AhKoHgUCBAgQIECAAAECBAgQIECAAAECBAgQIECAAAECBAh0AhKoHgUCBAgQIECAAAECBAgQIECAAAECBAgQIECAAAECBAh0AhKoHgUCBAgQIECAAAECBAgQIECAAAECBAgQIECAAAECBAh0AhKoHgUCBAgQIECAAAECBAgQIECAAAECBAgQIECAAAECBAh0AhKoHgUCBAgQIECAAAECBAgQIECAAAECBAgQIECAAAECBAh0AhKoHgUCBAgQIECAAAECBAgQIECAAAECBAgQIECAAAECBAh0AhKoHoWZFtiyZcvaxNMTX0pcmvhG4gWJvZZy4Rn3W4n3JM5P/DJxduLIxNUXzk/bWxOjypELx9snQIAAAQIECBAgQIAAAQIECBAgQIAAAQIECBCYPIG1k7ckKyKwSwWOy9GemPh44n2JuydekrhD4uGJkSWZ0Puk8+RuwLtSfz9xr8SzE4em/15r1qz5ebZbqWP+KPEPraFX1/kVAgQIECBAgAABAgQIECBAgAABAgQIECBAgACBCReQQJ3wG2R5Oy6QBOchmV3J0xMTj0yys94OXZPtExKPyfYD0vaBbI8qr01HvaV994w7vQZ181+Xzb9IPDlxTKLa643WWyc+kLEbUysECBAgQIAAAQIECBAgQIAAAQIECBAgQIAAAQJTKOAjfKfwplnykgUO60a+OEnNLbXd1c/NZu0/odqGlSREb5v2Soi+N3MGydMa182vN1ir3G9rNfh6m3ytJOoXem02CRAgQIAAAQIECBAgQIAAAQIECBAgQIAAAQIEpkzAG6hTdsMsd1kC9XG75yXpeUZ/Vva/nwTpWWm7d799wfZF2a+P6p03txvzi67et6ur+s1uWwK1h2KTAAECBAgQIECAAAECBAgQIECAAAECBAgQIDBtAt5AnbY7Zr1LEkiCdO8MvEni7BETNqf9Whm3/7D+JFm/mzgq8a9D+h/StZ3Z62sJ1FvlmJ9IXJw4J/GmxK/3xtkkQIAAAQIECBAgQIAAAQIECBAgQIAAAQIECBCYYAEJ1Am+OZa2UwLX6WZfOOIoP+narzmif2hzkqE3SEf7CN/X9wa1BOoL0vbNRPXVW64bEqdnXiVzFQIECBAgQIAAAQIECBAgQIAAAQIECBAgQIAAgQkX8BG+E36DLG+HBervkVZpH7e7de9XX1v71X7VtPhWkqCVbD0pUUnUV+ft1Lm/jZr9SxNfSzwk7XNvpmbO89L2ssSrEw9N7FDZf//9dmieSatHYJafkVm+tkl5QhmP/04wZjx+gdV1hln9nprV65qkp5Px7rkbnMfvzJjx+AVW1xlm9XtqVq9rkp5OxuO/G4zHb+wMBAgMF5BAHe6idfoFKqFZ5apbq22+1kf8Vvnp1mrxr0mE7p8RJyfunPhA4pmJuZKkaftY37m2buMVqR+feGCOsW/GXbJwgH0CBAgQIECAAAECBAgQIECAAAECBAgQIECAAIHJEZBAnZx7YSW7VqA+ovfKxKiP6G3t7aN8R549ic9bpPODiarfl3hkEqGXp95uybgrM//zGXhAoj7G9yvbnTRkwLnnXjykVROBXwnM4jPS/oXhLF7br+7cym4xHr8/Y8bjF1idZ5i1/23ws2L8zzHj8RvXGTiP35kx4/ELrM4z+P8Wq/O+78xV+3m8M3pLm8t4aU5GESAwPgF/A3V8to68ggJJXP4yp/9WohKXw0q1n5txFwzrbG1Jft4x259MVPL0zYmHZU77+N/s7n0RpoUAAEAASURBVLFHxuyTuFviDoOGbb/8Wtf08227tBAgQIAAAQIECBAgQIAAAQIECBAgQIAAAQIECEySgATqJN0Na9nVAh/PAW+YxOZB/QNn/9ezX23/1W9fuJ1xB6btQ4nrJ45JPDbJ02Fvnt4wfacm3pqYV3KMfdJQH/t7bqISugoBAgQIECBAgAABAgQIECBAgAABAgQIECBAgMAEC0igTvDNsbSdFnhLd4SXJ5E5eNZTr0lb/V3SKq/fWm37tRv/T+mpv316bBKnz0xs2XbkHnuk/Rtp/3+J22fen7Yx3bmOzH4d4/hR89t4NQECBAgQIECAAAECBAgQIECAAAECBAgQIECAwMoL+BuoK38PrGBMAklYfjhJzLfn8I9KnJrtj6Y+JHHPxImJkxKDkr6NtZE5gzqbD07cJVEf13tJ6892v/ww4/+ha3hi6k2Jt2bsw1JvTtR56hgfS7w8oRAgQIAAAQIECBAgQIAAAQIECBAgQIAAAQIECEy4gATqhN8gy9tpgUfnCGcmNiSelvh24oWJoxa8EfqitFXZOPi6xx736uq9Uz+v215YfT4NgwRqjvWZJE5/O/svSRya+KPE5kQ717y/m5p2hQABAgQIECBAgAABAgQIECBAgAABAgQIECBAYAIFJFAn8KZY0q4TSGLzshztpV2MPHDG1Uf7zpXsVrK1Ysklc76SwY9c8gQDCRAgQIAAAQIECBAgQIAAAQIECBAgQIAAAQIEJk7gKhO3IgsiQIAAAQIECBAgQIAAAQIECBAgQIAAAQIECBAgQIDACglIoK4QvNMSIECAAAECBAgQIECAAAECBAgQIECAAAECBAgQIDB5AhKok3dPrIgAAQIECBAgQIAAAQIECBAgQIAAAQIECBAgQIAAgRUSkEBdIXinJUCAAAECBAgQIECAAAECBAgQIECAAAECBAgQIEBg8gQkUCfvnlgRAQIECBAgQIAAAQIECBAgQIAAAQIECBAgQIAAAQIrJCCBukLwTkuAAAECBAgQIECAAAECBAgQIECAAAECBAgQIECAwOQJSKBO3j2xIgIECBAgQIAAAQIECBAgQIAAAQIECBAgQIAAAQIEVkhAAnWF4J2WAAECBAgQIECAAAECBAgQIECAAAECBAgQIECAAIHJE5BAnbx7YkUECBAgQIAAAQIECBAgQIAAAQIECBAgQIAAAQIECKyQgATqCsE7LQECBAgQIECAAAECBAgQIECAAAECBAgQIECAAAECkycggTp598SKCBAgQIAAAQIECBAgQIAAAQIECBAgQIAAAQIECBBYIQEJ1BWCd1oCBAgQIECAAAECBAgQIECAAAECBAgQIECAAAECBCZPQAJ18u6JFREgQIAAAQIECBAgQIAAAQIECBAgQIAAAQIECBAgsEICEqgrBO+0BAgQIECAAAECBAgQIECAAAECBAgQIECAAAECBAhMnoAE6uTdEysiQIAAAQIECBAgQIAAAQIECBAgQIAAAQIECBAgQGCFBCRQVwjeaQkQIECAAAECBAgQIECAAAECBAgQIECAAAECBAgQmDwBCdTJuydWRIAAAQIECBAgQIAAAQIECBAgQIAAAQIECBAgQIDACglIoK4QvNMSIECAAAECBAgQIECAAAECBAgQIECAAAECBAgQIDB5AhKok3dPrIgAAQIECBAgQIAAAQIECBAgQIAAAQIECBAgQIAAgRUSkEBdIXinJUCAAAECBAgQIECAAAECBAgQIECAAAECBAgQIEBg8gQkUCfvnlgRAQIECBAgQIAAAQIECBAgQIAAAQIECBAgQIAAAQIrJCCBukLwTkuAAAECBAgQIECAAAECBAgQIECAAAECBAgQIECAwOQJSKBO3j2xIgIECBAgQIAAAQIECBAgQIAAAQIECBAgQIAAAQIEVkhAAnWF4J2WAAECBAgQIECAAAECBAgQIECAAAECBAgQIECAAIHJE5BAnbx7YkUECBAgQIAAAQIECBAgQIAAAQIECBAgQIAAAQIECKyQgATqCsE7LQECBAgQIECAAAECBAgQIECAAAECBAgQIECAAAECkycggTp598SKCBAgQIAAAQIECBAgQIAAAQIECBAgQIAAAQIECBBYIQEJ1BWCd1oCBAgQIECAAAECBAgQIECAAAECBAgQIECAAAECBCZPQAJ18u6JFREgQIAAAQIECBAgQIAAAQIECBAgQIAAAQIECBAgsEICEqgrBO+0BAgQIECAAAECBAgQIECAAAECBAgQIECAAAECBAhMnoAE6uTdEysiQIAAAQIECBAgQIAAAQIECBAgQIAAAQIECBAgQGCFBNau0HmdlgABAgQIECBAgAABAgRmXOCwU46Y8Svc8cs77tCjdnyymQQIECBAgAABAgQIECAwVgFvoI6V18EJECBAgAABAgQIECBAgAABAgQIECBAgAABAgQIEJgmAQnUabpb1kqAAAECBAgQIECAAAECBAgQIECAAAECBAgQIECAwFgFJFDHyuvgBAgQIECAAAECBAgQIECAAAECBAgQIECAAAECBAhMk4AE6jTdLWslQIAAAQIECBAgQIAAAQIECBAgQIAAAQIECBAgQGCsAhKoY+V1cAIECBAgQIAAAQIECBAgQIAAAQIECBAgQIAAAQIEpklAAnWa7pa1EiBAgAABAgQIECBAgAABAgQIECBAgAABAgQIECAwVgEJ1LHyOjgBAgQIECBAgAABAgQIECBAgAABAgQIECBAgAABAtMkIIE6TXfLWgkQIECAAAECBAgQIECAAAECBAgQIECAAAECBAgQGKuABOpYeR2cAAECBAgQIECAAAECBAgQIECAAAECBAgQIECAAIFpEpBAnaa7Za0ECBAgQIAAAQIECBAgQIAAAQIECBAgQIAAAQIECIxVQAJ1rLwOToAAAQIECBAgQIAAAQIECBAgQIAAAQIECBAgQIDANAlIoE7T3bJWAgQIECBAgAABAgQIECBAgAABAgQIECBAgAABAgTGKiCBOlZeBydAgAABAgQIECBAgAABAgQIECBAgAABAgQIECBAYJoE1k7TYq2VAAECBAgQIECAAAECBAgQIEBgtgSOP3LTbF3QLryaJz1n/S48mkONU+CwU44Y5+Gn/tjHHXrU1F+DCyBAgACB1SXgDdTVdb9dLQECBAgQIECAAAECBAgQIECAAAECBAgQIECAAAECiwhIoC6Co4sAAQIECBAgQIAAAQIECBAgQIAAAQIECBAgQIAAgdUlIIG6uu63qyVAgAABAgQIECBAgAABAgQIECBAgAABAgQIECBAYBEBCdRFcHQRIECAAAECBAgQIECAAAECBAgQIECAAAECBAgQILC6BCRQV9f9drUECBAgQIAAAQIECBAgQIAAAQIECBAgQIAAAQIECCwiIIG6CI4uAgQIECBAgAABAgQIECBAgAABAgQIECBAgAABAgRWl8Da1XW5rpYAAQIECBAgQIAAAQIECBAgsHSBw045YumDV9nI4w49apVdscslQIAAAQIECBBYLQISqKvlTrtOAgQIECBAgAABAgQIECBAgAABAgQITKmAf9Cy+I3zj1oW99FLgACB5Qr4CN/lihlPgAABAgQIECBAgAABAgQIECBAgAABAgQIECBAgMDMCkigzuytdWEECBAgQIAAAQIECBAgQIAAAQIECBAgQIAAAQIECCxXQAJ1uWLGEyBAgAABAgQIECBAgAABAgQIECBAgAABAgQIECAwswL+BurM3loXRoAAAQIECBAgQIAAAQIECBAgQIDA7hA4+PT7747TTO85Dp3epVs5AQIECKxOAW+grs777qoJECBAgAABAgQIECBAgAABAgQIECBAgAABAgQIEBgiIIE6BEUTAQIECBAgQIAAAQIECBAgQIAAAQIECBAgQIAAAQKrU0ACdXXed1dNgAABAgQIECBAgAABAgQIECBAgAABAgQIECBAgMAQAQnUISiaCBAgQIAAAQIECBAgQIAAAQIECBAgQIAAAQIECBBYnQISqKvzvrtqAgQIECBAgAABAgQIECBAgAABAgQIECBAgAABAgSGCEigDkHRRIAAAQIECBAgQIAAAQIECBAgQIAAAQIECBAgQIDA6hRYuzov21UTIECAAIGVETjrCRtW5sRDznrWkLaVbDrojSes5OmdmwABAgQIECBAgAABAgQIECBAgAABAgMBb6B6EAgQIECAAAECBAgQIECAAAECBAgQIECAAAECBAgQINAJeAPVo0CAAAECBAgQILAsgcNOOWJZ41fb4OMOPWq1XbLrJUCAAAECBAgQIECAAAECBAjMlIA3UGfqdrqYhQJbtmxZm3h64kuJSxPfSLwgsdfCscP2M+63Eu9JnJ/4ZeLsxJGJqy8cn7Z9Ei9NfD1R56pzHpZYs3CsfQIECBAgQIAAAQIECBAgQIAAAQIECBAgQIAAgckUkECdzPtiVbtO4Lgc6pjE+YljE99LvCTxT4lFSxKf98mATybul/hg4tWJOs6zEx9N/9VSD0q298zGOxPPT3w1Uee6LPGaxCsTCgECBAgQIECAAAECBAgQIECAAAECBAgQIECAwBQI+AjfKbhJlrhjAklqHpKZT0ycmHjkmjVr0jR4G/SE7D8m2w9I2weyPaq8Nh31jwzunnGn16Bu/uuy+ReJJycqOVvlUYn7J47O2GdVQ8a+INXJiWdk+81p/2K1KwQIrG6Bjxy4YXUDLHL1By3Sp4sAAQIECBAgsFICT33bOSt16sk/76GTv0QrJECAAAECBAgQILAjAt5A3RE1c6ZF4LBuoS9O8nJLbXf1c7NZ+0+otmElCc/bpv3WifdmzultTDe/3mCtUm+mtlLnujzx8taQsfUGar2RWh/h+/jWriZAgAABAgQIECBAgAABAgQIECBAgAABAgQIEJhcAW+gTu69sbKdF7hXDnFeEpln9A+V/e8nQXpW2u7db1+wfVH266N6583txvyiq/etOsfaO9VdE5/LsX9cbb1SydefJRY7V2+4TQIECBAgQIAAAQIECBAgQIAAAQIECBAgQIAAgZUUkEBdSX3nHptAl9S8SU5w2oiTbE77rTJu/yQ9z104Jm3fTdtRC9u7/Yd09Zld/Rup63vp7G5/rspxrsg5vpMGn0w5p2KDAAECBAgQIECAAAEC0yPgTzCMvlf+Q3e0jR4CBAgQIECAAIHpFpBAne77Z/WjBa7TdV04YshPuvZrpt4mgTpiTr1teoP0tY/wfX037rpdvdi5Klm7NgnV+pjfZZf9999v2XNMWF0Cs/yMzPK1ra6ndPtXO8v3epavbft3dvWNcL/Hf89n1XhWr2v8T8R0nmGW7/csX9t0Pm3jW7V7PT7bdmTGTWK8Nefx+tbRGTPeUQHPzo7KmUeAwM4K+BuoOyto/qQK7NUtrH3c7sJ1tvarLewYtZ8EaCVbT0pUEvXVSYa2v426y881ag3aCRAgQIAAAQIECBAgQIAAAQIECBAgQIAAAQIExivgDdTx+jr6yglc2p36qiOWUH+3tMpPt1aLf03ydP+MODlx58QHEs9MtLKUc23J4PpbqDtUzj334h2aZ9LqEZjFZ6T9C8NZvLbV82Qu70pn8V57jpf3DMzK6Fl8lift3syasZ8Vk/aE7Z71zNpzXGqe5d3z7EzSWWbxOZ4k31oL491zRziP35kx4+UK+P8VyxUzngCBXS0ggbqrRR1vUgTqI3qvTNRbo8NKa28f5TtszKAtydNbZOODiarfl3jkgo/i/XHaqrRjbt371ddqvyRzaj0KAQIECBAgQIAAAQIECBAgQIAAAQIEJlLgsFOOmMh1TcKijjv0qElYhjUQILCbBHyE726CdprdK5Bk5S9zxm8lDhhx5mo/N+MuGNE/aE7y9I7Z+GSikqdvTjwsc9rH/2Z3UDbna51vm3Nl/p5pv2niqwmFAAECBAgQIECAAAECBAgQIECAAAECBAgQIEBgwgW8gTrhN8jydkrg45n96CQxD0rS86x2pOz/erYPSry/tQ2rM+7AtH8oUR/fe0zib3Kc+ijeeSVtl2fsaWm8a+r9st//vN27pn2fxKnzJtkhQIAAAQIECBAgQIDALhA4/shNu+Aos3mIJz1n/WxemKsiQIAAAQIECBAgQGDsAt5AHTuxE6ygwFu6c788ic3Bs556Tdpe0bW/ftTauvH/lP5Knh6bpOgzhyVPe/PrXPV3VV/c2nKMvbL90m7/Da1dTYAAAQIECBAgQIAAAQIECBAgQIAAAQIECBAgMLkC3kCd3HtjZTspkITnh5PEfHsO86jEqdn+aOpDEvdMnJg4KTEo6dtYG5kzqLP54MRdEvVxvZe0/mz3yw8z/h+6hjelfmzi6Rl7+9SfSdw3cYfE0Rn3xdQKAQIECBAgQIAAAQIECBAgQIAAAQIECBAgQIDAhAtIoE74DbK8nRZ4dI5wZmJD4mmJbydemDgqSc3+x/G+KG1VNg6+7rHHvbq63ip9Xre9sPp8GgYJ1BzriiROK2Fab6A+MnGPxNmJwxPHJxQCBAgQIECAAAECBAgQIECAAAECBAgQIECAAIEpEJBAnYKbZIk7LpDE5mWZXR+j2z5Kd+jBMq4+2neuZLeSrRVLLplTf/v0GV0seZ6BBAgQIECAAAECBAgQIECAAAECBAgQIECAAAECkyMggTo598JKCBAgQIAAgV0gcNgpR+yCo8zuIY479KjZvThXRoAAAQIECBAgQIAAAQIECBAgQGAXCEig7gJEhyBAgAABAgQIECBAgAABAgQIECBAgAABAtMucPDp95/2Sxjf+g8d36EdmQCByRO4yuQtyYoIECBAgAABAgQIECBAgAABAgQIECBAgAABAgQIECCwMgLeQF0Zd2clQIDARAr46NPRt8XHno620UOAAAECBAgQIECAAAECBAgQIECAAIFZEvAG6izdTddCgAABAgQIECBAgAABAgQIECBAgAABAgQIECBAgMBOCXgDdaf4TCZAgAABAgQIECBAYFoFfPLC6DvnkxdG2+ghQIAAAQIECBAgQIAAgdkXkECd/XvsCgkQIECAAAECBAgQIECAAAECBAgQIDDVAgeffv+pXv/YF3/o2M/gBAQIEFhVAj7Cd1XdbhdLgAABAgQIECBAgAABAgQIECBAgAABAgQIECBAgMBiAhKoi+noI0CAAAECBAgQIECAAAECBAgQIECAAAECBAgQIEBgVQn4CN9VdbtdLAECBAgQIEBg5wV8dNZ2DH101naAdBMgQIAAAQIECBAgQIAAAQIEJlvAG6iTfX+sjgABAgQIECBAgAABAgQIECBAgAABAgQIECBAgACB3SgggbobsZ2KAAECBAgQIECAAAECBAgQIECAAAECBAgQIECAAIHJFpBAnez7Y3UECBAgQIAAAQIECBAgQIAAAQIECBAgQIAAAQIECOxGAQnU3YjtVAQIECBAgAABAgQIECBAgAABAgQIECBAgAABAgQITLaABOpk3x+rI0CAAAECBAgQIECAAAECBAgQIECAAAECBAgQIEBgNwpIoO5GbKciQIAAAQIECBAgQIAAAQIECBAgQIAAAQIECBAgQGCyBSRQJ/v+WB0BAgQIECBAgAABAgQIECBAgAABAgQIECBAgAABArtRQAJ1N2I7FQECBAgQIECAAAECBAgQIECAAAECBAgQIECAAAECky0ggTrZ98fqCBAgQIAAAQIECBAgQIAAAQIECBAgQIAAAQIECBDYjQISqLsR26kIECBAgAABAgQIECBAgAABAgQIECBAgAABAgQIEJhsAQnUyb4/VkeAAAECBAgQIECAAAECBAgQIECAAAECBAgQIECAwG4UkEDdjdhORYAAAQIECBAgQIAAAQIECBAgQIAAAQIECBAgQIDAZAtIoE72/bE6AgQIECBAgAABAgQIECBAgAABAgQIECBAgAABAgR2o4AE6m7EdioCBAgQIECAAAECBAgQIECAAAECBAgQIECAAAECBCZbQAJ1su+P1REgQIAAAQIECBAgQIAAAQIECBAgQIAAAQIECBAgsBsFJFB3I7ZTESBAgAABAgQIECBAgAABAgQIECBAgAABAgQIECAw2QISqJN9f6yOAAECBAgQIECAAAECBAgQIECAAAECBAgQIECAAIHdKCCBuhuxnYoAAQIECBAgQIAAAQIECBAgQIAAAQIECBAgQIAAgckWkECd7PtjdQQIECBAgAABAgQIECBAgAABAgQIECBAgAABAgQI7EYBCdTdiO1UBAgQIECAAAECBAgQIECAAAECBAgQIECAAAECBAhMtsDayV6e1REgQIAAAQIElifw1Leds7wJq230oavtgl0vAQIECBAgQIAAAQIECBAgQIAAgeUJeAN1eV5GEyBAgAABAgQIECBAgAABAgQIECBAgAABAgQIECAwwwISqDN8c10aAQIECBAgQIAAAQIECBAgQIAAAQIECBAgQIAAAQLLE5BAXZ6X0QQIECBAgAABAgQIECBAgAABAgQIECBAgAABAgQIzLCABOoM31yXRoAAAQIECBAgQIAAAQIECBAgQIAAAQIECBAgQIDA8gQkUJfnZTQBAgQIECBAgAABAgQIECBAgAABAgQIECBAgAABAjMssHaGr82lESBAgAABAqtQ4CMHbliFV730Sz5o6UONJECAAAECBAgQIECAAAECBAgQILAqBbyBuipvu4smQIAAAQIECBAgQIAAAQIECBAgQIAAAQIECBAgQGCYgATqMBVtBAgQIECAAAECBAgQIECAAAECBAgQIECAAAECBAisSgEJ1FV52100AQIECBAgQIAAAQIECBAgQIAAAQIECBAgQIAAAQLDBCRQh6loI0CAAAECBAgQIECAAAECBAgQIECAAAECBAgQIEBgVQpIoK7K2+6iCRAgQIAAAQL/n707AZOsqu8GnJFhVRaRUUCi4oJixC1IElSIu1HcF9yDUUkibqhxR0ENmmg07sSoIJjEBY27RvnEqAQ04ooGUQFxFwQVFUV0vt+/pk5Z09M9W1fV3Nv91vP8+py73/ue29W37qmqJkCAAAECBAgQIECAAAECBAgQIECAwHwCOlDnUzGOAAECBAgQIECAAAECBAgQIECAAAECBAgQIECAAIFlKaADdVk2u4MmQIAAAQIECBAgQIAAAQIECBAgQIAAAQIECBAgQGA+AR2o86kYR4AAAQIECBAgQIAAAQIECBAgQIAAAQIECBAgQIDAshTQgbosm91BEyBAgAABAgQIECBAgAABAgQIECBAgAABAgQIECAwn4AO1PlUjCNAgAABAgQIECBAgAABAgQIECBAgAABAgQIECBAYFkK6EBdls3uoAkQIECAAAECBAgQIECAAAECBAgQIECAAAECBAgQmE9AB+p8KsYRIECAAAECBAgQIECAAAECBAgQIECAAAECBAgQILAsBXSgLstmd9AECBAgQIAAAQIECBAgQIAAAQIECBAgQIAAAQIECMwnoAN1PhXjCBAgQIAAAQIECBAgQIAAAQIECBAgQIAAAQIECBBYlgI6UJdlsztoAgQIECBAgAABAgQIECBAgAABAgQIECBAgAABAgTmE9CBOp+KcQQIECBAgAABAgQIECBAgAABAgQIECBAgAABAgQILEsBHajLstkdNAECBAgQIECAAAECBAgQIECAAAECBAgQIECAAAEC8wnoQJ1PxTgCBAgQIECAAAECBAgQIECAAAECBAgQIECAAAECBJalgA7UZdnsDpoAAQIECBAgQIAAAQIECBAgQIAAAQIECBAgQIAAgfkEdKDOp2IcAQIECBAgQIAAAQIECBAgQIAAAQIECBAgQIAAAQLLUkAH6rJsdgdNgAABAgQIECBAgAABAgQIECBAgAABAgQIECBAgMB8AjpQ51MxjgABAgQIECBAgAABAgQIECBAgAABAgQIECBAgACBZSmgA3VZNruDJkCAAAECBAgQIECAAAECBAgQIECAAAECBAgQIEBgPgEdqPOpGEeAAAECBAgQIECAAAECBAgQIECAAAECBAgQIECAwLIU0IG6LJvdQRMgQIAAAQIECBAgQIAAAQIECBAgQIAAAQIECBAgMJ+ADtT5VIwjQIAAAQIECBAgQIAAAQIECBAgQIAAAQIECBAgQGBZCuhAXZbN7qAJECBAgAABAgQIECBAgAABAgQIECBAgAABAgQIEJhPQAfqfCrGESBAgAABAgQIECBAgAABAgQIECBAgAABAgQIECCwLAV0oC7LZnfQBAgQIECAAAECBAgQIECAAAECBAgQIECAAAECBAjMJ6ADdT4V45aMwOrVq1cmRyZfTS5Lzk2OSrbe1IPMMock9bj5fMtm/EmDqfP/ePF8yxhHgAABAgQIECBAgAABAgQIECBAgAABAgQIECDQLYGV3dode0Ng4gKvyRoPTz6VvDe5dfL85GbJ/ZONeqRPdN/MePwGZq51/jA5bp75avseBAgQIECAAAECBAgQIECAAAECBAgQIECAAAECHRfQgdrxBrJ7my+QTs8Ds3R1np6cPHDFihX12dAVqZ+QPCL1QzLu/amv95H5bpcZ3pbsttCMmac+0Xqj5P1Z59ELzWc8AQIECBAgQIAAAQIECBAgQIAAAQIECBAgQIBAtwV8hW+328feLU7giOHix1TnadWH5TNTreFH17iFHukU3T55Q6afktTvyucWmjfj6xOq1Yn6pfXMYxIBAgQIECBAgAABAgQIECBAgAABAgQIECBAgEDHBXSgdryB7N6iBA7K0hel0/Ss8bVk+HsZPic5eHz8PPVrZNyjkg8k9fW8X04Wetx0OEEH6kJCxhMgQIAAAQIECBAgQIAAAQIECBAgQIAAAQIEeiCgA7UHjWQXN10gnxzdNkvtlXxzgaXPz/hdMt+qBabX6EuS26TD9Z7Jd9czX01qHag3zDpPSy5NfpQcn+y5gWVNJkCAAAECBAgQIECAAAECBAgQIECAAAECBAgQ6IiADtSONITdmLjArsM1/mSBNf90OH7nBabX1/3+NDltoelzxrcO1KMy/rzk9Ul9yvWw5DPpRK3OXA8CBAgQIECAAAECBAgQIECAAAECBAgQIECAAIGOC6zs+P7ZPQKbK1D/j7Qev15TrPOzjd9unSmbN+KyLPb15D7pdP1KW0U6Tp+d+guTVyb3beM3tVy1asdNXcT8y0zAOTL9BmfMePoCs9mCc3n6zowZT19g+ltwHjOevsD0t+A8Zjx9gelvwXk8fePaAufpOzNmPH2B6W/BeTx9Y1sg0CUBHahdag37MkmB6tCsxzZrinV+1lf81uMXa4rF/Uyn6X0WWMOLMr7+j+o90pl6lcz38wXmM5oAAQIECBAgQIAAAQIECBAgQIAAAQIECBAgQKADAjpQO9AIdmEqAvUVvb9LFvqK3ja+fZXvVHYiHaa/S8fpF7PyvZP6Gt+zN2dDF1546eYsZpllJOAcmX5jM2Y8fYHZbMG5PH1nxoynLzD9LTiPGU9fYPpbcB4znr7A9LfgPJ6+cW2B8/SdGTOevsD0t+A8nr6xLRDokoAO1C61hn2ZmEA6Li9Px+W3ssLquJzvUeMvzHwXzzdxU8ZlOztk/vofqJdlfdVZOvex/XDEr+ZOMEyAAAECBAgQIECAAAECBAgQIECAAAECBAgQINAtgSt1a3fsDYGJCnwqa9s9HZz7jK81w3tmuMadMT5+EfXds+zpyUlz1zHsXL1lxl+YVIeuBwECBAgQIECAAAECBAgQIECAAAECBAgQIECAQIcFdKB2uHHs2qIFThyu4dh0ZA7O9ZQrMq7+L2k9Xr+mWNzPfOr03Kzhc8l+Wf9D29qG23pxhlclr8t8q9s0JQECBAgQIECAAAECBAgQIECAAAECBAgQIECAQDcFfIVvN9vFXk1AIB2Wp6QT821Z1aHJ6amfmvLA5LbJyckHksEj046uSpYZlFXfxMfhmf/jyUlZ1/1Snp/UdvZPPpEcm3gQIECAAAECBAgQIECAAAECBAgQIECAAAECBAh0XMAnUDveQHZv0QIPzxqem+yWPCmpr9ut4YfN+UTo8zKuslmPrOvMLHirpDpmD0qOSHZKalt3zvRfp/QgQIAAAQIECBAgQIAAAQIECBAgQIAAAQIECBDouIBPoHa8geze4gTScfmbrOEFwyy4ssxXX+273kdmOSwzVOZ9ZPrZmfDAeScaSYAAAQIECBAgQIAAAQIECBAgQIAAAQIECBAg0AsBn0DtRTPZSQIECBAgQIAAAQIECBAgQIAAAQIECBAgQIAAAQIEZiGgA3UWyrZBgAABAgQIECBAgAABAgQIECBAgAABAgQIECBAgEAvBHSg9qKZ7CQBAgQIECBAgAABAgQIECBAgAABAgQIECBAgAABArMQ0IE6C2XbIECAAAECBAgQIECAAAECBAgQIECAAAECBAgQIECgFwI6UHvRTHaSAAECBAgQIECAAAECBAgQIECAAAECBAgQIECAAIFZCOhAnYWybRAgQIAAAQIECBAgQIAAAQIECBAgQIAAAQIECBAg0AsBHai9aCY7SYAAAQIECBAgQIAAAQIECBAgQIAAAQIECBAgQIDALAR0oM5C2TYIECBAgAABAgQIECBAgAABAgQIECBAgAABAgQIEOiFgA7UXjSTnSRAgAABAgQIECBAgAABAgQIECBAgAABAgQIECBAYBYCOlBnoWwbBAgQIECAAAECBAgQIECAAAECBAgQIECAAAECBAj0QkAHai+ayU4SIECAAAECBAgQIECAAAECBAgQIECAAAECBAgQIDALAR2os1C2DQIECBAgQIAAAQIECBAgQIAAAQIECBAgQIAAAQIEeiGgA7UXzWQnCRAgQIAAAQIECBAgQIAAAQIECBAgQIAAAQIECBCYhYAO1Fko2wYBAgQIECBAgAABAgQIECBAgAABAgQIECBAgAABAr0Q0IHai2aykwQIECBAgAABAgQIECBAgAABAgQIECBAgAABAgQIzEJAB+oslG2DAAECBAgQIECAAAECBAgQIECAAAECBAgQIECAAIFeCOhA7UUz2UkCBAgQIECAAAECBAgQIECAAAECBAgQIECAAAECBGYhoAN1Fsq2QYAAAQIECBAgQIAAAQIECBAgQIAAAQIECBAgQIBALwR0oPaimewkAQIECBAgQIAAAQIECBAgQIAAAQIECBAgQIAAAQKzENCBOgtl2yBAgAABAgQIECBAgAABAgQIECBAgAABAgQIECBAoBcCOlB70Ux2kgABAgQIECBAgAABAgQIECBAgAABAgQIECBAgACBWQjoQJ2Fsm0QIECAAAECBAgQIECAAAECBAgQIECAAAECBAgQINALAR2ovWgmO0mAAAECBAgQIECAAAECBAgQIECAAAECBAgQIECAwCwEdKDOQtk2CBAgQIAAAQIECBAgQIAAAQIECBAgQIAAAQIECBDohYAO1F40k50kQIAAAQIECBAgQIAAAQIECBAgQIAAAQIECBAgQGAWAjpQZ6FsGwQIECBAgAABAgQIECBAgAABAgQIECBAgAABAgQI9EJAB2ovmslOEiBAgAABAgQIECBAgAABAgQIECBAgAABAgQIECAwCwEdqLNQtg0CBAgQIECAAAECBAgQIECAAAECBAgQIECAAAECBHohsLIXe2knCRAgQIAAAQIECBAgMGGBm3zmbhNe4xJa3e2X0LE4FAIECBAgQIAAAQIECBAgsIkCPoG6iWBmJ0CAAAECBAgQIECAAAECBAgQIECAAAECBAgQIEBg6QroQF26bevICBAgQIAAAQIECBAgQIAAAQIECBAgQIAAAQIECBDYRAEdqJsIZnYCBAgQIECAAAECBAgQIECAAAECBAgQIECAAAECBJaugP+BunTb1pERIECAAAECBAgQIEBgiwr4P7Pr4fd/ZteDYxIBAgQIECBAgAABAgS2rIBPoG5Zf1snQIAAAQIECBAgQIAAAQIECBAgQIAAAQIECBAgQKBDAjpQO9QYdoUAAQIECBAgQIAAAQIECBAgQIAAAQIECBAgQIAAgS0roAN1y/rbOgECBAgQIECAAAECBAgQIECAAAECBAgQIECAAAECHRLwP1A71Bh2hQABAltawP8pW08L+D9l68ExiQABAgQIECBAgAABAgQIECBAgAABAktHwCdQl05bOhICBAgQIECAAAECBAgQIECAAAECBAgQIECAAAECBBYpoAN1kYAWJ0CAAAECBAgQIECAAAECBAgQIECAAAECBAgQIEBg6QjoQF06belICBAgQIAAAQIECBAgQIAAAQIECBAgQIAAAQIECBBYpIAO1EUCWpwAAQIECBAgQIAAAQIECBAgQIAAAQIECBAgQIAAgaUjoAN16bSlIyFAgAABAgQIECBAgAABAgQIECBAgAABAgQIECBAYJECOlAXCWhxAgQIECBAgAABAgQIECBAgAABAgQIECBAgAABAgSWjoAO1KXTlo6EAAECBAgQIECAAAECBAgQIECAAAECBAgQIECAAIFFCuhAXSSgxQkQIECAAAECBAgQIECAAAECBAgQIECAAAECBAgQWDoCOlCXTls6EgIECBAgQIAAAQIECBAgQIAAAQIECBAgQIAAAQIEFimgA3WRgBYnQIAAAQIECBAgQIAAAQIECBAgQIAAAQIECBAgQGDpCOhAXTpt6UgIECBAgAABAgQIECBAgAABAgQIECBAgAABAgQIEFikgA7URQJanAABAgQIECBAgAABAgQIECBAgAABAgQIECBAgACBpSOgA3XptKUjIUCAAAECBAgQIECAAAECBAgQIECAAAECBAgQIEBgkQI6UBcJaHECBAgQIECAAAECBAgQIECAAAECBAgQIECAAAECBJaOgA7UpdOWjoQAAQIECBAgQIAAAQIECBAgQIAAAQIECBAgQIAAgUUK6EBdJKDFCRAgQIAAAQIECBAgQIAAAQIECBAgQIAAAQIECBBYOgI6UJdOWzoSAgQIECBAgAABAgQIECBAgAABAgQIECBAgAABAgQWKaADdZGAFidAgAABAgQIECBAgAABAgQIECBAgAABAgQIECBAYOkI6EBdOm3pSAgQIECAAAECBAgQIECAAAECBAgQIECAAAECBAgQWKSADtRFAlqcAAECBAgQIECAAAECBAgQIECAAAECBAgQIECAAIGlI6ADdem0pSMhQIAAAQIECBAgQIAAAQIECBAgQIAAAQIECBAgQGCRAjpQFwlocQIECBAgQIAAAQIECBAgQIAAAQIECBAgQIAAAQIElo6ADtSl05aOhAABAgQIECBAgAABAgQIECBAgAABAgQIECBAgACBRQroQF0koMUJECBAgAABAgQIECBAgAABAgQIECBAgAABAgQIEFg6AjpQl05bOhICBAgQIECAAAECBAgQIECAAAECBAgQIECAAAECBBYpoAN1kYAWJ0CAAAECBAgQIECAAAECBAgQIECAAAECBAgQIEBg6QjoQF06belICBAgQIAAAQIECBAgQIAAAQIECBAgQIAAAQIECBBYpIAO1EUCWpwAAQIECBAgQIAAAQIECBAgQIAAAQIECBAgQIAAgaUjoAN16bSlIyFAgAABAgQIECBAgAABAgQIECBAgAABAgQIECBAYJECOlAXCWhxAgQIECBAgAABAgQIECBAgAABAgQIECBAgAABAgSWjoAO1KXTlo5kHoHVq1evTI5MvppclpybHJVsPc/s6x2VZQ5J6nHz+WbM+B2SFyTfSGpbtc0jkhXzzW8cAQIECBAgQIAAAQIECBAgQIAAAQIECBAgQIBA9wR0oHavTezRZAVek9W9LPlx8orku8nzk/9INvqRTtB9M/PxCy2Q6Vtl2juS5yRfS2pbv0lenbwk8SBAgAABAgQIECBAgAABAgQIECBAgAABAgQIEOiBgA7UHjSSXdw8gXRqHpglD09OTg5asWLFM6pMTkzul+mHpNzgI/PdLjP9d7LbemY+NNPulrw027n7cFv7Z/hjyZOzjv1SehAgQIAAAQIECBAgQIAAAQIECBAgQIAAAQIECHRcQAdqxxvI7i1K4Ijh0sekQ3N11YflM1Ot4UfXuIUe6fTcPnlDpp+S1O/K5xaaN+NrW1ckx7Z5sq36BGp9IrW+wvdRbbySAAECBAgQIECAAAECBAgQIECAAAECBAgQIECguwI6ULvbNvZs8QL1adOL0pF51viqMvy9DJ+THDw+fp76NTKuOj4/kNws+XKyziOdrNtm5AHJF7LuS+bM8JkM/zLZ0LbmLGaQAAECBAgQIECAAAECBAgQIECAAAECBAgQIEBgSwjoQN0S6rY5dYFhp+Ze2dA3F9jY+Rm/S+ZbtcD0Gl2dobdJp+g9k/rfqQs9rp0JK5N1tpXlfpvx3072STwIECBAgAABAgQIECBAgAABAgQIECBAgAABAgQ6LlCdPh4ElqLArsOD+skCB/fT4fidU1443zzp/Kx5Tptv2pxxVxsOr29bN0xn7cqss77md5Mfq1btuMnLWGB5CThHpt/ejBlPX2A2W3AuT9+ZMePpC0x/C85jxtMXmP4WnMeMpy8w/S04j6dvXFvgPH1nxoynLzD9LTiPp29sCwS6JOATqF1qDfsySYGthyv79QIrbeO3W2D6poye5bY2Zb/MS4AAAQIECBAgQIAAAQIECBAgQIAAAQIECBAgsIkCPoG6iWBm743AZcM93WaBPa7/W1qPX6wpFvVzY7a1Oluo/4W6WY8LL7x0s5az0PIRcI5Mv60ZM56+wGy24FyevjNjxtMXmP4WnMeMpy8w/S04jxlPX2D6W3AeT9+4tsB5+s6MGU9fYPpbcB5P39gWCHRJwCdQu9Qa9mWSAvX1u79L6it653u08e2rfOebZ2PH1f9KrUdb55qh3/+s8T/P1/fW/ngQIECAAAECBAgQIECAAAECBAgQIECAAAECBAh0WEAHaocbx65tvkA6Ky/P0t9K9l5gLTX+wsx38QLTN2X0+Zm5trfOtvJ/T7fK+D9MvpZ4ECBAgAABAgQIECBAgAABAgQIECBAgAABAgQIdFxAB2rHG8juLUrgU1l693Ri7jO+lgzvmeEad8b4+M2tpxP2iiz76eQWWfeOc9ZzQIZ3SE6fM94gAQIECBAgQIAAAQIECBAgQIAAAQIECBAgQIBABwV0oHawUezSxAROHK7p2HRsDs71lCsy7kXD8a+f2Jb+4A9qW/V/VY9p68y2tk79BcPhf23jlQQIECBAgAABAgQIECBAgAABAgQIECBAgAABAt0VWNndXbNnBBYnkE+GnpJOzLdlLYcmp6d+asoDk9smJycfSAaPTDu6KllmUFZ9Ex/HZ/5HJkdmXfulPDO5a3Kz5KVZ75dTehAgQIAAAQIECBAgQIAAAQIECBAgQIAAAQIECHRcwCdQO95Adm/RAg/PGp6b7JY8Kdl9OPywdGquTr09npdKZbMeWddvs2B1mL482Td5YlJvUHhc8vTEgwABAgQIECBAgAABAgQIECBAgAABAgQIECBAoAcCPoHag0ayi5svkI7N32Tp+hrd9lW6864s89VX+673kVkOywyVeR+ZfmkmPHmYeecxkgABAgQIECBAgAABAgQIECBAgAABAgQIECBAoNsCPoHa7faxdwQIECBAgAABAgQIECBAgAABAgQIECBAgAABAgQIzFBAB+oMsW2KAAECBAgQIECAAAECBAgQIECAAAECBAgQIECAAIFuC+hA7Xb72DsCBAgQIECAAAECBAgQIECAAAECBAgQIECAAAECBGYooAN1htg2RYAAAQIECBAgQIAAAQIECBAgQIAAAQIECBAgQIBAtwV0oHa7fewdAQIECBAgQIAAAQIECBAgQIAAAQIECBAgQIAAAQIzFNCBOkNsmyJAgAABAgQIECBAgAABAgQIECBAgAABAgQIECBAoNsCOlC73T72jgABAgQIECBAgAABAgQIECBAgAABAgQIECBAgACBGQroQJ0htk0RIECAAAECBAgQIECAAAECBAgQIECAAAECBAgQINBtAR2o3W4fe0eAAAECBAgQIECAAAECBAgQIECAAAECBAgQIECAwAwFdKDOENumCBAgQIAAAQIECBAgQIAAAQIECBAgQIAAAQIECBDotoAO1G63j70jQIAAAQIECBAgQIAAAQIECBAgQIAAAQIECBAgQGCGAjpQZ4htUwQIECBAgAABAgQIECBAgAABAgQIECBAgAABAgQIdFtAB2q328feESBAgAABAgQIECBAgAABAgQIECBAgAABAgQIECAwQwEdqDPEtikCBAgQIECAAAECBAgQIECAAAECBAgQIECAAAECBLotoAO12+1j7wgQIECAAAECBAgQIECAAAECBAgQIECAAAECBAgQmKGADtQZYtsUAQIECBAgQIAAAQIECBAgQIAAAQIECBAgQIAAAQLdFtCB2u32sXcECBAgQIAAAQIECBAgQIAAAQIECBAgQIAAAQIECMxQQAfqDLFtigABAgQIECBAgAABAgQIECBAgAABAgQIECBAgACBbgvoQO12+9g7AgQIECBAgAABAgQIECBAgAABAgQIECBAgAABAgRmKKADdYbYNkWAAAECBAgQIECAAAECBAgQIECAAAECBAgQIECAQLcFdKB2u33sHQECBAgQIECAAAECBAgQIECAAAECBAgQIECAAAECMxTQgTpDbJsiQIAAAQIECBAgQIAAAQIECBAgQIAAAQIECBAgQKDbAjpQu90+9o4AAQIECBAgQIAAAQIECBAgQIAAAQIECBAgQIAAgRkK6ECdIbZNESBAgAABAgQIECBAgAABAgQIECBAgAABAgQIECDQbQEdqN1uH3tHgAABAgQIECBAgAABAgQIECBAgAABAgQIECBAgMAMBXSgzhDbpggQIECAAAECBAgQIECAAAECBAgQIECAAAECBAgQ6LaADtRut4+9I0CAAAECBAgQIECAAAECBAgQIECAAAECBAgQIEBghgI6UGeIbVMECBAgQIAAAQIECBAgQIAAAQIECBAgQIAAAQIECHRbQAdqt9vH3hEgQIAAAQIECBAgQIAAAQIECBAgQIAAAQIECBAgMEMBHagzxLYpAgQIECBAgAABAgQIECBAgAABAgQIECBAgAABAgS6LaADtdvtY+8IECBAgAABAgQIECBAgAABAgQIECBAgAABAgQIEJihgA7UGWLbFAECBAgQIECAAAECBAgQIECAAAECBAgQIECAAAEC3RbQgdrt9rF3BAgQIECAAAECBAgQIECAAAECBAgQIECAAAECBAjMUEAH6gyxbYoAAQIECBAgQIAAAQIECBAgQIAAAQIECBAgQIAAgW4L6EDtdvvYOwIECBAgQIAAAQIECBAgQIAAAQIECBAgQIAAAQIEZiigA3WG2DZFgAABAgQIECBAgAABAgQIECBAgAABAgQIECBAgEC3BXSgdrt97B0BAgQIECBAgAABAgQIECBAgAABAgQIECBAgAABAjMU0IE6Q2ybIkCAAAECBAgQIECAAAECBAgQIECAAAECBAgQIECg2wI6ULvdPvaOAAECBAgQIECAAAECBAgQIECAAAECBAgQIECAAIEZCuhAnSG2TREgQIAAAQIECBAgQIAAAQIECBAgQIAAAQIECBAg0G0BHajdbh97R4AAAQIECBAgQIAAAQIECBAgQIAAAQIECBAgQIDADAV0oM4Q26YIECBAgAABAgQIECBAgAABAgQIECBAgAABAgQIEOi2gA7UbrePvSNAgAABAgQIECBAgAABAgQIECBAgAABAgQIECBAYIYCOlBniG1TBAgQIECAAAECBAgQIECAAAECBAgQIECAAAECBAh0W0AHarfbx94RIECAAAECBAgQIECAAAECBAgQIECAAAECBAgQIDBDAR2oM8S2KQIECBAgQIAAAQIECBAgQIAAAQIECBAgQIAAAQIEui2gA7Xb7WPvCBAgQIAAAQIECBAgQIAAAQIECBAgQIAAAQIECBCYoYAO1Bli2xQBAgQIECBAgAABAgQIECBAgAABAgQIECBAgAABAt0W0IHa7faxdwQIECBAgAABAgQIECBAgAABAgQIECBAgAABAgQIzFBAB+oMsW2KAAECBAgQIECAAAECBAgQIECAAAECBAgQIECAAIFuC+hA7Xb72DsCBAgQIECAAAECBAgQIECAAAECBAgQIECAAAECBGYooAN1htg2RYAAAQIECBAgQIAAAQIECBAgQIAAAQIECBAgQIBAtwV0oHa7fewdAQIECBAgQIAAAQIECBAgQIAAAQIECBAgQIAAAQIzFNCBOkNsmyJAgAABAgQIECBAgAABAgQIECBAgAABAgQIECBAoNsCOlC73T72jgABAgQIECBAgAABAgQIECBAgAABAgQIECBAgACBGQroQJ0htk0RIECAAAECBAgQIECAAAECBAgQIECAAAECBAgQINBtAR2o3W4fe0eAAAECBAgQIECAAAECBAgQIECAAAECBAgQIECAwAwFdKDOENumCBAgQIAAAQIECBAgQIAAAQIECBAgQIAAAQIECBDotoAO1G63j70jQIAAAQIECBAgQIAAAQIECBAgQIAAAQIECBAgQGCGAjpQZ4htUwQIECBAgAABAgQIECBAgAABAgQIECBAgAABAgQIdFtAB2q328feESBAgAABAgQIECBAgAABAgQIECBAgAABAgQIECAwQwEdqDPEtikCBAgQIECAAAECBAgQIECAAAECBAgQIECAAAECBLotoAO12+1j7wgQIECAAAECBAgQIECAAAECBAgQIECAAAECBAgQmKGADtQZYtsUAQIECBAgQIAAAQIECBAgQIAAAQIECBAgQIAAAQLdFtCB2u32sXcECBAgQIAAAQIECBAgQIAAAQIECBAgQIAAAQIECMxQQAfqDLFtigABAgQIECBAgAABAgQIECBAgAABAgQIECBAgACBbgvoQO12+9i7RQqsXr16ZXJk8tXksuTc5Khk641ZdebbNXl1cn7yy+TM5ND5ls34k5KFHi+ebxnjCBAgQIAAAQIECBAgQIAAAQIECBAgQIAAAQIEuiWwslu7Y28ITFzgNVnj4cmnkvcmt06en9wsuX+y4CM9oVfOxI8mN0/ekVyQ3C95a6atWrFixatTH3/UOn+YHDc+cliv7XsQIECAAAECBAgQIECAAAECBAgQIECAAAECBAh0XEAHascbyO5tvkA6OQ/M0tV5enLywHR41qdDV6R+QvKI1A/JuPenvtDjiZlwy+Rxma86Yv8gy7wgxenJP6T+9oz/0XB8faL1Rsn7M+7oGudBgAABAgQIECBAgAABAgQIECBAgAABAgQIECDQPwFf4du/NrPHGy9wxHDWY9Kpubrqw/KZqdbwo2vceh6PzbS1PlGa5S/NuL9PdkgekrTHvqlUJ+qX2gglAQIECBAgQIAAAQIECBAgQIAAAQIECBAgQIBA/wR0oPavzezxxgsclFkvSqfnWeOLZPh7GT4nOXh8/Hg9ny69XoavmXwy8/92fFrqpw6Hx5e/6XCcDtQ5WAYJECBAgAABAgQIECBAgAABAgQIECBAgAABAn0S0IHap9ayrxstkA7QbTPzXsk3F1jo/IzfJfOtWmB6daDWY53l06H6g4z/VbJPzTB8tA7UG2adpyWXJj9Kjk/2bDMpCRAgQIAAAQIECBAgQIAAAQIECBAgQIAAAQIEui2gA7Xb7WPvNl9g1+GiP1lgFT8djt95gelX28DyP8v08WVbB+pRGX9e8vqkPuV6WPKZdKJWZ64HAQIECBAgQIAAAQIECBAgQIAAAQIECBAgQIBAxwVWdnz/7B6BzRWo/0daj1+vKdb52cZvt86UNSM2Zvn6P6jtcVkqX0/uk0+ofqWNTMfps1N/YfKkUAaAAABAAElEQVTK5L5t/KaWq1btuKmLmH+ZCThHpt/gjBlPX2A2W3AuT9+ZMePpC0x/C85jxtMXmP4WnMeMpy8w/S04j6dvXFvgPH1nxoynLzD9LTiPp29sCwS6JKADtUutYV8mKVAdmvXYZk2xzs/6it96/GJNsc7PjVl+tGw6Te+zzhrWjHhRikcl90hn6lUy388XmM9oAgQIECBAgAABAgQIECBAgAABAgQIECBAgACBDgjoQO1AI9iFqQjUV/T+Lhn/mt3xDbXx7at8x6dV/ZLhiDbf3Ok7ZcQP546cO5wO09+l4/SLGb93Ul/je/bceTZm+MILL92Y2cyzjAWcI9NvfMaMpy8wmy04l6fvzJjx9AWmvwXnMePpC0x/C85jxtMXmP4WnMfTN64tcJ6+M2PG0xeY/hacx9M3tgUCXRLQgdql1rAvExNIx+Xl6bj8VlZYHZfzPWr8hZnv4vkmZlz9/9J6rLN81rtHxtdX/36tZshwfZVv/Q/Uy7K+6iyd+9h+OOJXcycYJkCAAAECBAgQIECAAAECBAgQIECAAAECBAgQ6JbAlbq1O/aGwEQFPpW17Z4Ozn3G15rhPTNc484YHz9eT0foBRmu3Cbzz/09+fPhvKcPy91TVv2k4fCoGHau3jIjLkyqQ9eDAAECBAgQIECAAAECBAgQIECAAAECBAgQIECgwwJzO4Y6vKt2jcAmC5w4XOLY1gmackXG1f8lrcfr1xQL/qwO0fra3ce1ObL8jqk/O6n/kTroME1n67mpfy7ZL9MfmnLwGG7rxRlYlbwu861eM8VPAgQIECBAgAABAgQIECBAgAABAgQIECBAgACBrgr4Ct+utoz9WrRAOixPSSfm27KiQ5PTUz815YHJbZOTkw8kg0emHV2VLDMoq57HPyYPTF6R6Qen/GZyv+S6yeMzb32qtD0OT+XjyUmZt+Y5P6nt7J98Ijk28SBAgAABAgQIECBAgAABAgQIECBAgAABAgQIEOi4gE+gdryB7N6iBR6eNTw32S15UlJft1vDD5vzidDnZVxl9Mj0n2WgOkHfNCyPSPmT5MGZ9uqUo0eGz8zArZLqmD0oqXl3Smpbd870X6f0IECAAAECBAgQIECAAAECBAgQIECAAAECBAgQ6LiAT6B2vIHs3uIE0nH5m6zhBcMsuLLMV1/tu84jo3+YkY9aZ8I8IzLv2Rldn1j1IECAAAECBAgQIECAAAECBAgQIECAAAECBAgQ6KmAT6D2tOHsNgECBAgQIECAAAECBAgQIECAAAECBAgQIECAAAECkxfQgTp5U2skQIAAAQIECBAgQIAAAQIECBAgQIAAAQIECBAgQKCnAjpQe9pwdpsAAQIECBAgQIAAAQIECBAgQIAAAQIECBAgQIAAgckL6ECdvKk1EiBAgAABAgQIECBAgAABAgQIECBAgAABAgQIECDQUwEdqD1tOLtNgAABAgQIECBAgAABAgQIECBAgAABAgQIECBAgMDkBXSgTt7UGgkQIECAAAECBAgQIECAAAECBAgQIECAAAECBAgQ6KmADtSeNpzdJkCAAAECBAgQIECAAAECBAgQIECAAAECBAgQIEBg8gI6UCdvao0ECBAgQIAAAQIECBAgQIAAAQIECBAgQIAAAQIECPRUQAdqTxvObhMgQIAAAQIECBAgQIAAAQIECBAgQIAAAQIECBAgMHkBHaiTN7VGAgQIECBAgAABAgQIECBAgAABAgQIECBAgAABAgR6KqADtacNZ7cJECBAgAABAgQIECBAgAABAgQIECBAgAABAgQIEJi8gA7UyZtaIwECBAgQIECAAAECBAgQIECAAAECBAgQIECAAAECPRXQgdrThrPbBAgQIECAAAECBAgQIECAAAECBAgQIECAAAECBAhMXkAH6uRNrZEAAQIECBAgQIAAAQIECBAgQIAAAQIECBAgQIAAgZ4K6EDtacPZbQIECBAgQIAAAQIECBAgQIAAAQIECBAgQIAAAQIEJi+gA3XyptZIgAABAgQIECBAgAABAgQIECBAgAABAgQIECBAgEBPBXSg9rTh7DYBAgQIECBAgAABAgQIECBAgAABAgQIECBAgAABApMX0IE6eVNrJECAAAECBAgQIECAAAECBAgQIECAAAECBAgQIECgpwI6UHvacHabAAECBAgQIECAAAECBAgQIECAAAECBAgQIECAAIHJC+hAnbypNRIgQIAAAQIECBAgQIAAAQIECBAgQIAAAQIECBAg0FMBHag9bTi7TYAAAQIECBAgQIAAAQIECBAgQIAAAQIECBAgQIDA5AV0oE7e1BoJECBAgAABAgQIECBAgAABAgQIECBAgAABAgQIEOipgA7Unjac3SZAgAABAgQIECBAgAABAgQIECBAgAABAgQIECBAYPICOlAnb2qNBAgQIECAAAECBAgQIECAAAECBAgQIECAAAECBAj0VEAHak8bzm4TIECAAAECBAgQIECAAAECBAgQIECAAAECBAgQIDB5AR2okze1RgIECBAgQIAAAQIECBAgQIAAAQIECBAgQIAAAQIEeiqgA7WnDWe3CRAgQIAAAQIECBAgQIAAAQIECBAgQIAAAQIECBCYvIAO1MmbWiMBAgQIECBAgAABAgQIECBAgAABAgQIECBAgAABAj0V0IHa04az2wQIECBAgAABAgQIECBAgAABAgQIECBAgAABAgQITF5AB+rkTa2RAAECBAgQIECAAAECBAgQIECAAAECBAgQIECAAIGeCuhA7WnD2W0CBAgQIECAAAECBAgQIECAAAECBAgQIECAAAECBCYvoAN18qbWSIAAAQIECBAgQIAAAQIECBAgQIAAAQIECBAgQIBATwV0oPa04ew2AQIECBAgQIAAAQIECBAgQIAAAQIECBAgQIAAAQKTF9CBOnlTayRAgAABAgQIECBAgAABAgQIECBAgAABAgQIECBAoKcCOlB72nB2mwABAgQIECBAgAABAgQIECBAgAABAgQIECBAgACByQvoQJ28qTUSIECAAAECBAgQIECAAAECBAgQIECAAAECBAgQINBTAR2oPW04u02AAAECBAgQIECAAAECBAgQIECAAAECBAgQIECAwOQFdKBO3tQaCRAgQIAAAQIECBAgQIAAAQIECBAgQIAAAQIECBDoqYAO1J42nN0mQIAAAQIECBAgQIAAAQIECBAgQIAAAQIECBAgQGDyAjpQJ29qjQQIECBAgAABAgQIECBAgAABAgQIECBAgAABAgQI9FRAB2pPG85uEyBAgAABAgQIECBAgAABAgQIECBAgAABAgQIECAweQEdqJM3tUYCBAgQIECAAAECBAgQIECAAAECBAgQIECAAAECBHoqoAO1pw1ntwkQIECAAAECBAgQIECAAAECBAgQIECAAAECBAgQmLyADtTJm1ojAQIECBAgQIAAAQIECBAgQIAAAQIECBAgQIAAAQI9FdCB2tOGs9sECBAgQIAAAQIECBAgQIAAAQIECBAgQIAAAQIECExeQAfq5E2tkQABAgQIECBAgAABAgQIECBAgAABAgQIECBAgACBngroQO1pw9ltAgQIECBAgAABAgQIECBAgAABAgQIECBAgAABAgQmL6ADdfKm1kiAAAECBAgQIECAAAECBAgQIECAAAECBAgQIECAQE8FdKD2tOHsNgECBAgQIECAAAECBAgQIECAAAECBAgQIECAAAECkxfQgTp5U2skQIAAAQIECBAgQIAAAQIECBAgQIAAAQIECBAgQKCnAjpQe9pwdpsAAQIECBAgQIAAAQIECBAgQIAAAQIECBAgQIAAgckL6ECdvKk1EiBAgAABAgQIECBAgAABAgQIECBAgAABAgQIECDQUwEdqD1tOLtNgAABAgQIECBAgAABAgQIECBAgAABAgQIECBAgMDkBXSgTt7UGgkQIECAAAECBAgQIECAAAECBAgQIECAAAECBAgQ6KmADtSeNpzdJkCAAAECBAgQIECAAAECBAgQIECAAAECBAgQIEBg8gI6UCdvao0ECBAgQIAAAQIECBAgQIAAAQIECBAgQIAAAQIECPRUQAdqTxvObhMgQIAAAQIECBAgQIAAAQIECBAgQIAAAQIECBAgMHkBHaiTN7VGAgQIECBAgAABAgQIECBAgAABAgQIECBAgAABAgR6KqADtacNZ7cJECBAgAABAgQIECBAgAABAgQIECBAgAABAgQIEJi8gA7UyZtaIwECBAgQIECAAAECBAgQIECAAAECBAgQIECAAAECPRXQgdrThrPbBAgQIECAAAECBAgQIECAAAECBAgQIECAAAECBAhMXkAH6uRNrZEAAQIECBAgQIAAAQIECBAgQIAAAQIECBAgQIAAgZ4K6EDtacPZbQIECBAgQIAAAQIECBAgQIAAAQIECBAgQIAAAQIEJi+gA3XyptZIgAABAgQIECBAgAABAgQIECBAgAABAgQIECBAgEBPBXSg9rTh7DYBAgQIECBAgAABAgQIECBAgAABAgQIECBAgAABApMX0IE6eVNrJECAAAECBAgQIECAAAECBAgQIECAAAECBAgQIECgpwI6UHvacHabAAECBAgQIECAAAECBAgQIECAAAECBAgQIECAAIHJC+hAnbypNXZIYPXq1SuTI5OvJpcl5yZHJVtvzG5mvl2TVyfnJ79MzkwOnW/ZjN8heUHyjaS2Vds8Ilkx3/zGESBAgAABAgQIECBAgAABAgQIECBAgAABAgQIdE9AB2r32sQeTVbgNVndy5IfJ69Ivps8P/mPZL2PdHxeOTN8NPnb5Izk1ckuyVsz7XEpR48Mb5WBdyTPSb6W1LZ+k9QyL0k8CBAgQIAAAQIECBAgQIAAAQIECBAgQIAAAQIEeiCgA7UHjWQXN08gnZoHZsnDk5OTg1asWPGMKpMTk/tl+iEp1/d4YibeMnlCln1Q8rTUb558JfmHLH/1lO1Rn0q9W/LSzHf34bb2z/DHkidn3v1SehAgQIAAAQIECBAgQIAAAQIECBAgQIAAAQIECHRcQAdqxxvI7i1K4Ijh0sekQ3N11YflM1Ot4UfXuPU8HptpP0yOa/Nk+UtT//tkh+QhbXzK2tYVybFtXOatT6DWJ1LrK3wf1cYrCRAgQIAAAQIECBAgQIAAAQIECBAgQIAAAQIEuiugA7W7bWPPFi9Qnza9KB2ZZ42vKsPfy/A5ycHj48fr+cTo9TJ8zeSTmf+349NSP3U4PFg+826b4QOSL2TeS4bTWvGZVH6ZLLitNqOSAAECBAgQIECAAAECBAgQIECAAAECBAgQIEBgywvoQN3ybWAPpiAw7NTcK6v+5gKrPz/jd8l8qxaYXh2o9Vhn+XSS/iDjf5XsUzPkce1kZTLfvNX5+u2kzZuqBwECBAgQIECAAAECBAgQIECAAAECBAgQIECAQFcFqtPHg8BSFNh1eFA/WeDgfjocv3PKC+eZ52rDcQst/7NMr2XrsaF5a1s3TGftynS+1tf8bvJj1aodN3kZCywvAefI9NubMePpC8xmC87l6TszZjx9gelvwXnMePoC09+C85jx9AWmvwXn8fSNawucp+/MmPH0Baa/Befx9I1tgQABAgSmLJDOymsl9XjPfJvK+BMHU1evvskC0x8xnH7kAtMvyPSLalrKg4bzvmKBeT8xnH6V+aYbR4AAAQIECBAgQIAAAQIECBAgQIAAAQIECBAg0B0BX+HbnbawJ5MVuGy4um0WWG3939J6/GJNsc7PjVm+Lbsx867OFup/oXoQIECAAAECBAgQIECAAAECBAgQIECAAAECBAh0WEAHaocbx64tSqC+Nvd3Sfua3bkra+NrvvkelwxHtvnmzrNTRrRlNzRvrePn+fre2h8PAgQIECBAgAABAgQIECBAgAABAgQIECBAgACBDgvoQO1w49i1zRdIZ+XlWfpbyd4LrKXGX5j5Ll5g+jnD8essn6/j3SPTtku+Npzn/JS1vfnm3Srj/zBp86bqQYAAAQIECBAgQIAAAQIECBAgQIAAAQIECBAg0FUBHahdbRn7NQmBT2Ulu6fDc5/xlWV4zwzXuDPGx4/X07F6QYYrt8n8c39P/nw47+lVZt4rUnw6uUXm3bHGjT0OSH2HZDDv2HhVAgQIECBAgAABAgQIECBAgAABAgQIECBAgAABAgQIzE4gnZl3TOpxcjLoBE25InlzUo9D1rc3mf7CwVyrVz+hzZfhHZOzkl8mq8bGPzrD9XjZ2LitM3zKYOzq1fu18UoCBAgQIECAAAECBAgQIECAAAECBAgQIECAAAECBAhsEYF0Xr512IH56ZQvTj4xHH5HyhVtp1I/utKGq8zwTsk5ST3emfxj8s0ayONxc+bdKuNOG0xZvfqjKWtbXxgOv2R8XnUCBAgQIECAAAECBAgQIECAAAECBAgQIECAAAECBAhsEYF0YNanQI9KquPzV0l1iNbwtuM7lOHBY3xc1TPyGskbkx8lv0jOTB40d77hvPXp1Jcl30kuS+qTqkckc78CeL7FjSNAgAABAgQIECBAgAABAgQIECBAgAABAgQIECBAgAABAgQIECBAgAABAgQIECBAgAABAgQIECBAgAABAgQIECBAgAABAgQIECBAgAABAgQIECBAgAABAgQIECBAgAABAgQIECBAgAABAgQIECBAgAABAgQIECBAgAABAgQIECBAgAABAgQIECBAgAABAgQIECBAgAABAgQIECBAgAABAgQIECBAgAABAgQIECBAgAABAgQIECBAgAABAgQIECBAgAABAgQIECBAgAABAgQIECBAgAABAgQIECBAgAABAgQIECBAgAABAgQIECCwJQVWr159pS25fdsmQIAAAQIECBAgQIDAXIG8Tlkxd5xhAgQIECBAgAABAgQIECBAgMBUBXJD4sC2ATcnmoSSAAECBAgsTiB/U7de3BosTYAAgeUtkOfRHZOrlUJKb/Zc3qeDoydAgAABAgQIECBAgAABArMTyI2Ipye/S541u63a0oYE3CDakJDpBAgQ6LZAnseflvxNskO399TeESBAoJsCef7cPbko+UoyeENKSp9E7WZz2SsCBAgQIECAAAEC/RPIC4yt+rfX9pgAgVkJ5DniNsmvkl8nD6ztpnRjYlYNMLaduF8juW8bpR2axOxL9rM339AW0yY+dbIhJNM7I5Dz9ZbJT5JvJ3dPBtfjKf197Uwr2RECBLoukOfM+vTpB5J6s+ebu76/9o8AAQIECBAgQIAAgZ4K5AVHvQP+Bj3dfbu9jAVy3g5umqdcUWkUrd7KNl658QKxa7aHpl43Ji5M/rTW0KZt/NrMuViBmN8lOSd5UFtX6tu0unL2AvFfNfut2uJcgbTD6M1gqV9v7nTDBLomkPN0u+Svkh8kn0lu3bV93JL7E4/R9dyW3A/bJrAlBfwerF8/Pu2NJ3un/t9JvVZ57vqXMpUAAQIECBAgQIDAEhPIRfC8nSJL7DC36OHE+LDhC4671I6kProRuUV3zMYXJbBQO2b8krgplePYvwGlPvofYqnvkfxhctM2vcoML4njHj+maddjtlXSOlHbV/nWV2Rde2jqE1/TboSx9cf9fkndHPrf5IDkRck9E+0w5jSratwfnnwy0Yk9K/R5thP/0XN76vU78blk9PdhnkWWxag5Lp4jOtTqrW1S7po8O6lveahPUN2kQ7u5xXYlDoPf6ZR1PXf1LbYjy2DDzXruoS40fu58hmcjkPa4R/KQ2pq2Wdu8eaT80+TspK6TH8ZqbadNGYpf65he6z5cW0emj6672jglAQIECBAgQIDAFhLIxdnohk/q9SL6WsktkpVtl1J3AdcwNrOM4Y2SHyf/upmrsFjHBNKW478j9aL7Xsk9O7abm707OZbnJfUC+fHjK8nww5KzkvpExxXJu5JHtHlS93zRMDZQjlulvnuyZ/LZpNxPSbatVaQcPU9vYJUmT0Ag3o9Pqg0uGZbVqbrdBFZtFZsgEPNtkn8atsHgU9mbsLhZJyQQ/9EbvlJ/xLA9Tki5z4Q20YvV5HhHzwGp1w3PdvNzcC2QYc/XHWrJtMeVKrVLKa+THJvU8/qrkr07tKtT35Uc7x2Saw4tRtdoGXfnpL7e+I+nvhPLdAOxHX/+rH8RUG8+rPPxysuUpDOHnTYYfx1X90C+lfws8S0w62ml+Nw3qf+Henky+FR/Sq9T1mM2PilWd0uuUuNSjt4cmPrNkvo2osOTeuNP+/s1es4eX486AQIECBAgQIDAjATahVltLvXqFPli0m4Yn5n682e0K0tmMzGb9yI346+anJb8MPHu9563eNpw0M4pVybvSeqm3G+H5UtTjj6t2ddDzTHcfng8F6e8Rx1HytaxVM8VJyTvT+oFdB3/UX091i2937GrF8z11b3nJ79Ifp6U6RvavqU+73NLm66cnECsbzr0r3P7jGTvWntKN4gmx7xRa4r5PZP6XaiO1N4/r27UQXdwptjXjf/qePrX5J3Jbh3czantUo73AckbkmvVRlK2ztMbp/6WpK4D6tONfzS1nbDijRZIO4z+XqZ+x+Qfk/okez2X/DJ5TrIszuEc5xFJHfcLk3bTvnX6vzfj6tpj52RkttHQZlyvQExH1wypPzb5cnLpMF9IWR1RV6uVpBzNu96VmjgRgXiPd2wfmeG/S6oD9bKk2mmv2lDKZd0uOf7R80Lqo2uw1J+QXJF8N/GNORt5Vg7d6vn49eOLZPhvkp8lZVrT67XHvZN2rTFqh/Hl1AkQIECAAAECBGYokIuzZyZ1sfaJpDp/jkrOTQYXeCl3nOHu9GpTsRm8sEq5VTK6uE19/B2F7eL3kRlfpveug0w5evHWq4NexjubNhtv4+0yXDdNf5QcnzwtqRff1cYvSEYvNPtGln1v5/UjhsfzjZT7J29I/isZvQkg9dsk30/quAefRE05curbsU9rf2My7w2GjL9HUp2mH0kenOyb1Ivmc5MyPWZa+2S9awvEekWybfLk5PSkPmldbVCfXBo8p6dc1jfT1habzFBMy32t54xx59TrzUefa+NSrjXvZPbCWtYnEPPqwK7fhd8kr2vzpr7k2yLHuFPysWTwfJxycE2c8l5JPXfX+OqEqvI7ycHJkndp50CXy7RD3ZSudvlS8r6k3vRVb1D6afLXyZL/FGCOsa7dqrOuztHqTB2dm6nX9dxXk8Gnp7vcln3et/i+JKnz8GNJXU/UtfR5SX2K72XJrn0+vr7ue9x3SKpN6uu9q9P088m5ye+SDyfL9rovxz66Lkt9+2rjlDuPt3WG640pZVWdfW2e0fPL+LzqawTitEtyQVJuz6yxKetNtHUO1jn31OT45CfJWcm92BEgQIAAAQIECHRAIBdmf5xU50d9omC8U+SQDNcLu7rAu1sHdrVzuxCX+hqmo+fuWMZVB3TdbBz8f8iUgxcTKW+QVAfbR+YuY7hfAmnD3ZM/S85P6l3LO9QRpDwo+Z+kfm8O79dR/X5vs+/1hoDWiVqdwXU8dXPh18nftjlTb59iqOeL+gRu3aC7cZuuHJwT28fk68nZyR5lknL05onUX5nUzdyDxr0yfOPkzKReVB82Pk19cgKxHbVFW2vG7ZpcK7l2Uu1WbXDk2HQ3iBrGBMsY3zCpG5rtb2a7efnMjKvnoMH/JpvgJq1qAwIxb38Hrp76u4btcErKq25g0SU1Ocd70+TTST1XPzHZPfloUm98uUeyTfL3ySVJ3fT0lahb+AxIG9TzybeTenPo6P/1pl4d3/+b/CC5T9KuY5bk83qOrzpCbpfUJ8XOSx7Qmib105NPt2Hl5ATi2v6O3Tn1S5MTkhu2LaT+8KR9g8sd2njl9AXiXr8TV0qq87qu756S7FRbTrlH8uGkrjlOaHuT+pJ8fmjHN16OH2vqByXvTuo1YL1BqL6Fon0r0ZVTPzEpq7e1daS+bKzaMa+vjMe2yfjXRdfru3o9fUXyoKSuHU5NblTrSblz8pjk58mnktuub/2mESBAgAABAgQITEEgF2FrfXomw49N6sL3Lm1zqd8+ec9w/BE1PvVrDMu1lm/LLMdy6FR2r23Hn3rdjKmbbDX++0m9q7D936GVqb83qRtwt2rLKPslkLY7OKmbHnUz+RvJWp/QznB1Jp6T1A2T3r35IPs8euGbevvU5BtTr3O6jql9gnrr1MfnfeFwnkFH0/i0frXw5Pc2FnWjvfz+Ixl8Mjll3XCvTzGfPczAM/W6qdM6Leq5uN6FXBl0sLZpk9/Lpb/G2F0lGX3FZurjNzTulOH7JbdKRp9KSv3WSfn/MHnQ0lfaMkcY279I6nek3oAyepNG7U2GD0jqZtO/JGs972yZvV26W43vOm8oaEebaTdJqsOl2ulZbfxSLXOM+yTtK0/refngpDrkvpYcm9SnT+/Xjj/1HZPnJHVDvjqZr9umKWcvEP97JnWuPqy2nnJwvZKy3iB2YPL1pD6ZevDs9262W8wx1uuPhya/TD6T3H5oUq9XTk3mXsd6rTehJortMclvk0Hnaco6/+p64+NJnZ8PHrbFnhPapNVshEDcqx2+kHw+Gfx/65TtzRT1Jrp3J9U+z9mI1S3JWXLsj0qqk6+eK/8r+VBSJnU+/2UddMq9ko8mNf7YJQmxyIOKy0HJWm8AzHDdKyizeuNxfW3008c3k+FdkrqeKOt3JqPXLuPzqRMgQIAAAQIECExYIBde4x0dN8pw69Srm0C/Sdr/YLl/6vViosYdWruR8kXJ+5NdJrxbvVtdDEY3GVK/YfKtpC6An53UC4hXJDslz0guSMrx1OQvhpa3Tb0uhgc3iFO6SdGzsyBtdr3kE0m1e3WqDP6PVsrxzph60XlRcl5yi74cYvZ1dD6m/pCkXtQdMzx360ZbHfOb2/GkPngX93D6tTJcN5SPb9OXexmLUWdE6p9Nyu+l4y4ZfmtS58rgE10pR20wdD0q42q5uml/g+G4teYZX5/6/AKxqxtiZfid5PptrtTrHfR1Y6iMK5ckxyXjv88PHE77Ssrb17Ipx8/90d/Xtl7l+gXKb3yODN8yeXlSnwqrdnhbUp3Z7Q0HJ6f+vaR9SmSt5cfXpb55ArEdP+cflOHHJXVt86fJ4Non5R2Sc5Nqo/vUllIuubbIMa1K3pBUR8fo5nrq9Xex/s7V38azmnTq7dPS10j9VUn5nJBcvc2jnK1A7P9q2A4PbVvO8OBcTbnNcPrlKf8z6c11WjuWTS1zjNsnT0vq3Ky/eX+WnJHUp5xem9S5ve+mrtf8awRiN7ouS31w7ZeyOq7rGq+uK+rbFep646HJ2Um9IXHwydOU9Tr7BclWyZJ7Pu3iORLnqyYXJ++q/UvZnsNb29WnBKtzq35fBs8hKZdN2+RYD0zqeqzu/xzY2jD1JyZ1b6Ncbj202z/1Lw/HPXI4btlYNZv5ypjUm6/ek5yXDN5UnbLdc3tS6uVYOWzoNjgPh/U9Mv51w+n1HL3XcDzbgvAgQIAAAQIECExaIBdc4y/qDh1eiP17bSf1endbXbg9OXlkUjeXv5/crO1H6nXxXC+wl/X/aMnxPzw5K7lWMjBNuW9SL4KvSH6W3C1p0/ZL/aVJ+Van6YuTQ5L65OIXk0GHSXNWdk8gbbTOi5Qal9wiOT2ptn1GMpgvZbvZXy+YnpX8OqnO1ut07+jW3qPs4/jzRL3ztW4cnJq0T5xePfV6MV3n8uidtKm3Y64Oqp8m7641pxx1Hq69peU1FIdBp0TKurH+w6TOmSc0hdSfPxz38rFxdf4013pO+UlSz8FfS7Zv8yk3XiBudfPyNUnd+HlfUh0kOycfSb6bvD6pzqKvJtVGrxlfe4afNhx/SspbJ3dN/G+icaSNrMdtreeGDI8/99w0w/Vu+18m9ftSbVY3netNKfW3dq136W/kJs22AYG4tr9h9Tz+yaSeby5P6neh/o59KGmdqA9Ova53qiNx8FW1KUdtuIFN9WJyjqf+xtdx/2+yZ3KTZPDNISmPTMqlcud2QKk3w31Sf/twej2/j9541+ZVTkYgtgued5lWHf/VRi9LBv9mYXyrGVftVNc0Nc9xyQ3Gp/e5nmNZ6zm2HUvG75a8KqljfmvSrulquFLXcG9J6hyva5bBJ7Db8srfC8SmvbFirdcJGV+vpcc/mf7CDNdrxNsmf538OPlGsnetLeU1k68n304GbxD6/VbUFisQ04V+F66WaWcmdd+jfctWew4fPK9kfF0T1u9FXYssq2+ByfG2v3N3b22QcTdL3piUyctqfMr2WuXeqdc5XNPu2JZZrmUM2jlU9wwen9T1VF1H/VNSb6BoX9fbno/rtcfggwopx9/MdoMMvzep663nJsv6XtxyPZ8cNwECBAgQIDADgVxojV7YpV4vnM9LPpoMXtylvH5SN8p+lNQNy7pZtPP4rmW45q8b+KvGxy+neo59ZfKS5J3J6H88pt5u0Pwm9bq5e/NySTm6qZP6PZJ/T+pFxVeSs4blnw/nHbVRDXtseYG0T73gaS9+6pMK2yd1Y3lwEy7lVsmdk7r5dG5y37bXqbcOs+qceXlS7X5SMu+L+LZcV8rsZ52rr07OTP5sfL8yfEBSx/N/yV3nTHt4xlXn6lPGx6v/vjM5Ns2vXgg/oGxS1nlSNx3qefgxc70y7olJnWcfS06aO93whgXi1n6X90j9zUmdw/W7uX/yveTxSfu9vWbq5yU1zzPb2lOvTu36vajxlwzLN6UcvVu8zatcWCBerS3q5mW1wduSelPRHyXb1pIpd0tul3whKe+PJ09K6vfkhKSef0d/YxfemimbIhDT6ij8bFI3lJ+Z1O9HdWh/OKl2qL8J7UbzU4fjqiOgjVsybZJjqvPz6OSy5LSkjv9/km2SmvbipMadnLSOkNHxZ1xdG56a1E3TJyeDm8yb0h7mXb9ATEfXVKnfMKlz9cBku6SeI7ZO/iup1y93amtLffzmdLXtBUm15eiTqm3ePpZzjq/Ow1slt2zHkvq1kncndcyVY5K6Nnl68uWkXgvW+IuTes2ye1tWueZ6Lib/ljw2Gfz9T9n+rtV1cNmNdzrdN8PVgVp/v+oa+SPJWm+Ey/DXk3p+GfwN5DwZgXgOniNS1mv42yYHJ4NP8dUWUn9FUu1Vz+ft+qOeO9py7e9cvcavv43XHC635F+351j/PflRa4nU75SckpTXU4cO1cn6orF56jrtomTwydQ2frmVOf6Tkqe140592+SopOzqOeCTyXXGpn9wOO1NY+PG/079caZ/cTjPsrZtPkoCBAgQIECAwNQEctFVF3N147FeHN+ubSj1uin8nKQu6r6d3KBNqzLD1flXnatvHh+/nOo59sELpZQ7JoMXT0ObrTJ84+R1yVuSMjwrudpw+lovhDP+8OTjSc1XOWo5OfblWNMuoxfGqdeLlv9M6iZS3VSuGxx3SwbvAE15WPKr5Ixk9H+0Um8vvq+X+j8na/1edcki+zZ+vLfI8HlJvcC7MBl8nVvKep5ox/TQ1Ov8rU7Av0numFQHVD23/CAZvImgS8e4JfYlDuOu5ddusD0k9fL7VjJ4IZyybkzUDZrqmHtM0ua9Q+rVaVHP3YNPO2yJY1kK24xfex6vjrq6qV5t8KXkq+34Um+fKKkbzj9Pap7B/ycbm+f1GVe/76MbHW2acuMEYvcnSV1vlO+lw7JuTlan6fjvze4Zrt+Hmvf8pOav553r1pZSjubduC2ba30C8aznpl8nT0lGHX6p1/N7a6vxa6B28/nU8fnXt40+TcsxXTlp3zTxzdTHv3lhrwy/I6m/lf+QzPfJkXtkfP0dfUOfjrsP+xrTwd/I2tfUX5ycl1THX/0drefnwbc8pLxn8tPk/5IDk9EbXlKvafX8U9fmow6vPhz/QvuY42jXaStSf1NS1xSXJfUJuvY/C+t6ZL/k40n9Xr+yrS/1qyX7Jy9MvpA8o01TrhGIye2Tep6sc2qt8ybD7bly/Fucdsj4DyRlPbreqLVleGXysOSK5NjhOH/X1lBP5Gdc63XYmUPjaoO61nj00LreGHt2Ur8fjxnfYIa3S96bnJy8Nqll/z4ZPfeMz9/Heo6lXRePjinj2psJj0u9zvO7JndP6v5Gvd4dnPMpq1OwXM9PRm+8T33wt7CPHpPY5xx/vX6oc+XcZPyT6P8xHF+/629ORp/uT3375Jyklnte24/U2/P5Vqn/RXJYm6YkQIAAAQIECBCYgkAuuK6TnJrUjZ5Ku2nfLpz3ybjjk7pwe39S75atjsEnJ/WOt+8ng2WmsHu9XGU8Tkrqpk3dpBi88Eh5fFKGH24HlfroHYQ1LsN7JX+d1E2Nuri+dptXueUE0g7r3LDIuEOTevH4veTU5LSkfn/qZtxLk8EnslMelVS7vyf5ozqKlHVetN+vVg5eCG25o1x4y9nXQaf/cN8fnOG6cVbHXudqezE9Msq4ZyV1zHVj7vLk88lXE52na9q/veitG5V1Lqz1tWwZPiYpv08n1xm6PyD11plUlnVj4qKkjO9d83hsnkD85j4PV6d/vRmi2uAbyfgnEtrz+f2H03+ccq2/fxke/N/j2pvU11r35u3h8lkqXrdL6rz+TPLYpK4/npHUef6+ZPA1qeMiGbdH8i/Jl5Jqs2PGp6tvukAM1zpvM1zPVdUhWOf74MZeymsmz07qeanaa8ekbkbftraY8qrJu5Jqk0du+l50b4kcx8gl9UOSumH87eSK5O+SK7e9Tn3f5PSkfJ6SDDqdU46vY8n/b83mMesyznXOvjWpNqrzsNrn2KTaq87JV9c+pXx68pOkblDX9OogfFJyRnJusqT+72eO5xpJXZP9IvlkcnxSHpU7DU22Sf22yTeT7yUPndt+GTd+Ho+u/+bOt9yG43Ll5K+SOqc+lYz/f8g6v8r9BkPngWGG90mqA6ra4OVJdYZcK6m/fXW9V+0weP2w3Dwndbzxa9duo9daGXejoW35vjl5Q/LbpP7ODa6rU94juTj5WXJ0Un/3bprUdXq15ZOGbfn11D8+qf3d0uvJsYw7jeptvzL9AUmdr2cm9UagC5LRN3DVfBmu64K6R1TXBqNO2LaO5VrG4qHJb5LPJgclWyfPT6oD/n+Sut59ZjL4Vquh5Q0yXOdbmY+up1Jv57Xn4OV6QjluAgQIECBAYLoCueBa60Irw3XT8oNJXZjVC7xdxvcgw3+YHJfU9Ja6KXF2cvPxeZd7PR63TL6T1A21hyXtBfJVUv9YUn6vG3fK8Nz2ODLjavnb1HwpvfAYB5tRPe6jGx/jm6zxSb0orJtPd6hpKbdK7plUR2q1Xb3Q3iapdm+/O69LfdAZk3KtNh9ff5fq2c+6kVPH+qi2X6k/Prko+UZy07HxoxfZGf+mpM71OuevlyzLT0jmuEf/yzj1FZXySnndpM6HjyR1g+zVyXzvRn53xg9uyqes5+kXJjV/3Zirm8Ojr95r7aDcdIE41g2Mu7QlU6/n7q8k1flxz7Hxo9/bjH9aUud4ddzt3eZpZcZ53m4YGyhjVb8bOyUnJ19LBjfya7HUD0nqZnRZn5hcv60u9fb3dYfU905q2VPadOXiBGJZN0kHz2Epy/5Hya5JXRO+Kqk2eWdtJeXKpJ6X6qZp+xaGuun3sMXtRbeWzvHUcd54WNbf/Acl9Xe/nisOS9pX+V8p9Vsn5ybfTR7ejiT1wXk7Njz629nGKRcnEOP7Jr9O/jHZs60t9Yckdd5Wrp/sktQN7epAbeOr/FZyu7bcUihzPFdLPpCcmzwqab/bT0y9jrlu0LfOve1Tr9//Oq8/l4yek8siw+1aZvQ3cSkYTeIYYlPORyXVSVJ/0wafOE352qSup8fPx8HvfsYdkHwwGT8H67XEF5N1ri8msZ/LYR2xqze7rfP8mnH1+uxOSf1NG3SWlkfqf5VUG5yXDK6vU94l+UHSfkfqd6Lq70u2Hi73odR/nNTfx15f+2X/R16pH56clNTf9jclhybt64zfmXo5nJdcc/x8ynDZXpwcNz5efXStVM8PZffhZPD7nXKHZL+k7q39MHnUuFeGy7SWqXN28Hyc0vPvOJI6AQIECBAgQGASArnIGl0Q1/rmXnRl+D7JV5N6kVA3hda6wTNc5q4ZX5179c64v0xGXzEyiX3s2zpy/HXTd3DxmnL0lbyp14utryf14uF2SXuHYN3grQvjugAe/P+LlHWTYvD/blK2FyV1c/LnyT/1zWQp7G+1Q/KVpG50DP5/2/hxZVz9DlyejF501/QM1w3TmyRfTr6TtBc41069OsKq3f8hGbzgHl9nV+vZ17o5XPtdnUTteMrnBUnd3PlYskfb/9RHzxupVwfrCW3acitz7M9KPpGs9TyZ4TsnP03qd7yecy9Iyvi3yTHNKfXTh+Nf08ZVmXHtBv3o6wbHp6tvWCCGo+fumjvDpyV18+u+benU66Zyddz9X3KjsfGjv6UZ/9qk2u4/EzcyGtJGlPEaPVfU7Bm+TlJt8Kq2eOo3TP49OSOpG5T1O/KSZHSzLvVRW6b+d0m1xzqfVG3rVG6cQAxfPLS8bi2R+suGw69MWed7Ob+4rS316lj83+TcZKtkrd+HGtfm7VNZx9GOJWX9ja9jPCv543Ycqd8vqWu+byd1nTw4t1NunVRHXj2PfC65V1tGOTmBuLZr7NE5l3HHJdUhePXaUsq61q6O0mqH+tt7QFLnbPsfvdWRWn+b/zK5ZzJYbnJ7ueXXlGO6ZVLn4gvb3qS+W3JC0q5Dzkm9vSbZMfXWuXpm6tdvyynXLxCreh3Xrg+qLMtXJL9MDk7W+d+xGbdncpfkpUldPz4i6c3rhfWLzH5q7N6S1HPAWm+GzfDzksuT9ydvaXuW+uBvVMqjk/r7Vtcdg2+CSrlf8vDk7ck/J48dW65+r+q5f7SuNq3PZY7nHUm9zvtW8tWkXreUy4l1XCn/JPl0cklyVLJ3cuWk/h6emlRH3+iNiX22mMS+x2JlW0/qOyX1vFC+b0oG17Qp6/X13ZOLkrpfNHoDZy2b4erQrja4OLlOW5+SAAECBAgQIEBgQgK5yBrduEq9OkRel5ya1EXbYbWZlHVj6JFJXbR9IfnTtvnURxd9bdxyL2MyuGFTDqnfPjkp+e/kw8m9krqR++OkLoD/KBnc2El5m6TG1wXwk5Ojk+OS8Q7YeqH2s+SVy915Sx1/7I9I6oXKjm0fUh90WKX8SFI34P6wpqUcv2m3IsMPTC5LXtGmp36L5DNJ715MZp/rPK3z9ePJ4BOnKa+R/EtS409Ixp0GN3wybll+6nTY5s/L8ZfNe5Ib1rh6pF43Wr6b1Llwn+G4XVP/i6Ru9NQyRwzH143NmrfGPbXG1SN1N9TWUGzWz/iNP3ffLMMHJP+W/DKp3+1bD53rhvuxSfnX+NENz9RHfxNTr+fva23WzizzheJWN5H+fOh9YOpl/aqkOp7q96JuONfvxcOSaqvPJ3UT76lJ+5r0unZpNz7rb2/dkHrgcJ2j5+ZlTr3Jhx/D6kyq34n2v/f2Sr3eGFRt9JvksPGVZvjayfeTD4yP73M9xzL+XLFvhuuG8TuT+vv+hmTwtZop66bnXyd1/XxmMn79XNOekJTb6xPP3xM8KeI5en3TVptxZf7u5Hs1PannmccndUP/vGTwhpiUb0tek+zUll3KZY7ziUmdh+1v3C6pH5mcl9Rzar2Oqekfag6p1zz/mgy+8riNV25YIGY3Tuo8rE9C13PAB5PyrefV7ycvS+6TjP5NxobXao6NFYjrAcnfJINrhbZchp+V1HNDtcXbk/aaZfRcknF1TVjT35UM3lDQlh8vM+22ST2PXJo8eHxaX+s5jnrOfHlSr3Ofkwyub1NeJzkrKZcTk5rvoORLSY2rv391jVAWFyd366vBpPc7FuPXEo/LcJ13pyfldmFSb1hrb1yp1x6PTi5PPpkM3hCYsn0bUf3Nesek99H6CBAgQIAAAQLLXiAXWaMbiKnXDZ/fJpckFyR14Vap8ddP6qblM5JfJR9KRp+6WfaQCwDEqG5I1M3EbyX1wuInSXUo7ZM8PynvjyXjn5g5NMNl3PyPb6vPuOo8rRtwNe2oNl45G4GYj7/IGdQz7vrjW8/wq5MrkkHHWMrRMjVfhq+bfDv5erLzcFx1rA4+OTi+rq7Us2+jGwfD/Z07XMdc52TdKBh8/VjKfZO6OVTj61wf3RhOvY539NzTleOcxX7kuPdI6rnga8ngBnvbbobrhXN5PWRs3KAzLuPultTzR3UQDW7Ap7x5Ujfbapm/bMsoN00gduucixlXNyjqRk/lvKSM6/n6nck+tYWU1Zb197GmvTEZfZo49dH5Ppx31Km6aXu3POeOX90k+n/Jd5pA6nXTbvAmk5TPScr9cWPT3zwcV39v68bm4Lmopqe+TfKmpJa5f1tGuX6BWK3196vNnfF7Jp9KzktaR2F1QtXvS12j7Ds2714Zfkny8+TxbfxSKXNMj0nqJmd15n83qXOsnpf/KWl/D6+aep2zdW33vuTayfWSeg65SvKIZF7rpeI06+OI5+g5N/VXJv+v7UPq9VxR5+qDkhckdTP6E8ngjV0pr5ack3yxLbNUyhzTWn/vMtyuZe+dep2/d69jTfmQpN4McOJweGXqP0jq/H5d0t6kMnozXMatte6lYraY44jJWtfL4+vKtFsnn03quq46laqz6YSkrg/LuXJB8trkb5PdxpdX3zSB+P3JuGHqg7ZJuXtNq7WlrGuPY5Nqj88n129bSX38OaV1cL1sbPp2mecpST13vCc5O6nfoSPaPH0vcyxXTr6RnJIMOveH426Xso63nkvv2o4z9d2S5yblcXJSnYF7t+nLrcyxr/XaYPz4M629lj4t9X9OPpjUc3L9rXpSmzf1nZOjk3p+eHdyZFLz37HNoyRAgAABAgQIEJiCQC64rpS8NKmbw1XeItkqOSR5f1LjT0xWJXVT4RVJXbTVDeNRx98Udq3Xq4zN3ZNLkrqRu38dTMobJIOvdktZLyr+JSnL8h10pg3ne0CGn52MvgZoOL5e5H0yeWMNe2xZgbTDbZJqv7e3PUm9XjzXuLck29b4lPX7NLo5mvr/b+88oDQpyjZ6UMk5590lCRIEJKclSBbJkpEFSSKI/iJRgqCCCAIqEiSLIBgQFUQJi6IooAKKSF4QREREkCxwzn9v29X2zM6G2Z3dCd8z59x536qO9XR1dVfq749gI/OA7TQt6SmWc7XT/xqoOomw7fRYob4OTLcNlaURUn2sCDqI4ONlX51s0WEOsIPnaVBTy1/zjL6Nuja2lI51803TIIlf8pZlcBmNbFmh7tWsuk7WtjdpRy8bg9fvaRviPwivwPdgE9fB+jy8CtTaxuOqIRO7HPwIjLfMbhrYetp34iZOAXUEG9p8/9jTrbCzgPfEqvAGnFLHl0bQs4n7B9gIfT/MXI6GPwq8RjZsZkZwEWYiLZrtCfu1Vye8L6jpKOOxw+FzYJwzqM6AE+FmMK4ZDNbez2D2SdNOYF78DlhumEcPgFvhdTgCqhmM2GHg89E8beP7n8EG50WKBvgpP4oYk2HbOuL73mL+83os7m6xm8O/wcZpl13UPhxhO1F8Rnsdp5H28sHqk47qva3YdjqIWxRGwmywErwM3yzr4Fsm3wm+o6jZjVD9Tqrr4DfvhGWbTrdFE+zs4LvaIbA7lEFw5i0Hx1knUNNrai2N3wZ8BpY86vJqtlmn6zop6Ue7tUANfwPNfYC/CFg23AvL1/oviP8NcP1LYKzBccTNDU+C64wq54T/NXgKLN+vgw3KsqFgSc/yYJqr9gmsbRn7g/n0GXD5AnASrDwU0txXaUCPNeAn0AwwK/smbiS8CtYDhxuPtW69Jqit71S7tNafj/C54LUo9FinKdvERoEoEAWiQBSIAlEgCkymArx4zQkPwG367d0RtnH4cnBEYTVzALssXFHH2UA2R3ub+P9VAF2s+PoyPLK7JsRVjTHY94INb778WtloRnK3tyH+nWIctss1aq8Xf+oqwLWwwelR8Pod59GxdojZgG8j6dHdz4i4zeB1OLn7soEU5vxKHq3yHuHSmHBVOc+yjmH8hcFGIMuKY1rrbEvYhspfwDhH3pb1h7pFA/PH/4F54AZ4Fh4GK9YOtjAvdWkkI1wae6bDt2HmxrZOhDOQpS3IBHz0slHiT3AzNJ0XZTPivgx2imxQ4rSE1f9a8BodD1V+xo6E28H4j7S3iT9hBdCsx04j4pcB75NvgR0apUzaH1+tm5mk+A7WsJHptPYRCTcdH/j7QmbwtAWaCB/NtgL1ls9CGbzhs+H3cFfZjcvADsQnwPV9Dj4IR7XWqd5lSngwW9J1IbwIa5V04FvGLwk+8/4Je0N5f3sPvs9St5FmVknZPnbSFUDPaaA8L+0EuR98//CdzA7B8pumvq98E16D29pHJDwTfKJedqTL8JtypL3uYPHb54+/ApwPP6s5FVvpUtJD+Ewwf64GJe8Ow1dL8+/BsExZP3bcCqDT6mAZ+CaUclR7IiwKlhd7gR0kj0KXThDCC8CasMS4j5IlE1IA/eaCMtjt/LI+cep/GXhNroQFXIa1reOHYPzx0LynFB/re/uPoanb4Lu/ecGOxWYQVzneYLGmo5wrfnn3snxdGdTEMmI4HAW2ddwFVXsQ1nct391GuQ/soC4/iw6Ta9HBusV9sHr3fRF3JKjrOi7DqnXRfVX8N+BeeH/ZFt/3rU/Cl2C5Eh8bBaJAFIgCUSAKRIEoMIUU4KVrC6gqCB4C/13QfnG2Am0jxANQZpathW9niY3GPXb6TaHTHTS7RRdHuY4BX3CtUDWa1jqvR5wjEQ+D28DK9cHdE0hcKh7dRemHMNehy/Urp0C8jSN2gnkPfdh47CrwfB33OexCYGXIhmgbrZ6DphJU9jVQLOdWNZjVaanSTdxscB2YzlN7OlfiNwIb2B6Hfcs6+BsXP7bKH5YHNsy8DeaFT6kLdk9Q36YDuo4v18AOizFgBdzrUTrwUkb0ImOhm2XyfrAHdHl+Efba3AKPlV3i+0wsDRl2ov4J7Bj5WGud3Ql7Xbo0fpblsRNWAO0Ogo3aaxK2YcjGuaVKPL7XzfvkUJgfNgbvp6dg89Z6VTlGXO6PIsokWPTzfc+8bXml7jYyV/kc6/uL8Xu1d014HlgeFocRZRl+82wpcYPVkpaZ4G74XUkDfruR/d2EnwDLi+1a68xJ2EbopsETP3m0CNQLi27vhTLDt9GQOPOs72BjYFc4B16DpqMQ30EXN8NbcCFsD6vCF8GZVHdC1ZnSi1Ma0KuSnh3B8vRpMO8+Bt7Tf4DNofoqCvZ78C8odT7v42+AnXzvK4nEHzL3c0lTX1r0WR9egHvgCDB/fRx+D+a7c2EB8J3EDpT/wDWwYjkP/B7rHmV57IQVQMPyLrAU/q/APF8NjnBr/Fnghjr+DGz5etBI/Dvq+L3bRyKuS943DE0Z1F53oPucd/Pc8lx7CFd6lHSw3I68J+EHoJbfLsvq7cs7WjVLtb2sk310mhaWLRrgN/c2/uGgltVgLGzJs6X+99F6+fXYLjN7CTf7KfuOjQJRIApEgSgQBaJAFJgMBcrLWPddEL8G2Hl3Svdlhom34+fr4IvdB8s6+F1e4Ep8p1t0qSpQ2KvAyvBKalLiiz6ESwVjS/wN4BX4BUxX1okdGApwTUpFZnr8ZWE146CqdGJ3ABtDbKBb27PG2qhv55j3jdaGVJd7nT80MFI29llwbk2jAP7H4JswGv4PbIi04cc07V+ns+R3ywkbgv4ML8FD0DQaj32kzo1Bl01BDZ8Fy4hjwU665cDGdpdt2V0h4mwUtvHz9O7LEu6dAmjYNBjhLwnVLF6s97gNad6rzawy9064lAN2lnq//w6aexm/fHp5UDai9U7Bvlsb3Sw7vgjm+99C87lv/PXhRbi4HBF/DbABz2tgon5r1wAAQABJREFUR4AN1P+GZkZqWTe2dwqgYVOet7ck/hx4A84G3xcfh91gXvD5dhnMAs3zo729PssG5X3R03kT9w6YGcyHf4Wle0iv7wifAfP1j2BkD+uY9welLt3TMrXD6PYpsJOvi66E9wE1vx2qOgv2s3Vc9YnOcq7ErQOX1svcRl4HG6mrzsSy7mC3pGddsGP4FtjU9GCng5PBe/ovUGY/lTqfHSR2+Gl9r/vCYNdhapw/OpVy9Ar85+ED7eMSXhPsKPX9r5qFjl0IzgLL2QtgifY28SdPAfQs12Q9/EfAe7356Qv8ReE+8F44ohwNfwd4FHwP2bjEty3xg7YM59zfBz+EVU0TtgzMnA3/XPgJ3AW2VVRlInZ/8J1LDc9ua1Hv4xvEWza/t/uyTg6jR9PRiX84nFT0wN8P1PN0KF/5KHnW940VwHctyxPLleFl29goEAWiQBSIAlEgCkSByVCAF6sZYUN3gbWBpt1YbOPj+rAizA5W2qzEPQ4rlG1qW16kR7HMF7seKw+um7+uCqDVIbVmViTmcinWl+AymnBlfCtqJ9TLqgYN/fwNHAW4PqUC8x78n4OdXt4LdnQ1gwjwbcwz/gmoKjZYG0mOgTvgx/A1aBrw8AdkpZvzsjPvOrAh0XLBRjc7KbaveRprWksjXFVOeNWIswPExjaXj9UJOHCubP+dCbrYSXcq2NB7O9jQsH+t3274r9Rxe2EXreM3wL8WbLSIrn10+dBSXc2rZ0D5/NgBddwXsFWnaH0NStldtnmb5aOh+l3rep0BeU/3kVxTbDdouCd4HWw89n3EhuR5wGemZaflantWzvsJ28j8a/gOtMviXIPJuFJouR6MgvnKbvAXBBvuPgMrgc8/r9cnwEE2Ph+qBn/sODtRy/4Gi22nBX9umLV97oSPA9/j9ocm3filrLDxXZ0sKy6FNHq2BZxEHx2dyaO2J0CV79wV/vJg3rTMWKPsHt+y3Odq1dGNbRqy6+0sTw6EvWFIPl9J15HwGmzR0mU44fPBPNoepOJgiN/U8S7zvaP9Ge4u+pX9dbJFn3Y92+fW/GCn2w1FF/z2u/IqhO+Fh6F8NnYZfPOumleDMcu2sX2nANruDL53ez80n1PFXxX+CXZU7VWOiP9R+Dv4DGzqcGX5YLak58tgfrsaykBCB3M+Xsc7QMjl5mXfja2/LALfgLfAd7XS+WqePxjUz3pg9U49mPXpq3NHi+a9FH9eUE/fdT/iMbDTwN3wF9jWcB1fZkPPSNwYMB96PdIe11cXJ/uJAlEgCkSBKBAFOlcBXqpsWLizfsFqZtDU8d/HllGDvoBZeXNUm5UDw446Li/QzSdbiLsc3K5qzO9cdXuXcvQaDS/DYdBUnN0LYRtqbHjbpb1Xwk0lvB0fv/8U4JpsAFa2H4BzwArjSZ4RtmlIwv8aeB/ZqN9c7+JjqwZWbLNN/6Vq7CNzXlbgLD9Mx6twDMwHC8BIGFaneV98O1etJJcZ1m73KbCy7cycucc+QmKKAuhTKseb4z8Kj0M1SwFrA4SVaPOSev4e1Nry4oCyj9jJVwA93wt/BBvNPgnOGjPP/wocLGEjfTUavByN8MfgMTgTvEafh+nK8thxK4BOXcq+dhj/WvB5+SWwYfNWWAOWBXXu6RP3MxBfPTOxXfY97rPIknEpgIaLwUOg3jaoloZ9B9WY318A11kCzgM7Bp8B179wXPsdjPGkp8lP+J+G38FTcBVUnzHFrgaW32PADpGmkdQ0Ez4KLNsvAxub96vjm30PRm3665zRb04YUWtog3I1I6oODyfsO8w60HSq1sssU3x+VoNdsNW7WL2s2YfhofZnWsEOvdHge0V591Cna8B797OmG7sj7FH7DprYGnaGfLZ3PBkDfar7GTs7WFbMBvPA81B93hTbpW5nGI4H9T+07B7fMmW9Eo6ddAXQsXt53FwDlh0Gaj8GFipHwbfzyufag7C58djp4PQ6bpGy7lCwpMl3KJ/1amH91rzrs9734j3A5fvBfWA9ZPdaE9/Lvglu9wqMBt8dfHe7HZrBh0NBp75IA5pYFt8MDlpZHV4G3w/KlxJ2xPcd6zewVTkmvs816ye+fywNXb66UNaLjQJRIApEgSgQBaJAFJgEBXi5+iDYwfEkjHAX2J+CL78XgS9ivsD54ut6m8Cldfhy7Jz1NtPiO7LeEW++YNsx0qVC4nr561kBtCqNa3Y+OwLeislMYKO8Iw0fg+Z3sHreS2L7UwGuz8JwJ9wFVWW6fT7E2aA3i3FYG6l+BN5X3yzr4bc7Uwf0/cO5zgKPgpW8MvJ1rHNm2RfBfG3l72vwLbB8+QmknCgXfwIWrSwPPgw2tNlAv5qbYFcGy+jfg/nvCkileQJ6jm8x+vWUj71n1wMbln1e7lzr/yH8p8Ey+qNQ7vEt8b1O5nPvfe8Tt62emeM7fpb9TwH02hvWgKaMwVdzB6rY6bQ1lEEahr8PY6BqlMN26YAiPNa1/d/R4o1LgR509J1vMbgafI7ZILopGL8W/BNOBhsCpwMbWL1mrut9sPi4jjVY40lTeTe2LHgCTOsvYE3ThD0M3gDLBcuH0qG/Of69cCXY6PmnmqYRf7BqMrXPG92mgWGg9r6LNeUtvg38vwTL4iXb50a4evfCHgduWz1fXQffDqydwfeXpdrbDVafdIyzHGTZJeD9OxdsADbSq8mHaz2G4T9a02PnB8u6lLuDVae+Ou+2HvgjwHcINd0IFqrDar5MrXF1fQiXwZReB9f/ZF+dU/bzXwWKxrXuXot5wGvUDJjAPwPU/zZoBsHhH1rH34pdud7H7GUd7Djvs8GoP+mZH3x+qYWa/BWOK2nBnx58P/P59zBsXGviIJaDwbL3cfC9+PiyXWxXBdDGstc89SysCB8GNfeZtmKt6afwfZ/4B5wKO8Lp4PtVl2df170nFAWiQBSIAlEgCkSBKDDJCvCi9THwxcyGhcXAl95joT2zdBRhX3p9KbYx83pwm0fAF2Ff1l6DP8CCk3wyHbwhuq0NNsSrqzqPATuerFSnQ2SA5w2u0UrwJpxUThV/SdgQrgU7uG6BbVyOXRDuBK/3aWWbwWI5Z/Or515VgrFNeVHSQNzhcC6cApYrrm858T1oZnaU9WPHrwCazQFHgJXm62D5sgW+y2wgbhp3yrLYiVcA/coMETt+3gE2CJVGTDuCdoaXwQ6Pdd0zdnd4DMzfD4L3+vPwCmxSr/Nl/P9A1Zky8WfUuWui1Wagpmp5HJRZjparv4Ibwc6NDeAmcF2vjc/MAzpXub5NOVo2ZTW+5cwwKD83MA2+jciW776vfMmjYy33bchrZuHg22n4Y/hI355h/+yNdJSywnJieXgKToIFYGE4GUpZvQS+jcjHgA2eb8Ht8HOwkdR8u36t3ZX45uEh0VnXH1cH7X4NlgcXlOPjD4erwHLYxv8qb2KbTg78w8DtqgGL2NlhX7CjwPJ80H9dhzQ0nZv4vrduA6OgzLr1flaDW8C6iHlxnaJjnUe93633zdCOj/9fBdCl/Vnzdv6yXDgSHocPQ9VJhz0B1PwsmKfWuHmnJm73evmu0bjvFEDT9rPtk4Tb726WzXvU12JWfMtlr9Fl7TMg7Lud8TdC8yla/OY+a68/GH3S0s7DSxN2AIVp9lm2bK1RlV8JzwQOJnwRfgndB6M4+DaDg+qMgBZNHmznDeIdQK/Gh9X6fqkOO/i6fAFuR3zLEtcTn1Hm2/nb+4ofBaJAFIgCUSAKRIEo0EcK8KI1DZwJvnyNAWeHVZ/VxLYrcL4Qvw12ntpo+RX4HbwKVqQN9/gi2EenOuR3g35LwmfgF/BDaDfyDJnK2FC8kFyrtcB76BxYAWyEsvLo/WH8U7VtVzhXJe4ZaH5DZ7BowznbYGxl7bvlnPGbSrZxhB1gYRlho7uNyhtC83tjZbvYiVcA/RYCywXz1LmwxMRvnTXHpQA6NnkXf0W4AmyE/y18C94DVaMP1pHf6m+DWWloH47v9XC2jnn+O9B8NQDf56adq82MqHGdS6fGo02XZxzh6eEDMBrU207TxdUH+5E6bss6bHl0VB3nul6zNO5PZmZCw+qaYG34vxrMw6/DE+BAu2G1/sPxbwC197ln458dVc3slHq95rdBWdbcc5N5mv22OWl4H1wGl8MYqDqW67QuQriU1RfizwfvAp/7vt89AOp5HbTLCvW7G2but4QN0gOjWSmjHUyktubHz5bk4L8XbIA2Dx8J5fesSz4/nDi3sWPRPO/7uO9wd0DTOVL2N5gt6bGz+AUwvQXLzWXBwQ/GaWdrp5PwRvAGnNmOj/9fBdDF59aBUM0UK7oQ3hbeBN8PrinxWsLzgB0f5ks75Jq6NL7vIzfDY5BBFW3h+shH14vA/G4HquW5ZYRhqWb9YkfArXXcCeXQhO0w9F3w8BI3FC3p89llPrwAVgMHw6rPQSW9+KUcNT+fAL4D+N5Qzawu68WOrQAarQLNT9rgvwNuggfK2vhqqebfgNmNxw4Dt90CqkFYZf3YKBAFokAUiAJRIApEgSmgAC9dzqyxEcdK8fOwMlQVOGzVyIWdGUqlYjNPg7AveDYKpVG4D68LejaV51rnLuE+PFR21QsFuC4ONij3Q5drQvysYKOolRsb3LRvw9fAhhNntB0Hxn8Qyn4GZaMc5z8L3A92olazauu8qkalEfNs/H9DKs+9yGcTWhU9HQFuB5956XRIQ/uERJvI5Wi5Pdgw9BewQdMOVHV+HA4A870NpDZyGm9j25LuHus93gw6quPmJe4Q8D6wLHDb6t6fyFMakquhwWIlYfi+R5SGt7nwbTBeFaatNbThzoEpzmh4CvYGdb0Bflv2U6+7K3H3wrrt+PiTrgBarg7Pwd/BBr3LwYE/Pt9+AtXsNKz5/zB4BHwG/guehOZ3EctZEDck7gHScSxYDoyBS00ftum4x383XAVvwUlQzUzD2sE3h7alyTyEPwEvwxfAfD8kdCppnBpW3TwOdgl4Cbw++5Zj468Hd4F5eh9oymx8O75cfw84pfa/XbYdzJa0VLqYhjp9PufMmz7XdoSbwbQ7+Gc/sPPjn+CySiPsJmA90PgtBrMeU+rc0WUlsGy8FEoH/az4S8PtoMb3QPW1EGx1j2PtBLkPXO61OBwsM34Nxh0ypc65k/eLrgeBbR9nQDUgSD3wd4MHwE7tD9Vx6+D/Gbwe1W981vHtMmRIltmk13ezW+FZsI3Idy11eAhWr3Wo3uNqfwTxvrdZjlwM1RdEXJa/rgqgjc97tVSvtV2KfSd8DIw/tI7zGpQy5HNd95JQFIgCUSAKRIEoEAWiwFRTgJeyOcHRl76s7e+BsaVRs3SmblMvH9U+MeKGZIWhncap6bf1bPtT8xxyrK4KcB3aFcO1CDsC9KdwMZQGZBtIvgrfg9NgJfeCLffRdvjeX1t33Xu1zqC7h0jHB8GGolugmlmKbTqW8W+CP0HTSNw93QlPmgJouibYCPzRSdtDtuquAFq+D+w4/QVsXJbj28D2ItgptK3x2AXBhmbvZxva2yPHlyFsQ8gxYAO1HUnus8tMnrL/TrPoYMOkulUz77GlAXkjfBvjbHBzudqVz5rOgL8V2Jjs8u/DYfB32KetIeGqvME2ZXZ7efyJVwANh8Fv4Anw+VWeZSvjfx28TtfAu90rdjpYDOxkeQua6zzxRx34a5KuJm/hn1en0879ajALtt1ZtSrhn8O/4UCYpaQQf3GwnLCh9CKwnBkNzUzdsm7sxCuAfqXOsjG+edAOv83dA9Y8ujU8DpY3zfsYvh3Yrv/b2n5+4o868NckTTPCinAImPbqvq11WYDwqeB96/Pro7WvHnbs2enns8wOpXxKdhyXG20WAZ9Pr8Ep8ChcCOY739v+AGpadYq0d0PcMLgVngfXeQkehujdFqoPfbT9MTwDI9wttl2H2Ynwk2BZUWb87YDv+l6f5vO09baDrh7neXf/I12NBu1lxJt2010+K/vFOuzzfrjrYptt8VeA2+A3UH2uur2/+P9VAG3OAnX1+f9nqJ5JWOsZvlfY1jCva2NtZzA/WhZXs6OjYxSIAlEgCkSBKBAFokA/KMDL2JJgg6QVvxU9Bey0UBo4t8X3JS8vbf1wfXLI/leAvH8g2ID0N7ASbWPTNhM6M9ZZFq6Dx2CxCa0/GJaTjnfBKWCZYAdR6Ui20vdpsByxcdmGoyHRsDBQrot6QvVbWQPlnAb7eaDnAeD9vF1JC77PxHPAPH6R8dgZa2tDhh0jLrMTpDwn/6+Os8PVho6zy/5iK/12Q5OX4RUoZYado3Yw2bh8BdwA6vorqAai1Jr7PnIRPA2WwzY0u36X33winPKmDzIbOq4H5uOTuu+OuLnhAngbzPNem9LBqv8Z6PIJ3+77GCxh0tE0Cvd0ziy/EcyvF5bl+FUnKtayehP4I5hfq5lLWDuzTga3c1CADaXnle1je6cA2rU7tZv7n3g7AtXYhun3ulfsbPAReAF+BSPr+I/ju67Pgeo69e4sBu7apMf3NTuLTJ/PpTPqNJs/S15dBL8MjDDPOlDCxv1HwGfdRdAujxudB27Kp/6ZodEIsBPeZ5TPtaNrrX0X3gYsB8yP1Sfo62XlGsxB/GKwI6wBg/53d6f+FZi4I6LtDPAY3Fa2wPd+KO9y78A/Dbxnmmcg/pHg/TCkB8WRvlWgPThQPW6CcX1Wthr4w/L2AKL3FG073aJLk7fUgnCZhe49fz/4PLKz9E04CqaHfcB3rGqWb73dBoTNkw5Qbn42oNP1TfqjQBSIAlEgCkSBKDDVFeBlzBczGzcfhYXLCeDbWHYJOEKuy6jLsk5sFBjKCpDvR4GjPr8N68M80GPlkPjt4Dj4AOwK14KNckcMJY1Iz8xwBliZs0PERiPLDtN6MzSfthpK6U5aho4C5NHScHk5/kswh6nDrgPXQNN4hv8hOLhebmPSSLBxeYu2IoTXAxufqgb79rL4lbbOuHsb7DSaDxyI8Tson4KzXPkKqP310Hz+Dd+OJ8tXyxeXW9YsG137XgF0dWCAGm/v3rFNw2gdXo44OwJ+X46OX3U2ttctcWWdwWTLuWPNk3uDjeeyJpRZSbPijwG1OqakD79oYUOo7w/PwEZluZawHSobQdNA2l4ef/wKoFvTKI1vWWKe7FJHIfxl8NqMhvncoxaOBjuvvw/DYRjcDquM/6iDcynpGgl3g1r4TjrW5/+JWxv+BXdA+XRvNWuacPmsus++dJ52ywZFE+xqYD3aZ9PfoemMx/f59VFw2Wiovt7irvCbQQDddp1gLxVAyyZ/Fl27xfmJ1FngMfA9pMs7BOEyGGgpfK/lV3s6BeKrMr6nZYM5jnR9ASwnzoGJ/azsiSXNbFOVFSUc+z8F0GaF/4Wq+34m4k6Ev8Gn4TxQ+x/AHuAz6bpu22xNXAZXtEWJHwWiQBSIAlEgCkSB/lCAlzJHZvvy9hD4SacD4FtgQ8MVMCQrDP2hdY45eBQg39vg9DA0nSL4jupfGo6GfaB0AHwc3/vF++g1sOG0+jS2KcZvKveDR4Fxn6lpg8tAfdTp8HGvnSVRoH8UIF82913b92wI22Bkp96SsD7YgOz9++F6uQMm7OT7J5RGeBuSm1kI+Hk2jufSok/TQIz/RVDf++Bx+FT3TYmzAcl1LoBqtH5Zh/AMcBEcUOJi+0YBNC2Nx7vhq38ZNNDcPx6JeK/Bd+t1ujQKljNhWZdtSvxAtZxvk0fLORJnp9xDUJ7pamJZcQms7HrY5eF1ML4qM+r4oqWdrNVXA7BNp185RmzvFUDH5lrhbwbOYH8OvD5nwtJlr/g/quMvx5aO7RH4DtTwml0N08GQLsNJnwP6noZHYIT6YH2ONfcpvoNWxkCZIdVoQlyzXtG20y2aNPrUejpz9HT4HJgffW/YtOiEPzv4vmE+/TYsVW8XbYtIk2jR0g7qMijOTtJm0A/+HNDMqKw1/yxxXodPQTOgAL+U28vgvwlX1Os317qsM4mnOqA3I21ngbq8CA6S2rpO/4L4T8FPYd46zjrw4+DAi3yhbDxXFn3WB3X9OYyEklc3xX8CvgSlQ9W6hvob7zXYaDy7zqIoEAWiQBSIAlEgCkSB/lCAl7RpwI5TGxUcJeuIZT9zdWZ/nE+OGQX6WwHy/pzwJNiwVEbl74V/KdhoaoVI/gpWJq24bwFHgQMSmtHN+E2jX3+nq6+PT9qmHcrp62u9sr8pqwB5cRS826Ngm8ZJ/HXgaDgBtgSfeduC9/A9YGOQjRfrts+Q8J1gR0o+m9UWZiJ8NFPj9jVwRp8Ds0r5WXWEErYxvzRezobv+4fX5cRyGPzSsN+UpcQ1+y7rxY5fATRr6zcrYRv2tUV/7xO1d2BM9QxrLSvrfI043xWXHP/RBvZSzn9XKDPsmrxEnB2jT8C9cAA4kEJdzLtqcz8sbuqwPvONexY2qOMajetws2/D+Zt8BdDaAWvqbsP+NfCnOmwn6hIeAes7mYM1XO/kclT8FWA0XF7ihrIlnZbDh4M6XF3Sit/kU/xbwDzf/F5vWS+2qwJo1O6g811iL7AzpJrFjDVvOojyJyXOPeAvAN8Er8OXoRqU1XXvCfVGATRcHOxwOr+9HWHfNRyE9Vv4B3wfRoHvGkuB5YKDCnaBLp2ohI+DV2Db9j6Hik+6ur+XlXcrO5t9tr0Adpa+CdZnp4d9wGd+NWBYLfA3APOyZW/ej8eRQdBmOvC59Hd4Eo4vq+JfAubP6icpsHvCdaCucmRZNzYKRIEoEAWiQBSIAlFgACnAi9q74Or6pe00bBp9BtD1yalMGQW65/N2GN/GDiuRo6E06r+B78yGI8FKkZWcs6AZpVzOlLguFdUSP9Ss6RxqaUp6Bp8C5MOtwPvxBqhGypsK/E+DA4NKo8Sr+MfVy26r4/+KbRrS6mV2mrwMF0PyuKJMwh/aDYcF3RRrg+fN4LXo3uhZOuhs4LRDyuu0X0+HJD7XoydhxhPX1gx/OzDv22nyAFwOw90c+wXw+vg+2HxKuV62HHGPwE3QdCSM57ADchHnvgeYxqYTDb/kv0/g+9zfC6p8hl0QfOa7zS+g3el8aB3vjJHlB2SCh9BJofFO8DxcBuVTk5YrvqPZ8WGjf5VvscPhX+B1O7DIgN9Rn0IkvdbvzgZ1+BJUv12oHvg7gnqeXfSJ7VkBNCplxLT414L5TU3lQrfCLgyngh1OF0M127RetiThn4HrHwtNJ3bPR0zs+BRAv/nhLVDPQ2uNLasd9Ob7gx2od4C/S+s659br7Iz/t5qTsYuB18ZZqXas/hIWGt+xB/sy0tflCxKEZ4ITQV18Zz4P1OwH4PPydshnZSfhwqPbO2FdMF+q6TWwKDjb2brHOWW3+CPg6+B6+5T42CgQBaJAFIgCUSAKRIEBpgAva7PDb+ADA+zUcjpRoM8VIJ83nZ74VrrnhaoR2YPhrwalscOG5hvATpV254yNc36SKw36fX6FssMoMPEKcA860vsCsOHhHJgRtoXn4FKwEcjGYkd8V40T2PmgNK59DL+MBN8S34Yjlw3JmQgTr2zv1kSvdrm6ImG1Ph7Kb82uif9HMP4j7h1bOqpKA/VG9XLXaWY99O5MsnZRAA2bhnr8g2ttH8ZeDw/UYTsAvV/sHPxhHWdn98owB2wAl8Pr0HRGlWMMJsv5zwA3gvnr2HLu+O+C6+Avrbj3ED4TXPda47FrwEatdc6vlze/fViWxfatAujswLYx0PwePf728Cj8E3wn+wiU36sdie+1k44ty0n7LODgP3Vw8IR52kESY8BOkxX79koNzb2hk/UE9XNGmYNN3g8HwMIlxfh26F8Jb8HJUHVYY+2kWhusZ69Z1o/tvQLoVw3gwa4K5mk7TLcB393sBN2r7BX/3VDeOT5nPOFdwGeg274Br8CbcCdUdTzskKzXka71wXT/HEZC0XJTfOu6DrIwr9qhapn6IhjvO0Lz3Cv6xk6cAmg3DJx9br3iD3AYnAbmw/XaeyHcDLxox8ePAlEgCkSBKBAFokAUGEAK8NJWfdJsAJ1STiUK9LkC5PN2I/9RhH8LNiLJRbBJOSi+jaULQ7ONywhvDVa4DyvrxkaBKNB/CnAvzg43gI1DB4ENnPdB+7fxbHB7CVxnJCwPf6nDz2IfAxvTJB0ivbic6NWUkfirgaPuX4Z7YF8oDXXb4j8Db8OGHgJbdfJhS2fqwfhdZqn24lSyaq1A0dMgvoMKbCD+PlS/7Y2dF44E874zJDYGO1FvBO8RO0yfAxuofd4dMRTEJR1zwwNgGqv7HDsz2DkyBuaB1eEqcJ3Taw1nwvd9wUEZVZ6t4zcYCroM5DSgt9fkMRhdzhN/FXCgm9ftEzAGHoYdYAbXwx4CXsPq92vLtp1mSf8i8Euw3LVzz4ES34Iy+3xIdhj1xXVGo/JcOhzfDiXzWvN76B6DsAOGloB3wtJwE9hZchqcVdth2OpnQfrivDp5H+hY3hl2wff+fhzsmLq16IJfPlG7PL6DLFxvK5djF4JjwXvAjq1DWts17zIlbqhY0jkdnAkOAngSji9pw78EHGRYBhPuiX8dqJscWdaN7b0C6DcLjATzqrNPtWPgGJgWhmy+671a2SIKRIEoEAWiQBSIAlEgCkSBAaMAlZXLwUZhG9/OBxuUrCRagfxYOVF8KzbOxKlGmWM/ADeDHa5rlPVio0AU6F8FuB9HwD1gA/Fr8HnPCDsNVAOEsDuC97mzlWzoXBhsGLVx2TLgK1B1MNXbNh0l/Zu6gXt09Goa3/GvgOdAfdVZ7oZtSgrwD4L/gI14S4xPZ5ZH/yLcJFj0s+P0drAR30bkrWu9S6fA7MTtDf+GH9XLSpzPyB/AGbB+OTz+oL8mpOE94Awb82H1+8fYk8FO4+Ph52DerX6vt9bFTqgXwDLGhuiqgX4o6VLS0l8WTXvMW8RPD3Z6mx9tiLYT/Mdgvl21vj6W3V6zG2GHkgb8ahZgCXeqRQcHttwLL8HIogN+NbilhGN7VgCdLgHf+2dyDexwsLP+SrAuYd6z3BgGa4JaGyc3QPOc7PkIiZ1YBdpa4h8Havw6lE/1lgEU5TnndXKd78Gc4zoOy4Z8J5ZphHXhIVCTa2BRWAbs2Dun6IPvO/XXwfX2KfGxk64AOi4FPqvUWl3HwNyTvsdsGQWiQBSIAlEgCkSBKBAFokAUmEIKUFnZD/x00+eh+U0s/KPBCo0MBzte3g/3gZ8wugucrfMv2HwKnV52GwWiwCQqwH25NpSGy4vwS2Nn03hJ3BHgPX4/VPc/dhYPia0a0LDvgGabSTydIbcZmtjQNlYDJHF2KNnh9gr4+bfVwUY6G4peBQeqVB1Vtc6fI+w1+C0U7bt0nhAf/SczB6Hh8nAnOKhAvasvLGAbrfGd3fc1cPkW3Q9JXHvdIXNNSNdm8DbYkGm+Xh98vqvVy1A6Vqs0E14azN9f6a5RwpOvALo2nRe11l6Tqvx27/grQJk9fT6+HYEblyPj7wTm4cJuZVnsfxVAm23hRXgYVoguE68Ael0K5q1T4SC4G+w4tRP/DvAZ5/JvuFfssvAZGNSfPZ94hab8mmjZfha1y4tLWKb2vtNVs3xdF5rnFb6d23YaVu8b3c+2vW73ZUMxTHqHQT4rOxUvbslj2NlhA3AQ4eVT8RRyqCgQBaJAFIgCUSAKRIEoEAWiQM8KUDlpKtyuQdjRt9+Fp6F8qsjG/x3h1+DMtQ3rdf29tLnBjtbH4VdwMSxRL7eDtamgG5e/KBAF+lcB7sldwc/EPgLNpxvx2w1u5xG2wW00NI30njnh3NM9XEJ02QqcgbcNdC9XlyDuOXCGR/Wbp7WWsxLeD9TacrdqtMdatl4I1TXo4XCJ6qUCaFnlW23x62tgR+FNoNZHQjUbu7174vyygstPrbdpGp+JG7L3A2n7WJ3uW7GzwJfAmUy/gWmhfHp6efxLwA7UD9UaDVld2nljavho2miJ7+AKy28Hqt0JK0FT3uDbkW2n1dnd4h2s8RRsBSdMjfMejMdAm0PhLbBMqL6sMhjTMbXPGa2WgufAcrJgmbAezAbWLezAexCqusXUPsehejz09JlWlQHYOWEELNJOL2E7SL0uJ5R4/HdB2e5H+L6/eB2b8qas24kWHXzmjYTH4a+1HYM9Bnz+Ne/MnajPlE4z+o41GHFKHzP7jwJRIApEgSgQBaJAFIgCUSAKjKUAlZN2o9vKhMtv4tyN/2s3wNrwcQDYofo3cD0r6zaMfEq/Xm92/KZCiZ+K5ViKJyIK9L8C3rNwOLwNP4OmMRO/+Vwhfmlwaz732P9nPzDPAK3U1I4JOy1W6X6WxG0CNl7u4jJsl046wp+tl5+FHVGvszC+s/qly+dQXZ6/iVcA/cb7PGL57vAY2Li/ZNkzfnkmzoVvp8qXy7JOsKTXfH0mmHfPBZ/zF9Vh9boMzLO+M7jOiZ2gS3+lEX1PBzuwfwmlfP4jvp1UpSPk/fhei+Y3+fC3g4fhkv4698FyXDSyo+80UMPvQJeyerCkoz/OE62WAweh7A3NFxXKuRBnB+qNJRzbtwqg7QbwAPwLHESxP1SDALA+w6zHPQ/7tI9MeAFw9uloaOqF7XU62UeTpcABKH8Fy4UxkM/KTuFMgcbpyJ/CGmf3USAKRIEoEAWiQBSIAlEgCkxAgXbFBN/GeyvWo9wM+1uwMm1l3JG2r4IzHWavly+O/w/4gWH/8JuKDn4q4P+VJf+jwIBUgHvUmQd29tkYdAE0n23DL7PK/HTp9gMyAQPwpNQNqjLS08MfVk4Tf0tQ61NgrM484kaAHSF+suxomKuHfTRlbNlv7IQVQMtGb/yPg7Orb4bPwEa1zs74PRicQflDmA8avfH3A6/fThM+4tBagzRPCz+u0/9prLOmHVTlO8J/wFlLv4M9S8rx8w5QxJhEi4Z2XrfzoB17t4PldjUzB3sU2FFiZ2r5fO+S+E/BvWCe/gLYcfUIrDSJp9NRm6HTzHA1bNVRCe/DxKKdZWqpM9hB508D+AUb82wzg78PD9nRu0JTB1HYOfonsLx+Anye+T6xgOJg3wdvgs+yw8CyYi34Khh3TEeL2EPi0aQqg7EOHtoA8lnZHnRKVBSIAlEgCkSBKBAFokAUiAJRYMgpQAWw3aDs599sBLWxaDUTiz0EnG1zD1ipvrItAuFFwU7Va+r1m0a+9nrxo0AUGLgKcP/OAnYWeY8fC+3Zp41vCliWDpFeXEr0slP6l1B9Ihlrg/yj8Gtoz3Bsyk7ibwGvxRjYA9rldOP34jQ6flU0LI2fM+GPBp9bziLxWqj127A32Dnl1xZOAuOuAWel2vB/IPwB3GaZThSVdM8BdvCrWdVRip0blocRMG/RBT9lRRFjEm1bQ3w7Oez42BOcRbpE2S2+Hf0OyvB97UpYBOzwPgFs6Pd6iR3ci5XtYiesAHqlzJ2wTD2ugXYOsjwHvgOfhB/AS3A95GsKParWu0h07JI/CdtB/WdY0z1hNwIHXDgb1QEvs9bxzkYv5cLf8H0evghn9u4MOnNtdMpnZTvz0ifVUSAKRIEoEAWiQBSIAlEgCnSiAlQCnUViI/EVcBc0v5eDb2PdrWAl+9q2PoSng8PBkeT7tZfFjwJRYHApwD1sg/ud4CCKvQbX2Q/Ms0XHeeFisCPuXFjcM8XaOWeZeirM3D57wnZ6OGDlOngc7oBF2+vEnzQF0NGBAjbk25D8KRjhnrCj4GnwmhxUxw3HPx+8H4z/J/wD7Lha3XU69Y/0LwF2yqnN+3vSgfhmQEBPyxPXOwXQ88PwLDiz7Bl4AewYaXTG97pcAubXL8OM4HvaCrAX7AD5DG3vpM/ak6EA+c0BF1eBefINcEZ09fvRk7HbbForgJZN5ym+M0hXh6vh+CISvu8UW8AjMAZ2hGo7rM9Br82D8CFYtrVds+8SF/s/BdCqKXv/FxsvCkSBKBAFokAUiAJRIApEgSgQBYakAnWl+XWso8J/Ad0b9D9M3ENgo52V7eXAUeVHgSOWnUm10JAUJ4mKAh2kAPexAybstLNBbcUOSvpkJxW9msa0bv5ihO2083N5J8JM8G7wU5vq/FnDngB2bvg/eA5szNwLXOeAyT7B7EB9ncGnthdC1ZGEnR52BjtIfQ4uV6TCXxW+DV6DK2ETmMnl2I5uXCb968NboDbVZyGLbrGTrwCaNjP/8XeBV+B3YH50lpi6HwtdZvERXgV+ApY3h0I122zyzyh7iAKTpgB5cBpYG+zcW37S9pKtxqUAmi4It4GDWf8Nlg0XQfMFAPwZwJnrPufugveX/eF/HyzL21/EaLYt68VGgSgQBaJAFIgCUSAKRIEoEAWiQBToCAWoII+rkd/OUCveznCoZtdg2w14uxG+E6yYizOq/gN2uJbf4Gr23RFiJpFRYAgqwP28E3x+CCatT5OERqOgdHw2ZR9x68DRYGfpZmDj8bJwO1jGlhmOrncTWJ4+CpeB69iJZ+eqHXvOKLMj5Bx4BzTH6dPEdMjO0O8joN6bmWTswuDvvzkj9c8wPxj3iSIJvp2mvwZn/u0B1TUotqzXiRYNDoavdGLap1aa0df8+GnwXavqfMJuDX8Ey4odup8LcRvDHeB7mnm2ozv7u+uTcBQYzApwP1edm1jfLRaAu8GZvQ7U0rcj1XeJ6reQS1oJOxvYsuQN+CGs0lqWQbBFjNgoEAWiQBSIAlEgCkSBKBAFokAU6FwFqCx3aUTrIfw14mxctqGumtWArTpRsTbe+/nDj8NZ8FnYu6iJ33S2lrjYKBAFBrcC3NeZhdDDJUSXrcCy8gZo/+ajjZPO5HCZvAonuQvs+vAwOGt/+zrOmSOfgT+Bn+R8EM4th8R3Npn7OazExU5YAfTq0tFcwtgPgHo6E2dW+BLYyfQTKB2j5Tm4YTkSy3aAR+AJ2BS6PEvLep1s0SRlRR9kgKIjdlr4Kdi5/3f4dHv3hO0YfRosT6rfOuy2fC/iH4KR7fj4USAKDA0FuLcdYOU7hJ2nu5sq7DA4F3zOnQ9dOkYNw2ngcjtcFy5q4Oe5VsSIjQJRIApEgSgQBaJAFIgCUSAKRIHOU6BdMcZ3xs1lYEfpEVA1sGHnhKvBivWFRSV8O0+7NEiXZVqWpdLdFiR+FBgCCozvnh8CyZusJKDNdHABWFaeAzPCtvAcXAp2buwI/wDX+aQHxO4KfkLvHmh30M1NeBFoPreJvxJcBe5j3ck64Q7aGK2q5xHW2Tlel+b5hL82eD0egB/V/lfb8hB3ZB2/coknbGfWgfAM/BHWKstiq3w9zveD6DNxCpCnGg3xlwbfx8yLT8IbcDyYp5vfMMX3Xc5BGr+HJTwSttoP1jJqjok7etaKAlFgoCvA/dx+lu1O2GfZXXBb+9wJLwffBQcHHQfVV4LKOoQtXxw0dFaJi40CUSAKRIEoEAWiQBSIAlEgCkSBKBAFUIDKso3JN8Fb4Kd6bci3Av4K7KxI2MXhNjD+mAgXBaJAFIgCYytA+Tg73FCXlQdhvwD3wdJlbfxV4SWwPN3OeOyn4HVw21XLuvWyTYjzM7N21l0PltUph9sijcdHq9J5tCi+s29Gwy1wDJRlX8X3esiR7d0Rdlbqz8BOq3nqa1K283p7jd1u0/Z28aPA5ChAfmpm7+LvXOexb7hP/DPrsB0lVUcItvx+78z4X6qX/wBb5dnJOZdsGwWiwMBTgHu7eg55ZvhzwCrgp+V9l/gzDGufNeF1wbqc9TvfKWbstny+EmZZs+8SFxsFokAUiAJRIApEgSgQBaJAFIgCUaBjFGhXjPH3gpfhkzAC5gcb818AK9m7KAzWivdDYENx6VhtGvg6RrwkNApEgSgwHgUoHy1H7wE7Ol+D6rdjsc1MMfwdwbLU39C0Q9Vlp4Ozyq6BER4CuyT8HVz3RRgDo1yWv4lXAM3WB2cCq6WfRraB+fSyB3wHCY0GdT4eZnIZdkE4Gnwefh2amX6tbRcmfqkSjo0Ck6sA+anpvMCfB8bAjfAh94214/4qML9eWo6HX35eYSH8i8Hll8FY+bZsExsFosDgVYB7eyb4A5xqKrA7wR/B+ltVXrRTR5y/lWznqp/53hLGKhuIS92uLVr8KBAFokAUiAJRIApEgSgQBaJAFOhMBaggbwbng43CN0OXCjPhveAJcNZN9Xs52F3gH2CnQH5DqzOzTlIdBaLABBSgfFwb7gU7MC6C0iHX7hg5ol5+P9aOOmeQ/AzuhFnKIfDfA/vDVrBkiY+dOAXQzA7qR+B2+CD4+fm5um9N3Ipg56rXzGtyXW3fxl4LzbXrvm3CUWBKKECe+yZcAnaIbNg+BmE7/X8O5tdjyzL86l0Oa352ttnhZVlsFIgCQ0sB7u/pwXrajSVl+H79wq8J+dxbocRrCb8T9oan4W+wcnt5/CgQBaJAFIgCUSAKRIEoEAWiQBSIAlEABagwTwc/BhvenPF0mcJgbViufk+n9o/Euk712bh6HWeqGvc1w/mLAlEgCkSBsRWgjNwV/H1MGzGbRkr89m+WnUfY8vQmsCF0/rInfGeldhnYUpbFjlsBNKtm4ZU1CH8CHPSzbSvOz5wOgxPhJChfVXC237ng70c6W/UW+HRru+balbjYKDAlFCDfjYDRYAe+rONxsL6nlU7StfAfAMuQ3cvycj7EzV382CgQBYaeAtzj1uccCGsZ8AFTiPX3uY+Ht+BWWLiOrwYBEfaz9J+DG2CGoadKUhQFokAUiAJRIApEgSgQBaJAFIgCUaCXClBBHqsRnrhlwMZhK93XuktsqVwX66ehbPz/LcxRDou/WfFjo0AUiAJRYGwFKCftAD0c7PxwZmm7c7Tp5CO+zCLbruyFuHTUFTF6Ydu64e/mptivwsuwSh3eEf8bYOe2z7/CAfXydxHntZsRZjXOP/xck/9Kkf9TSAHzXXvXhDeE68E8+gWo3sOwzXr4O4CzzRwksJbbY5NX20LGjwKDXAHu6eadoSSFuFJX83fSLSOOa8XNhV86Vi/Hn83tWstnb+1nrDpiWRYbBaJAFIgCUSAKRIEoEAWiQBSIAlFgyCtAZblqSLPSDNO3E0x4AyizF8rI5bJ+tS7Lr4Z/wZzQpVGO8FgV+vb+40eBKBAFOlkBy0g4G2zcvADan+atyk/inPW4fSfrNLlpR792h9K8hP3kqZovBzvXvh2md9W+y5x9czQcAP7GqZ9B7DJjj3BpoG72P7nnmu2jQFsB8lj396oueY3l28H9YP719wtLudFsR9zB4GwzaQZqtI8TPwpEgcGvAPe3gyoWNCXYUl/zs7y3guVEu1xYgvD3wOedX1uYrrsCxKXztLsoCUeBKBAFokAUiAJRIApEgSgQBaJA5yhAxbg0/g7HtyP053ARrA5lmY3Lzl6w8XhJ1cGWz8PNgv8HuL1zVEtKo0AUiAJ9pwDlp+XoD8FGzGOhGXjS9j0i4TRmTob06KfWR4KdTX66t+oQxZ4Mz8FDcDN8ENqzS21k9jfhFp2Mw2fTKNArBchv7c6OXQifA6PB97RR7gzrJ3v3BvPvPbBmOQh+uyxxoMa3y7LYKBAFho4C3utwJfgecSNUX1Qwhfh2oH4OXLZHO9WEre9Z93PZfu1l8aNAFIgCUSAKRIEoEAWiQBSIAlEgCkQBFKDCvDL4W27/hmfBSvTvoJnxhH8YvA4PwKrgp3sXgePB30h15PI0kMb95KooEAWiQC8VoOy0PL0T/gN79XLzrD4RCqDrlvA42EF6VfdNiHs3zA0zt5cRXgYehOugy1ca2uvFjwJ9qQB5rZlpin8BvA1+7eMv4HuaGL8k+JuGDgzwPe0nsEw5F/wyI7XpTC3LYqNAFBicCnBfN+VDSQFx68NFYNnwIpwCK7gcuxS8Al+pw015QJyfrb8NqnXL/mKjQBSIAlEgCkSBKBAFokAUiAJRIAp0pAJUkMvs0WJPJe73sAX4OadD4TX4Dby/iIR/Glgpfx7GwGNgY78zp8aqyJftYqNAFIgCUWDCClCOvg/s4LOcXXHCW2SN3iiApn7e1OeW+v60bIvfNCQbR3gV2LD218W/CHzWZXZOES12qihAnnN2qe9edp5qHfDmbLKt4Mdg/GXgZ6nt/D8LzN8XwsJT5SRzkCgQBaaqAtzbzWBVfAe1HggHw0hPBOuXgxzwY1nwV9gNFgLLBwfLVmUDtj3Dvfp8L3HNvqdqonKwKBAFokAUiAJRIApEgSgQBaJAFIgCA0EBKsZNQzH+7DAHfBdOKueHPyscBVa87RxdyWXY2eDb8Cr4e3C7wE6t7ZqKeImLjQJRIApEgYlXwDIVPj/xW2TNnhRAw7EG9RA3M+wBzuB7Drbrvi1xw6E0PD+M74AhZ+38X/d1E44CU1oB8t2c8AA4O2zO9vEI+/u9l4Od+4e4DLssXFHHnYGdo71N/CgQBQa3AtzTzbMN/zCwPmZ9TV6CYVCtgz0S/gRvwbXgJ8AfgY8XFfDb+2v8sjw2CkSBKBAFokAUiAJRIApEgSgQBaJAxyhAJbnMOPVTuxfA3TAGrHDvrhDYss5c+F8HK+TfgBH1cj8Vd0sdf7Rx/hFuOmb/G5P/USAKRIEoMDkKUK5mJsgkCFh087lUMwu2zK7x2XY4+Ol5P3U61kxf4jaDG+B6cCbf+uU08HNNihixU1wB8ptfBvE97HgPhjVPN3kQfzW4H+xknaFeZy38P8LtJW6Kn2gOEAWiwFRVgHv7M/AmXAw7wJqwhSeBbQa04vtlodPgH+BgC8uT8+r10mE6Va9aDhYFokAUiAJRIApEgSgQBaJAFIgCA1IBKspNBRnfWae/BCvdj4IVaivTl8N87QQQXhScgfoWnATVTAasjXM22Lld9Vt92OYY7X3EjwJRIApEgd4rkDJ18jRDvxXA59odcB/4LLOBeQbwOVg+deoAocXK0fCrZxm2+q3TlnXgUZ5zRajYPlWAvNV0eLR3TPwa4PvaKe344hNvvvw6+D72wVb8ysWPjQJRYGgpwL3uTHPrcM4qfXc7dYStuzmwovp6UFlGeHMozz3Li5QRRZzYKBAFokAUiAJRIApEgSgQBaJAFIgCRQEqzBvDk7Av+PneHeHX8CL4GzrVDIbW+ssTdyf4GcNjoGrkw24Df4fX4P1l/dgoEAWiQBSIAv2pAM8kZ+P4bPIzvXdBGfDjM+tYmBEWhu+CnVMnwryeM7Z8hSGdpf15ETvo2OS5pvMUfyf4RG2HY/3dQmeNPQ4r1Hm0dPJPW4dHscwOkY07SLYkNQp0rALc6xuAg1s/pgjYd8FWcDJYn3OZZcKB3UUibr962SfqbfOs6y5SwlEgCkSBKBAFokAUiAJRIApEgSjQeQpQWd4e7oFz4MaiAP508AFwJLNsB01lWh+sqNvIfCk0n+rFt8PVCrozfJr4su/YKBAFokAUiAJTUwGeReuCHaX+ZuTmHhvr73rvAf4W3KtwaB2/Ir7rlQFEM0/Nc82xokBRgDxoB8j14DtVwU/w2oFqh6pxZ8PCboOtZkjX/uWE/w2Llv3FRoEoMHQV4F73OWeZ4Ke6DwI/Oe+gIQdbGHc1PAt2pFYzVLHtT3/7VYbrh65CSVkUiAJRIApEgSgQBaJAFIgCUSAKRIFeKGClGQ6FF8AKd5dKM2E/abgXOMvUztDm9948DGEb9t5XDonfni2xD+E0OhdxYqNAFIgCUaDfFOB5dCTYiLx1+yQI+xxbG/4CD8IaLsduCjY4+/zbHZoBRO3t40eBvlTAfFbyGta8+S34G3wRRsEl4PuaHfx+jvPbddjO0jk9F+y0sD84YMAOk5kh+bcvL1T2FQUGqALc618By4jCb/Cdhbqkp4z9eL1sjzpsXbB8YeEH+H+FBUrcAE1mTisKRIEoEAWiQBSIAlEgCkSBKBAFosCUVaBUjLFzwWfA3zxtGo/L0YmbA46AN+CHUH0qriwvlvhqpim26UQty2KjQBSIAlEgCvSHAj6ban6FtTO0fJK36VAizgZkO5z8osLxnid2RhgFz8CG/XHuOWbnKkCeey+Yd38Hp0HzMwr4pdPUT02/D34GdpY8Aj8BP0/trLM/wIKdq2JSHgU6UwHu+z1hN/BLQs2zTjUIO5jIOt1abXUIbwIOuvCLDE15014nfhSIAlEgCkSBKBAFokAUiAJRIApEgSGrAJXhMrq4S0XaBLNscfATcDbAXQALtYUwDGeCFe4rYHh7efwoEAWiQBSIAv2tAM+m5vnW9j0vws7Qexnmr8PNZwvr8PIs+yfcDTPVcX7idx79/EWBqaUAec686PvY4/AwzOexse3P895J2HX8bUNnnPqOZt71U9R2oH4FMqBtal20HCcKDEAFKAMchFGVH54evh2qfwYHFFWf/a7jZyNcypTjBmBSckpRIApEgSgQBaJAFIgCUSAKRIEoEAWmjAJUiNsNyu8hfDpcA9+H46B88s1lxr0Nzkido31GhN8NN4KNeWlQbosTPwpEgSgQBaa6AjyLRkH5Hbf2s24d4o+GE2BLTwz7abDD6SvlRPGbTxfW6/h737+ApqOqjm/2XbaNjQJTSgHyn50eDmazQ98OUWeGVXkQO63Hxc4Lzo42T+9bzgV/Qaje60pcbBSIAp2nAOXA9HAQ2Flq3e8yeAyehWb2KX4pW5bD37TzlEqKo0AUiAJRIApEgSgQBaJAFIgCUSAKoACV4p3gpZqnsc+DDW+/h3UVCbsm3A7O0tkHZmyLR3jp7nHt5fGjQBSIAlEgCkwNBXgWbQU+w26A6rO8HhffjtK3wGXip0ztTHWWngOAXoePdj9H4raAN+Gz3ZclHAWmtgLkQ2c/O9jNPPxFaDr18ctPJqxSL/fdbs9yjvjp8C9ixEaBDlXAcgCccfpv8LnnbylfD8OUBJtyokPzRpIdBaJAFIgCUSAKRIEoEAWiQBSIAt0UoJJsQ7MV6Jtga5gdloILwdkNdqKu4mbYbeBB+CvYoFw11LV3SVw+C9cWJH4UiAJRIApMVQV4Dk0HztKzg+kcmBG2hefgUtgDdoR/gOvsDyuBn6L3SwuHwOyeNHZT+Ck4M2eDqZqQHCwKjEMB8uIicAeYX0e1VyNcvYdhdwDz90MwW3ud+FEgCkQByoXFwc+CrwDl51xSj0vWiAJRIApEgSgQBaJAFIgCUSAKRIEoUBSgwnwevAAbljgtYT8BdxTYiXpVHecsnX3BDlRn66zT3iZ+FIgCUSAKRIGBoADPJwcDOQPVDiQ/VfgFuA+WLueHvyo4Q891HEy0HrxVh/+CvR8cYGTH6q5lu9goMBAUIE++Dx6Df8HG5Zzwm9lj+AdC9Snrsjw2CkSBKNCTApQVXX7/u6d1EhcFokAUiAJRIApEgSgQBaJAFIgCUaAjFKCS7O9ozQHOqrm9JBq/3fC2KOErwcbl7VwHOxucCK/A2mW72CgQBaJAFIgCA0kBnlEj4B6wU9TP9X7e88P6+cLye5EfwvcZZyfUkuBsnDPgQbgFLoaVS7rwm2dkiYuNAv2lAPlxGzDvOst0+XIe+JlFVsSIjQJRIApEgSgQBaJAFIgCUSAKRIEoEAWiQBSIAuNSgIY0G4urRl9s9VtZ2PKppj/hOytnBrfHdmkcJrwt2Lh8blmGnR8WGtfxEh8FokAUiAJRYCAowLNqbbgXfI5dBDN5XtjmWYd/BLjc5+HC9fI5a1s6Wt/BsmYbl+UvCgwEBciXh4KDBG6CKv8OhPPKOUSBKBAFokAUiAJRIApEgSgQBaJAFIgCUSAKRIEBrQCNac3nmPA3gm/CLWBDm52jN4INx7uXhODb4Vr9vil2GDhz5+KyvFji0phcxIiNAlEgCkSBAakAz6pd4Rl4BNqzSZtZesSfBz4LR0PVyVoSQzjPuiJG7IBTgPz5TjgNzL/fgarTf8CdaE4oCkSBKBAFokAUiAJRIApEgSgQBaJAFIgCUSAKDEQFaFBzhsKb8AQ44/RFOAc2rf1bsGN9kobVrvEAAAE3SURBVJe43cFGuY8MxHTlnKJAFIgCUSAKjE8Bnl8OCjoc3oafwfxlffxqsJBh/J+Dz7sdyvLYKDAYFCDPzgxXw1aD4XxzjlEgCkSBKBAFokAUiAJRIApEgSgQBaJAFIgCUWBAKECD2gfA38j6PqzqSWGXgpVhFjgJ/PzbaNi8nDT+hvBLeAyaWTtleWwUiAJRIApEgcGgAM8wf/f7bLCD9AKYpZw3fvniwjz425f42CgwmBQg7zYzqgfTeedco0AUiAJRIApEgSgQBaJAFIgCUSAKRIEoEAWiQL8pQKPaKfAqjOzpJIifFc4CG5Zfhh/BT+EpeAM+1NN2iYsCUSAKRIEoMFgU4FnmgKEfgs+6Y6E9+7TxTQ/Lms/fD5b05TyjQBSIAlEgCkSBKBAFokAUiAJRoDMU+H8FiEyJGntl7gAAAABJRU5ErkJggg==\" width=\"936\">"
      ],
      "text/plain": [
       "<IPython.core.display.HTML object>"
      ]
     },
     "metadata": {},
     "output_type": "display_data"
    },
    {
     "data": {
      "application/vnd.jupyter.widget-view+json": {
       "model_id": "49899261f8d349c6bd47b0c73c6e17ff",
       "version_major": 2,
       "version_minor": 0
      },
      "text/plain": [
       "A Jupyter Widget"
      ]
     },
     "metadata": {},
     "output_type": "display_data"
    }
   ],
   "source": [
    "## High-resolution plot outputs for Retina notebooks\n",
    "#%matplotlib nbagg\n",
    "#%matplotlib inline\n",
    "%config InlineBackend.figure_format = 'retina' \n",
    "fig, ax  = plt.subplots(1, figsize=(13,5))\n",
    "## manupolate dataframe \n",
    "#df.resample('W').sum().plot \n",
    "\n",
    "# Set up a widget to manipulate RMSE by changing training/testing percentage of df\n",
    "perc_training = wg.FloatSlider(min=0.05,max=1,step=.01,description='% of training dataset:')\n",
    "n_ne = wg.IntSlider(min=2,max=10,step=1,description='n_neighbors parameter:')\n",
    "wg.interactive(knn_model, perc_fig=perc_training, n_neigh=n_ne)\n",
    "#knn_model(.8, 5)\n",
    "#display(perc_training, n_neigh)"
   ]
  },
  {
   "cell_type": "markdown",
   "metadata": {
    "extensions": {
     "jupyter_dashboards": {
      "version": 1,
      "views": {
       "grid_default": {
        "col": 0,
        "height": 9,
        "hidden": false,
        "row": 57,
        "width": 12
       },
       "report_default": {
        "hidden": false
       }
      }
     }
    },
    "slideshow": {
     "slide_type": "slide"
    }
   },
   "source": [
    "### Key take away from the univariate Knn model\n",
    " - The univariat Knn model applies one feature each step at a time to predict the \"target\" car price\n",
    " - By changing the widgets sliders, we can view the best univariate Knn model (i.e with lowest RMSE value compared to other univariate Knn models) as follows;\n",
    "- at 50-50 training/testing with default n_neighbor parameter (k = 5), the best univariate model  is with a \"height\" independent var, while setting training/testing with default n_neighbor parameter (k = 5) at 80-20, the best univariate model revealed with a \"compression\" independent var.\n",
    "- Increasing n_neighbor parameter doesn't countribute to the performance \n",
    "- Having build a slide widgets linked to the univariate Knn model gives another perspective of the best univarite Knn model with lowest RMSE testing procedures\n"
   ]
  },
  {
   "cell_type": "markdown",
   "metadata": {
    "extensions": {
     "jupyter_dashboards": {
      "version": 1,
      "views": {
       "grid_default": {
        "col": 0,
        "height": 4,
        "hidden": false,
        "row": 70,
        "width": 12
       },
       "report_default": {
        "hidden": false
       }
      }
     }
    },
    "slideshow": {
     "slide_type": "slide"
    }
   },
   "source": [
    "### Building multivariate k-nearest neighbors models: Predicting car prices   "
   ]
  },
  {
   "cell_type": "code",
   "execution_count": 10,
   "metadata": {
    "collapsed": true,
    "extensions": {
     "jupyter_dashboards": {
      "version": 1,
      "views": {
       "grid_default": {
        "hidden": true
       },
       "report_default": {
        "hidden": true
       }
      }
     }
    },
    "scrolled": true,
    "slideshow": {
     "slide_type": "slide"
    }
   },
   "outputs": [],
   "source": [
    "# Multivariate k-nearest neighbors \n",
    "\n",
    "## Building Multivariate k-nearest neighbors function\n",
    "def multi_knn_train_test(df,features_cols, target_col,prec_train, n_neighbor):\n",
    "    \"\"\"\n",
    "    Multivariate KNN model\n",
    "     - feature_nme: a col. that used as a feature input\n",
    "     - target_nme: a col. to predict \n",
    "     - df: dataframe input\n",
    "     - perc_fig: a '%' used to set up training/testing samples\n",
    "    \"\"\"\n",
    "    # Set up training /testing set\n",
    "    #features_cols = [col for idx, col in enumerate(list(df.columns)) if col != target_col]\n",
    "    perc_train_test = round(len(df[features_cols])* prec_train)\n",
    "    training_set = df.iloc[:perc_train_test]\n",
    "    testing_set = df.iloc[perc_train_test:]\n",
    "    \n",
    "    # Set up Multivariate k-nearest neighbors models\n",
    "    knn = KNeighborsRegressor(n_neighbors = n_neighbor, algorithm='brute')\n",
    "    fit = knn.fit(training_set[features_cols], training_set[target_col])\n",
    "    predicts = knn.predict(testing_set[features_cols])\n",
    "    RMSE = np.sqrt(mean_squared_error(testing_set[target_col], predicts))\n",
    "    #MAE = sum(np.abs(predicts - testing_set[target_nme])) / len(testing_set)\n",
    "    #RMSE_prop = RMSE/MAE\n",
    "    #results = {'RMSE':RMSE, 'MAE':MAE, 'RMSE proportion':RMSE_prop}\n",
    "    return RMSE\n",
    "\n",
    "## Link a float slide widget to multivariate Knn model\n",
    "def multi_knn_model(n_neigh, perc_fig, rand_n):\n",
    "    \"\"\"\n",
    "    apply knn func \"knn_train_test\" to find best multivariate model for \n",
    "    each random set of features\n",
    "    Inputs:\n",
    "    ________________\n",
    "       - n_neigh: int\n",
    "           n_neighbor parameter in Knn func.\n",
    "       - perc_fig: float\n",
    "           % of dataframe splitting up training and testing set\n",
    "       - rand_n: float\n",
    "           random 'n' number iterations tp run Knn model\n",
    "   Outputs:\n",
    "   _________________\n",
    "       - list of average RMSE\n",
    "    \"\"\"\n",
    "    ## create random, nonrepetitive pairs from a list of columns\n",
    "    #for iteration in range(rand_n):\n",
    "        #multi_col_rnd_selection = {idx:np.random.choice(cars_normalized_df.columns, idx, replace=False) for idx, col in enumerate(cars_normalized_df.columns)}\n",
    "        #multi_rnd_selection_excpt_0_1 = [item for item in multi_col_rnd_selection.values() if len(item) > 1]\n",
    "    ###################### New set up#######################   \n",
    "    result_1 = {}\n",
    "    features_cols_lst = [col for idx, col in enumerate(list(cars_normalized_df.columns)) if col != 'price']\n",
    "    for idx, col in enumerate(features_cols_lst):\n",
    "            x = np.random.choice(features_cols_lst, idx, replace=False)\n",
    "            result_1[idx] = x\n",
    "    res1 = [item for item in result_1.values() if len(item) > 1]\n",
    "            \n",
    "    ## Applying \"knn_train_test\" to find best multivariate Knn model based on random feature selction \n",
    "    ## Iterating thru each multi-col selection \n",
    "    RMSE_total = {}\n",
    "    for i in range(rand_n):\n",
    "        RMSE_RES = {}\n",
    "        for idx,pair in enumerate(res1):\n",
    "            RMSE_RES[len(pair)] = multi_knn_train_test(cars_normalized_df ,pair ,'price',perc_fig ,n_neigh)\n",
    "        RMSE_total[i] = RMSE_RES\n",
    "    lst_rmse = []    \n",
    "    for i_1 in range(len(RMSE_total.keys())):\n",
    "        x = list(list(RMSE_total.values())[i_1].values())\n",
    "        lst_rmse.append(x)\n",
    "    avrg_rmse = [sum(n)/len(n) for n in list(zip(*lst_rmse))]   \n",
    "    avrg_rmse_plt_df = pd.DataFrame(avrg_rmse, columns=['Avrg RMSE'] ,index=list(list(RMSE_total.values())[0]))\n",
    "    \n",
    "    ## Plotting RMSE of multivariate Knn model\n",
    "    #ax.clear()\n",
    "    #avrg_rmse_plt_df.plot(kind='bar', title='AVRG RMSE for N random iteration')\n",
    "\n",
    "    ## Plotting RMSE of multivariate Knn model\n",
    "    ax.clear()\n",
    "    ax.bar(avrg_rmse_plt_df.index,list(avrg_rmse_plt_df['Avrg RMSE']))\n",
    "    frm_color = 'white'\n",
    "    ax.tick_params(color=frm_color, labelcolor=frm_color)\n",
    "    for spine in ax.spines.values():\n",
    "        spine.set_edgecolor(frm_color)\n",
    "    plt.style.use('seaborn')\n",
    "    plt.title('Avrg RMSE for Knn model with n random Iteration', color='white')\n",
    "    plt.show()\n",
    "    "
   ]
  },
  {
   "cell_type": "code",
   "execution_count": 29,
   "metadata": {
    "cell_style": "center",
    "extensions": {
     "jupyter_dashboards": {
      "version": 1,
      "views": {
       "grid_default": {
        "col": 0,
        "height": 2,
        "hidden": false,
        "row": 41,
        "width": 12
       },
       "report_default": {
        "hidden": false
       }
      }
     }
    },
    "scrolled": true
   },
   "outputs": [
    {
     "data": {
      "application/javascript": [
       "/* Put everything inside the global mpl namespace */\n",
       "window.mpl = {};\n",
       "\n",
       "\n",
       "mpl.get_websocket_type = function() {\n",
       "    if (typeof(WebSocket) !== 'undefined') {\n",
       "        return WebSocket;\n",
       "    } else if (typeof(MozWebSocket) !== 'undefined') {\n",
       "        return MozWebSocket;\n",
       "    } else {\n",
       "        alert('Your browser does not have WebSocket support.' +\n",
       "              'Please try Chrome, Safari or Firefox ≥ 6. ' +\n",
       "              'Firefox 4 and 5 are also supported but you ' +\n",
       "              'have to enable WebSockets in about:config.');\n",
       "    };\n",
       "}\n",
       "\n",
       "mpl.figure = function(figure_id, websocket, ondownload, parent_element) {\n",
       "    this.id = figure_id;\n",
       "\n",
       "    this.ws = websocket;\n",
       "\n",
       "    this.supports_binary = (this.ws.binaryType != undefined);\n",
       "\n",
       "    if (!this.supports_binary) {\n",
       "        var warnings = document.getElementById(\"mpl-warnings\");\n",
       "        if (warnings) {\n",
       "            warnings.style.display = 'block';\n",
       "            warnings.textContent = (\n",
       "                \"This browser does not support binary websocket messages. \" +\n",
       "                    \"Performance may be slow.\");\n",
       "        }\n",
       "    }\n",
       "\n",
       "    this.imageObj = new Image();\n",
       "\n",
       "    this.context = undefined;\n",
       "    this.message = undefined;\n",
       "    this.canvas = undefined;\n",
       "    this.rubberband_canvas = undefined;\n",
       "    this.rubberband_context = undefined;\n",
       "    this.format_dropdown = undefined;\n",
       "\n",
       "    this.image_mode = 'full';\n",
       "\n",
       "    this.root = $('<div/>');\n",
       "    this._root_extra_style(this.root)\n",
       "    this.root.attr('style', 'display: inline-block');\n",
       "\n",
       "    $(parent_element).append(this.root);\n",
       "\n",
       "    this._init_header(this);\n",
       "    this._init_canvas(this);\n",
       "    this._init_toolbar(this);\n",
       "\n",
       "    var fig = this;\n",
       "\n",
       "    this.waiting = false;\n",
       "\n",
       "    this.ws.onopen =  function () {\n",
       "            fig.send_message(\"supports_binary\", {value: fig.supports_binary});\n",
       "            fig.send_message(\"send_image_mode\", {});\n",
       "            if (mpl.ratio != 1) {\n",
       "                fig.send_message(\"set_dpi_ratio\", {'dpi_ratio': mpl.ratio});\n",
       "            }\n",
       "            fig.send_message(\"refresh\", {});\n",
       "        }\n",
       "\n",
       "    this.imageObj.onload = function() {\n",
       "            if (fig.image_mode == 'full') {\n",
       "                // Full images could contain transparency (where diff images\n",
       "                // almost always do), so we need to clear the canvas so that\n",
       "                // there is no ghosting.\n",
       "                fig.context.clearRect(0, 0, fig.canvas.width, fig.canvas.height);\n",
       "            }\n",
       "            fig.context.drawImage(fig.imageObj, 0, 0);\n",
       "        };\n",
       "\n",
       "    this.imageObj.onunload = function() {\n",
       "        fig.ws.close();\n",
       "    }\n",
       "\n",
       "    this.ws.onmessage = this._make_on_message_function(this);\n",
       "\n",
       "    this.ondownload = ondownload;\n",
       "}\n",
       "\n",
       "mpl.figure.prototype._init_header = function() {\n",
       "    var titlebar = $(\n",
       "        '<div class=\"ui-dialog-titlebar ui-widget-header ui-corner-all ' +\n",
       "        'ui-helper-clearfix\"/>');\n",
       "    var titletext = $(\n",
       "        '<div class=\"ui-dialog-title\" style=\"width: 100%; ' +\n",
       "        'text-align: center; padding: 3px;\"/>');\n",
       "    titlebar.append(titletext)\n",
       "    this.root.append(titlebar);\n",
       "    this.header = titletext[0];\n",
       "}\n",
       "\n",
       "\n",
       "\n",
       "mpl.figure.prototype._canvas_extra_style = function(canvas_div) {\n",
       "\n",
       "}\n",
       "\n",
       "\n",
       "mpl.figure.prototype._root_extra_style = function(canvas_div) {\n",
       "\n",
       "}\n",
       "\n",
       "mpl.figure.prototype._init_canvas = function() {\n",
       "    var fig = this;\n",
       "\n",
       "    var canvas_div = $('<div/>');\n",
       "\n",
       "    canvas_div.attr('style', 'position: relative; clear: both; outline: 0');\n",
       "\n",
       "    function canvas_keyboard_event(event) {\n",
       "        return fig.key_event(event, event['data']);\n",
       "    }\n",
       "\n",
       "    canvas_div.keydown('key_press', canvas_keyboard_event);\n",
       "    canvas_div.keyup('key_release', canvas_keyboard_event);\n",
       "    this.canvas_div = canvas_div\n",
       "    this._canvas_extra_style(canvas_div)\n",
       "    this.root.append(canvas_div);\n",
       "\n",
       "    var canvas = $('<canvas/>');\n",
       "    canvas.addClass('mpl-canvas');\n",
       "    canvas.attr('style', \"left: 0; top: 0; z-index: 0; outline: 0\")\n",
       "\n",
       "    this.canvas = canvas[0];\n",
       "    this.context = canvas[0].getContext(\"2d\");\n",
       "\n",
       "    var backingStore = this.context.backingStorePixelRatio ||\n",
       "\tthis.context.webkitBackingStorePixelRatio ||\n",
       "\tthis.context.mozBackingStorePixelRatio ||\n",
       "\tthis.context.msBackingStorePixelRatio ||\n",
       "\tthis.context.oBackingStorePixelRatio ||\n",
       "\tthis.context.backingStorePixelRatio || 1;\n",
       "\n",
       "    mpl.ratio = (window.devicePixelRatio || 1) / backingStore;\n",
       "\n",
       "    var rubberband = $('<canvas/>');\n",
       "    rubberband.attr('style', \"position: absolute; left: 0; top: 0; z-index: 1;\")\n",
       "\n",
       "    var pass_mouse_events = true;\n",
       "\n",
       "    canvas_div.resizable({\n",
       "        start: function(event, ui) {\n",
       "            pass_mouse_events = false;\n",
       "        },\n",
       "        resize: function(event, ui) {\n",
       "            fig.request_resize(ui.size.width, ui.size.height);\n",
       "        },\n",
       "        stop: function(event, ui) {\n",
       "            pass_mouse_events = true;\n",
       "            fig.request_resize(ui.size.width, ui.size.height);\n",
       "        },\n",
       "    });\n",
       "\n",
       "    function mouse_event_fn(event) {\n",
       "        if (pass_mouse_events)\n",
       "            return fig.mouse_event(event, event['data']);\n",
       "    }\n",
       "\n",
       "    rubberband.mousedown('button_press', mouse_event_fn);\n",
       "    rubberband.mouseup('button_release', mouse_event_fn);\n",
       "    // Throttle sequential mouse events to 1 every 20ms.\n",
       "    rubberband.mousemove('motion_notify', mouse_event_fn);\n",
       "\n",
       "    rubberband.mouseenter('figure_enter', mouse_event_fn);\n",
       "    rubberband.mouseleave('figure_leave', mouse_event_fn);\n",
       "\n",
       "    canvas_div.on(\"wheel\", function (event) {\n",
       "        event = event.originalEvent;\n",
       "        event['data'] = 'scroll'\n",
       "        if (event.deltaY < 0) {\n",
       "            event.step = 1;\n",
       "        } else {\n",
       "            event.step = -1;\n",
       "        }\n",
       "        mouse_event_fn(event);\n",
       "    });\n",
       "\n",
       "    canvas_div.append(canvas);\n",
       "    canvas_div.append(rubberband);\n",
       "\n",
       "    this.rubberband = rubberband;\n",
       "    this.rubberband_canvas = rubberband[0];\n",
       "    this.rubberband_context = rubberband[0].getContext(\"2d\");\n",
       "    this.rubberband_context.strokeStyle = \"#000000\";\n",
       "\n",
       "    this._resize_canvas = function(width, height) {\n",
       "        // Keep the size of the canvas, canvas container, and rubber band\n",
       "        // canvas in synch.\n",
       "        canvas_div.css('width', width)\n",
       "        canvas_div.css('height', height)\n",
       "\n",
       "        canvas.attr('width', width * mpl.ratio);\n",
       "        canvas.attr('height', height * mpl.ratio);\n",
       "        canvas.attr('style', 'width: ' + width + 'px; height: ' + height + 'px;');\n",
       "\n",
       "        rubberband.attr('width', width);\n",
       "        rubberband.attr('height', height);\n",
       "    }\n",
       "\n",
       "    // Set the figure to an initial 600x600px, this will subsequently be updated\n",
       "    // upon first draw.\n",
       "    this._resize_canvas(600, 600);\n",
       "\n",
       "    // Disable right mouse context menu.\n",
       "    $(this.rubberband_canvas).bind(\"contextmenu\",function(e){\n",
       "        return false;\n",
       "    });\n",
       "\n",
       "    function set_focus () {\n",
       "        canvas.focus();\n",
       "        canvas_div.focus();\n",
       "    }\n",
       "\n",
       "    window.setTimeout(set_focus, 100);\n",
       "}\n",
       "\n",
       "mpl.figure.prototype._init_toolbar = function() {\n",
       "    var fig = this;\n",
       "\n",
       "    var nav_element = $('<div/>')\n",
       "    nav_element.attr('style', 'width: 100%');\n",
       "    this.root.append(nav_element);\n",
       "\n",
       "    // Define a callback function for later on.\n",
       "    function toolbar_event(event) {\n",
       "        return fig.toolbar_button_onclick(event['data']);\n",
       "    }\n",
       "    function toolbar_mouse_event(event) {\n",
       "        return fig.toolbar_button_onmouseover(event['data']);\n",
       "    }\n",
       "\n",
       "    for(var toolbar_ind in mpl.toolbar_items) {\n",
       "        var name = mpl.toolbar_items[toolbar_ind][0];\n",
       "        var tooltip = mpl.toolbar_items[toolbar_ind][1];\n",
       "        var image = mpl.toolbar_items[toolbar_ind][2];\n",
       "        var method_name = mpl.toolbar_items[toolbar_ind][3];\n",
       "\n",
       "        if (!name) {\n",
       "            // put a spacer in here.\n",
       "            continue;\n",
       "        }\n",
       "        var button = $('<button/>');\n",
       "        button.addClass('ui-button ui-widget ui-state-default ui-corner-all ' +\n",
       "                        'ui-button-icon-only');\n",
       "        button.attr('role', 'button');\n",
       "        button.attr('aria-disabled', 'false');\n",
       "        button.click(method_name, toolbar_event);\n",
       "        button.mouseover(tooltip, toolbar_mouse_event);\n",
       "\n",
       "        var icon_img = $('<span/>');\n",
       "        icon_img.addClass('ui-button-icon-primary ui-icon');\n",
       "        icon_img.addClass(image);\n",
       "        icon_img.addClass('ui-corner-all');\n",
       "\n",
       "        var tooltip_span = $('<span/>');\n",
       "        tooltip_span.addClass('ui-button-text');\n",
       "        tooltip_span.html(tooltip);\n",
       "\n",
       "        button.append(icon_img);\n",
       "        button.append(tooltip_span);\n",
       "\n",
       "        nav_element.append(button);\n",
       "    }\n",
       "\n",
       "    var fmt_picker_span = $('<span/>');\n",
       "\n",
       "    var fmt_picker = $('<select/>');\n",
       "    fmt_picker.addClass('mpl-toolbar-option ui-widget ui-widget-content');\n",
       "    fmt_picker_span.append(fmt_picker);\n",
       "    nav_element.append(fmt_picker_span);\n",
       "    this.format_dropdown = fmt_picker[0];\n",
       "\n",
       "    for (var ind in mpl.extensions) {\n",
       "        var fmt = mpl.extensions[ind];\n",
       "        var option = $(\n",
       "            '<option/>', {selected: fmt === mpl.default_extension}).html(fmt);\n",
       "        fmt_picker.append(option)\n",
       "    }\n",
       "\n",
       "    // Add hover states to the ui-buttons\n",
       "    $( \".ui-button\" ).hover(\n",
       "        function() { $(this).addClass(\"ui-state-hover\");},\n",
       "        function() { $(this).removeClass(\"ui-state-hover\");}\n",
       "    );\n",
       "\n",
       "    var status_bar = $('<span class=\"mpl-message\"/>');\n",
       "    nav_element.append(status_bar);\n",
       "    this.message = status_bar[0];\n",
       "}\n",
       "\n",
       "mpl.figure.prototype.request_resize = function(x_pixels, y_pixels) {\n",
       "    // Request matplotlib to resize the figure. Matplotlib will then trigger a resize in the client,\n",
       "    // which will in turn request a refresh of the image.\n",
       "    this.send_message('resize', {'width': x_pixels, 'height': y_pixels});\n",
       "}\n",
       "\n",
       "mpl.figure.prototype.send_message = function(type, properties) {\n",
       "    properties['type'] = type;\n",
       "    properties['figure_id'] = this.id;\n",
       "    this.ws.send(JSON.stringify(properties));\n",
       "}\n",
       "\n",
       "mpl.figure.prototype.send_draw_message = function() {\n",
       "    if (!this.waiting) {\n",
       "        this.waiting = true;\n",
       "        this.ws.send(JSON.stringify({type: \"draw\", figure_id: this.id}));\n",
       "    }\n",
       "}\n",
       "\n",
       "\n",
       "mpl.figure.prototype.handle_save = function(fig, msg) {\n",
       "    var format_dropdown = fig.format_dropdown;\n",
       "    var format = format_dropdown.options[format_dropdown.selectedIndex].value;\n",
       "    fig.ondownload(fig, format);\n",
       "}\n",
       "\n",
       "\n",
       "mpl.figure.prototype.handle_resize = function(fig, msg) {\n",
       "    var size = msg['size'];\n",
       "    if (size[0] != fig.canvas.width || size[1] != fig.canvas.height) {\n",
       "        fig._resize_canvas(size[0], size[1]);\n",
       "        fig.send_message(\"refresh\", {});\n",
       "    };\n",
       "}\n",
       "\n",
       "mpl.figure.prototype.handle_rubberband = function(fig, msg) {\n",
       "    var x0 = msg['x0'] / mpl.ratio;\n",
       "    var y0 = (fig.canvas.height - msg['y0']) / mpl.ratio;\n",
       "    var x1 = msg['x1'] / mpl.ratio;\n",
       "    var y1 = (fig.canvas.height - msg['y1']) / mpl.ratio;\n",
       "    x0 = Math.floor(x0) + 0.5;\n",
       "    y0 = Math.floor(y0) + 0.5;\n",
       "    x1 = Math.floor(x1) + 0.5;\n",
       "    y1 = Math.floor(y1) + 0.5;\n",
       "    var min_x = Math.min(x0, x1);\n",
       "    var min_y = Math.min(y0, y1);\n",
       "    var width = Math.abs(x1 - x0);\n",
       "    var height = Math.abs(y1 - y0);\n",
       "\n",
       "    fig.rubberband_context.clearRect(\n",
       "        0, 0, fig.canvas.width, fig.canvas.height);\n",
       "\n",
       "    fig.rubberband_context.strokeRect(min_x, min_y, width, height);\n",
       "}\n",
       "\n",
       "mpl.figure.prototype.handle_figure_label = function(fig, msg) {\n",
       "    // Updates the figure title.\n",
       "    fig.header.textContent = msg['label'];\n",
       "}\n",
       "\n",
       "mpl.figure.prototype.handle_cursor = function(fig, msg) {\n",
       "    var cursor = msg['cursor'];\n",
       "    switch(cursor)\n",
       "    {\n",
       "    case 0:\n",
       "        cursor = 'pointer';\n",
       "        break;\n",
       "    case 1:\n",
       "        cursor = 'default';\n",
       "        break;\n",
       "    case 2:\n",
       "        cursor = 'crosshair';\n",
       "        break;\n",
       "    case 3:\n",
       "        cursor = 'move';\n",
       "        break;\n",
       "    }\n",
       "    fig.rubberband_canvas.style.cursor = cursor;\n",
       "}\n",
       "\n",
       "mpl.figure.prototype.handle_message = function(fig, msg) {\n",
       "    fig.message.textContent = msg['message'];\n",
       "}\n",
       "\n",
       "mpl.figure.prototype.handle_draw = function(fig, msg) {\n",
       "    // Request the server to send over a new figure.\n",
       "    fig.send_draw_message();\n",
       "}\n",
       "\n",
       "mpl.figure.prototype.handle_image_mode = function(fig, msg) {\n",
       "    fig.image_mode = msg['mode'];\n",
       "}\n",
       "\n",
       "mpl.figure.prototype.updated_canvas_event = function() {\n",
       "    // Called whenever the canvas gets updated.\n",
       "    this.send_message(\"ack\", {});\n",
       "}\n",
       "\n",
       "// A function to construct a web socket function for onmessage handling.\n",
       "// Called in the figure constructor.\n",
       "mpl.figure.prototype._make_on_message_function = function(fig) {\n",
       "    return function socket_on_message(evt) {\n",
       "        if (evt.data instanceof Blob) {\n",
       "            /* FIXME: We get \"Resource interpreted as Image but\n",
       "             * transferred with MIME type text/plain:\" errors on\n",
       "             * Chrome.  But how to set the MIME type?  It doesn't seem\n",
       "             * to be part of the websocket stream */\n",
       "            evt.data.type = \"image/png\";\n",
       "\n",
       "            /* Free the memory for the previous frames */\n",
       "            if (fig.imageObj.src) {\n",
       "                (window.URL || window.webkitURL).revokeObjectURL(\n",
       "                    fig.imageObj.src);\n",
       "            }\n",
       "\n",
       "            fig.imageObj.src = (window.URL || window.webkitURL).createObjectURL(\n",
       "                evt.data);\n",
       "            fig.updated_canvas_event();\n",
       "            fig.waiting = false;\n",
       "            return;\n",
       "        }\n",
       "        else if (typeof evt.data === 'string' && evt.data.slice(0, 21) == \"data:image/png;base64\") {\n",
       "            fig.imageObj.src = evt.data;\n",
       "            fig.updated_canvas_event();\n",
       "            fig.waiting = false;\n",
       "            return;\n",
       "        }\n",
       "\n",
       "        var msg = JSON.parse(evt.data);\n",
       "        var msg_type = msg['type'];\n",
       "\n",
       "        // Call the  \"handle_{type}\" callback, which takes\n",
       "        // the figure and JSON message as its only arguments.\n",
       "        try {\n",
       "            var callback = fig[\"handle_\" + msg_type];\n",
       "        } catch (e) {\n",
       "            console.log(\"No handler for the '\" + msg_type + \"' message type: \", msg);\n",
       "            return;\n",
       "        }\n",
       "\n",
       "        if (callback) {\n",
       "            try {\n",
       "                // console.log(\"Handling '\" + msg_type + \"' message: \", msg);\n",
       "                callback(fig, msg);\n",
       "            } catch (e) {\n",
       "                console.log(\"Exception inside the 'handler_\" + msg_type + \"' callback:\", e, e.stack, msg);\n",
       "            }\n",
       "        }\n",
       "    };\n",
       "}\n",
       "\n",
       "// from http://stackoverflow.com/questions/1114465/getting-mouse-location-in-canvas\n",
       "mpl.findpos = function(e) {\n",
       "    //this section is from http://www.quirksmode.org/js/events_properties.html\n",
       "    var targ;\n",
       "    if (!e)\n",
       "        e = window.event;\n",
       "    if (e.target)\n",
       "        targ = e.target;\n",
       "    else if (e.srcElement)\n",
       "        targ = e.srcElement;\n",
       "    if (targ.nodeType == 3) // defeat Safari bug\n",
       "        targ = targ.parentNode;\n",
       "\n",
       "    // jQuery normalizes the pageX and pageY\n",
       "    // pageX,Y are the mouse positions relative to the document\n",
       "    // offset() returns the position of the element relative to the document\n",
       "    var x = e.pageX - $(targ).offset().left;\n",
       "    var y = e.pageY - $(targ).offset().top;\n",
       "\n",
       "    return {\"x\": x, \"y\": y};\n",
       "};\n",
       "\n",
       "/*\n",
       " * return a copy of an object with only non-object keys\n",
       " * we need this to avoid circular references\n",
       " * http://stackoverflow.com/a/24161582/3208463\n",
       " */\n",
       "function simpleKeys (original) {\n",
       "  return Object.keys(original).reduce(function (obj, key) {\n",
       "    if (typeof original[key] !== 'object')\n",
       "        obj[key] = original[key]\n",
       "    return obj;\n",
       "  }, {});\n",
       "}\n",
       "\n",
       "mpl.figure.prototype.mouse_event = function(event, name) {\n",
       "    var canvas_pos = mpl.findpos(event)\n",
       "\n",
       "    if (name === 'button_press')\n",
       "    {\n",
       "        this.canvas.focus();\n",
       "        this.canvas_div.focus();\n",
       "    }\n",
       "\n",
       "    var x = canvas_pos.x * mpl.ratio;\n",
       "    var y = canvas_pos.y * mpl.ratio;\n",
       "\n",
       "    this.send_message(name, {x: x, y: y, button: event.button,\n",
       "                             step: event.step,\n",
       "                             guiEvent: simpleKeys(event)});\n",
       "\n",
       "    /* This prevents the web browser from automatically changing to\n",
       "     * the text insertion cursor when the button is pressed.  We want\n",
       "     * to control all of the cursor setting manually through the\n",
       "     * 'cursor' event from matplotlib */\n",
       "    event.preventDefault();\n",
       "    return false;\n",
       "}\n",
       "\n",
       "mpl.figure.prototype._key_event_extra = function(event, name) {\n",
       "    // Handle any extra behaviour associated with a key event\n",
       "}\n",
       "\n",
       "mpl.figure.prototype.key_event = function(event, name) {\n",
       "\n",
       "    // Prevent repeat events\n",
       "    if (name == 'key_press')\n",
       "    {\n",
       "        if (event.which === this._key)\n",
       "            return;\n",
       "        else\n",
       "            this._key = event.which;\n",
       "    }\n",
       "    if (name == 'key_release')\n",
       "        this._key = null;\n",
       "\n",
       "    var value = '';\n",
       "    if (event.ctrlKey && event.which != 17)\n",
       "        value += \"ctrl+\";\n",
       "    if (event.altKey && event.which != 18)\n",
       "        value += \"alt+\";\n",
       "    if (event.shiftKey && event.which != 16)\n",
       "        value += \"shift+\";\n",
       "\n",
       "    value += 'k';\n",
       "    value += event.which.toString();\n",
       "\n",
       "    this._key_event_extra(event, name);\n",
       "\n",
       "    this.send_message(name, {key: value,\n",
       "                             guiEvent: simpleKeys(event)});\n",
       "    return false;\n",
       "}\n",
       "\n",
       "mpl.figure.prototype.toolbar_button_onclick = function(name) {\n",
       "    if (name == 'download') {\n",
       "        this.handle_save(this, null);\n",
       "    } else {\n",
       "        this.send_message(\"toolbar_button\", {name: name});\n",
       "    }\n",
       "};\n",
       "\n",
       "mpl.figure.prototype.toolbar_button_onmouseover = function(tooltip) {\n",
       "    this.message.textContent = tooltip;\n",
       "};\n",
       "mpl.toolbar_items = [[\"Home\", \"Reset original view\", \"fa fa-home icon-home\", \"home\"], [\"Back\", \"Back to  previous view\", \"fa fa-arrow-left icon-arrow-left\", \"back\"], [\"Forward\", \"Forward to next view\", \"fa fa-arrow-right icon-arrow-right\", \"forward\"], [\"\", \"\", \"\", \"\"], [\"Pan\", \"Pan axes with left mouse, zoom with right\", \"fa fa-arrows icon-move\", \"pan\"], [\"Zoom\", \"Zoom to rectangle\", \"fa fa-square-o icon-check-empty\", \"zoom\"], [\"\", \"\", \"\", \"\"], [\"Download\", \"Download plot\", \"fa fa-floppy-o icon-save\", \"download\"]];\n",
       "\n",
       "mpl.extensions = [\"eps\", \"jpeg\", \"pdf\", \"png\", \"ps\", \"raw\", \"svg\", \"tif\"];\n",
       "\n",
       "mpl.default_extension = \"png\";var comm_websocket_adapter = function(comm) {\n",
       "    // Create a \"websocket\"-like object which calls the given IPython comm\n",
       "    // object with the appropriate methods. Currently this is a non binary\n",
       "    // socket, so there is still some room for performance tuning.\n",
       "    var ws = {};\n",
       "\n",
       "    ws.close = function() {\n",
       "        comm.close()\n",
       "    };\n",
       "    ws.send = function(m) {\n",
       "        //console.log('sending', m);\n",
       "        comm.send(m);\n",
       "    };\n",
       "    // Register the callback with on_msg.\n",
       "    comm.on_msg(function(msg) {\n",
       "        //console.log('receiving', msg['content']['data'], msg);\n",
       "        // Pass the mpl event to the overriden (by mpl) onmessage function.\n",
       "        ws.onmessage(msg['content']['data'])\n",
       "    });\n",
       "    return ws;\n",
       "}\n",
       "\n",
       "mpl.mpl_figure_comm = function(comm, msg) {\n",
       "    // This is the function which gets called when the mpl process\n",
       "    // starts-up an IPython Comm through the \"matplotlib\" channel.\n",
       "\n",
       "    var id = msg.content.data.id;\n",
       "    // Get hold of the div created by the display call when the Comm\n",
       "    // socket was opened in Python.\n",
       "    var element = $(\"#\" + id);\n",
       "    var ws_proxy = comm_websocket_adapter(comm)\n",
       "\n",
       "    function ondownload(figure, format) {\n",
       "        window.open(figure.imageObj.src);\n",
       "    }\n",
       "\n",
       "    var fig = new mpl.figure(id, ws_proxy,\n",
       "                           ondownload,\n",
       "                           element.get(0));\n",
       "\n",
       "    // Call onopen now - mpl needs it, as it is assuming we've passed it a real\n",
       "    // web socket which is closed, not our websocket->open comm proxy.\n",
       "    ws_proxy.onopen();\n",
       "\n",
       "    fig.parent_element = element.get(0);\n",
       "    fig.cell_info = mpl.find_output_cell(\"<div id='\" + id + \"'></div>\");\n",
       "    if (!fig.cell_info) {\n",
       "        console.error(\"Failed to find cell for figure\", id, fig);\n",
       "        return;\n",
       "    }\n",
       "\n",
       "    var output_index = fig.cell_info[2]\n",
       "    var cell = fig.cell_info[0];\n",
       "\n",
       "};\n",
       "\n",
       "mpl.figure.prototype.handle_close = function(fig, msg) {\n",
       "    var width = fig.canvas.width/mpl.ratio\n",
       "    fig.root.unbind('remove')\n",
       "\n",
       "    // Update the output cell to use the data from the current canvas.\n",
       "    fig.push_to_output();\n",
       "    var dataURL = fig.canvas.toDataURL();\n",
       "    // Re-enable the keyboard manager in IPython - without this line, in FF,\n",
       "    // the notebook keyboard shortcuts fail.\n",
       "    IPython.keyboard_manager.enable()\n",
       "    $(fig.parent_element).html('<img src=\"' + dataURL + '\" width=\"' + width + '\">');\n",
       "    fig.close_ws(fig, msg);\n",
       "}\n",
       "\n",
       "mpl.figure.prototype.close_ws = function(fig, msg){\n",
       "    fig.send_message('closing', msg);\n",
       "    // fig.ws.close()\n",
       "}\n",
       "\n",
       "mpl.figure.prototype.push_to_output = function(remove_interactive) {\n",
       "    // Turn the data on the canvas into data in the output cell.\n",
       "    var width = this.canvas.width/mpl.ratio\n",
       "    var dataURL = this.canvas.toDataURL();\n",
       "    this.cell_info[1]['text/html'] = '<img src=\"' + dataURL + '\" width=\"' + width + '\">';\n",
       "}\n",
       "\n",
       "mpl.figure.prototype.updated_canvas_event = function() {\n",
       "    // Tell IPython that the notebook contents must change.\n",
       "    IPython.notebook.set_dirty(true);\n",
       "    this.send_message(\"ack\", {});\n",
       "    var fig = this;\n",
       "    // Wait a second, then push the new image to the DOM so\n",
       "    // that it is saved nicely (might be nice to debounce this).\n",
       "    setTimeout(function () { fig.push_to_output() }, 1000);\n",
       "}\n",
       "\n",
       "mpl.figure.prototype._init_toolbar = function() {\n",
       "    var fig = this;\n",
       "\n",
       "    var nav_element = $('<div/>')\n",
       "    nav_element.attr('style', 'width: 100%');\n",
       "    this.root.append(nav_element);\n",
       "\n",
       "    // Define a callback function for later on.\n",
       "    function toolbar_event(event) {\n",
       "        return fig.toolbar_button_onclick(event['data']);\n",
       "    }\n",
       "    function toolbar_mouse_event(event) {\n",
       "        return fig.toolbar_button_onmouseover(event['data']);\n",
       "    }\n",
       "\n",
       "    for(var toolbar_ind in mpl.toolbar_items){\n",
       "        var name = mpl.toolbar_items[toolbar_ind][0];\n",
       "        var tooltip = mpl.toolbar_items[toolbar_ind][1];\n",
       "        var image = mpl.toolbar_items[toolbar_ind][2];\n",
       "        var method_name = mpl.toolbar_items[toolbar_ind][3];\n",
       "\n",
       "        if (!name) { continue; };\n",
       "\n",
       "        var button = $('<button class=\"btn btn-default\" href=\"#\" title=\"' + name + '\"><i class=\"fa ' + image + ' fa-lg\"></i></button>');\n",
       "        button.click(method_name, toolbar_event);\n",
       "        button.mouseover(tooltip, toolbar_mouse_event);\n",
       "        nav_element.append(button);\n",
       "    }\n",
       "\n",
       "    // Add the status bar.\n",
       "    var status_bar = $('<span class=\"mpl-message\" style=\"text-align:right; float: right;\"/>');\n",
       "    nav_element.append(status_bar);\n",
       "    this.message = status_bar[0];\n",
       "\n",
       "    // Add the close button to the window.\n",
       "    var buttongrp = $('<div class=\"btn-group inline pull-right\"></div>');\n",
       "    var button = $('<button class=\"btn btn-mini btn-primary\" href=\"#\" title=\"Stop Interaction\"><i class=\"fa fa-power-off icon-remove icon-large\"></i></button>');\n",
       "    button.click(function (evt) { fig.handle_close(fig, {}); } );\n",
       "    button.mouseover('Stop Interaction', toolbar_mouse_event);\n",
       "    buttongrp.append(button);\n",
       "    var titlebar = this.root.find($('.ui-dialog-titlebar'));\n",
       "    titlebar.prepend(buttongrp);\n",
       "}\n",
       "\n",
       "mpl.figure.prototype._root_extra_style = function(el){\n",
       "    var fig = this\n",
       "    el.on(\"remove\", function(){\n",
       "\tfig.close_ws(fig, {});\n",
       "    });\n",
       "}\n",
       "\n",
       "mpl.figure.prototype._canvas_extra_style = function(el){\n",
       "    // this is important to make the div 'focusable\n",
       "    el.attr('tabindex', 0)\n",
       "    // reach out to IPython and tell the keyboard manager to turn it's self\n",
       "    // off when our div gets focus\n",
       "\n",
       "    // location in version 3\n",
       "    if (IPython.notebook.keyboard_manager) {\n",
       "        IPython.notebook.keyboard_manager.register_events(el);\n",
       "    }\n",
       "    else {\n",
       "        // location in version 2\n",
       "        IPython.keyboard_manager.register_events(el);\n",
       "    }\n",
       "\n",
       "}\n",
       "\n",
       "mpl.figure.prototype._key_event_extra = function(event, name) {\n",
       "    var manager = IPython.notebook.keyboard_manager;\n",
       "    if (!manager)\n",
       "        manager = IPython.keyboard_manager;\n",
       "\n",
       "    // Check for shift+enter\n",
       "    if (event.shiftKey && event.which == 13) {\n",
       "        this.canvas_div.blur();\n",
       "        event.shiftKey = false;\n",
       "        // Send a \"J\" for go to next cell\n",
       "        event.which = 74;\n",
       "        event.keyCode = 74;\n",
       "        manager.command_mode();\n",
       "        manager.handle_keydown(event);\n",
       "    }\n",
       "}\n",
       "\n",
       "mpl.figure.prototype.handle_save = function(fig, msg) {\n",
       "    fig.ondownload(fig, null);\n",
       "}\n",
       "\n",
       "\n",
       "mpl.find_output_cell = function(html_output) {\n",
       "    // Return the cell and output element which can be found *uniquely* in the notebook.\n",
       "    // Note - this is a bit hacky, but it is done because the \"notebook_saving.Notebook\"\n",
       "    // IPython event is triggered only after the cells have been serialised, which for\n",
       "    // our purposes (turning an active figure into a static one), is too late.\n",
       "    var cells = IPython.notebook.get_cells();\n",
       "    var ncells = cells.length;\n",
       "    for (var i=0; i<ncells; i++) {\n",
       "        var cell = cells[i];\n",
       "        if (cell.cell_type === 'code'){\n",
       "            for (var j=0; j<cell.output_area.outputs.length; j++) {\n",
       "                var data = cell.output_area.outputs[j];\n",
       "                if (data.data) {\n",
       "                    // IPython >= 3 moved mimebundle to data attribute of output\n",
       "                    data = data.data;\n",
       "                }\n",
       "                if (data['text/html'] == html_output) {\n",
       "                    return [cell, data, j];\n",
       "                }\n",
       "            }\n",
       "        }\n",
       "    }\n",
       "}\n",
       "\n",
       "// Register the function which deals with the matplotlib target/channel.\n",
       "// The kernel may be null if the page has been refreshed.\n",
       "if (IPython.notebook.kernel != null) {\n",
       "    IPython.notebook.kernel.comm_manager.register_target('matplotlib', mpl.mpl_figure_comm);\n",
       "}\n"
      ],
      "text/plain": [
       "<IPython.core.display.Javascript object>"
      ]
     },
     "metadata": {},
     "output_type": "display_data"
    },
    {
     "data": {
      "text/html": [
       "<img src=\"data:image/png;base64,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\" width=\"1080\">"
      ],
      "text/plain": [
       "<IPython.core.display.HTML object>"
      ]
     },
     "metadata": {},
     "output_type": "display_data"
    },
    {
     "data": {
      "application/vnd.jupyter.widget-view+json": {
       "model_id": "bf4d8c5444f04c21ba5ad28615f7864f",
       "version_major": 2,
       "version_minor": 0
      },
      "text/plain": [
       "A Jupyter Widget"
      ]
     },
     "metadata": {},
     "output_type": "display_data"
    }
   ],
   "source": [
    "## Applying multivariate k-nearest neighbors function to cars datatframe and find the best fit\n",
    "# Set up a widget to manipulate RMSE by changing training/testing percentage and n_neighbors parameter  of df \n",
    "%matplotlib nbagg\n",
    "#matplotlib inline\n",
    "%config InlineBackend.figure_format = 'retina' \n",
    "fig, ax  = plt.subplots(1, figsize=(15,5))\n",
    "\n",
    "## Link and apply Knn model to a plain plot\n",
    "#multi_knn_model(5, 0.8, 100)\n",
    "\n",
    "\n",
    "## Link and apply slide widgets \n",
    "perc_training = wg.FloatSlider(min=0.5,max=1,step=.01,description='% of training dataset:')\n",
    "n_neigh = wg.IntSlider(min=1,max=10,step=1,description='n_neighbors parameter:')\n",
    "rand_n = wg.IntSlider(min=1,max=100,step=1,description='n random Knn model iteration:')\n",
    "wg.interactive(multi_knn_model,n_neigh=n_neigh, perc_fig=perc_training, rand_n=rand_n)\n",
    "\n",
    "#display(perc_training, n_neigh)"
   ]
  },
  {
   "cell_type": "markdown",
   "metadata": {
    "extensions": {
     "jupyter_dashboards": {
      "version": 1,
      "views": {
       "grid_default": {
        "col": 0,
        "height": 4,
        "hidden": false,
        "row": 74,
        "width": 12
       },
       "report_default": {
        "hidden": false
       }
      }
     }
    }
   },
   "source": [
    "## Building multivariate k-nearest neighbors models: optimizing model parameters"
   ]
  },
  {
   "cell_type": "code",
   "execution_count": 16,
   "metadata": {
    "collapsed": true,
    "extensions": {
     "jupyter_dashboards": {
      "version": 1,
      "views": {
       "grid_default": {
        "hidden": true
       },
       "report_default": {
        "hidden": true
       }
      }
     }
    }
   },
   "outputs": [],
   "source": [
    "def multi_knn_model_results(n_neigh, perc_fig, rand_n):\n",
    "    \"\"\"\n",
    "    apply knn func \"knn_train_test\" to find best multivariate model for \n",
    "    each random set of features\n",
    "    Inputs:\n",
    "    ________________\n",
    "       - n_neigh: int\n",
    "            n_neighbor parameter in Knn func.\n",
    "       - perc_fig: float\n",
    "            % of dataframe splitting up training and testing set\n",
    "       - rand_n: float\n",
    "            random 'n' number iterations tp run Knn model\n",
    "    Output:\n",
    "    _________________\n",
    "       - list of average of RMSE \n",
    "    \"\"\"\n",
    "    ## create random, nonrepetitive pairs from a list of columns  \n",
    "    result_1 = {}\n",
    "    features_cols_lst = [col for idx, col in enumerate(list(cars_normalized_df.columns)) if col != 'price']\n",
    "    for idx, col in enumerate(features_cols_lst):\n",
    "            x = np.random.choice(features_cols_lst, idx, replace=False)\n",
    "            result_1[idx] = x\n",
    "    res1 = [item for item in result_1.values() if len(item) > 1]\n",
    "            \n",
    "    ## Applying \"knn_train_test\" to find best multivariate Knn model based on random feature selction \n",
    "    ## Iterating thru each multi-col selection \n",
    "    RMSE_total = {}\n",
    "    for i in range(rand_n):\n",
    "        RMSE_RES = {}\n",
    "        for idx,pair in enumerate(res1):\n",
    "            RMSE_RES[len(pair)] = multi_knn_train_test(cars_normalized_df ,pair ,'price',perc_fig ,n_neigh)\n",
    "        RMSE_total[i] = RMSE_RES\n",
    "    lst_rmse = []    \n",
    "    for i_1 in range(len(RMSE_total.keys())):\n",
    "        x = list(list(RMSE_total.values())[i_1].values())\n",
    "        lst_rmse.append(x)\n",
    "    avrg_rmse = [sum(n)/len(n) for n in list(zip(*lst_rmse))]   \n",
    "    avrg_rmse_plt_df = pd.DataFrame(avrg_rmse,columns=['Avrg RMSE'] ,index=list(list(RMSE_total.values())[0]))\n",
    "    return avrg_rmse_plt_df\n"
   ]
  },
  {
   "cell_type": "code",
   "execution_count": 17,
   "metadata": {
    "extensions": {
     "jupyter_dashboards": {
      "version": 1,
      "views": {
       "grid_default": {
        "col": 8,
        "height": 4,
        "hidden": false,
        "row": 16,
        "width": 4
       },
       "report_default": {
        "hidden": false
       }
      }
     }
    }
   },
   "outputs": [
    {
     "name": "stdout",
     "output_type": "stream",
     "text": [
      "CPU times: user 2 µs, sys: 1e+03 ns, total: 3 µs\n",
      "Wall time: 6.91 µs\n"
     ]
    }
   ],
   "source": [
    "# optimazing \"multi_knn_model_results\" parametrs\n",
    "# 1. n_neighbor parameter\n",
    "%time\n",
    "optimizing_k_niegh_para = list(\n",
    "    itertools.chain(\n",
    "        *[np.mean(multi_knn_model_results(iter_1,0.75,10)) for iter_1 in range(2, 60)]\n",
    "    )\n",
    ")\n",
    "# the range been selcted randomly to be betw(2,125) it can be chnaged !"
   ]
  },
  {
   "cell_type": "code",
   "execution_count": 18,
   "metadata": {
    "extensions": {
     "jupyter_dashboards": {
      "version": 1,
      "views": {
       "grid_default": {
        "col": 8,
        "height": 4,
        "hidden": false,
        "row": 43,
        "width": 4
       },
       "report_default": {
        "hidden": false
       }
      }
     }
    }
   },
   "outputs": [
    {
     "name": "stdout",
     "output_type": "stream",
     "text": [
      "CPU times: user 4 µs, sys: 1 µs, total: 5 µs\n",
      "Wall time: 11 µs\n"
     ]
    }
   ],
   "source": [
    "# 2.trainin / testing datset set up \n",
    "%time\n",
    "## Find the optimum point where Avrg-RMSE is the lowest\n",
    "optimizing_train_test_para = list(\n",
    "    itertools.chain(\n",
    "        *[np.mean(multi_knn_model_results(5,iter_2,10)) for iter_2 in [((x /.1) / 100) for x in range(1, 10)]]   \n",
    "    )\n",
    ")"
   ]
  },
  {
   "cell_type": "code",
   "execution_count": 19,
   "metadata": {
    "extensions": {
     "jupyter_dashboards": {
      "version": 1,
      "views": {
       "grid_default": {
        "col": 8,
        "height": 4,
        "hidden": false,
        "row": 66,
        "width": 4
       },
       "report_default": {
        "hidden": false
       }
      }
     }
    }
   },
   "outputs": [
    {
     "name": "stdout",
     "output_type": "stream",
     "text": [
      "CPU times: user 7 µs, sys: 3 µs, total: 10 µs\n",
      "Wall time: 33.1 µs\n"
     ]
    }
   ],
   "source": [
    "# 3. Find the best Multi Knn model based on optmizing the prev. parameters\n",
    "%time\n",
    "\n",
    "optimizing_multi_knn_model = list(\n",
    "    itertools.chain(\n",
    "        *[np.mean(multi_knn_model_results(45,.8,iter_3)) for iter_3 in range(1, 50)]\n",
    "    )\n",
    ")        "
   ]
  },
  {
   "cell_type": "code",
   "execution_count": 20,
   "metadata": {
    "extensions": {
     "jupyter_dashboards": {
      "version": 1,
      "views": {
       "grid_default": {
        "col": 0,
        "height": 22,
        "hidden": false,
        "row": 115,
        "width": 4
       },
       "report_default": {
        "hidden": false
       }
      }
     }
    },
    "scrolled": true
   },
   "outputs": [
    {
     "data": {
      "text/plain": [
       "[<matplotlib.lines.Line2D at 0x1a125c51d0>]"
      ]
     },
     "execution_count": 20,
     "metadata": {},
     "output_type": "execute_result"
    },
    {
     "data": {
      "text/plain": [
       "Text(0.5,1,'n_neighbor parameter - Hyperprameter')"
      ]
     },
     "execution_count": 20,
     "metadata": {},
     "output_type": "execute_result"
    },
    {
     "data": {
      "text/plain": [
       "Text(0,0.5,'AVRG RMSE')"
      ]
     },
     "execution_count": 20,
     "metadata": {},
     "output_type": "execute_result"
    },
    {
     "data": {
      "text/plain": [
       "[<matplotlib.lines.Line2D at 0x1a125c5860>]"
      ]
     },
     "execution_count": 20,
     "metadata": {},
     "output_type": "execute_result"
    },
    {
     "data": {
      "text/plain": [
       "Text(0.5,1,'trainin / testing datset set up ')"
      ]
     },
     "execution_count": 20,
     "metadata": {},
     "output_type": "execute_result"
    },
    {
     "data": {
      "text/plain": [
       "Text(0,0.5,'AVRG RMSE')"
      ]
     },
     "execution_count": 20,
     "metadata": {},
     "output_type": "execute_result"
    },
    {
     "data": {
      "text/plain": [
       "(0.1, 8.4)"
      ]
     },
     "execution_count": 20,
     "metadata": {},
     "output_type": "execute_result"
    },
    {
     "data": {
      "text/plain": [
       "[<matplotlib.lines.Line2D at 0x1a125c5e48>]"
      ]
     },
     "execution_count": 20,
     "metadata": {},
     "output_type": "execute_result"
    },
    {
     "data": {
      "text/plain": [
       "Text(0.5,1,'Best Knn model')"
      ]
     },
     "execution_count": 20,
     "metadata": {},
     "output_type": "execute_result"
    },
    {
     "data": {
      "text/plain": [
       "Text(0,0.5,'AVRG RMSE')"
      ]
     },
     "execution_count": 20,
     "metadata": {},
     "output_type": "execute_result"
    },
    {
     "data": {
      "image/png": "[encoded data removed]",
      "text/plain": [
       "<matplotlib.figure.Figure at 0x1a0d379a90>"
      ]
     },
     "metadata": {
      "image/png": {
       "height": 698,
       "width": 897
      }
     },
     "output_type": "display_data"
    }
   ],
   "source": [
    "#%matplotlib nbagg\n",
    "%matplotlib inline\n",
    "%config InlineBackend.figure_format = 'retina' \n",
    "## Build a visualizations for parametrs\n",
    "fig, axs = plt.subplots(3, figsize=(15,12))\n",
    "\n",
    "##setting up the plot frame / title text color\n",
    "frm_color = 'white'\n",
    "for ax in axs:\n",
    "    ax.tick_params(color=frm_color, labelcolor=frm_color)\n",
    "    for spine in ax.spines.values():\n",
    "        spine.set_edgecolor(frm_color)\n",
    "        \n",
    "## plotting up the results\n",
    "axs[0].plot(optimizing_k_niegh_para)\n",
    "axs[0].set_title('n_neighbor parameter - Hyperprameter', color=frm_color)\n",
    "axs[0].set_ylabel('AVRG RMSE', color=frm_color)\n",
    "\n",
    "\n",
    "axs[1].plot(optimizing_train_test_para)\n",
    "axs[1].set_title('trainin / testing datset set up ', color=frm_color)\n",
    "axs[1].set_ylabel('AVRG RMSE', color=frm_color)\n",
    "axs[1].set_xlim(xmin=0.1)\n",
    "\n",
    "axs[2].plot(optimizing_multi_knn_model)\n",
    "axs[2].set_title('Best Knn model',  color=frm_color)\n",
    "axs[2].set_ylabel('AVRG RMSE', color=frm_color)"
   ]
  },
  {
   "cell_type": "markdown",
   "metadata": {
    "extensions": {
     "jupyter_dashboards": {
      "version": 1,
      "views": {
       "grid_default": {
        "col": 0,
        "height": 4,
        "hidden": false,
        "row": 78,
        "width": 12
       },
       "report_default": {
        "hidden": false
       }
      }
     }
    }
   },
   "source": [
    "### Key take away from the multivariate Knn model\n",
    "    - "
   ]
  },
  {
   "cell_type": "markdown",
   "metadata": {
    "extensions": {
     "jupyter_dashboards": {
      "version": 1,
      "views": {
       "grid_default": {
        "col": 1,
        "height": 4,
        "hidden": false,
        "row": 51,
        "width": 4
       },
       "report_default": {
        "hidden": false
       }
      }
     }
    }
   },
   "source": [
    "## Appendix: Add some functionality "
   ]
  },
  {
   "cell_type": "code",
   "execution_count": 21,
   "metadata": {
    "collapsed": true,
    "extensions": {
     "jupyter_dashboards": {
      "version": 1,
      "views": {
       "grid_default": {
        "hidden": true
       },
       "report_default": {
        "hidden": true
       }
      }
     }
    }
   },
   "outputs": [],
   "source": [
    "\n",
    "def search_text_google(text_str, lng, stop_val):\n",
    "    \"\"\"\n",
    "    Simple google search func \n",
    "    \"\"\"\n",
    "    for url in search(text_str, tld='com', lang=lng, stop=stop_val):\n",
    "        print(url)\n",
    "\n",
    "def download_data(url):\n",
    "    \"\"\"\n",
    "    Helps retrieving wheather applying request is sucsseful or not with \n",
    "    showing results \n",
    "    \"\"\"\n",
    "    Response = namedtuple('Response', ['data', 'error'])\n",
    "    try:\n",
    "        r = requests.get(url)\n",
    "    except Exception as e:\n",
    "        return Response(data = None , error = e)\n",
    "    if r.status_code == 200:\n",
    "        return Response(data=r, error=None)\n",
    "    else:\n",
    "        return Response(data=None, error=r.reason)\n",
    "\n",
    "def gen_all_features_combinations(df, target_col):\n",
    "    \"\"\"\n",
    "    This func generates (2^n -1) possible combinations for the features list (itertools should be imported)\n",
    "    within df excluding target col.\n",
    "      - df: defined dataframe \n",
    "      - target_col: the target column to be excluded from the main dataframe \n",
    "    \"\"\"\n",
    "    x =[col for idx, col in enumerate(list(df.columns)) if col != target_col]\n",
    "    features_lst = [list(subset) for l in range(0, len(x)+1) for subset in itertools.combinations(x, l)]\n",
    "    return features_lst\n",
    "\n",
    "#(2^n)n >> combination with repetition (itertools.permutations)\n",
    "#2^n >> combination without repetition (itertools.combinations)"
   ]
  },
  {
   "cell_type": "markdown",
   "metadata": {
    "extensions": {
     "jupyter_dashboards": {
      "version": 1,
      "views": {
       "grid_default": {
        "col": 7,
        "height": 4,
        "hidden": false,
        "row": 53,
        "width": 4
       },
       "report_default": {
        "hidden": false
       }
      }
     }
    }
   },
   "source": [
    "##  Multivariate Knn k-fold cross validation "
   ]
  },
  {
   "cell_type": "code",
   "execution_count": 22,
   "metadata": {
    "collapsed": true,
    "extensions": {
     "jupyter_dashboards": {
      "version": 1,
      "views": {
       "grid_default": {
        "hidden": true
       },
       "report_default": {
        "hidden": true
       }
      }
     }
    }
   },
   "outputs": [],
   "source": [
    "# Setting up k-fold for the dataset \n",
    "## Classify dataframe to 'i'th k-fold of training and testing seubset\n",
    "def set_Kfold(kfold_df, k_val):\n",
    "    \"\"\"\n",
    "    generating k-fold to prepare training /testing data subsets\n",
    "    Inputs:\n",
    "    _______________\n",
    "     - df: dataframe \n",
    "         input dataframe\n",
    "     - k_val: int\n",
    "         int value to define a k-fold to seubset dataframe \n",
    "     Output:\n",
    "     ______________\n",
    "     - generates dataframe with \"fold\" column representing k-fold for training/testing subset\n",
    "    \"\"\"\n",
    "    kfold_df['fold'] = 1\n",
    "    start = int(len(kfold_df)/k_val)\n",
    "    rng_vls = [int(x) for x in np.linspace(start=start, stop=len(kfold_df), num=k_val)]\n",
    "    for idx, val in enumerate(rng_vls):\n",
    "        kfold_df['fold'][rng_vls[idx]-start: val] = idx+1\n",
    "    return kfold_df \n"
   ]
  },
  {
   "cell_type": "code",
   "execution_count": 23,
   "metadata": {
    "collapsed": true,
    "extensions": {
     "jupyter_dashboards": {
      "version": 1,
      "views": {
       "grid_default": {
        "hidden": true
       },
       "report_default": {
        "hidden": true
       }
      }
     }
    }
   },
   "outputs": [],
   "source": [
    "## Apply multi Knn model and validating with k-fold methodology\n",
    "def train_and_validate_kFold(df, Kfold_num, n_neigh, feature_cols, target_cols):\n",
    "    \"\"\"\n",
    "    Multi Knn model with k-fold validation methodology\n",
    "    Inputs:\n",
    "    _______________\n",
    "     - df: dataframe \n",
    "         input dataframe\n",
    "     - kfold_num: int\n",
    "         int value to define a k-fold to seubset dataframe \n",
    "     Output:\n",
    "     ______________\n",
    "     - generates dataframe with \"fold\" column representing k-fold for training/testing subset\n",
    "    \"\"\"\n",
    "    new_kFold_df = set_Kfold(df, Kfold_num)\n",
    "    fold_ids = list(set(new_kFold_df['fold']))\n",
    "    rmse = []\n",
    "    for i in fold_ids:\n",
    "        training_set = new_kFold_df[new_kFold_df['fold']!=i]\n",
    "        testing_set =  new_kFold_df[new_kFold_df['fold']==i]\n",
    "\n",
    "        knn = KNeighborsRegressor(n_neighbors = n_neigh)\n",
    "        fits = knn.fit(training_set[feature_cols], training_set[target_cols])\n",
    "        predicts = knn.predict(testing_set[feature_cols])\n",
    "        iteration_i_rmse = (mean_squared_error(testing_set[target_cols], predicts))**.5\n",
    "        rmse.append(iteration_i_rmse)\n",
    "    return rmse"
   ]
  },
  {
   "cell_type": "code",
   "execution_count": 24,
   "metadata": {
    "collapsed": true,
    "extensions": {
     "jupyter_dashboards": {
      "version": 1,
      "views": {
       "grid_default": {
        "hidden": true
       },
       "report_default": {
        "hidden": true
       }
      }
     }
    }
   },
   "outputs": [],
   "source": [
    "## Apply multivariate Knn using cros k-fold methodology\n",
    "def multi_knn_model_kfold(n_neigh, Kfold_num, rand_n):\n",
    "    \"\"\"\n",
    "    apply knn func \"knn_train_test\" to find best multivariate model for \n",
    "    each random set of features\n",
    "    Inputs:\n",
    "    ________________\n",
    "       - n_neigh: int\n",
    "           n_neighbor parameter in Knn func.\n",
    "       - perc_fig: float\n",
    "           % of dataframe splitting up training and testing set\n",
    "       - rand_n: float\n",
    "           random 'n' number iterations tp run Knn model\n",
    "   Outputs:\n",
    "   _________________\n",
    "       - list of average RMSE\n",
    "    \"\"\"\n",
    "    ## create random, nonrepetitive pairs from a list of columns\n",
    "    #for iteration in range(rand_n):\n",
    "        #multi_col_rnd_selection = {idx:np.random.choice(cars_normalized_df.columns, idx, replace=False) for idx, col in enumerate(cars_normalized_df.columns)}\n",
    "        #multi_rnd_selection_excpt_0_1 = [item for item in multi_col_rnd_selection.values() if len(item) > 1]\n",
    "    ###################### New set up#######################   \n",
    "    result_1 = {}\n",
    "    features_cols_lst = [col for idx, col in enumerate(list(cars_normalized_df.columns)) if col != 'price']\n",
    "    for idx, col in enumerate(features_cols_lst):\n",
    "            x = np.random.choice(features_cols_lst, idx, replace=False)\n",
    "            result_1[idx] = x\n",
    "    res1 = [item for item in result_1.values() if len(item) > 1]\n",
    "            \n",
    "    ## Applying \"knn_train_test\" to find best multivariate Knn model based on random feature selction \n",
    "    ## Iterating thru each multi-col selection \n",
    "    RMSE_total = {}\n",
    "    for i in range(rand_n):\n",
    "        RMSE_RES = {}\n",
    "        for idx,pair in enumerate(res1):\n",
    "            Kfold_rmse = train_and_validate_kFold(cars_normalized_df, Kfold_num, n_neigh, pair,'price')\n",
    "            RMSE_RES[len(pair)] = np.mean(Kfold_rmse)\n",
    "                                    #multi_knn_train_test(cars_normalized_df ,pair ,'price',perc_fig ,n_neigh)\n",
    "        RMSE_total[i] = RMSE_RES\n",
    "    lst_rmse = []    \n",
    "    for i_1 in range(len(RMSE_total.keys())):\n",
    "        x = list(list(RMSE_total.values())[i_1].values())\n",
    "        lst_rmse.append(x)\n",
    "    avrg_rmse = [sum(n)/len(n) for n in list(zip(*lst_rmse))]   \n",
    "    avrg_rmse_plt_df = pd.DataFrame(avrg_rmse, columns=['Avrg RMSE'] ,index=list(list(RMSE_total.values())[0]))\n",
    "    \n",
    "    return avrg_rmse_plt_df\n"
   ]
  },
  {
   "cell_type": "code",
   "execution_count": 25,
   "metadata": {
    "collapsed": true,
    "extensions": {
     "jupyter_dashboards": {
      "version": 1,
      "views": {
       "grid_default": {
        "hidden": true
       },
       "report_default": {
        "hidden": true
       }
      }
     }
    },
    "scrolled": true
   },
   "outputs": [],
   "source": [
    "# Knn model interactivity \n",
    "def Kfold_iter(n_neigh, min_rng, max_rng, n_rnd):\n",
    "    \"\"\"\n",
    "    Apply multi_knn_model_kfold function to iterate thru a range of different kfolds\n",
    "    Imputs:\n",
    "    ____________\n",
    "     - n_neigh: int\n",
    "         n_neighbor parameter for Knn model\n",
    "     - min_rng: int\n",
    "         min value of a range \n",
    "     - max_rng: int\n",
    "         max value of a range \n",
    "     - min_rng: int\n",
    "         n range for random iterations\n",
    "    \"\"\"\n",
    "    avrg_rmse_kfolg = []\n",
    "    for i in range(min_rng, max_rng):\n",
    "        d = multi_knn_model_kfold(n_neigh, i, n_rnd)\n",
    "        avrg_rmse_kfolg.append(d['Avrg RMSE'].mean())\n",
    "        \n",
    "    #Set up the plot figures and style\n",
    "    ax.clear()\n",
    "    ax.bar([(idx+1) for idx, val in enumerate(avrg_rmse_kfolg)], avrg_rmse_kfolg)\n",
    "    frm_color = 'white'\n",
    "    ax.tick_params(color=frm_color, labelcolor=frm_color)\n",
    "    for spine in ax.spines.values():\n",
    "        spine.set_edgecolor(frm_color)\n",
    "    plt.style.use('seaborn')\n",
    "    plt.title('Multi Knn model with Kfold performance / Avrg-RMSE', color='white')\n",
    "    plt.show()"
   ]
  },
  {
   "cell_type": "code",
   "execution_count": 26,
   "metadata": {
    "extensions": {
     "jupyter_dashboards": {
      "version": 1,
      "views": {
       "grid_default": {
        "col": 0,
        "height": 10,
        "hidden": false,
        "row": 4,
        "width": 7
       },
       "report_default": {
        "hidden": false
       }
      }
     }
    }
   },
   "outputs": [
    {
     "name": "stderr",
     "output_type": "stream",
     "text": [
      "/Users/omar/anaconda3/lib/python3.6/site-packages/ipykernel_launcher.py:20: SettingWithCopyWarning: \n",
      "A value is trying to be set on a copy of a slice from a DataFrame\n",
      "\n",
      "See the caveats in the documentation: http://pandas.pydata.org/pandas-docs/stable/indexing.html#indexing-view-versus-copy\n"
     ]
    },
    {
     "data": {
      "image/png": "[encoded data removed]",
      "text/plain": [
       "<matplotlib.figure.Figure at 0x1a0d33ee10>"
      ]
     },
     "metadata": {
      "image/png": {
       "height": 317,
       "width": 710
      }
     },
     "output_type": "display_data"
    }
   ],
   "source": [
    "## Apply Multivariate Knn with kfold methodology\n",
    "fig, ax = plt.subplots(1, figsize=(12,5))\n",
    "Kfold_iter(10, 2, 11, 2)\n",
    "    "
   ]
  },
  {
   "cell_type": "code",
   "execution_count": 7,
   "metadata": {
    "collapsed": true,
    "extensions": {
     "jupyter_dashboards": {
      "version": 1,
      "views": {
       "grid_default": {
        "hidden": true
       },
       "report_default": {
        "hidden": true
       }
      }
     }
    }
   },
   "outputs": [],
   "source": []
  },
  {
   "cell_type": "code",
   "execution_count": null,
   "metadata": {
    "collapsed": true,
    "extensions": {
     "jupyter_dashboards": {
      "version": 1,
      "views": {
       "grid_default": {
        "hidden": true
       },
       "report_default": {
        "hidden": true
       }
      }
     }
    }
   },
   "outputs": [],
   "source": []
  },
  {
   "cell_type": "code",
   "execution_count": null,
   "metadata": {
    "collapsed": true,
    "extensions": {
     "jupyter_dashboards": {
      "version": 1,
      "views": {
       "grid_default": {
        "hidden": true
       },
       "report_default": {
        "hidden": true
       }
      }
     }
    }
   },
   "outputs": [],
   "source": [
    "\n",
    "\n"
   ]
  },
  {
   "cell_type": "code",
   "execution_count": null,
   "metadata": {
    "collapsed": true,
    "extensions": {
     "jupyter_dashboards": {
      "version": 1,
      "views": {
       "grid_default": {
        "hidden": true
       },
       "report_default": {
        "hidden": true
       }
      }
     }
    }
   },
   "outputs": [],
   "source": []
  },
  {
   "cell_type": "code",
   "execution_count": null,
   "metadata": {
    "collapsed": true,
    "extensions": {
     "jupyter_dashboards": {
      "version": 1,
      "views": {
       "grid_default": {
        "col": 0,
        "height": 4,
        "hidden": true,
        "row": 11,
        "width": 12
       },
       "report_default": {
        "hidden": true
       }
      }
     }
    }
   },
   "outputs": [],
   "source": []
  },
  {
   "cell_type": "code",
   "execution_count": null,
   "metadata": {
    "collapsed": true,
    "extensions": {
     "jupyter_dashboards": {
      "version": 1,
      "views": {
       "grid_default": {
        "col": 0,
        "height": 4,
        "hidden": false,
        "row": 82,
        "width": 12
       },
       "report_default": {
        "hidden": true
       }
      }
     }
    }
   },
   "outputs": [],
   "source": []
  }
 ],
 "metadata": {
  "extensions": {
   "jupyter_dashboards": {
    "activeView": "grid_default",
    "version": 1,
    "views": {
     "grid_default": {
      "cellMargin": 10,
      "defaultCellHeight": 20,
      "maxColumns": 12,
      "name": "grid",
      "type": "grid"
     },
     "report_default": {
      "name": "report",
      "type": "report"
     }
    }
   }
  },
  "kernelspec": {
   "display_name": "Python 3",
   "language": "python",
   "name": "python3"
  },
  "language_info": {
   "codemirror_mode": {
    "name": "ipython",
    "version": 3
   },
   "file_extension": ".py",
   "mimetype": "text/x-python",
   "name": "python",
   "nbconvert_exporter": "python",
   "pygments_lexer": "ipython3",
   "version": "3.6.3"
  },
  "latex_envs": {
   "LaTeX_envs_menu_present": true,
   "autoclose": false,
   "autocomplete": true,
   "bibliofile": "biblio.bib",
   "cite_by": "apalike",
   "current_citInitial": 1,
   "eqLabelWithNumbers": true,
   "eqNumInitial": 1,
   "hotkeys": {
    "equation": "Ctrl-E",
    "itemize": "Ctrl-I"
   },
   "labels_anchors": false,
   "latex_user_defs": false,
   "report_style_numbering": false,
   "user_envs_cfg": false
  },
  "nbTranslate": {
   "displayLangs": [],
   "hotkey": "alt-t",
   "langInMainMenu": true,
   "sourceLang": "en",
   "targetLang": "fr",
   "useGoogleTranslate": true
  },
  "toc": {
   "nav_menu": {},
   "number_sections": true,
   "sideBar": true,
   "skip_h1_title": false,
   "toc_cell": false,
   "toc_position": {},
   "toc_section_display": "block",
   "toc_window_display": false
  }
 },
 "nbformat": 4,
 "nbformat_minor": 2
}
