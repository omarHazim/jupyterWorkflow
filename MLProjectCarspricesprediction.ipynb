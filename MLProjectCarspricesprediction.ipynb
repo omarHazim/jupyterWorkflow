{
 "cells": [
  {
   "cell_type": "raw",
   "metadata": {
    "slideshow": {
     "slide_type": "fragment"
    }
   },
   "source": [
    "## ML Project: Predicting Car Prices"
   ]
  },
  {
   "cell_type": "code",
   "execution_count": 1,
   "metadata": {
    "collapsed": true,
    "scrolled": true,
    "slideshow": {
     "slide_type": "slide"
    }
   },
   "outputs": [],
   "source": [
    "\n",
    "# Import front end lib\n",
    "import pandas as pd \n",
    "import requests\n",
    "from collections import namedtuple\n",
    "import re\n",
    "import numpy as np\n",
    "import itertools\n",
    "from sklearn.neighbors import KNeighborsRegressor\n",
    "from sklearn.metrics import mean_squared_error\n",
    "import matplotlib.pyplot as plt\n",
    "\n",
    "#Building wedgets to make interactive function\n",
    "import ipywidgets as wg\n",
    "from ipywidgets import *\n",
    "from IPython.display import display\n",
    "\n",
    "#the lib below to make pandas DF shows pretty tabels\n",
    "from IPython.core.interactiveshell import InteractiveShell\n",
    "InteractiveShell.ast_node_interactivity = \"all\"\n",
    "\n",
    "# Run IPython kernal as HTML slidshow\n",
    "#!jupyter nbconvert  MLProjectCarspricesprediction.ipynb   --to slides --post serve\n"
   ]
  },
  {
   "cell_type": "markdown",
   "metadata": {
    "slideshow": {
     "slide_type": "subslide"
    }
   },
   "source": [
    "### 1. Dataset download and preperations process "
   ]
  },
  {
   "cell_type": "code",
   "execution_count": 2,
   "metadata": {
    "collapsed": true,
    "scrolled": true,
    "slideshow": {
     "slide_type": "slide"
    }
   },
   "outputs": [],
   "source": [
    "##Parsing \"imports-85.names\" to find the column names for the dataset\n",
    "# Cheking the status of the request\n",
    "url_cols = \"http://archive.ics.uci.edu/ml/machine-learning-databases/autos/imports-85.names\"\n",
    "url_dataset = \"https://archive.ics.uci.edu/ml/machine-learning-databases/autos/imports-85.data\"\n"
   ]
  },
  {
   "cell_type": "code",
   "execution_count": 3,
   "metadata": {
    "slideshow": {
     "slide_type": "slide"
    }
   },
   "outputs": [
    {
     "name": "stderr",
     "output_type": "stream",
     "text": [
      "/Users/omar/anaconda3/lib/python3.6/re.py:212: FutureWarning: split() requires a non-empty pattern match.\n",
      "  return _compile(pattern, flags).split(string, maxsplit)\n"
     ]
    }
   ],
   "source": [
    "# Download the webpage to extract the columns name\n",
    "r_cols = requests.get(url_cols)\n",
    "data_text = r_cols.text\n",
    "data_text_lines = data_text.splitlines()\n",
    "cols =  []\n",
    "for line in data_text_lines:\n",
    "    pattern0 = r\"\\s\\d+. ([a-zA-Z]+).*:\"\n",
    "    if re.search(pattern0, line):\n",
    "        cols.append(line)\n",
    "col_nme = [re.split(':?', entry, 3) for entry in cols]\n",
    "\n",
    "# Final column names\n",
    "pattern1 = r\"([a-zA-Z]+)\"\n",
    "cols_nme = [re.search(pattern1, col[0]).group() for col in col_nme]    "
   ]
  },
  {
   "cell_type": "code",
   "execution_count": 4,
   "metadata": {
    "collapsed": true,
    "scrolled": true,
    "slideshow": {
     "slide_type": "slide"
    }
   },
   "outputs": [],
   "source": [
    "# Download the dataset and convert it to dataframe\n",
    "r_dataset = requests.get(url_dataset)\n",
    "dataset_text = r_dataset.text.split('\\n')\n",
    "data_set_cars = [item for item in dataset_text]\n",
    "cars_dataset = pd.DataFrame([x.split(\",\") for x in data_set_cars], columns=cols_nme)"
   ]
  },
  {
   "cell_type": "code",
   "execution_count": 5,
   "metadata": {
    "scrolled": true,
    "slideshow": {
     "slide_type": "slide"
    }
   },
   "outputs": [
    {
     "data": {
      "text/html": [
       "<div>\n",
       "<style>\n",
       "    .dataframe thead tr:only-child th {\n",
       "        text-align: right;\n",
       "    }\n",
       "\n",
       "    .dataframe thead th {\n",
       "        text-align: left;\n",
       "    }\n",
       "\n",
       "    .dataframe tbody tr th {\n",
       "        vertical-align: top;\n",
       "    }\n",
       "</style>\n",
       "<table border=\"1\" class=\"dataframe\">\n",
       "  <thead>\n",
       "    <tr style=\"text-align: right;\">\n",
       "      <th></th>\n",
       "      <th>symboling</th>\n",
       "      <th>normalized</th>\n",
       "      <th>wheel</th>\n",
       "      <th>length</th>\n",
       "      <th>width</th>\n",
       "      <th>height</th>\n",
       "      <th>curb</th>\n",
       "      <th>bore</th>\n",
       "      <th>stroke</th>\n",
       "      <th>compression</th>\n",
       "      <th>horsepower</th>\n",
       "      <th>peak</th>\n",
       "      <th>city</th>\n",
       "      <th>highway</th>\n",
       "      <th>price</th>\n",
       "    </tr>\n",
       "  </thead>\n",
       "  <tbody>\n",
       "    <tr>\n",
       "      <th>0</th>\n",
       "      <td>3.0</td>\n",
       "      <td>NaN</td>\n",
       "      <td>88.6</td>\n",
       "      <td>168.8</td>\n",
       "      <td>64.1</td>\n",
       "      <td>48.8</td>\n",
       "      <td>2548.0</td>\n",
       "      <td>3.47</td>\n",
       "      <td>2.68</td>\n",
       "      <td>9.0</td>\n",
       "      <td>111.0</td>\n",
       "      <td>5000.0</td>\n",
       "      <td>21.0</td>\n",
       "      <td>27.0</td>\n",
       "      <td>13495.0</td>\n",
       "    </tr>\n",
       "    <tr>\n",
       "      <th>1</th>\n",
       "      <td>3.0</td>\n",
       "      <td>NaN</td>\n",
       "      <td>88.6</td>\n",
       "      <td>168.8</td>\n",
       "      <td>64.1</td>\n",
       "      <td>48.8</td>\n",
       "      <td>2548.0</td>\n",
       "      <td>3.47</td>\n",
       "      <td>2.68</td>\n",
       "      <td>9.0</td>\n",
       "      <td>111.0</td>\n",
       "      <td>5000.0</td>\n",
       "      <td>21.0</td>\n",
       "      <td>27.0</td>\n",
       "      <td>16500.0</td>\n",
       "    </tr>\n",
       "    <tr>\n",
       "      <th>2</th>\n",
       "      <td>1.0</td>\n",
       "      <td>NaN</td>\n",
       "      <td>94.5</td>\n",
       "      <td>171.2</td>\n",
       "      <td>65.5</td>\n",
       "      <td>52.4</td>\n",
       "      <td>2823.0</td>\n",
       "      <td>2.68</td>\n",
       "      <td>3.47</td>\n",
       "      <td>9.0</td>\n",
       "      <td>154.0</td>\n",
       "      <td>5000.0</td>\n",
       "      <td>19.0</td>\n",
       "      <td>26.0</td>\n",
       "      <td>16500.0</td>\n",
       "    </tr>\n",
       "    <tr>\n",
       "      <th>3</th>\n",
       "      <td>2.0</td>\n",
       "      <td>164.0</td>\n",
       "      <td>99.8</td>\n",
       "      <td>176.6</td>\n",
       "      <td>66.2</td>\n",
       "      <td>54.3</td>\n",
       "      <td>2337.0</td>\n",
       "      <td>3.19</td>\n",
       "      <td>3.40</td>\n",
       "      <td>10.0</td>\n",
       "      <td>102.0</td>\n",
       "      <td>5500.0</td>\n",
       "      <td>24.0</td>\n",
       "      <td>30.0</td>\n",
       "      <td>13950.0</td>\n",
       "    </tr>\n",
       "    <tr>\n",
       "      <th>4</th>\n",
       "      <td>2.0</td>\n",
       "      <td>164.0</td>\n",
       "      <td>99.4</td>\n",
       "      <td>176.6</td>\n",
       "      <td>66.4</td>\n",
       "      <td>54.3</td>\n",
       "      <td>2824.0</td>\n",
       "      <td>3.19</td>\n",
       "      <td>3.40</td>\n",
       "      <td>8.0</td>\n",
       "      <td>115.0</td>\n",
       "      <td>5500.0</td>\n",
       "      <td>18.0</td>\n",
       "      <td>22.0</td>\n",
       "      <td>17450.0</td>\n",
       "    </tr>\n",
       "  </tbody>\n",
       "</table>\n",
       "</div>"
      ],
      "text/plain": [
       "   symboling  normalized  wheel  length  width  height    curb  bore  stroke  \\\n",
       "0        3.0         NaN   88.6   168.8   64.1    48.8  2548.0  3.47    2.68   \n",
       "1        3.0         NaN   88.6   168.8   64.1    48.8  2548.0  3.47    2.68   \n",
       "2        1.0         NaN   94.5   171.2   65.5    52.4  2823.0  2.68    3.47   \n",
       "3        2.0       164.0   99.8   176.6   66.2    54.3  2337.0  3.19    3.40   \n",
       "4        2.0       164.0   99.4   176.6   66.4    54.3  2824.0  3.19    3.40   \n",
       "\n",
       "   compression  horsepower    peak  city  highway    price  \n",
       "0          9.0       111.0  5000.0  21.0     27.0  13495.0  \n",
       "1          9.0       111.0  5000.0  21.0     27.0  16500.0  \n",
       "2          9.0       154.0  5000.0  19.0     26.0  16500.0  \n",
       "3         10.0       102.0  5500.0  24.0     30.0  13950.0  \n",
       "4          8.0       115.0  5500.0  18.0     22.0  17450.0  "
      ]
     },
     "execution_count": 5,
     "metadata": {},
     "output_type": "execute_result"
    }
   ],
   "source": [
    "# Setting up a numeric features dataframe\n",
    "cars_dataset_numeric_features = cars_dataset\n",
    "cars_dataset_numeric_features = cars_dataset_numeric_features.apply(lambda x: pd.to_numeric(x,errors='coerce'))    \n",
    "\n",
    "# Decide which cols. have certain Nan values (e.g. > 100) to be reduced from the original dataframet\n",
    "new = cars_dataset_numeric_features.isnull().apply(sum, axis=0) > 100 \n",
    "cars_new_numeric_dataset = cars_dataset_numeric_features.drop(cars_dataset_numeric_features.loc[:,new], axis=1)\n",
    "cars_new_numeric_dataset.head()\n"
   ]
  },
  {
   "cell_type": "code",
   "execution_count": 6,
   "metadata": {
    "scrolled": true,
    "slideshow": {
     "slide_type": "slide"
    }
   },
   "outputs": [
    {
     "data": {
      "text/plain": [
       "Int64Index([0, 1, 2, 3, 15], dtype='int64')"
      ]
     },
     "execution_count": 6,
     "metadata": {},
     "output_type": "execute_result"
    }
   ],
   "source": [
    "# Detremine missing values in cols with max number of NaN among rows\n",
    "missing_values_cars_df = cars_new_numeric_dataset.isnull().apply(sum, axis=1) \n",
    "max_num_nan_rows = missing_values_cars_df.value_counts() # max number of NaN presnets in the data across the cols\n",
    "max_num_nan_rows.index # max number of NaN among rows is 15"
   ]
  },
  {
   "cell_type": "code",
   "execution_count": 7,
   "metadata": {
    "scrolled": true,
    "slideshow": {
     "slide_type": "slide"
    }
   },
   "outputs": [
    {
     "data": {
      "text/html": [
       "<div>\n",
       "<style>\n",
       "    .dataframe thead tr:only-child th {\n",
       "        text-align: right;\n",
       "    }\n",
       "\n",
       "    .dataframe thead th {\n",
       "        text-align: left;\n",
       "    }\n",
       "\n",
       "    .dataframe tbody tr th {\n",
       "        vertical-align: top;\n",
       "    }\n",
       "</style>\n",
       "<table border=\"1\" class=\"dataframe\">\n",
       "  <thead>\n",
       "    <tr style=\"text-align: right;\">\n",
       "      <th></th>\n",
       "      <th>symboling</th>\n",
       "      <th>normalized</th>\n",
       "      <th>wheel</th>\n",
       "      <th>length</th>\n",
       "      <th>width</th>\n",
       "      <th>height</th>\n",
       "      <th>curb</th>\n",
       "      <th>bore</th>\n",
       "      <th>stroke</th>\n",
       "      <th>compression</th>\n",
       "      <th>horsepower</th>\n",
       "      <th>peak</th>\n",
       "      <th>city</th>\n",
       "      <th>highway</th>\n",
       "      <th>price</th>\n",
       "    </tr>\n",
       "  </thead>\n",
       "  <tbody>\n",
       "    <tr>\n",
       "      <th>0</th>\n",
       "      <td>3.0</td>\n",
       "      <td>122.0</td>\n",
       "      <td>88.6</td>\n",
       "      <td>168.8</td>\n",
       "      <td>64.1</td>\n",
       "      <td>48.8</td>\n",
       "      <td>2548.0</td>\n",
       "      <td>3.47</td>\n",
       "      <td>2.68</td>\n",
       "      <td>9.0</td>\n",
       "      <td>111.0</td>\n",
       "      <td>5000.0</td>\n",
       "      <td>21.0</td>\n",
       "      <td>27.0</td>\n",
       "      <td>13495.0</td>\n",
       "    </tr>\n",
       "    <tr>\n",
       "      <th>1</th>\n",
       "      <td>3.0</td>\n",
       "      <td>122.0</td>\n",
       "      <td>88.6</td>\n",
       "      <td>168.8</td>\n",
       "      <td>64.1</td>\n",
       "      <td>48.8</td>\n",
       "      <td>2548.0</td>\n",
       "      <td>3.47</td>\n",
       "      <td>2.68</td>\n",
       "      <td>9.0</td>\n",
       "      <td>111.0</td>\n",
       "      <td>5000.0</td>\n",
       "      <td>21.0</td>\n",
       "      <td>27.0</td>\n",
       "      <td>16500.0</td>\n",
       "    </tr>\n",
       "    <tr>\n",
       "      <th>2</th>\n",
       "      <td>1.0</td>\n",
       "      <td>122.0</td>\n",
       "      <td>94.5</td>\n",
       "      <td>171.2</td>\n",
       "      <td>65.5</td>\n",
       "      <td>52.4</td>\n",
       "      <td>2823.0</td>\n",
       "      <td>2.68</td>\n",
       "      <td>3.47</td>\n",
       "      <td>9.0</td>\n",
       "      <td>154.0</td>\n",
       "      <td>5000.0</td>\n",
       "      <td>19.0</td>\n",
       "      <td>26.0</td>\n",
       "      <td>16500.0</td>\n",
       "    </tr>\n",
       "    <tr>\n",
       "      <th>3</th>\n",
       "      <td>2.0</td>\n",
       "      <td>164.0</td>\n",
       "      <td>99.8</td>\n",
       "      <td>176.6</td>\n",
       "      <td>66.2</td>\n",
       "      <td>54.3</td>\n",
       "      <td>2337.0</td>\n",
       "      <td>3.19</td>\n",
       "      <td>3.40</td>\n",
       "      <td>10.0</td>\n",
       "      <td>102.0</td>\n",
       "      <td>5500.0</td>\n",
       "      <td>24.0</td>\n",
       "      <td>30.0</td>\n",
       "      <td>13950.0</td>\n",
       "    </tr>\n",
       "    <tr>\n",
       "      <th>4</th>\n",
       "      <td>2.0</td>\n",
       "      <td>164.0</td>\n",
       "      <td>99.4</td>\n",
       "      <td>176.6</td>\n",
       "      <td>66.4</td>\n",
       "      <td>54.3</td>\n",
       "      <td>2824.0</td>\n",
       "      <td>3.19</td>\n",
       "      <td>3.40</td>\n",
       "      <td>8.0</td>\n",
       "      <td>115.0</td>\n",
       "      <td>5500.0</td>\n",
       "      <td>18.0</td>\n",
       "      <td>22.0</td>\n",
       "      <td>17450.0</td>\n",
       "    </tr>\n",
       "  </tbody>\n",
       "</table>\n",
       "</div>"
      ],
      "text/plain": [
       "   symboling  normalized  wheel  length  width  height    curb  bore  stroke  \\\n",
       "0        3.0       122.0   88.6   168.8   64.1    48.8  2548.0  3.47    2.68   \n",
       "1        3.0       122.0   88.6   168.8   64.1    48.8  2548.0  3.47    2.68   \n",
       "2        1.0       122.0   94.5   171.2   65.5    52.4  2823.0  2.68    3.47   \n",
       "3        2.0       164.0   99.8   176.6   66.2    54.3  2337.0  3.19    3.40   \n",
       "4        2.0       164.0   99.4   176.6   66.4    54.3  2824.0  3.19    3.40   \n",
       "\n",
       "   compression  horsepower    peak  city  highway    price  \n",
       "0          9.0       111.0  5000.0  21.0     27.0  13495.0  \n",
       "1          9.0       111.0  5000.0  21.0     27.0  16500.0  \n",
       "2          9.0       154.0  5000.0  19.0     26.0  16500.0  \n",
       "3         10.0       102.0  5500.0  24.0     30.0  13950.0  \n",
       "4          8.0       115.0  5500.0  18.0     22.0  17450.0  "
      ]
     },
     "execution_count": 7,
     "metadata": {},
     "output_type": "execute_result"
    }
   ],
   "source": [
    "# Drop row across set of cols that have all NaN values \n",
    "row_max_nan = missing_values_cars_df[missing_values_cars_df.apply(lambda x: x == max(max_num_nan_rows.index))]\n",
    "cars_df_after_removing_nan_max = cars_new_numeric_dataset.drop(list(row_max_nan.index))\n",
    "\n",
    "# Impute missing values \"NaN\" using mean values across cols\n",
    "## Note: there is a class called \"imputer\" within \"from sklearn.preprocessing import Imputer\" whihc can handel missing values \"other than NaN\"\n",
    "mean_vla_cols = cars_df_after_removing_nan_max.apply(lambda x: np.mean(x), axis=0)\n",
    "cars_df_with_mean = cars_df_after_removing_nan_max.replace(np.nan, mean_vla_cols)\n",
    "cars_df_with_mean.head()\n",
    "\n",
    "## Imputing missing values: Simulating distribution method\n",
    "#mean_df_nan = cars_df_after_removing_nan_max['price'].mean()\n",
    "#std_df_nan = cars_df_after_removing_nan_max['price'].std()\n",
    "#cars_new_sim_df = pd.DataFrame(np.random.normal(mean_df_nan, std_df_nan, len(cars_df_after_removing_nan_max['price'])))\n",
    "#nan_label = cars_new_sim_df[cars_df_after_removing_nan_max['price'].isnull()]\n",
    "#cars_df_after_removing_nan_max['price'].loc[list(nan_label[0].index)]=nan_label[0]\n",
    "#cars_df_after_removing_nan_max['price'].head(10)\n",
    "#nan_label"
   ]
  },
  {
   "cell_type": "code",
   "execution_count": 8,
   "metadata": {
    "scrolled": true,
    "slideshow": {
     "slide_type": "slide"
    }
   },
   "outputs": [
    {
     "data": {
      "text/html": [
       "<div>\n",
       "<style>\n",
       "    .dataframe thead tr:only-child th {\n",
       "        text-align: right;\n",
       "    }\n",
       "\n",
       "    .dataframe thead th {\n",
       "        text-align: left;\n",
       "    }\n",
       "\n",
       "    .dataframe tbody tr th {\n",
       "        vertical-align: top;\n",
       "    }\n",
       "</style>\n",
       "<table border=\"1\" class=\"dataframe\">\n",
       "  <thead>\n",
       "    <tr style=\"text-align: right;\">\n",
       "      <th></th>\n",
       "      <th>symboling</th>\n",
       "      <th>normalized</th>\n",
       "      <th>wheel</th>\n",
       "      <th>length</th>\n",
       "      <th>width</th>\n",
       "      <th>height</th>\n",
       "      <th>curb</th>\n",
       "      <th>bore</th>\n",
       "      <th>stroke</th>\n",
       "      <th>compression</th>\n",
       "      <th>horsepower</th>\n",
       "      <th>peak</th>\n",
       "      <th>city</th>\n",
       "      <th>highway</th>\n",
       "      <th>price</th>\n",
       "    </tr>\n",
       "  </thead>\n",
       "  <tbody>\n",
       "    <tr>\n",
       "      <th>0</th>\n",
       "      <td>0.433171</td>\n",
       "      <td>0.000000</td>\n",
       "      <td>-0.296110</td>\n",
       "      <td>-0.078347</td>\n",
       "      <td>-0.150650</td>\n",
       "      <td>-0.410407</td>\n",
       "      <td>-0.002935</td>\n",
       "      <td>0.100178</td>\n",
       "      <td>-0.274011</td>\n",
       "      <td>-0.071409</td>\n",
       "      <td>0.028099</td>\n",
       "      <td>-0.051171</td>\n",
       "      <td>-0.117209</td>\n",
       "      <td>-0.098716</td>\n",
       "      <td>0.007146</td>\n",
       "    </tr>\n",
       "    <tr>\n",
       "      <th>1</th>\n",
       "      <td>0.433171</td>\n",
       "      <td>0.000000</td>\n",
       "      <td>-0.296110</td>\n",
       "      <td>-0.078347</td>\n",
       "      <td>-0.150650</td>\n",
       "      <td>-0.410407</td>\n",
       "      <td>-0.002935</td>\n",
       "      <td>0.100178</td>\n",
       "      <td>-0.274011</td>\n",
       "      <td>-0.071409</td>\n",
       "      <td>0.028099</td>\n",
       "      <td>-0.051171</td>\n",
       "      <td>-0.117209</td>\n",
       "      <td>-0.098716</td>\n",
       "      <td>0.081745</td>\n",
       "    </tr>\n",
       "    <tr>\n",
       "      <th>2</th>\n",
       "      <td>0.033171</td>\n",
       "      <td>0.000000</td>\n",
       "      <td>-0.124099</td>\n",
       "      <td>-0.042526</td>\n",
       "      <td>-0.033984</td>\n",
       "      <td>-0.110407</td>\n",
       "      <td>0.103737</td>\n",
       "      <td>-0.464108</td>\n",
       "      <td>0.102180</td>\n",
       "      <td>-0.071409</td>\n",
       "      <td>0.207266</td>\n",
       "      <td>-0.051171</td>\n",
       "      <td>-0.172764</td>\n",
       "      <td>-0.125032</td>\n",
       "      <td>0.081745</td>\n",
       "    </tr>\n",
       "    <tr>\n",
       "      <th>3</th>\n",
       "      <td>0.233171</td>\n",
       "      <td>0.219895</td>\n",
       "      <td>0.030420</td>\n",
       "      <td>0.038071</td>\n",
       "      <td>0.024350</td>\n",
       "      <td>0.047927</td>\n",
       "      <td>-0.084781</td>\n",
       "      <td>-0.099822</td>\n",
       "      <td>0.068846</td>\n",
       "      <td>-0.008909</td>\n",
       "      <td>-0.009401</td>\n",
       "      <td>0.152910</td>\n",
       "      <td>-0.033875</td>\n",
       "      <td>-0.019769</td>\n",
       "      <td>0.018442</td>\n",
       "    </tr>\n",
       "    <tr>\n",
       "      <th>4</th>\n",
       "      <td>0.233171</td>\n",
       "      <td>0.219895</td>\n",
       "      <td>0.018758</td>\n",
       "      <td>0.038071</td>\n",
       "      <td>0.041016</td>\n",
       "      <td>0.047927</td>\n",
       "      <td>0.104125</td>\n",
       "      <td>-0.099822</td>\n",
       "      <td>0.068846</td>\n",
       "      <td>-0.133909</td>\n",
       "      <td>0.044766</td>\n",
       "      <td>0.152910</td>\n",
       "      <td>-0.200542</td>\n",
       "      <td>-0.230295</td>\n",
       "      <td>0.105329</td>\n",
       "    </tr>\n",
       "  </tbody>\n",
       "</table>\n",
       "</div>"
      ],
      "text/plain": [
       "   symboling  normalized     wheel    length     width    height      curb  \\\n",
       "0   0.433171    0.000000 -0.296110 -0.078347 -0.150650 -0.410407 -0.002935   \n",
       "1   0.433171    0.000000 -0.296110 -0.078347 -0.150650 -0.410407 -0.002935   \n",
       "2   0.033171    0.000000 -0.124099 -0.042526 -0.033984 -0.110407  0.103737   \n",
       "3   0.233171    0.219895  0.030420  0.038071  0.024350  0.047927 -0.084781   \n",
       "4   0.233171    0.219895  0.018758  0.038071  0.041016  0.047927  0.104125   \n",
       "\n",
       "       bore    stroke  compression  horsepower      peak      city   highway  \\\n",
       "0  0.100178 -0.274011    -0.071409    0.028099 -0.051171 -0.117209 -0.098716   \n",
       "1  0.100178 -0.274011    -0.071409    0.028099 -0.051171 -0.117209 -0.098716   \n",
       "2 -0.464108  0.102180    -0.071409    0.207266 -0.051171 -0.172764 -0.125032   \n",
       "3 -0.099822  0.068846    -0.008909   -0.009401  0.152910 -0.033875 -0.019769   \n",
       "4 -0.099822  0.068846    -0.133909    0.044766  0.152910 -0.200542 -0.230295   \n",
       "\n",
       "      price  \n",
       "0  0.007146  \n",
       "1  0.081745  \n",
       "2  0.081745  \n",
       "3  0.018442  \n",
       "4  0.105329  "
      ]
     },
     "execution_count": 8,
     "metadata": {},
     "output_type": "execute_result"
    }
   ],
   "source": [
    "# Normalize cars dataset\n",
    "cars_normalized_df = (cars_df_with_mean-cars_df_with_mean.mean()) / (cars_df_with_mean.max() - cars_df_with_mean.min())\n",
    "cars_normalized_df.head()"
   ]
  },
  {
   "cell_type": "markdown",
   "metadata": {
    "slideshow": {
     "slide_type": "slide"
    }
   },
   "source": [
    "### 2. Building univariate k-nearest neighbors models: Predicting car prices"
   ]
  },
  {
   "cell_type": "code",
   "execution_count": 9,
   "metadata": {
    "collapsed": true,
    "scrolled": true,
    "slideshow": {
     "slide_type": "slide"
    }
   },
   "outputs": [],
   "source": [
    "# univariate k-nearest neighbors \n",
    "\n",
    "## Building univariate k-nearest neighbors function\n",
    "def knn_train_test(feature_nme, target_nme, df, perc_fig, n_neigh):\n",
    "    \"\"\"\n",
    "    Univariate KNN model\n",
    "     - feature_nme: a col. that used as a feature input\n",
    "     - target_nme: a col. to predict \n",
    "     - df: dataframe input\n",
    "     - perc_fig: a '%' used to set up training/testing samples\n",
    "    \"\"\"\n",
    "    # Set up training /testing set\n",
    "    perc_train_test = round(len(df[feature_nme])* perc_fig)\n",
    "    training_set = df.iloc[:perc_train_test]\n",
    "    testing_set = df.iloc[perc_train_test:]\n",
    "    \n",
    "    # Set up univariate k-nearest neighbors models\n",
    "    knn = KNeighborsRegressor(n_neighbors = n_neigh, algorithm='brute')\n",
    "    fit = knn.fit(training_set[feature_nme], training_set[target_nme])\n",
    "    predicts = knn.predict(testing_set[feature_nme])\n",
    "    RMSE = np.sqrt(mean_squared_error(testing_set[target_nme], predicts))\n",
    "    return RMSE"
   ]
  },
  {
   "cell_type": "code",
   "execution_count": 10,
   "metadata": {
    "collapsed": true
   },
   "outputs": [],
   "source": [
    "# Applying univariate k-nearest neighbors function to cars datatframe and find the best fit\n",
    "\n",
    "## Link a float slide widget to univariate Knn model\n",
    "def knn_model(perc_fig, n_neigh):\n",
    "    \"\"\"\n",
    "    apply knn func \"knn_train_test\" to find best univariate model\n",
    "    \"\"\"\n",
    "    ## Applying \"knn_train_test\" to find best univariate Knn model\n",
    "    knn_model_rmse = {}\n",
    "    for col in cars_normalized_df.columns:\n",
    "        if col != 'price':\n",
    "            feature_model = knn_train_test([col],['price'], cars_normalized_df, perc_fig, n_neigh)\n",
    "            knn_model_rmse[col] = feature_model\n",
    "    ## Plotting RMSE of univariate Knn model\n",
    "    ax.clear()\n",
    "    #plt.suptitle('Univariate k-nearest neighbors RMSE')\n",
    "    ax.bar(knn_model_rmse.keys(),knn_model_rmse.values())\n",
    "    plt.xticks(rotation=40)\n",
    "    plt.show()\n",
    " "
   ]
  },
  {
   "cell_type": "code",
   "execution_count": 11,
   "metadata": {
    "scrolled": true,
    "slideshow": {
     "slide_type": "slide"
    }
   },
   "outputs": [
    {
     "data": {
      "image/png": "[encoded data removed]",
      "text/plain": [
       "<matplotlib.figure.Figure at 0x109607470>"
      ]
     },
     "metadata": {
      "image/png": {
       "height": 343,
       "width": 610
      }
     },
     "output_type": "display_data"
    }
   ],
   "source": [
    "## High-resolution plot outputs for Retina notebooks\n",
    "#%matplotlib nbagg\n",
    "%matplotlib inline\n",
    "%config InlineBackend.figure_format = 'retina' \n",
    "fig, ax  = plt.subplots(1, figsize=(10,5))\n",
    "#df.resample('W').sum().plot\n",
    "\n",
    "# Set up a widget to manipulate RMSE by changing training/testing percentage of df \n",
    "#perc_training = wg.FloatSlider(min=0.05,max=1,step=.01,description='% of training dataset:')\n",
    "#n_ne = wg.IntSlider(min=2,max=10,step=1,description='n_neighbors parameter:')\n",
    "#wg.interactive(knn_model, perc_fig=perc_training, n_neigh=n_ne)\n",
    "knn_model(.8, 5)"
   ]
  },
  {
   "cell_type": "markdown",
   "metadata": {
    "slideshow": {
     "slide_type": "slide"
    }
   },
   "source": [
    "### Key take away from the univariate Knn model\n",
    " - The univariat Knn model applies one feature each step at a time to predict the \"target\" car price\n",
    " - By changing the widgets sliders, we can view the best univariate Knn model (i.e with lowest RMSE value compared to other univariate Knn models) as follows;\n",
    "- at 50-50 training/testing with default n_neighbor parameter (k = 5), the best univariate model  is with a \"height\" independent var, while setting training/testing with default n_neighbor parameter (k = 5) at 80-20, the best univariate model revealed with a \"compression\" independent var.\n",
    "- Increasing n_neighbor parameter doesn't countribute to the performance \n",
    "- Having build a slide widgets linked to the univariate Knn model gives another perspective of the best univarite Knn model with lowest RMSE testing procedures\n"
   ]
  },
  {
   "cell_type": "markdown",
   "metadata": {
    "slideshow": {
     "slide_type": "slide"
    }
   },
   "source": [
    "### 3. Building multivariate k-nearest neighbors models: Predicting car prices   "
   ]
  },
  {
   "cell_type": "code",
   "execution_count": 12,
   "metadata": {
    "collapsed": true,
    "scrolled": true,
    "slideshow": {
     "slide_type": "slide"
    }
   },
   "outputs": [],
   "source": [
    "# Multivariate k-nearest neighbors \n",
    "\n",
    "## Building Multivariate k-nearest neighbors function\n",
    "def multi_knn_train_test(df,features_cols, target_col,prec_train, n_neighbor):\n",
    "    \"\"\"\n",
    "    Multivariate KNN model\n",
    "     - feature_nme: a col. that used as a feature input\n",
    "     - target_nme: a col. to predict \n",
    "     - df: dataframe input\n",
    "     - perc_fig: a '%' used to set up training/testing samples\n",
    "    \"\"\"\n",
    "    # Set up training /testing set\n",
    "    #features_cols = [col for idx, col in enumerate(list(df.columns)) if col != target_col]\n",
    "    perc_train_test = round(len(df[features_cols])* prec_train)\n",
    "    training_set = df.iloc[:perc_train_test]\n",
    "    testing_set = df.iloc[perc_train_test:]\n",
    "    \n",
    "    # Set up Multivariate k-nearest neighbors models\n",
    "    knn = KNeighborsRegressor(n_neighbors = n_neighbor, algorithm='brute')\n",
    "    fit = knn.fit(training_set[features_cols], training_set[target_col])\n",
    "    predicts = knn.predict(testing_set[features_cols])\n",
    "    RMSE = np.sqrt(mean_squared_error(testing_set[target_col], predicts))\n",
    "    #MAE = sum(np.abs(predicts - testing_set[target_nme])) / len(testing_set)\n",
    "    #RMSE_prop = RMSE/MAE\n",
    "    #results = {'RMSE':RMSE, 'MAE':MAE, 'RMSE proportion':RMSE_prop}\n",
    "    return RMSE\n",
    "\n",
    "## Link a float slide widget to multivariate Knn model\n",
    "def multi_knn_model(n_neigh, perc_fig, rand_n):\n",
    "    \"\"\"\n",
    "    apply knn func \"knn_train_test\" to find best multivariate model for \n",
    "    each random set of features \n",
    "       - n_neigh: n_neighbor parameter in Knn func.\n",
    "       - perc_fig: % of dataframe splitting up training and testing set\n",
    "       - rand_n: random 'n' number iterations tp run Knn model\n",
    "    \"\"\"\n",
    "    ## create random, nonrepetitive pairs from a list of columns\n",
    "    #for iteration in range(rand_n):\n",
    "        #multi_col_rnd_selection = {idx:np.random.choice(cars_normalized_df.columns, idx, replace=False) for idx, col in enumerate(cars_normalized_df.columns)}\n",
    "        #multi_rnd_selection_excpt_0_1 = [item for item in multi_col_rnd_selection.values() if len(item) > 1]\n",
    "    ###################### New set up#######################   \n",
    "    result_1 = {}\n",
    "    features_cols_lst = [col for idx, col in enumerate(list(cars_normalized_df.columns)) if col != 'price']\n",
    "    for idx, col in enumerate(features_cols_lst):\n",
    "            x = np.random.choice(features_cols_lst, idx, replace=False)\n",
    "            result_1[idx] = x\n",
    "    res1 = [item for item in result_1.values() if len(item) > 1]\n",
    "            \n",
    "    ## Applying \"knn_train_test\" to find best multivariate Knn model based on random feature selction \n",
    "    ## Iterating thru each multi-col selection \n",
    "    RMSE_total = {}\n",
    "    for i in range(rand_n):\n",
    "        RMSE_RES = {}\n",
    "        for idx,pair in enumerate(res1):\n",
    "            RMSE_RES[len(pair)] = multi_knn_train_test(cars_normalized_df ,pair ,'price',perc_fig ,n_neigh)\n",
    "        RMSE_total[i] = RMSE_RES\n",
    "    lst_rmse = []    \n",
    "    for i_1 in range(len(RMSE_total.keys())):\n",
    "        x = list(list(RMSE_total.values())[i_1].values())\n",
    "        lst_rmse.append(x)\n",
    "    avrg_rmse = [sum(n)/len(n) for n in list(zip(*lst_rmse))]   \n",
    "    avrg_rmse_plt_df = pd.DataFrame(avrg_rmse, columns=['Avrg RMSE'] ,index=list(list(RMSE_total.values())[0]))\n",
    "    \n",
    "    ## Plotting RMSE of multivariate Knn model\n",
    "    #ax.clear()\n",
    "    #avrg_rmse_plt_df.plot(kind='bar', title='AVRG RMSE for N random iteration')\n",
    "\n",
    "    ## Plotting RMSE of multivariate Knn model\n",
    "    ax.clear()\n",
    "    ax.bar(avrg_rmse_plt_df.index,list(avrg_rmse_plt_df['Avrg RMSE']))\n",
    "    plt.style.use('seaborn')\n",
    "    plt.title('Avrg RMSE for Knn model n random Iteration')\n",
    "    plt.show()\n",
    "    "
   ]
  },
  {
   "cell_type": "code",
   "execution_count": 13,
   "metadata": {},
   "outputs": [
    {
     "data": {
      "image/png": "[encoded data removed]",
      "text/plain": [
       "<matplotlib.figure.Figure at 0x109716f28>"
      ]
     },
     "metadata": {
      "image/png": {
       "height": 372,
       "width": 600
      }
     },
     "output_type": "display_data"
    }
   ],
   "source": [
    "## Applying multivariate k-nearest neighbors function to cars datatframe and find the best fit\n",
    "# Set up a widget to manipulate RMSE by changing training/testing percentage and n_neighbors parameter  of df \n",
    "#%matplotlib nbagg\n",
    "%matplotlib inline\n",
    "#%config InlineBackend.figure_format = 'retina' \n",
    "fig, ax  = plt.subplots(1, figsize=(10,6))\n",
    "\n",
    "## Link and apply Knn model to a plain plot\n",
    "multi_knn_model(5, 0.8, 100)\n",
    "\n",
    "## Link and apply slide widgets \n",
    "#perc_training = wg.FloatSlider(min=0.5,max=1,step=.01,description='% of training dataset:')\n",
    "#n_neigh = wg.IntSlider(min=1,max=10,step=1,description='n_neighbors parameter:')\n",
    "#rand_n = wg.IntSlider\n",
    "\n",
    "#(min=1,max=100,step=1,description='n random Knn model iteration:')\n",
    "#wg.interactive(multi_knn_model,n_neigh=n_neigh, perc_fig=perc_training, rand_n=rand_n)\n",
    "\n",
    "#display(perc_training, n_neigh)"
   ]
  },
  {
   "cell_type": "markdown",
   "metadata": {},
   "source": [
    "## 4. Building multivariate k-nearest neighbors models: optimizing model parameters"
   ]
  },
  {
   "cell_type": "code",
   "execution_count": 14,
   "metadata": {
    "collapsed": true
   },
   "outputs": [],
   "source": [
    "def multi_knn_model_results(n_neigh, perc_fig, rand_n):\n",
    "    \"\"\"\n",
    "    apply knn func \"knn_train_test\" to find best multivariate model for \n",
    "    each random set of features \n",
    "       - n_neigh: n_neighbor parameter in Knn func.\n",
    "       - perc_fig: % of dataframe splitting up training and testing set\n",
    "       - rand_n: random 'n' number iterations tp run Knn model\n",
    "    \"\"\"\n",
    "    ## create random, nonrepetitive pairs from a list of columns  \n",
    "    result_1 = {}\n",
    "    features_cols_lst = [col for idx, col in enumerate(list(cars_normalized_df.columns)) if col != 'price']\n",
    "    for idx, col in enumerate(features_cols_lst):\n",
    "            x = np.random.choice(features_cols_lst, idx, replace=False)\n",
    "            result_1[idx] = x\n",
    "    res1 = [item for item in result_1.values() if len(item) > 1]\n",
    "            \n",
    "    ## Applying \"knn_train_test\" to find best multivariate Knn model based on random feature selction \n",
    "    ## Iterating thru each multi-col selection \n",
    "    RMSE_total = {}\n",
    "    for i in range(rand_n):\n",
    "        RMSE_RES = {}\n",
    "        for idx,pair in enumerate(res1):\n",
    "            RMSE_RES[len(pair)] = multi_knn_train_test(cars_normalized_df ,pair ,'price',perc_fig ,n_neigh)\n",
    "        RMSE_total[i] = RMSE_RES\n",
    "    lst_rmse = []    \n",
    "    for i_1 in range(len(RMSE_total.keys())):\n",
    "        x = list(list(RMSE_total.values())[i_1].values())\n",
    "        lst_rmse.append(x)\n",
    "    avrg_rmse = [sum(n)/len(n) for n in list(zip(*lst_rmse))]   \n",
    "    avrg_rmse_plt_df = pd.DataFrame(avrg_rmse,columns=['Avrg RMSE'] ,index=list(list(RMSE_total.values())[0]))\n",
    "    return avrg_rmse_plt_df\n"
   ]
  },
  {
   "cell_type": "code",
   "execution_count": 60,
   "metadata": {},
   "outputs": [
    {
     "name": "stdout",
     "output_type": "stream",
     "text": [
      "CPU times: user 5 µs, sys: 3 µs, total: 8 µs\n",
      "Wall time: 16.9 µs\n"
     ]
    }
   ],
   "source": [
    "# optimazing \"multi_knn_model_results\" parametrs\n",
    "# 1. n_neighbor parameter\n",
    "%time\n",
    "optimizing_k_niegh_para = list(\n",
    "    itertools.chain(\n",
    "        *[np.mean(multi_knn_model_results(iter_1,0.8,10)) for iter_1 in range(2, 100)]\n",
    "    )\n",
    ")\n",
    "# the range been selcted randomly to be betw(2,125) it can be chnaged !"
   ]
  },
  {
   "cell_type": "code",
   "execution_count": 61,
   "metadata": {},
   "outputs": [
    {
     "name": "stdout",
     "output_type": "stream",
     "text": [
      "CPU times: user 6 µs, sys: 2 µs, total: 8 µs\n",
      "Wall time: 14.8 µs\n"
     ]
    },
    {
     "ename": "ValueError",
     "evalue": "Expected n_neighbors <= n_samples,  but n_samples = 20, n_neighbors = 41",
     "output_type": "error",
     "traceback": [
      "\u001b[0;31m---------------------------------------------------------------------------\u001b[0m",
      "\u001b[0;31mValueError\u001b[0m                                Traceback (most recent call last)",
      "\u001b[0;32m<ipython-input-61-bfcd6312fbcb>\u001b[0m in \u001b[0;36m<module>\u001b[0;34m()\u001b[0m\n\u001b[1;32m      6\u001b[0m optimizing_train_test_para = list(\n\u001b[1;32m      7\u001b[0m     itertools.chain(\n\u001b[0;32m----> 8\u001b[0;31m         \u001b[0;34m*\u001b[0m\u001b[0;34m[\u001b[0m\u001b[0mnp\u001b[0m\u001b[0;34m.\u001b[0m\u001b[0mmean\u001b[0m\u001b[0;34m(\u001b[0m\u001b[0mmulti_knn_model_results\u001b[0m\u001b[0;34m(\u001b[0m\u001b[0mmin_rmse_n_neighbor_parameter\u001b[0m\u001b[0;34m,\u001b[0m\u001b[0miter_2\u001b[0m\u001b[0;34m,\u001b[0m\u001b[0;36m10\u001b[0m\u001b[0;34m)\u001b[0m\u001b[0;34m)\u001b[0m \u001b[0;32mfor\u001b[0m \u001b[0miter_2\u001b[0m \u001b[0;32min\u001b[0m \u001b[0;34m[\u001b[0m\u001b[0;34m(\u001b[0m\u001b[0mx\u001b[0m \u001b[0;34m/\u001b[0m \u001b[0;36m0.1\u001b[0m\u001b[0;34m)\u001b[0m\u001b[0;34m/\u001b[0m\u001b[0;36m100\u001b[0m \u001b[0;32mfor\u001b[0m \u001b[0mx\u001b[0m \u001b[0;32min\u001b[0m \u001b[0mrange\u001b[0m\u001b[0;34m(\u001b[0m\u001b[0;36m1\u001b[0m\u001b[0;34m,\u001b[0m \u001b[0;36m10\u001b[0m\u001b[0;34m)\u001b[0m\u001b[0;34m]\u001b[0m\u001b[0;34m]\u001b[0m\u001b[0;34m\u001b[0m\u001b[0m\n\u001b[0m\u001b[1;32m      9\u001b[0m     )\n\u001b[1;32m     10\u001b[0m )\n",
      "\u001b[0;32m<ipython-input-61-bfcd6312fbcb>\u001b[0m in \u001b[0;36m<listcomp>\u001b[0;34m(.0)\u001b[0m\n\u001b[1;32m      6\u001b[0m optimizing_train_test_para = list(\n\u001b[1;32m      7\u001b[0m     itertools.chain(\n\u001b[0;32m----> 8\u001b[0;31m         \u001b[0;34m*\u001b[0m\u001b[0;34m[\u001b[0m\u001b[0mnp\u001b[0m\u001b[0;34m.\u001b[0m\u001b[0mmean\u001b[0m\u001b[0;34m(\u001b[0m\u001b[0mmulti_knn_model_results\u001b[0m\u001b[0;34m(\u001b[0m\u001b[0mmin_rmse_n_neighbor_parameter\u001b[0m\u001b[0;34m,\u001b[0m\u001b[0miter_2\u001b[0m\u001b[0;34m,\u001b[0m\u001b[0;36m10\u001b[0m\u001b[0;34m)\u001b[0m\u001b[0;34m)\u001b[0m \u001b[0;32mfor\u001b[0m \u001b[0miter_2\u001b[0m \u001b[0;32min\u001b[0m \u001b[0;34m[\u001b[0m\u001b[0;34m(\u001b[0m\u001b[0mx\u001b[0m \u001b[0;34m/\u001b[0m \u001b[0;36m0.1\u001b[0m\u001b[0;34m)\u001b[0m\u001b[0;34m/\u001b[0m\u001b[0;36m100\u001b[0m \u001b[0;32mfor\u001b[0m \u001b[0mx\u001b[0m \u001b[0;32min\u001b[0m \u001b[0mrange\u001b[0m\u001b[0;34m(\u001b[0m\u001b[0;36m1\u001b[0m\u001b[0;34m,\u001b[0m \u001b[0;36m10\u001b[0m\u001b[0;34m)\u001b[0m\u001b[0;34m]\u001b[0m\u001b[0;34m]\u001b[0m\u001b[0;34m\u001b[0m\u001b[0m\n\u001b[0m\u001b[1;32m      9\u001b[0m     )\n\u001b[1;32m     10\u001b[0m )\n",
      "\u001b[0;32m<ipython-input-14-9e91e7188cd7>\u001b[0m in \u001b[0;36mmulti_knn_model_results\u001b[0;34m(n_neigh, perc_fig, rand_n)\u001b[0m\n\u001b[1;32m     21\u001b[0m         \u001b[0mRMSE_RES\u001b[0m \u001b[0;34m=\u001b[0m \u001b[0;34m{\u001b[0m\u001b[0;34m}\u001b[0m\u001b[0;34m\u001b[0m\u001b[0m\n\u001b[1;32m     22\u001b[0m         \u001b[0;32mfor\u001b[0m \u001b[0midx\u001b[0m\u001b[0;34m,\u001b[0m\u001b[0mpair\u001b[0m \u001b[0;32min\u001b[0m \u001b[0menumerate\u001b[0m\u001b[0;34m(\u001b[0m\u001b[0mres1\u001b[0m\u001b[0;34m)\u001b[0m\u001b[0;34m:\u001b[0m\u001b[0;34m\u001b[0m\u001b[0m\n\u001b[0;32m---> 23\u001b[0;31m             \u001b[0mRMSE_RES\u001b[0m\u001b[0;34m[\u001b[0m\u001b[0mlen\u001b[0m\u001b[0;34m(\u001b[0m\u001b[0mpair\u001b[0m\u001b[0;34m)\u001b[0m\u001b[0;34m]\u001b[0m \u001b[0;34m=\u001b[0m \u001b[0mmulti_knn_train_test\u001b[0m\u001b[0;34m(\u001b[0m\u001b[0mcars_normalized_df\u001b[0m \u001b[0;34m,\u001b[0m\u001b[0mpair\u001b[0m \u001b[0;34m,\u001b[0m\u001b[0;34m'price'\u001b[0m\u001b[0;34m,\u001b[0m\u001b[0mperc_fig\u001b[0m \u001b[0;34m,\u001b[0m\u001b[0mn_neigh\u001b[0m\u001b[0;34m)\u001b[0m\u001b[0;34m\u001b[0m\u001b[0m\n\u001b[0m\u001b[1;32m     24\u001b[0m         \u001b[0mRMSE_total\u001b[0m\u001b[0;34m[\u001b[0m\u001b[0mi\u001b[0m\u001b[0;34m]\u001b[0m \u001b[0;34m=\u001b[0m \u001b[0mRMSE_RES\u001b[0m\u001b[0;34m\u001b[0m\u001b[0m\n\u001b[1;32m     25\u001b[0m     \u001b[0mlst_rmse\u001b[0m \u001b[0;34m=\u001b[0m \u001b[0;34m[\u001b[0m\u001b[0;34m]\u001b[0m\u001b[0;34m\u001b[0m\u001b[0m\n",
      "\u001b[0;32m<ipython-input-12-3b3533036aa8>\u001b[0m in \u001b[0;36mmulti_knn_train_test\u001b[0;34m(df, features_cols, target_col, prec_train, n_neighbor)\u001b[0m\n\u001b[1;32m     19\u001b[0m     \u001b[0mknn\u001b[0m \u001b[0;34m=\u001b[0m \u001b[0mKNeighborsRegressor\u001b[0m\u001b[0;34m(\u001b[0m\u001b[0mn_neighbors\u001b[0m \u001b[0;34m=\u001b[0m \u001b[0mn_neighbor\u001b[0m\u001b[0;34m,\u001b[0m \u001b[0malgorithm\u001b[0m\u001b[0;34m=\u001b[0m\u001b[0;34m'brute'\u001b[0m\u001b[0;34m)\u001b[0m\u001b[0;34m\u001b[0m\u001b[0m\n\u001b[1;32m     20\u001b[0m     \u001b[0mfit\u001b[0m \u001b[0;34m=\u001b[0m \u001b[0mknn\u001b[0m\u001b[0;34m.\u001b[0m\u001b[0mfit\u001b[0m\u001b[0;34m(\u001b[0m\u001b[0mtraining_set\u001b[0m\u001b[0;34m[\u001b[0m\u001b[0mfeatures_cols\u001b[0m\u001b[0;34m]\u001b[0m\u001b[0;34m,\u001b[0m \u001b[0mtraining_set\u001b[0m\u001b[0;34m[\u001b[0m\u001b[0mtarget_col\u001b[0m\u001b[0;34m]\u001b[0m\u001b[0;34m)\u001b[0m\u001b[0;34m\u001b[0m\u001b[0m\n\u001b[0;32m---> 21\u001b[0;31m     \u001b[0mpredicts\u001b[0m \u001b[0;34m=\u001b[0m \u001b[0mknn\u001b[0m\u001b[0;34m.\u001b[0m\u001b[0mpredict\u001b[0m\u001b[0;34m(\u001b[0m\u001b[0mtesting_set\u001b[0m\u001b[0;34m[\u001b[0m\u001b[0mfeatures_cols\u001b[0m\u001b[0;34m]\u001b[0m\u001b[0;34m)\u001b[0m\u001b[0;34m\u001b[0m\u001b[0m\n\u001b[0m\u001b[1;32m     22\u001b[0m     \u001b[0mRMSE\u001b[0m \u001b[0;34m=\u001b[0m \u001b[0mnp\u001b[0m\u001b[0;34m.\u001b[0m\u001b[0msqrt\u001b[0m\u001b[0;34m(\u001b[0m\u001b[0mmean_squared_error\u001b[0m\u001b[0;34m(\u001b[0m\u001b[0mtesting_set\u001b[0m\u001b[0;34m[\u001b[0m\u001b[0mtarget_col\u001b[0m\u001b[0;34m]\u001b[0m\u001b[0;34m,\u001b[0m \u001b[0mpredicts\u001b[0m\u001b[0;34m)\u001b[0m\u001b[0;34m)\u001b[0m\u001b[0;34m\u001b[0m\u001b[0m\n\u001b[1;32m     23\u001b[0m     \u001b[0;31m#MAE = sum(np.abs(predicts - testing_set[target_nme])) / len(testing_set)\u001b[0m\u001b[0;34m\u001b[0m\u001b[0;34m\u001b[0m\u001b[0m\n",
      "\u001b[0;32m~/anaconda3/lib/python3.6/site-packages/sklearn/neighbors/regression.py\u001b[0m in \u001b[0;36mpredict\u001b[0;34m(self, X)\u001b[0m\n\u001b[1;32m    142\u001b[0m         \u001b[0mX\u001b[0m \u001b[0;34m=\u001b[0m \u001b[0mcheck_array\u001b[0m\u001b[0;34m(\u001b[0m\u001b[0mX\u001b[0m\u001b[0;34m,\u001b[0m \u001b[0maccept_sparse\u001b[0m\u001b[0;34m=\u001b[0m\u001b[0;34m'csr'\u001b[0m\u001b[0;34m)\u001b[0m\u001b[0;34m\u001b[0m\u001b[0m\n\u001b[1;32m    143\u001b[0m \u001b[0;34m\u001b[0m\u001b[0m\n\u001b[0;32m--> 144\u001b[0;31m         \u001b[0mneigh_dist\u001b[0m\u001b[0;34m,\u001b[0m \u001b[0mneigh_ind\u001b[0m \u001b[0;34m=\u001b[0m \u001b[0mself\u001b[0m\u001b[0;34m.\u001b[0m\u001b[0mkneighbors\u001b[0m\u001b[0;34m(\u001b[0m\u001b[0mX\u001b[0m\u001b[0;34m)\u001b[0m\u001b[0;34m\u001b[0m\u001b[0m\n\u001b[0m\u001b[1;32m    145\u001b[0m \u001b[0;34m\u001b[0m\u001b[0m\n\u001b[1;32m    146\u001b[0m         \u001b[0mweights\u001b[0m \u001b[0;34m=\u001b[0m \u001b[0m_get_weights\u001b[0m\u001b[0;34m(\u001b[0m\u001b[0mneigh_dist\u001b[0m\u001b[0;34m,\u001b[0m \u001b[0mself\u001b[0m\u001b[0;34m.\u001b[0m\u001b[0mweights\u001b[0m\u001b[0;34m)\u001b[0m\u001b[0;34m\u001b[0m\u001b[0m\n",
      "\u001b[0;32m~/anaconda3/lib/python3.6/site-packages/sklearn/neighbors/base.py\u001b[0m in \u001b[0;36mkneighbors\u001b[0;34m(self, X, n_neighbors, return_distance)\u001b[0m\n\u001b[1;32m    345\u001b[0m                 \u001b[0;34m\"Expected n_neighbors <= n_samples, \"\u001b[0m\u001b[0;34m\u001b[0m\u001b[0m\n\u001b[1;32m    346\u001b[0m                 \u001b[0;34m\" but n_samples = %d, n_neighbors = %d\"\u001b[0m \u001b[0;34m%\u001b[0m\u001b[0;34m\u001b[0m\u001b[0m\n\u001b[0;32m--> 347\u001b[0;31m                 \u001b[0;34m(\u001b[0m\u001b[0mtrain_size\u001b[0m\u001b[0;34m,\u001b[0m \u001b[0mn_neighbors\u001b[0m\u001b[0;34m)\u001b[0m\u001b[0;34m\u001b[0m\u001b[0m\n\u001b[0m\u001b[1;32m    348\u001b[0m             )\n\u001b[1;32m    349\u001b[0m         \u001b[0mn_samples\u001b[0m\u001b[0;34m,\u001b[0m \u001b[0m_\u001b[0m \u001b[0;34m=\u001b[0m \u001b[0mX\u001b[0m\u001b[0;34m.\u001b[0m\u001b[0mshape\u001b[0m\u001b[0;34m\u001b[0m\u001b[0m\n",
      "\u001b[0;31mValueError\u001b[0m: Expected n_neighbors <= n_samples,  but n_samples = 20, n_neighbors = 41"
     ]
    }
   ],
   "source": [
    "# 2.trainin / testing datset set up \n",
    "%time\n",
    "## Find the optimum point where Avrg-RMSE is the lowest\n",
    "min_rmse_n_neighbor_parameter = optimizing_k_niegh_para.index(np.min(optimizing_k_niegh_para))\n",
    "\n",
    "optimizing_train_test_para = list(\n",
    "    itertools.chain(\n",
    "        *[np.mean(multi_knn_model_results(min_rmse_n_neighbor_parameter,iter_2,10)) for iter_2 in [(x / 0.1)/100 for x in range(1, 10)]]   \n",
    "    )\n",
    ")"
   ]
  },
  {
   "cell_type": "code",
   "execution_count": 17,
   "metadata": {},
   "outputs": [],
   "source": [
    "# 3. Find the best Multi Knn model based on optmizing the prev. parameters\n",
    "#%time\n",
    "min_rmse_train_test_para = np.min(optimizing_train_test_para)\n",
    "#optimizing_multi_knn_model = list(\n",
    "    #itertools.chain(\n",
    "        #*[np.mean(multi_knn_model_results(5,.8,iter_3)) for iter_3 in range(1, 100)]\n",
    "    #)\n",
    "#)        "
   ]
  },
  {
   "cell_type": "code",
   "execution_count": 30,
   "metadata": {},
   "outputs": [
    {
     "data": {
      "text/plain": [
       "[<matplotlib.lines.Line2D at 0x1a170a54a8>]"
      ]
     },
     "execution_count": 30,
     "metadata": {},
     "output_type": "execute_result"
    },
    {
     "data": {
      "text/plain": [
       "Text(0.5,1,'n_neighbor parameter - Hyperprameter')"
      ]
     },
     "execution_count": 30,
     "metadata": {},
     "output_type": "execute_result"
    },
    {
     "data": {
      "text/plain": [
       "Text(0,0.5,'AVRG RMSE')"
      ]
     },
     "execution_count": 30,
     "metadata": {},
     "output_type": "execute_result"
    },
    {
     "data": {
      "text/plain": [
       "[<matplotlib.lines.Line2D at 0x1a170a5b38>]"
      ]
     },
     "execution_count": 30,
     "metadata": {},
     "output_type": "execute_result"
    },
    {
     "data": {
      "text/plain": [
       "Text(0.5,1,'trainin / testing datset set up ')"
      ]
     },
     "execution_count": 30,
     "metadata": {},
     "output_type": "execute_result"
    },
    {
     "data": {
      "text/plain": [
       "Text(0,0.5,'AVRG RMSE')"
      ]
     },
     "execution_count": 30,
     "metadata": {},
     "output_type": "execute_result"
    },
    {
     "data": {
      "image/png": "[encoded data removed]",
      "text/plain": [
       "<matplotlib.figure.Figure at 0x1a12d44048>"
      ]
     },
     "metadata": {
      "image/png": {
       "height": 698,
       "width": 891
      }
     },
     "output_type": "display_data"
    }
   ],
   "source": [
    "#%matplotlib nbagg\n",
    "%matplotlib inline\n",
    "%config InlineBackend.figure_format = 'retina' \n",
    "## Build a visualizations for parametrs\n",
    "fig, axs = plt.subplots(2, figsize=(15,12))\n",
    "\n",
    "##setting up the plot frame / title text color\n",
    "frm_color = 'white'\n",
    "for ax in axs:\n",
    "    ax.tick_params(color=frm_color, labelcolor=frm_color)\n",
    "    for spine in ax.spines.values():\n",
    "        spine.set_edgecolor(frm_color)\n",
    "        \n",
    "## plotting up the results\n",
    "axs[0].plot(optimizing_k_niegh_para)\n",
    "axs[0].set_title('n_neighbor parameter - Hyperprameter', color=frm_color)\n",
    "axs[0].set_ylabel('AVRG RMSE', color=frm_color)\n",
    "\n",
    "\n",
    "axs[1].plot(optimizing_train_test_para)\n",
    "axs[1].set_title('trainin / testing datset set up ', color=frm_color)\n",
    "axs[1].set_ylabel('AVRG RMSE', color=frm_color)\n",
    "\n",
    "#axs[2].plot(optimizing_multi_knn_model)\n",
    "#axs[2].set_title('Best Knn model',  color=frm_color)\n",
    "#axs[2].set_ylabel('AVRG RMSE', color=frm_color)"
   ]
  },
  {
   "cell_type": "markdown",
   "metadata": {},
   "source": [
    "### Key take away from the multivariate Knn model\n",
    "    -"
   ]
  },
  {
   "cell_type": "markdown",
   "metadata": {
    "scrolled": true
   },
   "source": [
    "## Appendix: Add some functionality "
   ]
  },
  {
   "cell_type": "code",
   "execution_count": 19,
   "metadata": {
    "collapsed": true
   },
   "outputs": [],
   "source": [
    "\n",
    "def search_text_google(text_str, lng, stop_val):\n",
    "    \"\"\"\n",
    "    Simple google search func \n",
    "    \"\"\"\n",
    "    for url in search(text_str, tld='com', lang=lng, stop=stop_val):\n",
    "        print(url)\n",
    "\n",
    "def download_data(url):\n",
    "    \"\"\"\n",
    "    Helps retrieving wheather applying request is sucsseful or not with \n",
    "    showing results \n",
    "    \"\"\"\n",
    "    Response = namedtuple('Response', ['data', 'error'])\n",
    "    try:\n",
    "        r = requests.get(url)\n",
    "    except Exception as e:\n",
    "        return Response(data = None , error = e)\n",
    "    if r.status_code == 200:\n",
    "        return Response(data=r, error=None)\n",
    "    else:\n",
    "        return Response(data=None, error=r.reason)\n",
    "\n",
    "def gen_all_features_combinations(df, target_col):\n",
    "    \"\"\"\n",
    "    This func generates (2^n -1) possible combinations for the features list (itertools should be imported)\n",
    "    within df excluding target col.\n",
    "      - df: defined dataframe \n",
    "      - target_col: the target column to be excluded from the main dataframe \n",
    "    \"\"\"\n",
    "    x =[col for idx, col in enumerate(list(df.columns)) if col != target_col]\n",
    "    features_lst = [list(subset) for l in range(0, len(x)+1) for subset in itertools.combinations(x, l)]\n",
    "    return features_lst\n",
    "\n",
    "#(2^n)n >> combination with repetition (itertools.permutations)\n",
    "#2^n >> combination without repetition (itertools.combinations)"
   ]
  },
  {
   "cell_type": "markdown",
   "metadata": {},
   "source": [
    "##  k-fold cross validation instead of test/train validation"
   ]
  },
  {
   "cell_type": "code",
   "execution_count": 20,
   "metadata": {
    "collapsed": true
   },
   "outputs": [],
   "source": [
    "# Setting up k-fold for the dataset \n",
    "\n",
    "def set_Kfold(df, k_val):\n",
    "    new_df = df\n",
    "    new_df['fold'] = None\n",
    "    start = int(len(new_df)/k_val)\n",
    "    rng_vls = [int(x) for x in np.linspace(start=start, stop=len(new_df), num=k_val)]\n",
    "    for idx, val in enumerate(rng_vls):\n",
    "        new_df['fold'][rng_vls[idx]-start: val] = idx+1\n",
    "    return new_df  \n"
   ]
  },
  {
   "cell_type": "code",
   "execution_count": 21,
   "metadata": {},
   "outputs": [
    {
     "ename": "NameError",
     "evalue": "name 'train_and_validate' is not defined",
     "output_type": "error",
     "traceback": [
      "\u001b[0;31m---------------------------------------------------------------------------\u001b[0m",
      "\u001b[0;31mNameError\u001b[0m                                 Traceback (most recent call last)",
      "\u001b[0;32m<ipython-input-21-2579bd8a2a72>\u001b[0m in \u001b[0;36m<module>\u001b[0;34m()\u001b[0m\n\u001b[1;32m     15\u001b[0m     \u001b[0;32mreturn\u001b[0m \u001b[0mrmse\u001b[0m\u001b[0;34m\u001b[0m\u001b[0m\n\u001b[1;32m     16\u001b[0m \u001b[0;34m\u001b[0m\u001b[0m\n\u001b[0;32m---> 17\u001b[0;31m \u001b[0mrmses\u001b[0m \u001b[0;34m=\u001b[0m \u001b[0mtrain_and_validate\u001b[0m\u001b[0;34m(\u001b[0m\u001b[0mdc_listings\u001b[0m\u001b[0;34m,\u001b[0m \u001b[0mfold_ids\u001b[0m\u001b[0;34m)\u001b[0m\u001b[0;34m\u001b[0m\u001b[0m\n\u001b[0m\u001b[1;32m     18\u001b[0m \u001b[0mavg_rmse\u001b[0m \u001b[0;34m=\u001b[0m \u001b[0mnp\u001b[0m\u001b[0;34m.\u001b[0m\u001b[0mmean\u001b[0m\u001b[0;34m(\u001b[0m\u001b[0mrmses\u001b[0m\u001b[0;34m)\u001b[0m\u001b[0;34m\u001b[0m\u001b[0m\n",
      "\u001b[0;31mNameError\u001b[0m: name 'train_and_validate' is not defined"
     ]
    }
   ],
   "source": [
    "\n",
    "def train_and_validate_kFold(df, Kfold_num):\n",
    "    new_kFold_df = set_Kfold(df, Kfold_num)\n",
    "    old_ids = list(set(new_kFold_df['fold']))\n",
    "    rmse = []\n",
    "    for i in fold_list:\n",
    "        training_set = new_kFold_df[new_kFold_df['fold']!=i]\n",
    "        testing_set =  new_kFold_df[new_kFold_df['fold']==i]\n",
    "\n",
    "        knn = KNeighborsRegressor()\n",
    "        fits = knn.fit(training_set[['accommodates']], training_set[['price']])\n",
    "        predicts = knn.predict(testing_set[['accommodates']])\n",
    "        iteration_i_rmse = (mean_squared_error(testing_set[['price']], predicts))**.5\n",
    "        rmse.append(iteration_i_rmse)\n",
    "    return rmse\n",
    "\n",
    "rmses = train_and_validate(dc_listings, fold_ids)\n",
    "avg_rmse = np.mean(rmses)"
   ]
  },
  {
   "cell_type": "code",
   "execution_count": 58,
   "metadata": {},
   "outputs": [
    {
     "data": {
      "text/plain": [
       "-0.91344637561262598"
      ]
     },
     "execution_count": 58,
     "metadata": {},
     "output_type": "execute_result"
    }
   ],
   "source": [
    "#n_neigh = [(idx+2, val) for idx, val in enumerate(optimizing_k_niegh_para)]\n"
   ]
  },
  {
   "cell_type": "code",
   "execution_count": null,
   "metadata": {
    "collapsed": true
   },
   "outputs": [],
   "source": []
  },
  {
   "cell_type": "code",
   "execution_count": null,
   "metadata": {
    "collapsed": true
   },
   "outputs": [],
   "source": []
  }
 ],
 "metadata": {
  "kernelspec": {
   "display_name": "Python 3",
   "language": "python",
   "name": "python3"
  },
  "language_info": {
   "codemirror_mode": {
    "name": "ipython",
    "version": 3
   },
   "file_extension": ".py",
   "mimetype": "text/x-python",
   "name": "python",
   "nbconvert_exporter": "python",
   "pygments_lexer": "ipython3",
   "version": "3.6.3"
  },
  "latex_envs": {
   "LaTeX_envs_menu_present": true,
   "autoclose": false,
   "autocomplete": true,
   "bibliofile": "biblio.bib",
   "cite_by": "apalike",
   "current_citInitial": 1,
   "eqLabelWithNumbers": true,
   "eqNumInitial": 1,
   "hotkeys": {
    "equation": "Ctrl-E",
    "itemize": "Ctrl-I"
   },
   "labels_anchors": false,
   "latex_user_defs": false,
   "report_style_numbering": false,
   "user_envs_cfg": false
  },
  "nbTranslate": {
   "displayLangs": [
    "en"
   ],
   "hotkey": "alt-t",
   "langInMainMenu": true,
   "sourceLang": "en",
   "targetLang": "fr",
   "useGoogleTranslate": true
  },
  "toc": {
   "nav_menu": {},
   "number_sections": true,
   "sideBar": true,
   "skip_h1_title": false,
   "toc_cell": false,
   "toc_position": {},
   "toc_section_display": "block",
   "toc_window_display": false
  }
 },
 "nbformat": 4,
 "nbformat_minor": 2
}
