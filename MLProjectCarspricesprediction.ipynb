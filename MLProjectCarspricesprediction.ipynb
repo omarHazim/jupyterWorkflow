{
 "cells": [
  {
   "cell_type": "markdown",
   "metadata": {
    "cell_style": "center",
    "extensions": {
     "jupyter_dashboards": {
      "version": 1,
      "views": {
       "grid_default": {
        "col": 0,
        "height": 4,
        "hidden": false,
        "row": 0,
        "width": 4
       },
       "report_default": {
        "hidden": false
       }
      }
     }
    },
    "raw_mimetype": "text/markdown",
    "slideshow": {
     "slide_type": ""
    }
   },
   "source": [
    "## ML Project: Predicting Car Prices\n"
   ]
  },
  {
   "cell_type": "code",
   "execution_count": 1,
   "metadata": {
    "cell_style": "center",
    "collapsed": true,
    "extensions": {
     "jupyter_dashboards": {
      "version": 1,
      "views": {
       "grid_default": {
        "col": 0,
        "height": 15,
        "hidden": false,
        "row": 22,
        "width": 4
       },
       "report_default": {
        "hidden": true
       }
      }
     }
    },
    "scrolled": true,
    "slideshow": {
     "slide_type": "slide"
    }
   },
   "outputs": [],
   "source": [
    "# Import front end lib\n",
    "import pandas as pd\n",
    "import requests\n",
    "from collections import namedtuple\n",
    "import re\n",
    "import numpy as np\n",
    "import itertools\n",
    "from sklearn.neighbors import KNeighborsRegressor\n",
    "from sklearn.metrics import mean_squared_error\n",
    "import matplotlib.pyplot as plt\n",
    "\n",
    "#Building wedgets to make interactive function\n",
    "import ipywidgets as wg\n",
    "from ipywidgets import *\n",
    "from IPython.display import display\n",
    "\n",
    "#the lib below to make pandas DF shows pretty tabels\n",
    "from IPython.core.interactiveshell import InteractiveShell\n",
    "InteractiveShell.ast_node_interactivity = \"all\"\n",
    "# Run IPython kernal as HTML slidshow\n",
    "#!jupyter nbconvert  MLProjectCarspricesprediction.ipynb   --to slides --post serve"
   ]
  },
  {
   "cell_type": "markdown",
   "metadata": {
    "extensions": {
     "jupyter_dashboards": {
      "version": 1,
      "views": {
       "grid_default": {
        "col": 8,
        "height": 4,
        "hidden": false,
        "row": 0,
        "width": 4
       },
       "report_default": {
        "hidden": false
       }
      }
     }
    },
    "slideshow": {
     "slide_type": "subslide"
    }
   },
   "source": [
    "### Dataset download and preperations process "
   ]
  },
  {
   "cell_type": "code",
   "execution_count": 2,
   "metadata": {
    "collapsed": true,
    "extensions": {
     "jupyter_dashboards": {
      "version": 1,
      "views": {
       "grid_default": {
        "hidden": true
       },
       "report_default": {
        "hidden": true
       }
      }
     }
    },
    "lang": "en",
    "slideshow": {
     "slide_type": "slide"
    }
   },
   "outputs": [],
   "source": [
    "## Download the webpage to extract the columns name and dataset dataframe\n",
    "def download_pars_dataset(url_cols, url_dataset):\n",
    "    \"\"\"\n",
    "    Downloading and parsing columnes /dataset\n",
    "    Inputs:\n",
    "    __________________\n",
    "     - url_cols: str\n",
    "        URL of columns data\n",
    "     - url_dataset: str\n",
    "        URL of dataset\n",
    "    Outputs:\n",
    "    __________________\n",
    "     - columns name with final dataset as dataframe \n",
    "    \"\"\"\n",
    "    #Downloading and parsing columns\n",
    "    r_cols = requests.get(url_cols)\n",
    "    data_text = r_cols.text\n",
    "    data_text_lines = data_text.splitlines()\n",
    "    cols = []\n",
    "    for line in data_text_lines:\n",
    "        pattern0 = r\"\\s\\d+. ([a-zA-Z]+).*:\"\n",
    "        if re.search(pattern0, line):\n",
    "            cols.append(line)\n",
    "    col_nme = [re.split(':?', entry, 3) for entry in cols]\n",
    "\n",
    "    # Final column names\n",
    "    pattern1 = r\"([a-zA-Z]+)\"\n",
    "    cols_nme = [re.search(pattern1, col[0]).group() for col in col_nme]\n",
    "\n",
    "    #Downloadung and parsing dataset\n",
    "    r_dataset = requests.get(url_dataset)\n",
    "    dataset_text = r_dataset.text.split('\\n')\n",
    "    data_set_cars = [item for item in dataset_text]\n",
    "    cars_dataset = pd.DataFrame(\n",
    "        [x.split(\",\") for x in data_set_cars], columns=cols_nme)\n",
    "    return cars_dataset"
   ]
  },
  {
   "cell_type": "markdown",
   "metadata": {
    "extensions": {
     "jupyter_dashboards": {
      "version": 1,
      "views": {
       "grid_default": {
        "col": 0,
        "height": 29,
        "hidden": false,
        "row": 86,
        "width": 12
       },
       "report_default": {
        "hidden": false
       }
      }
     }
    },
    "lang": "fr"
   },
   "source": [
    "## Téléchargez la page Web pour extraire le nom des colonnes et l'ensemble de données du dataset\n",
    "def download _pars_ ensemble de données (url _cols, url_ ensemble de données):\n",
    "    \"\" \"\n",
    "    Téléchargement et analyse de columnes / dataset\n",
    "    Contributions:\n",
    "    ____ ____ ____ ____ __- url_cols: str\n",
    "        URL des données de colonnes\n",
    "     - url_dataset: str\n",
    "        URL de l'ensemble de données\n",
    "    Les sorties:__ ____ ____ ____ ____\n",
    "     - nom des colonnes avec l'ensemble de données final en tant que données\n",
    "    \"\" \"\n",
    "    #Télécharger et analyser les colonnes\n",
    "    r _cols = requests.get (url_ cols)\n",
    "    données _text = r_ cols.text\n",
    "    data _text_ lignes = données _text.splitlines ()\n",
    "    cols = []\n",
    "    pour les lignes de données_ text _:\n",
    "        pattern0 = r \"\\ s \\ d +. ([a-zA-Z] +). *:\"\n",
    "        si re.search (motif0, ligne):\n",
    "            cols.append (ligne)\n",
    "    col_ nme = [re.split (':?', entry, 3) pour l'entrée dans cols]\n",
    "\n",
    "    # Noms de colonnes finaux\n",
    "    pattern1 = r \"([a-zA-Z] +)\"\n",
    "    cols _nme = [re.search (pattern1, col [0]). group () pour col dans col_ nme]\n",
    "\n",
    "    #Downloadung et l'analyse de données\n",
    "    r _dataset = requests.get (url_ ensemble de données)\n",
    "    dataset _text = r_ dataset.text.split ('\\ n')\n",
    "    data _set_ cars = [élément de l'élément dans le jeu de données _texte]\n",
    "    cars_ dataset = pd.DataFrame (\n",
    "        [x.split (\",\") pour x dans les données _set_ cars], columns = cols _nme)\n",
    "    retour des voitures_ ensemble de données"
   ]
  },
  {
   "cell_type": "code",
   "execution_count": 3,
   "metadata": {
    "cell_style": "center",
    "extensions": {
     "jupyter_dashboards": {
      "version": 1,
      "views": {
       "grid_default": {
        "col": 0,
        "height": 8,
        "hidden": false,
        "row": 14,
        "width": 4
       },
       "report_default": {
        "hidden": false
       }
      }
     }
    },
    "scrolled": false,
    "slideshow": {
     "slide_type": "slide"
    }
   },
   "outputs": [
    {
     "ename": "ConnectionError",
     "evalue": "HTTPConnectionPool(host='archive.ics.uci.edu', port=80): Max retries exceeded with url: /ml/machine-learning-databases/autos/imports-85.names (Caused by NewConnectionError('<urllib3.connection.HTTPConnection object at 0x1a17d98128>: Failed to establish a new connection: [Errno 8] nodename nor servname provided, or not known',))",
     "output_type": "error",
     "traceback": [
      "\u001b[0;31m---------------------------------------------------------------------------\u001b[0m",
      "\u001b[0;31mgaierror\u001b[0m                                  Traceback (most recent call last)",
      "\u001b[0;32m~/anaconda3/lib/python3.6/site-packages/urllib3/connection.py\u001b[0m in \u001b[0;36m_new_conn\u001b[0;34m(self)\u001b[0m\n\u001b[1;32m    140\u001b[0m             conn = connection.create_connection(\n\u001b[0;32m--> 141\u001b[0;31m                 (self.host, self.port), self.timeout, **extra_kw)\n\u001b[0m\u001b[1;32m    142\u001b[0m \u001b[0;34m\u001b[0m\u001b[0m\n",
      "\u001b[0;32m~/anaconda3/lib/python3.6/site-packages/urllib3/util/connection.py\u001b[0m in \u001b[0;36mcreate_connection\u001b[0;34m(address, timeout, source_address, socket_options)\u001b[0m\n\u001b[1;32m     59\u001b[0m \u001b[0;34m\u001b[0m\u001b[0m\n\u001b[0;32m---> 60\u001b[0;31m     \u001b[0;32mfor\u001b[0m \u001b[0mres\u001b[0m \u001b[0;32min\u001b[0m \u001b[0msocket\u001b[0m\u001b[0;34m.\u001b[0m\u001b[0mgetaddrinfo\u001b[0m\u001b[0;34m(\u001b[0m\u001b[0mhost\u001b[0m\u001b[0;34m,\u001b[0m \u001b[0mport\u001b[0m\u001b[0;34m,\u001b[0m \u001b[0mfamily\u001b[0m\u001b[0;34m,\u001b[0m \u001b[0msocket\u001b[0m\u001b[0;34m.\u001b[0m\u001b[0mSOCK_STREAM\u001b[0m\u001b[0;34m)\u001b[0m\u001b[0;34m:\u001b[0m\u001b[0;34m\u001b[0m\u001b[0m\n\u001b[0m\u001b[1;32m     61\u001b[0m         \u001b[0maf\u001b[0m\u001b[0;34m,\u001b[0m \u001b[0msocktype\u001b[0m\u001b[0;34m,\u001b[0m \u001b[0mproto\u001b[0m\u001b[0;34m,\u001b[0m \u001b[0mcanonname\u001b[0m\u001b[0;34m,\u001b[0m \u001b[0msa\u001b[0m \u001b[0;34m=\u001b[0m \u001b[0mres\u001b[0m\u001b[0;34m\u001b[0m\u001b[0m\n",
      "\u001b[0;32m~/anaconda3/lib/python3.6/socket.py\u001b[0m in \u001b[0;36mgetaddrinfo\u001b[0;34m(host, port, family, type, proto, flags)\u001b[0m\n\u001b[1;32m    744\u001b[0m     \u001b[0maddrlist\u001b[0m \u001b[0;34m=\u001b[0m \u001b[0;34m[\u001b[0m\u001b[0;34m]\u001b[0m\u001b[0;34m\u001b[0m\u001b[0m\n\u001b[0;32m--> 745\u001b[0;31m     \u001b[0;32mfor\u001b[0m \u001b[0mres\u001b[0m \u001b[0;32min\u001b[0m \u001b[0m_socket\u001b[0m\u001b[0;34m.\u001b[0m\u001b[0mgetaddrinfo\u001b[0m\u001b[0;34m(\u001b[0m\u001b[0mhost\u001b[0m\u001b[0;34m,\u001b[0m \u001b[0mport\u001b[0m\u001b[0;34m,\u001b[0m \u001b[0mfamily\u001b[0m\u001b[0;34m,\u001b[0m \u001b[0mtype\u001b[0m\u001b[0;34m,\u001b[0m \u001b[0mproto\u001b[0m\u001b[0;34m,\u001b[0m \u001b[0mflags\u001b[0m\u001b[0;34m)\u001b[0m\u001b[0;34m:\u001b[0m\u001b[0;34m\u001b[0m\u001b[0m\n\u001b[0m\u001b[1;32m    746\u001b[0m         \u001b[0maf\u001b[0m\u001b[0;34m,\u001b[0m \u001b[0msocktype\u001b[0m\u001b[0;34m,\u001b[0m \u001b[0mproto\u001b[0m\u001b[0;34m,\u001b[0m \u001b[0mcanonname\u001b[0m\u001b[0;34m,\u001b[0m \u001b[0msa\u001b[0m \u001b[0;34m=\u001b[0m \u001b[0mres\u001b[0m\u001b[0;34m\u001b[0m\u001b[0m\n",
      "\u001b[0;31mgaierror\u001b[0m: [Errno 8] nodename nor servname provided, or not known",
      "\nDuring handling of the above exception, another exception occurred:\n",
      "\u001b[0;31mNewConnectionError\u001b[0m                        Traceback (most recent call last)",
      "\u001b[0;32m~/anaconda3/lib/python3.6/site-packages/urllib3/connectionpool.py\u001b[0m in \u001b[0;36murlopen\u001b[0;34m(self, method, url, body, headers, retries, redirect, assert_same_host, timeout, pool_timeout, release_conn, chunked, body_pos, **response_kw)\u001b[0m\n\u001b[1;32m    600\u001b[0m                                                   \u001b[0mbody\u001b[0m\u001b[0;34m=\u001b[0m\u001b[0mbody\u001b[0m\u001b[0;34m,\u001b[0m \u001b[0mheaders\u001b[0m\u001b[0;34m=\u001b[0m\u001b[0mheaders\u001b[0m\u001b[0;34m,\u001b[0m\u001b[0;34m\u001b[0m\u001b[0m\n\u001b[0;32m--> 601\u001b[0;31m                                                   chunked=chunked)\n\u001b[0m\u001b[1;32m    602\u001b[0m \u001b[0;34m\u001b[0m\u001b[0m\n",
      "\u001b[0;32m~/anaconda3/lib/python3.6/site-packages/urllib3/connectionpool.py\u001b[0m in \u001b[0;36m_make_request\u001b[0;34m(self, conn, method, url, timeout, chunked, **httplib_request_kw)\u001b[0m\n\u001b[1;32m    356\u001b[0m         \u001b[0;32melse\u001b[0m\u001b[0;34m:\u001b[0m\u001b[0;34m\u001b[0m\u001b[0m\n\u001b[0;32m--> 357\u001b[0;31m             \u001b[0mconn\u001b[0m\u001b[0;34m.\u001b[0m\u001b[0mrequest\u001b[0m\u001b[0;34m(\u001b[0m\u001b[0mmethod\u001b[0m\u001b[0;34m,\u001b[0m \u001b[0murl\u001b[0m\u001b[0;34m,\u001b[0m \u001b[0;34m**\u001b[0m\u001b[0mhttplib_request_kw\u001b[0m\u001b[0;34m)\u001b[0m\u001b[0;34m\u001b[0m\u001b[0m\n\u001b[0m\u001b[1;32m    358\u001b[0m \u001b[0;34m\u001b[0m\u001b[0m\n",
      "\u001b[0;32m~/anaconda3/lib/python3.6/http/client.py\u001b[0m in \u001b[0;36mrequest\u001b[0;34m(self, method, url, body, headers, encode_chunked)\u001b[0m\n\u001b[1;32m   1238\u001b[0m         \u001b[0;34m\"\"\"Send a complete request to the server.\"\"\"\u001b[0m\u001b[0;34m\u001b[0m\u001b[0m\n\u001b[0;32m-> 1239\u001b[0;31m         \u001b[0mself\u001b[0m\u001b[0;34m.\u001b[0m\u001b[0m_send_request\u001b[0m\u001b[0;34m(\u001b[0m\u001b[0mmethod\u001b[0m\u001b[0;34m,\u001b[0m \u001b[0murl\u001b[0m\u001b[0;34m,\u001b[0m \u001b[0mbody\u001b[0m\u001b[0;34m,\u001b[0m \u001b[0mheaders\u001b[0m\u001b[0;34m,\u001b[0m \u001b[0mencode_chunked\u001b[0m\u001b[0;34m)\u001b[0m\u001b[0;34m\u001b[0m\u001b[0m\n\u001b[0m\u001b[1;32m   1240\u001b[0m \u001b[0;34m\u001b[0m\u001b[0m\n",
      "\u001b[0;32m~/anaconda3/lib/python3.6/http/client.py\u001b[0m in \u001b[0;36m_send_request\u001b[0;34m(self, method, url, body, headers, encode_chunked)\u001b[0m\n\u001b[1;32m   1284\u001b[0m             \u001b[0mbody\u001b[0m \u001b[0;34m=\u001b[0m \u001b[0m_encode\u001b[0m\u001b[0;34m(\u001b[0m\u001b[0mbody\u001b[0m\u001b[0;34m,\u001b[0m \u001b[0;34m'body'\u001b[0m\u001b[0;34m)\u001b[0m\u001b[0;34m\u001b[0m\u001b[0m\n\u001b[0;32m-> 1285\u001b[0;31m         \u001b[0mself\u001b[0m\u001b[0;34m.\u001b[0m\u001b[0mendheaders\u001b[0m\u001b[0;34m(\u001b[0m\u001b[0mbody\u001b[0m\u001b[0;34m,\u001b[0m \u001b[0mencode_chunked\u001b[0m\u001b[0;34m=\u001b[0m\u001b[0mencode_chunked\u001b[0m\u001b[0;34m)\u001b[0m\u001b[0;34m\u001b[0m\u001b[0m\n\u001b[0m\u001b[1;32m   1286\u001b[0m \u001b[0;34m\u001b[0m\u001b[0m\n",
      "\u001b[0;32m~/anaconda3/lib/python3.6/http/client.py\u001b[0m in \u001b[0;36mendheaders\u001b[0;34m(self, message_body, encode_chunked)\u001b[0m\n\u001b[1;32m   1233\u001b[0m             \u001b[0;32mraise\u001b[0m \u001b[0mCannotSendHeader\u001b[0m\u001b[0;34m(\u001b[0m\u001b[0;34m)\u001b[0m\u001b[0;34m\u001b[0m\u001b[0m\n\u001b[0;32m-> 1234\u001b[0;31m         \u001b[0mself\u001b[0m\u001b[0;34m.\u001b[0m\u001b[0m_send_output\u001b[0m\u001b[0;34m(\u001b[0m\u001b[0mmessage_body\u001b[0m\u001b[0;34m,\u001b[0m \u001b[0mencode_chunked\u001b[0m\u001b[0;34m=\u001b[0m\u001b[0mencode_chunked\u001b[0m\u001b[0;34m)\u001b[0m\u001b[0;34m\u001b[0m\u001b[0m\n\u001b[0m\u001b[1;32m   1235\u001b[0m \u001b[0;34m\u001b[0m\u001b[0m\n",
      "\u001b[0;32m~/anaconda3/lib/python3.6/http/client.py\u001b[0m in \u001b[0;36m_send_output\u001b[0;34m(self, message_body, encode_chunked)\u001b[0m\n\u001b[1;32m   1025\u001b[0m         \u001b[0;32mdel\u001b[0m \u001b[0mself\u001b[0m\u001b[0;34m.\u001b[0m\u001b[0m_buffer\u001b[0m\u001b[0;34m[\u001b[0m\u001b[0;34m:\u001b[0m\u001b[0;34m]\u001b[0m\u001b[0;34m\u001b[0m\u001b[0m\n\u001b[0;32m-> 1026\u001b[0;31m         \u001b[0mself\u001b[0m\u001b[0;34m.\u001b[0m\u001b[0msend\u001b[0m\u001b[0;34m(\u001b[0m\u001b[0mmsg\u001b[0m\u001b[0;34m)\u001b[0m\u001b[0;34m\u001b[0m\u001b[0m\n\u001b[0m\u001b[1;32m   1027\u001b[0m \u001b[0;34m\u001b[0m\u001b[0m\n",
      "\u001b[0;32m~/anaconda3/lib/python3.6/http/client.py\u001b[0m in \u001b[0;36msend\u001b[0;34m(self, data)\u001b[0m\n\u001b[1;32m    963\u001b[0m             \u001b[0;32mif\u001b[0m \u001b[0mself\u001b[0m\u001b[0;34m.\u001b[0m\u001b[0mauto_open\u001b[0m\u001b[0;34m:\u001b[0m\u001b[0;34m\u001b[0m\u001b[0m\n\u001b[0;32m--> 964\u001b[0;31m                 \u001b[0mself\u001b[0m\u001b[0;34m.\u001b[0m\u001b[0mconnect\u001b[0m\u001b[0;34m(\u001b[0m\u001b[0;34m)\u001b[0m\u001b[0;34m\u001b[0m\u001b[0m\n\u001b[0m\u001b[1;32m    965\u001b[0m             \u001b[0;32melse\u001b[0m\u001b[0;34m:\u001b[0m\u001b[0;34m\u001b[0m\u001b[0m\n",
      "\u001b[0;32m~/anaconda3/lib/python3.6/site-packages/urllib3/connection.py\u001b[0m in \u001b[0;36mconnect\u001b[0;34m(self)\u001b[0m\n\u001b[1;32m    165\u001b[0m     \u001b[0;32mdef\u001b[0m \u001b[0mconnect\u001b[0m\u001b[0;34m(\u001b[0m\u001b[0mself\u001b[0m\u001b[0;34m)\u001b[0m\u001b[0;34m:\u001b[0m\u001b[0;34m\u001b[0m\u001b[0m\n\u001b[0;32m--> 166\u001b[0;31m         \u001b[0mconn\u001b[0m \u001b[0;34m=\u001b[0m \u001b[0mself\u001b[0m\u001b[0;34m.\u001b[0m\u001b[0m_new_conn\u001b[0m\u001b[0;34m(\u001b[0m\u001b[0;34m)\u001b[0m\u001b[0;34m\u001b[0m\u001b[0m\n\u001b[0m\u001b[1;32m    167\u001b[0m         \u001b[0mself\u001b[0m\u001b[0;34m.\u001b[0m\u001b[0m_prepare_conn\u001b[0m\u001b[0;34m(\u001b[0m\u001b[0mconn\u001b[0m\u001b[0;34m)\u001b[0m\u001b[0;34m\u001b[0m\u001b[0m\n",
      "\u001b[0;32m~/anaconda3/lib/python3.6/site-packages/urllib3/connection.py\u001b[0m in \u001b[0;36m_new_conn\u001b[0;34m(self)\u001b[0m\n\u001b[1;32m    149\u001b[0m             raise NewConnectionError(\n\u001b[0;32m--> 150\u001b[0;31m                 self, \"Failed to establish a new connection: %s\" % e)\n\u001b[0m\u001b[1;32m    151\u001b[0m \u001b[0;34m\u001b[0m\u001b[0m\n",
      "\u001b[0;31mNewConnectionError\u001b[0m: <urllib3.connection.HTTPConnection object at 0x1a17d98128>: Failed to establish a new connection: [Errno 8] nodename nor servname provided, or not known",
      "\nDuring handling of the above exception, another exception occurred:\n",
      "\u001b[0;31mMaxRetryError\u001b[0m                             Traceback (most recent call last)",
      "\u001b[0;32m~/anaconda3/lib/python3.6/site-packages/requests/adapters.py\u001b[0m in \u001b[0;36msend\u001b[0;34m(self, request, stream, timeout, verify, cert, proxies)\u001b[0m\n\u001b[1;32m    439\u001b[0m                     \u001b[0mretries\u001b[0m\u001b[0;34m=\u001b[0m\u001b[0mself\u001b[0m\u001b[0;34m.\u001b[0m\u001b[0mmax_retries\u001b[0m\u001b[0;34m,\u001b[0m\u001b[0;34m\u001b[0m\u001b[0m\n\u001b[0;32m--> 440\u001b[0;31m                     \u001b[0mtimeout\u001b[0m\u001b[0;34m=\u001b[0m\u001b[0mtimeout\u001b[0m\u001b[0;34m\u001b[0m\u001b[0m\n\u001b[0m\u001b[1;32m    441\u001b[0m                 )\n",
      "\u001b[0;32m~/anaconda3/lib/python3.6/site-packages/urllib3/connectionpool.py\u001b[0m in \u001b[0;36murlopen\u001b[0;34m(self, method, url, body, headers, retries, redirect, assert_same_host, timeout, pool_timeout, release_conn, chunked, body_pos, **response_kw)\u001b[0m\n\u001b[1;32m    638\u001b[0m             retries = retries.increment(method, url, error=e, _pool=self,\n\u001b[0;32m--> 639\u001b[0;31m                                         _stacktrace=sys.exc_info()[2])\n\u001b[0m\u001b[1;32m    640\u001b[0m             \u001b[0mretries\u001b[0m\u001b[0;34m.\u001b[0m\u001b[0msleep\u001b[0m\u001b[0;34m(\u001b[0m\u001b[0;34m)\u001b[0m\u001b[0;34m\u001b[0m\u001b[0m\n",
      "\u001b[0;32m~/anaconda3/lib/python3.6/site-packages/urllib3/util/retry.py\u001b[0m in \u001b[0;36mincrement\u001b[0;34m(self, method, url, response, error, _pool, _stacktrace)\u001b[0m\n\u001b[1;32m    387\u001b[0m         \u001b[0;32mif\u001b[0m \u001b[0mnew_retry\u001b[0m\u001b[0;34m.\u001b[0m\u001b[0mis_exhausted\u001b[0m\u001b[0;34m(\u001b[0m\u001b[0;34m)\u001b[0m\u001b[0;34m:\u001b[0m\u001b[0;34m\u001b[0m\u001b[0m\n\u001b[0;32m--> 388\u001b[0;31m             \u001b[0;32mraise\u001b[0m \u001b[0mMaxRetryError\u001b[0m\u001b[0;34m(\u001b[0m\u001b[0m_pool\u001b[0m\u001b[0;34m,\u001b[0m \u001b[0murl\u001b[0m\u001b[0;34m,\u001b[0m \u001b[0merror\u001b[0m \u001b[0;32mor\u001b[0m \u001b[0mResponseError\u001b[0m\u001b[0;34m(\u001b[0m\u001b[0mcause\u001b[0m\u001b[0;34m)\u001b[0m\u001b[0;34m)\u001b[0m\u001b[0;34m\u001b[0m\u001b[0m\n\u001b[0m\u001b[1;32m    389\u001b[0m \u001b[0;34m\u001b[0m\u001b[0m\n",
      "\u001b[0;31mMaxRetryError\u001b[0m: HTTPConnectionPool(host='archive.ics.uci.edu', port=80): Max retries exceeded with url: /ml/machine-learning-databases/autos/imports-85.names (Caused by NewConnectionError('<urllib3.connection.HTTPConnection object at 0x1a17d98128>: Failed to establish a new connection: [Errno 8] nodename nor servname provided, or not known',))",
      "\nDuring handling of the above exception, another exception occurred:\n",
      "\u001b[0;31mConnectionError\u001b[0m                           Traceback (most recent call last)",
      "\u001b[0;32m<ipython-input-3-d25aee46676a>\u001b[0m in \u001b[0;36m<module>\u001b[0;34m()\u001b[0m\n\u001b[1;32m      5\u001b[0m \u001b[0;34m\u001b[0m\u001b[0m\n\u001b[1;32m      6\u001b[0m \u001b[0;31m# Download the dataset and convert it to dataframe\u001b[0m\u001b[0;34m\u001b[0m\u001b[0;34m\u001b[0m\u001b[0m\n\u001b[0;32m----> 7\u001b[0;31m \u001b[0mcars_dataset_numeric_features\u001b[0m \u001b[0;34m=\u001b[0m \u001b[0mdownload_pars_dataset\u001b[0m\u001b[0;34m(\u001b[0m\u001b[0murl_cols\u001b[0m\u001b[0;34m=\u001b[0m\u001b[0murl_cols\u001b[0m\u001b[0;34m,\u001b[0m \u001b[0murl_dataset\u001b[0m\u001b[0;34m=\u001b[0m\u001b[0murl_dataset\u001b[0m\u001b[0;34m)\u001b[0m\u001b[0;34m\u001b[0m\u001b[0m\n\u001b[0m\u001b[1;32m      8\u001b[0m \u001b[0mcars_dataset_numeric_features\u001b[0m \u001b[0;34m=\u001b[0m \u001b[0mcars_dataset_numeric_features\u001b[0m\u001b[0;34m.\u001b[0m\u001b[0mapply\u001b[0m\u001b[0;34m(\u001b[0m\u001b[0;32mlambda\u001b[0m \u001b[0mx\u001b[0m\u001b[0;34m:\u001b[0m \u001b[0mpd\u001b[0m\u001b[0;34m.\u001b[0m\u001b[0mto_numeric\u001b[0m\u001b[0;34m(\u001b[0m\u001b[0mx\u001b[0m\u001b[0;34m,\u001b[0m\u001b[0merrors\u001b[0m\u001b[0;34m=\u001b[0m\u001b[0;34m'coerce'\u001b[0m\u001b[0;34m)\u001b[0m\u001b[0;34m)\u001b[0m\u001b[0;34m\u001b[0m\u001b[0m\n\u001b[1;32m      9\u001b[0m \u001b[0;34m\u001b[0m\u001b[0m\n",
      "\u001b[0;32m<ipython-input-2-201986e76fd5>\u001b[0m in \u001b[0;36mdownload_pars_dataset\u001b[0;34m(url_cols, url_dataset)\u001b[0m\n\u001b[1;32m     14\u001b[0m     \"\"\"\n\u001b[1;32m     15\u001b[0m     \u001b[0;31m#Downloading and parsing columns\u001b[0m\u001b[0;34m\u001b[0m\u001b[0;34m\u001b[0m\u001b[0m\n\u001b[0;32m---> 16\u001b[0;31m     \u001b[0mr_cols\u001b[0m \u001b[0;34m=\u001b[0m \u001b[0mrequests\u001b[0m\u001b[0;34m.\u001b[0m\u001b[0mget\u001b[0m\u001b[0;34m(\u001b[0m\u001b[0murl_cols\u001b[0m\u001b[0;34m)\u001b[0m\u001b[0;34m\u001b[0m\u001b[0m\n\u001b[0m\u001b[1;32m     17\u001b[0m     \u001b[0mdata_text\u001b[0m \u001b[0;34m=\u001b[0m \u001b[0mr_cols\u001b[0m\u001b[0;34m.\u001b[0m\u001b[0mtext\u001b[0m\u001b[0;34m\u001b[0m\u001b[0m\n\u001b[1;32m     18\u001b[0m     \u001b[0mdata_text_lines\u001b[0m \u001b[0;34m=\u001b[0m \u001b[0mdata_text\u001b[0m\u001b[0;34m.\u001b[0m\u001b[0msplitlines\u001b[0m\u001b[0;34m(\u001b[0m\u001b[0;34m)\u001b[0m\u001b[0;34m\u001b[0m\u001b[0m\n",
      "\u001b[0;32m~/anaconda3/lib/python3.6/site-packages/requests/api.py\u001b[0m in \u001b[0;36mget\u001b[0;34m(url, params, **kwargs)\u001b[0m\n\u001b[1;32m     70\u001b[0m \u001b[0;34m\u001b[0m\u001b[0m\n\u001b[1;32m     71\u001b[0m     \u001b[0mkwargs\u001b[0m\u001b[0;34m.\u001b[0m\u001b[0msetdefault\u001b[0m\u001b[0;34m(\u001b[0m\u001b[0;34m'allow_redirects'\u001b[0m\u001b[0;34m,\u001b[0m \u001b[0;32mTrue\u001b[0m\u001b[0;34m)\u001b[0m\u001b[0;34m\u001b[0m\u001b[0m\n\u001b[0;32m---> 72\u001b[0;31m     \u001b[0;32mreturn\u001b[0m \u001b[0mrequest\u001b[0m\u001b[0;34m(\u001b[0m\u001b[0;34m'get'\u001b[0m\u001b[0;34m,\u001b[0m \u001b[0murl\u001b[0m\u001b[0;34m,\u001b[0m \u001b[0mparams\u001b[0m\u001b[0;34m=\u001b[0m\u001b[0mparams\u001b[0m\u001b[0;34m,\u001b[0m \u001b[0;34m**\u001b[0m\u001b[0mkwargs\u001b[0m\u001b[0;34m)\u001b[0m\u001b[0;34m\u001b[0m\u001b[0m\n\u001b[0m\u001b[1;32m     73\u001b[0m \u001b[0;34m\u001b[0m\u001b[0m\n\u001b[1;32m     74\u001b[0m \u001b[0;34m\u001b[0m\u001b[0m\n",
      "\u001b[0;32m~/anaconda3/lib/python3.6/site-packages/requests/api.py\u001b[0m in \u001b[0;36mrequest\u001b[0;34m(method, url, **kwargs)\u001b[0m\n\u001b[1;32m     56\u001b[0m     \u001b[0;31m# cases, and look like a memory leak in others.\u001b[0m\u001b[0;34m\u001b[0m\u001b[0;34m\u001b[0m\u001b[0m\n\u001b[1;32m     57\u001b[0m     \u001b[0;32mwith\u001b[0m \u001b[0msessions\u001b[0m\u001b[0;34m.\u001b[0m\u001b[0mSession\u001b[0m\u001b[0;34m(\u001b[0m\u001b[0;34m)\u001b[0m \u001b[0;32mas\u001b[0m \u001b[0msession\u001b[0m\u001b[0;34m:\u001b[0m\u001b[0;34m\u001b[0m\u001b[0m\n\u001b[0;32m---> 58\u001b[0;31m         \u001b[0;32mreturn\u001b[0m \u001b[0msession\u001b[0m\u001b[0;34m.\u001b[0m\u001b[0mrequest\u001b[0m\u001b[0;34m(\u001b[0m\u001b[0mmethod\u001b[0m\u001b[0;34m=\u001b[0m\u001b[0mmethod\u001b[0m\u001b[0;34m,\u001b[0m \u001b[0murl\u001b[0m\u001b[0;34m=\u001b[0m\u001b[0murl\u001b[0m\u001b[0;34m,\u001b[0m \u001b[0;34m**\u001b[0m\u001b[0mkwargs\u001b[0m\u001b[0;34m)\u001b[0m\u001b[0;34m\u001b[0m\u001b[0m\n\u001b[0m\u001b[1;32m     59\u001b[0m \u001b[0;34m\u001b[0m\u001b[0m\n\u001b[1;32m     60\u001b[0m \u001b[0;34m\u001b[0m\u001b[0m\n",
      "\u001b[0;32m~/anaconda3/lib/python3.6/site-packages/requests/sessions.py\u001b[0m in \u001b[0;36mrequest\u001b[0;34m(self, method, url, params, data, headers, cookies, files, auth, timeout, allow_redirects, proxies, hooks, stream, verify, cert, json)\u001b[0m\n\u001b[1;32m    506\u001b[0m         }\n\u001b[1;32m    507\u001b[0m         \u001b[0msend_kwargs\u001b[0m\u001b[0;34m.\u001b[0m\u001b[0mupdate\u001b[0m\u001b[0;34m(\u001b[0m\u001b[0msettings\u001b[0m\u001b[0;34m)\u001b[0m\u001b[0;34m\u001b[0m\u001b[0m\n\u001b[0;32m--> 508\u001b[0;31m         \u001b[0mresp\u001b[0m \u001b[0;34m=\u001b[0m \u001b[0mself\u001b[0m\u001b[0;34m.\u001b[0m\u001b[0msend\u001b[0m\u001b[0;34m(\u001b[0m\u001b[0mprep\u001b[0m\u001b[0;34m,\u001b[0m \u001b[0;34m**\u001b[0m\u001b[0msend_kwargs\u001b[0m\u001b[0;34m)\u001b[0m\u001b[0;34m\u001b[0m\u001b[0m\n\u001b[0m\u001b[1;32m    509\u001b[0m \u001b[0;34m\u001b[0m\u001b[0m\n\u001b[1;32m    510\u001b[0m         \u001b[0;32mreturn\u001b[0m \u001b[0mresp\u001b[0m\u001b[0;34m\u001b[0m\u001b[0m\n",
      "\u001b[0;32m~/anaconda3/lib/python3.6/site-packages/requests/sessions.py\u001b[0m in \u001b[0;36msend\u001b[0;34m(self, request, **kwargs)\u001b[0m\n\u001b[1;32m    616\u001b[0m \u001b[0;34m\u001b[0m\u001b[0m\n\u001b[1;32m    617\u001b[0m         \u001b[0;31m# Send the request\u001b[0m\u001b[0;34m\u001b[0m\u001b[0;34m\u001b[0m\u001b[0m\n\u001b[0;32m--> 618\u001b[0;31m         \u001b[0mr\u001b[0m \u001b[0;34m=\u001b[0m \u001b[0madapter\u001b[0m\u001b[0;34m.\u001b[0m\u001b[0msend\u001b[0m\u001b[0;34m(\u001b[0m\u001b[0mrequest\u001b[0m\u001b[0;34m,\u001b[0m \u001b[0;34m**\u001b[0m\u001b[0mkwargs\u001b[0m\u001b[0;34m)\u001b[0m\u001b[0;34m\u001b[0m\u001b[0m\n\u001b[0m\u001b[1;32m    619\u001b[0m \u001b[0;34m\u001b[0m\u001b[0m\n\u001b[1;32m    620\u001b[0m         \u001b[0;31m# Total elapsed time of the request (approximately)\u001b[0m\u001b[0;34m\u001b[0m\u001b[0;34m\u001b[0m\u001b[0m\n",
      "\u001b[0;32m~/anaconda3/lib/python3.6/site-packages/requests/adapters.py\u001b[0m in \u001b[0;36msend\u001b[0;34m(self, request, stream, timeout, verify, cert, proxies)\u001b[0m\n\u001b[1;32m    506\u001b[0m                 \u001b[0;32mraise\u001b[0m \u001b[0mSSLError\u001b[0m\u001b[0;34m(\u001b[0m\u001b[0me\u001b[0m\u001b[0;34m,\u001b[0m \u001b[0mrequest\u001b[0m\u001b[0;34m=\u001b[0m\u001b[0mrequest\u001b[0m\u001b[0;34m)\u001b[0m\u001b[0;34m\u001b[0m\u001b[0m\n\u001b[1;32m    507\u001b[0m \u001b[0;34m\u001b[0m\u001b[0m\n\u001b[0;32m--> 508\u001b[0;31m             \u001b[0;32mraise\u001b[0m \u001b[0mConnectionError\u001b[0m\u001b[0;34m(\u001b[0m\u001b[0me\u001b[0m\u001b[0;34m,\u001b[0m \u001b[0mrequest\u001b[0m\u001b[0;34m=\u001b[0m\u001b[0mrequest\u001b[0m\u001b[0;34m)\u001b[0m\u001b[0;34m\u001b[0m\u001b[0m\n\u001b[0m\u001b[1;32m    509\u001b[0m \u001b[0;34m\u001b[0m\u001b[0m\n\u001b[1;32m    510\u001b[0m         \u001b[0;32mexcept\u001b[0m \u001b[0mClosedPoolError\u001b[0m \u001b[0;32mas\u001b[0m \u001b[0me\u001b[0m\u001b[0;34m:\u001b[0m\u001b[0;34m\u001b[0m\u001b[0m\n",
      "\u001b[0;31mConnectionError\u001b[0m: HTTPConnectionPool(host='archive.ics.uci.edu', port=80): Max retries exceeded with url: /ml/machine-learning-databases/autos/imports-85.names (Caused by NewConnectionError('<urllib3.connection.HTTPConnection object at 0x1a17d98128>: Failed to establish a new connection: [Errno 8] nodename nor servname provided, or not known',))"
     ]
    }
   ],
   "source": [
    "# Setting up a numeric features dataframe\n",
    "## Parsing \"imports-85.names\" to find the column names for the dataset\n",
    "url_cols = \"http://archive.ics.uci.edu/ml/machine-learning-databases/autos/imports-85.names\"\n",
    "url_dataset = \"https://archive.ics.uci.edu/ml/machine-learning-databases/autos/imports-85.data\"\n",
    "\n",
    "# Download the dataset and convert it to dataframe\n",
    "cars_dataset_numeric_features = download_pars_dataset(url_cols=url_cols, url_dataset=url_dataset)\n",
    "cars_dataset_numeric_features = cars_dataset_numeric_features.apply(lambda x: pd.to_numeric(x,errors='coerce'))    \n",
    "\n",
    "# Decide which cols. have certain Nan values (e.g. > 100) to be reduced from the original dataframet\n",
    "new = cars_dataset_numeric_features.isnull().apply(sum, axis=0) > 100 \n",
    "cars_new_numeric_dataset = cars_dataset_numeric_features.drop(cars_dataset_numeric_features.loc[:,new], axis=1)\n",
    "cars_new_numeric_dataset.head()\n"
   ]
  },
  {
   "cell_type": "code",
   "execution_count": 4,
   "metadata": {
    "extensions": {
     "jupyter_dashboards": {
      "version": 1,
      "views": {
       "grid_default": {
        "col": 8,
        "height": 4,
        "hidden": false,
        "row": 12,
        "width": 4
       },
       "report_default": {
        "hidden": false
       }
      }
     }
    },
    "scrolled": true,
    "slideshow": {
     "slide_type": "slide"
    }
   },
   "outputs": [
    {
     "data": {
      "text/plain": [
       "Int64Index([0, 1, 2, 3, 15], dtype='int64')"
      ]
     },
     "execution_count": 4,
     "metadata": {},
     "output_type": "execute_result"
    }
   ],
   "source": [
    "# Detremine missing values in cols with max number of NaN among rows\n",
    "missing_values_cars_df = cars_new_numeric_dataset.isnull().apply(sum, axis=1)\n",
    "\n",
    "# max number of NaN presnets in the data across the cols\n",
    "max_num_nan_rows = missing_values_cars_df.value_counts() \n",
    "\n",
    "# max number of NaN among rows is 15\n",
    "max_num_nan_rows.index "
   ]
  },
  {
   "cell_type": "code",
   "execution_count": 10,
   "metadata": {
    "extensions": {
     "jupyter_dashboards": {
      "version": 1,
      "views": {
       "grid_default": {
        "col": 8,
        "height": 8,
        "hidden": false,
        "row": 4,
        "width": 4
       },
       "report_default": {
        "hidden": false
       }
      }
     }
    },
    "scrolled": true,
    "slideshow": {
     "slide_type": "slide"
    }
   },
   "outputs": [
    {
     "data": {
      "text/html": [
       "<div>\n",
       "<style>\n",
       "    .dataframe thead tr:only-child th {\n",
       "        text-align: right;\n",
       "    }\n",
       "\n",
       "    .dataframe thead th {\n",
       "        text-align: left;\n",
       "    }\n",
       "\n",
       "    .dataframe tbody tr th {\n",
       "        vertical-align: top;\n",
       "    }\n",
       "</style>\n",
       "<table border=\"1\" class=\"dataframe\">\n",
       "  <thead>\n",
       "    <tr style=\"text-align: right;\">\n",
       "      <th></th>\n",
       "      <th>symboling</th>\n",
       "      <th>normalized</th>\n",
       "      <th>wheel</th>\n",
       "      <th>length</th>\n",
       "      <th>width</th>\n",
       "      <th>height</th>\n",
       "      <th>curb</th>\n",
       "      <th>bore</th>\n",
       "      <th>stroke</th>\n",
       "      <th>compression</th>\n",
       "      <th>horsepower</th>\n",
       "      <th>peak</th>\n",
       "      <th>city</th>\n",
       "      <th>highway</th>\n",
       "      <th>price</th>\n",
       "    </tr>\n",
       "  </thead>\n",
       "  <tbody>\n",
       "    <tr>\n",
       "      <th>0</th>\n",
       "      <td>3.0</td>\n",
       "      <td>122.0</td>\n",
       "      <td>88.6</td>\n",
       "      <td>168.8</td>\n",
       "      <td>64.1</td>\n",
       "      <td>48.8</td>\n",
       "      <td>2548.0</td>\n",
       "      <td>3.47</td>\n",
       "      <td>2.68</td>\n",
       "      <td>9.0</td>\n",
       "      <td>111.0</td>\n",
       "      <td>5000.0</td>\n",
       "      <td>21.0</td>\n",
       "      <td>27.0</td>\n",
       "      <td>13495.0</td>\n",
       "    </tr>\n",
       "    <tr>\n",
       "      <th>1</th>\n",
       "      <td>3.0</td>\n",
       "      <td>122.0</td>\n",
       "      <td>88.6</td>\n",
       "      <td>168.8</td>\n",
       "      <td>64.1</td>\n",
       "      <td>48.8</td>\n",
       "      <td>2548.0</td>\n",
       "      <td>3.47</td>\n",
       "      <td>2.68</td>\n",
       "      <td>9.0</td>\n",
       "      <td>111.0</td>\n",
       "      <td>5000.0</td>\n",
       "      <td>21.0</td>\n",
       "      <td>27.0</td>\n",
       "      <td>16500.0</td>\n",
       "    </tr>\n",
       "    <tr>\n",
       "      <th>2</th>\n",
       "      <td>1.0</td>\n",
       "      <td>122.0</td>\n",
       "      <td>94.5</td>\n",
       "      <td>171.2</td>\n",
       "      <td>65.5</td>\n",
       "      <td>52.4</td>\n",
       "      <td>2823.0</td>\n",
       "      <td>2.68</td>\n",
       "      <td>3.47</td>\n",
       "      <td>9.0</td>\n",
       "      <td>154.0</td>\n",
       "      <td>5000.0</td>\n",
       "      <td>19.0</td>\n",
       "      <td>26.0</td>\n",
       "      <td>16500.0</td>\n",
       "    </tr>\n",
       "    <tr>\n",
       "      <th>3</th>\n",
       "      <td>2.0</td>\n",
       "      <td>164.0</td>\n",
       "      <td>99.8</td>\n",
       "      <td>176.6</td>\n",
       "      <td>66.2</td>\n",
       "      <td>54.3</td>\n",
       "      <td>2337.0</td>\n",
       "      <td>3.19</td>\n",
       "      <td>3.40</td>\n",
       "      <td>10.0</td>\n",
       "      <td>102.0</td>\n",
       "      <td>5500.0</td>\n",
       "      <td>24.0</td>\n",
       "      <td>30.0</td>\n",
       "      <td>13950.0</td>\n",
       "    </tr>\n",
       "    <tr>\n",
       "      <th>4</th>\n",
       "      <td>2.0</td>\n",
       "      <td>164.0</td>\n",
       "      <td>99.4</td>\n",
       "      <td>176.6</td>\n",
       "      <td>66.4</td>\n",
       "      <td>54.3</td>\n",
       "      <td>2824.0</td>\n",
       "      <td>3.19</td>\n",
       "      <td>3.40</td>\n",
       "      <td>8.0</td>\n",
       "      <td>115.0</td>\n",
       "      <td>5500.0</td>\n",
       "      <td>18.0</td>\n",
       "      <td>22.0</td>\n",
       "      <td>17450.0</td>\n",
       "    </tr>\n",
       "  </tbody>\n",
       "</table>\n",
       "</div>"
      ],
      "text/plain": [
       "   symboling  normalized  wheel  length  width  height    curb  bore  stroke  \\\n",
       "0        3.0       122.0   88.6   168.8   64.1    48.8  2548.0  3.47    2.68   \n",
       "1        3.0       122.0   88.6   168.8   64.1    48.8  2548.0  3.47    2.68   \n",
       "2        1.0       122.0   94.5   171.2   65.5    52.4  2823.0  2.68    3.47   \n",
       "3        2.0       164.0   99.8   176.6   66.2    54.3  2337.0  3.19    3.40   \n",
       "4        2.0       164.0   99.4   176.6   66.4    54.3  2824.0  3.19    3.40   \n",
       "\n",
       "   compression  horsepower    peak  city  highway    price  \n",
       "0          9.0       111.0  5000.0  21.0     27.0  13495.0  \n",
       "1          9.0       111.0  5000.0  21.0     27.0  16500.0  \n",
       "2          9.0       154.0  5000.0  19.0     26.0  16500.0  \n",
       "3         10.0       102.0  5500.0  24.0     30.0  13950.0  \n",
       "4          8.0       115.0  5500.0  18.0     22.0  17450.0  "
      ]
     },
     "execution_count": 10,
     "metadata": {},
     "output_type": "execute_result"
    }
   ],
   "source": [
    "# Drop row across set of cols that have all NaN values \n",
    "row_max_nan = missing_values_cars_df[missing_values_cars_df.apply(\n",
    "    lambda x: x == max(max_num_nan_rows.index))]\n",
    "cars_df_after_removing_nan_max = cars_new_numeric_dataset.drop(list(row_max_nan.index))\n",
    "\n",
    "# Impute missing values \"NaN\" using mean values across cols\n",
    "## Note: there is a class called \"imputer\" within \"from sklearn.preprocessing \n",
    "##import Imputer\" which can handel missing values \"other than NaN\"\n",
    "mean_vla_cols = cars_df_after_removing_nan_max.apply(lambda x: np.mean(x), axis=0)\n",
    "cars_df_with_mean = cars_df_after_removing_nan_max.replace(np.nan, mean_vla_cols)\n",
    "cars_df_with_mean.head()\n",
    "\n",
    "## Imputing missing values: Simulating distribution method\n",
    "#mean_df_nan = cars_df_after_removing_nan_max['price'].mean()\n",
    "#std_df_nan = cars_df_after_removing_nan_max['price'].std()\n",
    "#cars_new_sim_df = pd.DataFrame(np.random.normal(mean_df_nan, std_df_nan, \n",
    "#len(cars_df_after_removing_nan_max['price'])))\n",
    "#nan_label = cars_new_sim_df[cars_df_after_removing_nan_max['price'].isnull()]\n",
    "#cars_df_after_removing_nan_max['price'].loc[list(nan_label[0].index)]=nan_label[0]\n",
    "#cars_df_after_removing_nan_max['price'].head(10)\n",
    "#nan_label\n"
   ]
  },
  {
   "cell_type": "code",
   "execution_count": 16,
   "metadata": {
    "extensions": {
     "jupyter_dashboards": {
      "version": 1,
      "views": {
       "grid_default": {
        "col": 0,
        "height": 8,
        "hidden": false,
        "row": 43,
        "width": 4
       },
       "report_default": {
        "hidden": false
       }
      }
     }
    },
    "scrolled": true,
    "slideshow": {
     "slide_type": "slide"
    }
   },
   "outputs": [
    {
     "data": {
      "text/html": [
       "<div>\n",
       "<style>\n",
       "    .dataframe thead tr:only-child th {\n",
       "        text-align: right;\n",
       "    }\n",
       "\n",
       "    .dataframe thead th {\n",
       "        text-align: left;\n",
       "    }\n",
       "\n",
       "    .dataframe tbody tr th {\n",
       "        vertical-align: top;\n",
       "    }\n",
       "</style>\n",
       "<table border=\"1\" class=\"dataframe\">\n",
       "  <thead>\n",
       "    <tr style=\"text-align: right;\">\n",
       "      <th></th>\n",
       "      <th>symboling</th>\n",
       "      <th>normalized</th>\n",
       "      <th>wheel</th>\n",
       "      <th>length</th>\n",
       "      <th>width</th>\n",
       "      <th>height</th>\n",
       "      <th>curb</th>\n",
       "      <th>bore</th>\n",
       "      <th>stroke</th>\n",
       "      <th>compression</th>\n",
       "      <th>horsepower</th>\n",
       "      <th>peak</th>\n",
       "      <th>city</th>\n",
       "      <th>highway</th>\n",
       "      <th>price</th>\n",
       "    </tr>\n",
       "  </thead>\n",
       "  <tbody>\n",
       "    <tr>\n",
       "      <th>0</th>\n",
       "      <td>0.433171</td>\n",
       "      <td>0.000000</td>\n",
       "      <td>-0.296110</td>\n",
       "      <td>-0.078347</td>\n",
       "      <td>-0.150650</td>\n",
       "      <td>-0.410407</td>\n",
       "      <td>-0.002935</td>\n",
       "      <td>0.100178</td>\n",
       "      <td>-0.274011</td>\n",
       "      <td>-0.071409</td>\n",
       "      <td>0.028099</td>\n",
       "      <td>-0.051171</td>\n",
       "      <td>-0.117209</td>\n",
       "      <td>-0.098716</td>\n",
       "      <td>0.007146</td>\n",
       "    </tr>\n",
       "    <tr>\n",
       "      <th>1</th>\n",
       "      <td>0.433171</td>\n",
       "      <td>0.000000</td>\n",
       "      <td>-0.296110</td>\n",
       "      <td>-0.078347</td>\n",
       "      <td>-0.150650</td>\n",
       "      <td>-0.410407</td>\n",
       "      <td>-0.002935</td>\n",
       "      <td>0.100178</td>\n",
       "      <td>-0.274011</td>\n",
       "      <td>-0.071409</td>\n",
       "      <td>0.028099</td>\n",
       "      <td>-0.051171</td>\n",
       "      <td>-0.117209</td>\n",
       "      <td>-0.098716</td>\n",
       "      <td>0.081745</td>\n",
       "    </tr>\n",
       "    <tr>\n",
       "      <th>2</th>\n",
       "      <td>0.033171</td>\n",
       "      <td>0.000000</td>\n",
       "      <td>-0.124099</td>\n",
       "      <td>-0.042526</td>\n",
       "      <td>-0.033984</td>\n",
       "      <td>-0.110407</td>\n",
       "      <td>0.103737</td>\n",
       "      <td>-0.464108</td>\n",
       "      <td>0.102180</td>\n",
       "      <td>-0.071409</td>\n",
       "      <td>0.207266</td>\n",
       "      <td>-0.051171</td>\n",
       "      <td>-0.172764</td>\n",
       "      <td>-0.125032</td>\n",
       "      <td>0.081745</td>\n",
       "    </tr>\n",
       "    <tr>\n",
       "      <th>3</th>\n",
       "      <td>0.233171</td>\n",
       "      <td>0.219895</td>\n",
       "      <td>0.030420</td>\n",
       "      <td>0.038071</td>\n",
       "      <td>0.024350</td>\n",
       "      <td>0.047927</td>\n",
       "      <td>-0.084781</td>\n",
       "      <td>-0.099822</td>\n",
       "      <td>0.068846</td>\n",
       "      <td>-0.008909</td>\n",
       "      <td>-0.009401</td>\n",
       "      <td>0.152910</td>\n",
       "      <td>-0.033875</td>\n",
       "      <td>-0.019769</td>\n",
       "      <td>0.018442</td>\n",
       "    </tr>\n",
       "    <tr>\n",
       "      <th>4</th>\n",
       "      <td>0.233171</td>\n",
       "      <td>0.219895</td>\n",
       "      <td>0.018758</td>\n",
       "      <td>0.038071</td>\n",
       "      <td>0.041016</td>\n",
       "      <td>0.047927</td>\n",
       "      <td>0.104125</td>\n",
       "      <td>-0.099822</td>\n",
       "      <td>0.068846</td>\n",
       "      <td>-0.133909</td>\n",
       "      <td>0.044766</td>\n",
       "      <td>0.152910</td>\n",
       "      <td>-0.200542</td>\n",
       "      <td>-0.230295</td>\n",
       "      <td>0.105329</td>\n",
       "    </tr>\n",
       "  </tbody>\n",
       "</table>\n",
       "</div>"
      ],
      "text/plain": [
       "   symboling  normalized     wheel    length     width    height      curb  \\\n",
       "0   0.433171    0.000000 -0.296110 -0.078347 -0.150650 -0.410407 -0.002935   \n",
       "1   0.433171    0.000000 -0.296110 -0.078347 -0.150650 -0.410407 -0.002935   \n",
       "2   0.033171    0.000000 -0.124099 -0.042526 -0.033984 -0.110407  0.103737   \n",
       "3   0.233171    0.219895  0.030420  0.038071  0.024350  0.047927 -0.084781   \n",
       "4   0.233171    0.219895  0.018758  0.038071  0.041016  0.047927  0.104125   \n",
       "\n",
       "       bore    stroke  compression  horsepower      peak      city   highway  \\\n",
       "0  0.100178 -0.274011    -0.071409    0.028099 -0.051171 -0.117209 -0.098716   \n",
       "1  0.100178 -0.274011    -0.071409    0.028099 -0.051171 -0.117209 -0.098716   \n",
       "2 -0.464108  0.102180    -0.071409    0.207266 -0.051171 -0.172764 -0.125032   \n",
       "3 -0.099822  0.068846    -0.008909   -0.009401  0.152910 -0.033875 -0.019769   \n",
       "4 -0.099822  0.068846    -0.133909    0.044766  0.152910 -0.200542 -0.230295   \n",
       "\n",
       "      price  \n",
       "0  0.007146  \n",
       "1  0.081745  \n",
       "2  0.081745  \n",
       "3  0.018442  \n",
       "4  0.105329  "
      ]
     },
     "execution_count": 16,
     "metadata": {},
     "output_type": "execute_result"
    }
   ],
   "source": [
    "# Normalize cars dataset\n",
    "cars_normalized_df = (cars_df_with_mean-cars_df_with_mean.mean()) / (cars_df_with_mean.max() - cars_df_with_mean.min())\n",
    "cars_normalized_df.head()"
   ]
  },
  {
   "cell_type": "markdown",
   "metadata": {
    "extensions": {
     "jupyter_dashboards": {
      "version": 1,
      "views": {
       "grid_default": {
        "col": 0,
        "height": 4,
        "hidden": false,
        "row": 37,
        "width": 12
       },
       "report_default": {
        "hidden": false
       }
      }
     }
    },
    "slideshow": {
     "slide_type": "slide"
    }
   },
   "source": [
    "### Building univariate k-nearest neighbors models: Predicting car prices"
   ]
  },
  {
   "cell_type": "code",
   "execution_count": 17,
   "metadata": {
    "collapsed": true,
    "extensions": {
     "jupyter_dashboards": {
      "version": 1,
      "views": {
       "grid_default": {
        "hidden": true
       },
       "report_default": {
        "hidden": true
       }
      }
     }
    },
    "scrolled": true,
    "slideshow": {
     "slide_type": "slide"
    }
   },
   "outputs": [],
   "source": [
    "# univariate k-nearest neighbors \n",
    "\n",
    "## Building univariate k-nearest neighbors function\n",
    "def knn_train_test(feature_nme, target_nme, df, perc_fig, n_neigh):\n",
    "    \"\"\"\n",
    "    Univariate KNN model\n",
    "    Inputs:\n",
    "    _____________\n",
    "     - feature_nme: str\n",
    "         a col. that used as a feature input\n",
    "     - target_nme: str\n",
    "         a col. to predict \n",
    "     - df: dataframe\n",
    "         dataframe input\n",
    "     - perc_fig: float\n",
    "         a '%' used to set up training/testing samples\n",
    "     Outputs:\n",
    "     ____________\n",
    "     - list of average RMSE for Knn model \n",
    "    \"\"\"\n",
    "    # Set up training /testing set\n",
    "    perc_train_test = round(len(df[feature_nme])* perc_fig)\n",
    "    training_set = df.iloc[:perc_train_test]\n",
    "    testing_set = df.iloc[perc_train_test:]\n",
    "    \n",
    "    # Set up univariate k-nearest neighbors models\n",
    "    knn = KNeighborsRegressor(n_neighbors = n_neigh, algorithm='brute')\n",
    "    fit = knn.fit(training_set[feature_nme], training_set[target_nme])\n",
    "    predicts = knn.predict(testing_set[feature_nme])\n",
    "    RMSE = np.sqrt(mean_squared_error(testing_set[target_nme], predicts))\n",
    "    return RMSE"
   ]
  },
  {
   "cell_type": "code",
   "execution_count": 18,
   "metadata": {
    "cell_style": "center",
    "collapsed": true,
    "extensions": {
     "jupyter_dashboards": {
      "version": 1,
      "views": {
       "grid_default": {
        "hidden": true
       },
       "report_default": {
        "hidden": true
       }
      }
     }
    }
   },
   "outputs": [],
   "source": [
    "# Applying univariate k-nearest neighbors function to cars \n",
    "#datatframe and find the best fit\n",
    "\n",
    "## Link a float slide widget to univariate Knn model\n",
    "def knn_model(perc_fig, n_neigh):\n",
    "    \"\"\"\n",
    "    apply knn func \"knn_train_test\" to find best univariate model\n",
    "    Inputs:\n",
    "    _____________\n",
    "     - perc_fig: float\n",
    "         a % to use for setting up training/testing data sebsets\n",
    "     - n_neigh: int\n",
    "         n_neigh. value to set up Knn model\n",
    "    Outputs:\n",
    "    ____________\n",
    "     - plot of average RMSE for n random iteration/hyperprameter\n",
    "    \"\"\"\n",
    "    ## Applying \"knn_train_test\" to find best univariate Knn model\n",
    "    knn_model_rmse = {}\n",
    "    for col in cars_normalized_df.columns:\n",
    "        if col != 'price':\n",
    "            feature_model = knn_train_test([col],['price'], cars_normalized_df, perc_fig, n_neigh)\n",
    "            knn_model_rmse[col] = feature_model\n",
    "    ## Plotting RMSE of univariate Knn model\n",
    "    #ax.clear()\n",
    "    ax.bar(knn_model_rmse.keys(),knn_model_rmse.values())\n",
    "    frm_color = 'white'\n",
    "    ax.tick_params(color=frm_color, labelcolor=frm_color)\n",
    "    for spine in ax.spines.values():\n",
    "        spine.set_edgecolor(frm_color)\n",
    "    plt.suptitle('Univariate k-nearest neighbors RMSE', color=frm_color)\n",
    "    plt.xticks(rotation=40)\n",
    "    plt.show()\n",
    " "
   ]
  },
  {
   "cell_type": "code",
   "execution_count": 30,
   "metadata": {
    "cell_style": "center",
    "extensions": {
     "jupyter_dashboards": {
      "version": 1,
      "views": {
       "grid_default": {
        "col": 6,
        "height": 6,
        "hidden": false,
        "row": 47,
        "width": 4
       },
       "report_default": {
        "hidden": false
       }
      }
     }
    },
    "scrolled": false,
    "slideshow": {
     "slide_type": "slide"
    }
   },
   "outputs": [
    {
     "data": {
      "application/vnd.jupyter.widget-view+json": {
       "model_id": "7f24c1646fe14f7eae90a18cd76e0ee4",
       "version_major": 2,
       "version_minor": 0
      },
      "text/plain": [
       "A Jupyter Widget"
      ]
     },
     "metadata": {},
     "output_type": "display_data"
    },
    {
     "data": {
      "application/vnd.jupyter.widget-view+json": {
       "model_id": "8d58d689c2f4469cb01d998a788595fc",
       "version_major": 2,
       "version_minor": 0
      },
      "text/plain": [
       "A Jupyter Widget"
      ]
     },
     "metadata": {},
     "output_type": "display_data"
    },
    {
     "data": {
      "application/vnd.jupyter.widget-view+json": {
       "model_id": "89e56b131b7d42aea4036adeac8dfb27",
       "version_major": 2,
       "version_minor": 0
      },
      "text/plain": [
       "A Jupyter Widget"
      ]
     },
     "metadata": {},
     "output_type": "display_data"
    },
    {
     "data": {
      "application/javascript": [
       "/* Put everything inside the global mpl namespace */\n",
       "window.mpl = {};\n",
       "\n",
       "\n",
       "mpl.get_websocket_type = function() {\n",
       "    if (typeof(WebSocket) !== 'undefined') {\n",
       "        return WebSocket;\n",
       "    } else if (typeof(MozWebSocket) !== 'undefined') {\n",
       "        return MozWebSocket;\n",
       "    } else {\n",
       "        alert('Your browser does not have WebSocket support.' +\n",
       "              'Please try Chrome, Safari or Firefox ≥ 6. ' +\n",
       "              'Firefox 4 and 5 are also supported but you ' +\n",
       "              'have to enable WebSockets in about:config.');\n",
       "    };\n",
       "}\n",
       "\n",
       "mpl.figure = function(figure_id, websocket, ondownload, parent_element) {\n",
       "    this.id = figure_id;\n",
       "\n",
       "    this.ws = websocket;\n",
       "\n",
       "    this.supports_binary = (this.ws.binaryType != undefined);\n",
       "\n",
       "    if (!this.supports_binary) {\n",
       "        var warnings = document.getElementById(\"mpl-warnings\");\n",
       "        if (warnings) {\n",
       "            warnings.style.display = 'block';\n",
       "            warnings.textContent = (\n",
       "                \"This browser does not support binary websocket messages. \" +\n",
       "                    \"Performance may be slow.\");\n",
       "        }\n",
       "    }\n",
       "\n",
       "    this.imageObj = new Image();\n",
       "\n",
       "    this.context = undefined;\n",
       "    this.message = undefined;\n",
       "    this.canvas = undefined;\n",
       "    this.rubberband_canvas = undefined;\n",
       "    this.rubberband_context = undefined;\n",
       "    this.format_dropdown = undefined;\n",
       "\n",
       "    this.image_mode = 'full';\n",
       "\n",
       "    this.root = $('<div/>');\n",
       "    this._root_extra_style(this.root)\n",
       "    this.root.attr('style', 'display: inline-block');\n",
       "\n",
       "    $(parent_element).append(this.root);\n",
       "\n",
       "    this._init_header(this);\n",
       "    this._init_canvas(this);\n",
       "    this._init_toolbar(this);\n",
       "\n",
       "    var fig = this;\n",
       "\n",
       "    this.waiting = false;\n",
       "\n",
       "    this.ws.onopen =  function () {\n",
       "            fig.send_message(\"supports_binary\", {value: fig.supports_binary});\n",
       "            fig.send_message(\"send_image_mode\", {});\n",
       "            if (mpl.ratio != 1) {\n",
       "                fig.send_message(\"set_dpi_ratio\", {'dpi_ratio': mpl.ratio});\n",
       "            }\n",
       "            fig.send_message(\"refresh\", {});\n",
       "        }\n",
       "\n",
       "    this.imageObj.onload = function() {\n",
       "            if (fig.image_mode == 'full') {\n",
       "                // Full images could contain transparency (where diff images\n",
       "                // almost always do), so we need to clear the canvas so that\n",
       "                // there is no ghosting.\n",
       "                fig.context.clearRect(0, 0, fig.canvas.width, fig.canvas.height);\n",
       "            }\n",
       "            fig.context.drawImage(fig.imageObj, 0, 0);\n",
       "        };\n",
       "\n",
       "    this.imageObj.onunload = function() {\n",
       "        fig.ws.close();\n",
       "    }\n",
       "\n",
       "    this.ws.onmessage = this._make_on_message_function(this);\n",
       "\n",
       "    this.ondownload = ondownload;\n",
       "}\n",
       "\n",
       "mpl.figure.prototype._init_header = function() {\n",
       "    var titlebar = $(\n",
       "        '<div class=\"ui-dialog-titlebar ui-widget-header ui-corner-all ' +\n",
       "        'ui-helper-clearfix\"/>');\n",
       "    var titletext = $(\n",
       "        '<div class=\"ui-dialog-title\" style=\"width: 100%; ' +\n",
       "        'text-align: center; padding: 3px;\"/>');\n",
       "    titlebar.append(titletext)\n",
       "    this.root.append(titlebar);\n",
       "    this.header = titletext[0];\n",
       "}\n",
       "\n",
       "\n",
       "\n",
       "mpl.figure.prototype._canvas_extra_style = function(canvas_div) {\n",
       "\n",
       "}\n",
       "\n",
       "\n",
       "mpl.figure.prototype._root_extra_style = function(canvas_div) {\n",
       "\n",
       "}\n",
       "\n",
       "mpl.figure.prototype._init_canvas = function() {\n",
       "    var fig = this;\n",
       "\n",
       "    var canvas_div = $('<div/>');\n",
       "\n",
       "    canvas_div.attr('style', 'position: relative; clear: both; outline: 0');\n",
       "\n",
       "    function canvas_keyboard_event(event) {\n",
       "        return fig.key_event(event, event['data']);\n",
       "    }\n",
       "\n",
       "    canvas_div.keydown('key_press', canvas_keyboard_event);\n",
       "    canvas_div.keyup('key_release', canvas_keyboard_event);\n",
       "    this.canvas_div = canvas_div\n",
       "    this._canvas_extra_style(canvas_div)\n",
       "    this.root.append(canvas_div);\n",
       "\n",
       "    var canvas = $('<canvas/>');\n",
       "    canvas.addClass('mpl-canvas');\n",
       "    canvas.attr('style', \"left: 0; top: 0; z-index: 0; outline: 0\")\n",
       "\n",
       "    this.canvas = canvas[0];\n",
       "    this.context = canvas[0].getContext(\"2d\");\n",
       "\n",
       "    var backingStore = this.context.backingStorePixelRatio ||\n",
       "\tthis.context.webkitBackingStorePixelRatio ||\n",
       "\tthis.context.mozBackingStorePixelRatio ||\n",
       "\tthis.context.msBackingStorePixelRatio ||\n",
       "\tthis.context.oBackingStorePixelRatio ||\n",
       "\tthis.context.backingStorePixelRatio || 1;\n",
       "\n",
       "    mpl.ratio = (window.devicePixelRatio || 1) / backingStore;\n",
       "\n",
       "    var rubberband = $('<canvas/>');\n",
       "    rubberband.attr('style', \"position: absolute; left: 0; top: 0; z-index: 1;\")\n",
       "\n",
       "    var pass_mouse_events = true;\n",
       "\n",
       "    canvas_div.resizable({\n",
       "        start: function(event, ui) {\n",
       "            pass_mouse_events = false;\n",
       "        },\n",
       "        resize: function(event, ui) {\n",
       "            fig.request_resize(ui.size.width, ui.size.height);\n",
       "        },\n",
       "        stop: function(event, ui) {\n",
       "            pass_mouse_events = true;\n",
       "            fig.request_resize(ui.size.width, ui.size.height);\n",
       "        },\n",
       "    });\n",
       "\n",
       "    function mouse_event_fn(event) {\n",
       "        if (pass_mouse_events)\n",
       "            return fig.mouse_event(event, event['data']);\n",
       "    }\n",
       "\n",
       "    rubberband.mousedown('button_press', mouse_event_fn);\n",
       "    rubberband.mouseup('button_release', mouse_event_fn);\n",
       "    // Throttle sequential mouse events to 1 every 20ms.\n",
       "    rubberband.mousemove('motion_notify', mouse_event_fn);\n",
       "\n",
       "    rubberband.mouseenter('figure_enter', mouse_event_fn);\n",
       "    rubberband.mouseleave('figure_leave', mouse_event_fn);\n",
       "\n",
       "    canvas_div.on(\"wheel\", function (event) {\n",
       "        event = event.originalEvent;\n",
       "        event['data'] = 'scroll'\n",
       "        if (event.deltaY < 0) {\n",
       "            event.step = 1;\n",
       "        } else {\n",
       "            event.step = -1;\n",
       "        }\n",
       "        mouse_event_fn(event);\n",
       "    });\n",
       "\n",
       "    canvas_div.append(canvas);\n",
       "    canvas_div.append(rubberband);\n",
       "\n",
       "    this.rubberband = rubberband;\n",
       "    this.rubberband_canvas = rubberband[0];\n",
       "    this.rubberband_context = rubberband[0].getContext(\"2d\");\n",
       "    this.rubberband_context.strokeStyle = \"#000000\";\n",
       "\n",
       "    this._resize_canvas = function(width, height) {\n",
       "        // Keep the size of the canvas, canvas container, and rubber band\n",
       "        // canvas in synch.\n",
       "        canvas_div.css('width', width)\n",
       "        canvas_div.css('height', height)\n",
       "\n",
       "        canvas.attr('width', width * mpl.ratio);\n",
       "        canvas.attr('height', height * mpl.ratio);\n",
       "        canvas.attr('style', 'width: ' + width + 'px; height: ' + height + 'px;');\n",
       "\n",
       "        rubberband.attr('width', width);\n",
       "        rubberband.attr('height', height);\n",
       "    }\n",
       "\n",
       "    // Set the figure to an initial 600x600px, this will subsequently be updated\n",
       "    // upon first draw.\n",
       "    this._resize_canvas(600, 600);\n",
       "\n",
       "    // Disable right mouse context menu.\n",
       "    $(this.rubberband_canvas).bind(\"contextmenu\",function(e){\n",
       "        return false;\n",
       "    });\n",
       "\n",
       "    function set_focus () {\n",
       "        canvas.focus();\n",
       "        canvas_div.focus();\n",
       "    }\n",
       "\n",
       "    window.setTimeout(set_focus, 100);\n",
       "}\n",
       "\n",
       "mpl.figure.prototype._init_toolbar = function() {\n",
       "    var fig = this;\n",
       "\n",
       "    var nav_element = $('<div/>')\n",
       "    nav_element.attr('style', 'width: 100%');\n",
       "    this.root.append(nav_element);\n",
       "\n",
       "    // Define a callback function for later on.\n",
       "    function toolbar_event(event) {\n",
       "        return fig.toolbar_button_onclick(event['data']);\n",
       "    }\n",
       "    function toolbar_mouse_event(event) {\n",
       "        return fig.toolbar_button_onmouseover(event['data']);\n",
       "    }\n",
       "\n",
       "    for(var toolbar_ind in mpl.toolbar_items) {\n",
       "        var name = mpl.toolbar_items[toolbar_ind][0];\n",
       "        var tooltip = mpl.toolbar_items[toolbar_ind][1];\n",
       "        var image = mpl.toolbar_items[toolbar_ind][2];\n",
       "        var method_name = mpl.toolbar_items[toolbar_ind][3];\n",
       "\n",
       "        if (!name) {\n",
       "            // put a spacer in here.\n",
       "            continue;\n",
       "        }\n",
       "        var button = $('<button/>');\n",
       "        button.addClass('ui-button ui-widget ui-state-default ui-corner-all ' +\n",
       "                        'ui-button-icon-only');\n",
       "        button.attr('role', 'button');\n",
       "        button.attr('aria-disabled', 'false');\n",
       "        button.click(method_name, toolbar_event);\n",
       "        button.mouseover(tooltip, toolbar_mouse_event);\n",
       "\n",
       "        var icon_img = $('<span/>');\n",
       "        icon_img.addClass('ui-button-icon-primary ui-icon');\n",
       "        icon_img.addClass(image);\n",
       "        icon_img.addClass('ui-corner-all');\n",
       "\n",
       "        var tooltip_span = $('<span/>');\n",
       "        tooltip_span.addClass('ui-button-text');\n",
       "        tooltip_span.html(tooltip);\n",
       "\n",
       "        button.append(icon_img);\n",
       "        button.append(tooltip_span);\n",
       "\n",
       "        nav_element.append(button);\n",
       "    }\n",
       "\n",
       "    var fmt_picker_span = $('<span/>');\n",
       "\n",
       "    var fmt_picker = $('<select/>');\n",
       "    fmt_picker.addClass('mpl-toolbar-option ui-widget ui-widget-content');\n",
       "    fmt_picker_span.append(fmt_picker);\n",
       "    nav_element.append(fmt_picker_span);\n",
       "    this.format_dropdown = fmt_picker[0];\n",
       "\n",
       "    for (var ind in mpl.extensions) {\n",
       "        var fmt = mpl.extensions[ind];\n",
       "        var option = $(\n",
       "            '<option/>', {selected: fmt === mpl.default_extension}).html(fmt);\n",
       "        fmt_picker.append(option)\n",
       "    }\n",
       "\n",
       "    // Add hover states to the ui-buttons\n",
       "    $( \".ui-button\" ).hover(\n",
       "        function() { $(this).addClass(\"ui-state-hover\");},\n",
       "        function() { $(this).removeClass(\"ui-state-hover\");}\n",
       "    );\n",
       "\n",
       "    var status_bar = $('<span class=\"mpl-message\"/>');\n",
       "    nav_element.append(status_bar);\n",
       "    this.message = status_bar[0];\n",
       "}\n",
       "\n",
       "mpl.figure.prototype.request_resize = function(x_pixels, y_pixels) {\n",
       "    // Request matplotlib to resize the figure. Matplotlib will then trigger a resize in the client,\n",
       "    // which will in turn request a refresh of the image.\n",
       "    this.send_message('resize', {'width': x_pixels, 'height': y_pixels});\n",
       "}\n",
       "\n",
       "mpl.figure.prototype.send_message = function(type, properties) {\n",
       "    properties['type'] = type;\n",
       "    properties['figure_id'] = this.id;\n",
       "    this.ws.send(JSON.stringify(properties));\n",
       "}\n",
       "\n",
       "mpl.figure.prototype.send_draw_message = function() {\n",
       "    if (!this.waiting) {\n",
       "        this.waiting = true;\n",
       "        this.ws.send(JSON.stringify({type: \"draw\", figure_id: this.id}));\n",
       "    }\n",
       "}\n",
       "\n",
       "\n",
       "mpl.figure.prototype.handle_save = function(fig, msg) {\n",
       "    var format_dropdown = fig.format_dropdown;\n",
       "    var format = format_dropdown.options[format_dropdown.selectedIndex].value;\n",
       "    fig.ondownload(fig, format);\n",
       "}\n",
       "\n",
       "\n",
       "mpl.figure.prototype.handle_resize = function(fig, msg) {\n",
       "    var size = msg['size'];\n",
       "    if (size[0] != fig.canvas.width || size[1] != fig.canvas.height) {\n",
       "        fig._resize_canvas(size[0], size[1]);\n",
       "        fig.send_message(\"refresh\", {});\n",
       "    };\n",
       "}\n",
       "\n",
       "mpl.figure.prototype.handle_rubberband = function(fig, msg) {\n",
       "    var x0 = msg['x0'] / mpl.ratio;\n",
       "    var y0 = (fig.canvas.height - msg['y0']) / mpl.ratio;\n",
       "    var x1 = msg['x1'] / mpl.ratio;\n",
       "    var y1 = (fig.canvas.height - msg['y1']) / mpl.ratio;\n",
       "    x0 = Math.floor(x0) + 0.5;\n",
       "    y0 = Math.floor(y0) + 0.5;\n",
       "    x1 = Math.floor(x1) + 0.5;\n",
       "    y1 = Math.floor(y1) + 0.5;\n",
       "    var min_x = Math.min(x0, x1);\n",
       "    var min_y = Math.min(y0, y1);\n",
       "    var width = Math.abs(x1 - x0);\n",
       "    var height = Math.abs(y1 - y0);\n",
       "\n",
       "    fig.rubberband_context.clearRect(\n",
       "        0, 0, fig.canvas.width, fig.canvas.height);\n",
       "\n",
       "    fig.rubberband_context.strokeRect(min_x, min_y, width, height);\n",
       "}\n",
       "\n",
       "mpl.figure.prototype.handle_figure_label = function(fig, msg) {\n",
       "    // Updates the figure title.\n",
       "    fig.header.textContent = msg['label'];\n",
       "}\n",
       "\n",
       "mpl.figure.prototype.handle_cursor = function(fig, msg) {\n",
       "    var cursor = msg['cursor'];\n",
       "    switch(cursor)\n",
       "    {\n",
       "    case 0:\n",
       "        cursor = 'pointer';\n",
       "        break;\n",
       "    case 1:\n",
       "        cursor = 'default';\n",
       "        break;\n",
       "    case 2:\n",
       "        cursor = 'crosshair';\n",
       "        break;\n",
       "    case 3:\n",
       "        cursor = 'move';\n",
       "        break;\n",
       "    }\n",
       "    fig.rubberband_canvas.style.cursor = cursor;\n",
       "}\n",
       "\n",
       "mpl.figure.prototype.handle_message = function(fig, msg) {\n",
       "    fig.message.textContent = msg['message'];\n",
       "}\n",
       "\n",
       "mpl.figure.prototype.handle_draw = function(fig, msg) {\n",
       "    // Request the server to send over a new figure.\n",
       "    fig.send_draw_message();\n",
       "}\n",
       "\n",
       "mpl.figure.prototype.handle_image_mode = function(fig, msg) {\n",
       "    fig.image_mode = msg['mode'];\n",
       "}\n",
       "\n",
       "mpl.figure.prototype.updated_canvas_event = function() {\n",
       "    // Called whenever the canvas gets updated.\n",
       "    this.send_message(\"ack\", {});\n",
       "}\n",
       "\n",
       "// A function to construct a web socket function for onmessage handling.\n",
       "// Called in the figure constructor.\n",
       "mpl.figure.prototype._make_on_message_function = function(fig) {\n",
       "    return function socket_on_message(evt) {\n",
       "        if (evt.data instanceof Blob) {\n",
       "            /* FIXME: We get \"Resource interpreted as Image but\n",
       "             * transferred with MIME type text/plain:\" errors on\n",
       "             * Chrome.  But how to set the MIME type?  It doesn't seem\n",
       "             * to be part of the websocket stream */\n",
       "            evt.data.type = \"image/png\";\n",
       "\n",
       "            /* Free the memory for the previous frames */\n",
       "            if (fig.imageObj.src) {\n",
       "                (window.URL || window.webkitURL).revokeObjectURL(\n",
       "                    fig.imageObj.src);\n",
       "            }\n",
       "\n",
       "            fig.imageObj.src = (window.URL || window.webkitURL).createObjectURL(\n",
       "                evt.data);\n",
       "            fig.updated_canvas_event();\n",
       "            fig.waiting = false;\n",
       "            return;\n",
       "        }\n",
       "        else if (typeof evt.data === 'string' && evt.data.slice(0, 21) == \"data:image/png;base64\") {\n",
       "            fig.imageObj.src = evt.data;\n",
       "            fig.updated_canvas_event();\n",
       "            fig.waiting = false;\n",
       "            return;\n",
       "        }\n",
       "\n",
       "        var msg = JSON.parse(evt.data);\n",
       "        var msg_type = msg['type'];\n",
       "\n",
       "        // Call the  \"handle_{type}\" callback, which takes\n",
       "        // the figure and JSON message as its only arguments.\n",
       "        try {\n",
       "            var callback = fig[\"handle_\" + msg_type];\n",
       "        } catch (e) {\n",
       "            console.log(\"No handler for the '\" + msg_type + \"' message type: \", msg);\n",
       "            return;\n",
       "        }\n",
       "\n",
       "        if (callback) {\n",
       "            try {\n",
       "                // console.log(\"Handling '\" + msg_type + \"' message: \", msg);\n",
       "                callback(fig, msg);\n",
       "            } catch (e) {\n",
       "                console.log(\"Exception inside the 'handler_\" + msg_type + \"' callback:\", e, e.stack, msg);\n",
       "            }\n",
       "        }\n",
       "    };\n",
       "}\n",
       "\n",
       "// from http://stackoverflow.com/questions/1114465/getting-mouse-location-in-canvas\n",
       "mpl.findpos = function(e) {\n",
       "    //this section is from http://www.quirksmode.org/js/events_properties.html\n",
       "    var targ;\n",
       "    if (!e)\n",
       "        e = window.event;\n",
       "    if (e.target)\n",
       "        targ = e.target;\n",
       "    else if (e.srcElement)\n",
       "        targ = e.srcElement;\n",
       "    if (targ.nodeType == 3) // defeat Safari bug\n",
       "        targ = targ.parentNode;\n",
       "\n",
       "    // jQuery normalizes the pageX and pageY\n",
       "    // pageX,Y are the mouse positions relative to the document\n",
       "    // offset() returns the position of the element relative to the document\n",
       "    var x = e.pageX - $(targ).offset().left;\n",
       "    var y = e.pageY - $(targ).offset().top;\n",
       "\n",
       "    return {\"x\": x, \"y\": y};\n",
       "};\n",
       "\n",
       "/*\n",
       " * return a copy of an object with only non-object keys\n",
       " * we need this to avoid circular references\n",
       " * http://stackoverflow.com/a/24161582/3208463\n",
       " */\n",
       "function simpleKeys (original) {\n",
       "  return Object.keys(original).reduce(function (obj, key) {\n",
       "    if (typeof original[key] !== 'object')\n",
       "        obj[key] = original[key]\n",
       "    return obj;\n",
       "  }, {});\n",
       "}\n",
       "\n",
       "mpl.figure.prototype.mouse_event = function(event, name) {\n",
       "    var canvas_pos = mpl.findpos(event)\n",
       "\n",
       "    if (name === 'button_press')\n",
       "    {\n",
       "        this.canvas.focus();\n",
       "        this.canvas_div.focus();\n",
       "    }\n",
       "\n",
       "    var x = canvas_pos.x * mpl.ratio;\n",
       "    var y = canvas_pos.y * mpl.ratio;\n",
       "\n",
       "    this.send_message(name, {x: x, y: y, button: event.button,\n",
       "                             step: event.step,\n",
       "                             guiEvent: simpleKeys(event)});\n",
       "\n",
       "    /* This prevents the web browser from automatically changing to\n",
       "     * the text insertion cursor when the button is pressed.  We want\n",
       "     * to control all of the cursor setting manually through the\n",
       "     * 'cursor' event from matplotlib */\n",
       "    event.preventDefault();\n",
       "    return false;\n",
       "}\n",
       "\n",
       "mpl.figure.prototype._key_event_extra = function(event, name) {\n",
       "    // Handle any extra behaviour associated with a key event\n",
       "}\n",
       "\n",
       "mpl.figure.prototype.key_event = function(event, name) {\n",
       "\n",
       "    // Prevent repeat events\n",
       "    if (name == 'key_press')\n",
       "    {\n",
       "        if (event.which === this._key)\n",
       "            return;\n",
       "        else\n",
       "            this._key = event.which;\n",
       "    }\n",
       "    if (name == 'key_release')\n",
       "        this._key = null;\n",
       "\n",
       "    var value = '';\n",
       "    if (event.ctrlKey && event.which != 17)\n",
       "        value += \"ctrl+\";\n",
       "    if (event.altKey && event.which != 18)\n",
       "        value += \"alt+\";\n",
       "    if (event.shiftKey && event.which != 16)\n",
       "        value += \"shift+\";\n",
       "\n",
       "    value += 'k';\n",
       "    value += event.which.toString();\n",
       "\n",
       "    this._key_event_extra(event, name);\n",
       "\n",
       "    this.send_message(name, {key: value,\n",
       "                             guiEvent: simpleKeys(event)});\n",
       "    return false;\n",
       "}\n",
       "\n",
       "mpl.figure.prototype.toolbar_button_onclick = function(name) {\n",
       "    if (name == 'download') {\n",
       "        this.handle_save(this, null);\n",
       "    } else {\n",
       "        this.send_message(\"toolbar_button\", {name: name});\n",
       "    }\n",
       "};\n",
       "\n",
       "mpl.figure.prototype.toolbar_button_onmouseover = function(tooltip) {\n",
       "    this.message.textContent = tooltip;\n",
       "};\n",
       "mpl.toolbar_items = [[\"Home\", \"Reset original view\", \"fa fa-home icon-home\", \"home\"], [\"Back\", \"Back to  previous view\", \"fa fa-arrow-left icon-arrow-left\", \"back\"], [\"Forward\", \"Forward to next view\", \"fa fa-arrow-right icon-arrow-right\", \"forward\"], [\"\", \"\", \"\", \"\"], [\"Pan\", \"Pan axes with left mouse, zoom with right\", \"fa fa-arrows icon-move\", \"pan\"], [\"Zoom\", \"Zoom to rectangle\", \"fa fa-square-o icon-check-empty\", \"zoom\"], [\"\", \"\", \"\", \"\"], [\"Download\", \"Download plot\", \"fa fa-floppy-o icon-save\", \"download\"]];\n",
       "\n",
       "mpl.extensions = [\"eps\", \"jpeg\", \"pdf\", \"png\", \"ps\", \"raw\", \"svg\", \"tif\"];\n",
       "\n",
       "mpl.default_extension = \"png\";var comm_websocket_adapter = function(comm) {\n",
       "    // Create a \"websocket\"-like object which calls the given IPython comm\n",
       "    // object with the appropriate methods. Currently this is a non binary\n",
       "    // socket, so there is still some room for performance tuning.\n",
       "    var ws = {};\n",
       "\n",
       "    ws.close = function() {\n",
       "        comm.close()\n",
       "    };\n",
       "    ws.send = function(m) {\n",
       "        //console.log('sending', m);\n",
       "        comm.send(m);\n",
       "    };\n",
       "    // Register the callback with on_msg.\n",
       "    comm.on_msg(function(msg) {\n",
       "        //console.log('receiving', msg['content']['data'], msg);\n",
       "        // Pass the mpl event to the overriden (by mpl) onmessage function.\n",
       "        ws.onmessage(msg['content']['data'])\n",
       "    });\n",
       "    return ws;\n",
       "}\n",
       "\n",
       "mpl.mpl_figure_comm = function(comm, msg) {\n",
       "    // This is the function which gets called when the mpl process\n",
       "    // starts-up an IPython Comm through the \"matplotlib\" channel.\n",
       "\n",
       "    var id = msg.content.data.id;\n",
       "    // Get hold of the div created by the display call when the Comm\n",
       "    // socket was opened in Python.\n",
       "    var element = $(\"#\" + id);\n",
       "    var ws_proxy = comm_websocket_adapter(comm)\n",
       "\n",
       "    function ondownload(figure, format) {\n",
       "        window.open(figure.imageObj.src);\n",
       "    }\n",
       "\n",
       "    var fig = new mpl.figure(id, ws_proxy,\n",
       "                           ondownload,\n",
       "                           element.get(0));\n",
       "\n",
       "    // Call onopen now - mpl needs it, as it is assuming we've passed it a real\n",
       "    // web socket which is closed, not our websocket->open comm proxy.\n",
       "    ws_proxy.onopen();\n",
       "\n",
       "    fig.parent_element = element.get(0);\n",
       "    fig.cell_info = mpl.find_output_cell(\"<div id='\" + id + \"'></div>\");\n",
       "    if (!fig.cell_info) {\n",
       "        console.error(\"Failed to find cell for figure\", id, fig);\n",
       "        return;\n",
       "    }\n",
       "\n",
       "    var output_index = fig.cell_info[2]\n",
       "    var cell = fig.cell_info[0];\n",
       "\n",
       "};\n",
       "\n",
       "mpl.figure.prototype.handle_close = function(fig, msg) {\n",
       "    var width = fig.canvas.width/mpl.ratio\n",
       "    fig.root.unbind('remove')\n",
       "\n",
       "    // Update the output cell to use the data from the current canvas.\n",
       "    fig.push_to_output();\n",
       "    var dataURL = fig.canvas.toDataURL();\n",
       "    // Re-enable the keyboard manager in IPython - without this line, in FF,\n",
       "    // the notebook keyboard shortcuts fail.\n",
       "    IPython.keyboard_manager.enable()\n",
       "    $(fig.parent_element).html('<img src=\"' + dataURL + '\" width=\"' + width + '\">');\n",
       "    fig.close_ws(fig, msg);\n",
       "}\n",
       "\n",
       "mpl.figure.prototype.close_ws = function(fig, msg){\n",
       "    fig.send_message('closing', msg);\n",
       "    // fig.ws.close()\n",
       "}\n",
       "\n",
       "mpl.figure.prototype.push_to_output = function(remove_interactive) {\n",
       "    // Turn the data on the canvas into data in the output cell.\n",
       "    var width = this.canvas.width/mpl.ratio\n",
       "    var dataURL = this.canvas.toDataURL();\n",
       "    this.cell_info[1]['text/html'] = '<img src=\"' + dataURL + '\" width=\"' + width + '\">';\n",
       "}\n",
       "\n",
       "mpl.figure.prototype.updated_canvas_event = function() {\n",
       "    // Tell IPython that the notebook contents must change.\n",
       "    IPython.notebook.set_dirty(true);\n",
       "    this.send_message(\"ack\", {});\n",
       "    var fig = this;\n",
       "    // Wait a second, then push the new image to the DOM so\n",
       "    // that it is saved nicely (might be nice to debounce this).\n",
       "    setTimeout(function () { fig.push_to_output() }, 1000);\n",
       "}\n",
       "\n",
       "mpl.figure.prototype._init_toolbar = function() {\n",
       "    var fig = this;\n",
       "\n",
       "    var nav_element = $('<div/>')\n",
       "    nav_element.attr('style', 'width: 100%');\n",
       "    this.root.append(nav_element);\n",
       "\n",
       "    // Define a callback function for later on.\n",
       "    function toolbar_event(event) {\n",
       "        return fig.toolbar_button_onclick(event['data']);\n",
       "    }\n",
       "    function toolbar_mouse_event(event) {\n",
       "        return fig.toolbar_button_onmouseover(event['data']);\n",
       "    }\n",
       "\n",
       "    for(var toolbar_ind in mpl.toolbar_items){\n",
       "        var name = mpl.toolbar_items[toolbar_ind][0];\n",
       "        var tooltip = mpl.toolbar_items[toolbar_ind][1];\n",
       "        var image = mpl.toolbar_items[toolbar_ind][2];\n",
       "        var method_name = mpl.toolbar_items[toolbar_ind][3];\n",
       "\n",
       "        if (!name) { continue; };\n",
       "\n",
       "        var button = $('<button class=\"btn btn-default\" href=\"#\" title=\"' + name + '\"><i class=\"fa ' + image + ' fa-lg\"></i></button>');\n",
       "        button.click(method_name, toolbar_event);\n",
       "        button.mouseover(tooltip, toolbar_mouse_event);\n",
       "        nav_element.append(button);\n",
       "    }\n",
       "\n",
       "    // Add the status bar.\n",
       "    var status_bar = $('<span class=\"mpl-message\" style=\"text-align:right; float: right;\"/>');\n",
       "    nav_element.append(status_bar);\n",
       "    this.message = status_bar[0];\n",
       "\n",
       "    // Add the close button to the window.\n",
       "    var buttongrp = $('<div class=\"btn-group inline pull-right\"></div>');\n",
       "    var button = $('<button class=\"btn btn-mini btn-primary\" href=\"#\" title=\"Stop Interaction\"><i class=\"fa fa-power-off icon-remove icon-large\"></i></button>');\n",
       "    button.click(function (evt) { fig.handle_close(fig, {}); } );\n",
       "    button.mouseover('Stop Interaction', toolbar_mouse_event);\n",
       "    buttongrp.append(button);\n",
       "    var titlebar = this.root.find($('.ui-dialog-titlebar'));\n",
       "    titlebar.prepend(buttongrp);\n",
       "}\n",
       "\n",
       "mpl.figure.prototype._root_extra_style = function(el){\n",
       "    var fig = this\n",
       "    el.on(\"remove\", function(){\n",
       "\tfig.close_ws(fig, {});\n",
       "    });\n",
       "}\n",
       "\n",
       "mpl.figure.prototype._canvas_extra_style = function(el){\n",
       "    // this is important to make the div 'focusable\n",
       "    el.attr('tabindex', 0)\n",
       "    // reach out to IPython and tell the keyboard manager to turn it's self\n",
       "    // off when our div gets focus\n",
       "\n",
       "    // location in version 3\n",
       "    if (IPython.notebook.keyboard_manager) {\n",
       "        IPython.notebook.keyboard_manager.register_events(el);\n",
       "    }\n",
       "    else {\n",
       "        // location in version 2\n",
       "        IPython.keyboard_manager.register_events(el);\n",
       "    }\n",
       "\n",
       "}\n",
       "\n",
       "mpl.figure.prototype._key_event_extra = function(event, name) {\n",
       "    var manager = IPython.notebook.keyboard_manager;\n",
       "    if (!manager)\n",
       "        manager = IPython.keyboard_manager;\n",
       "\n",
       "    // Check for shift+enter\n",
       "    if (event.shiftKey && event.which == 13) {\n",
       "        this.canvas_div.blur();\n",
       "        event.shiftKey = false;\n",
       "        // Send a \"J\" for go to next cell\n",
       "        event.which = 74;\n",
       "        event.keyCode = 74;\n",
       "        manager.command_mode();\n",
       "        manager.handle_keydown(event);\n",
       "    }\n",
       "}\n",
       "\n",
       "mpl.figure.prototype.handle_save = function(fig, msg) {\n",
       "    fig.ondownload(fig, null);\n",
       "}\n",
       "\n",
       "\n",
       "mpl.find_output_cell = function(html_output) {\n",
       "    // Return the cell and output element which can be found *uniquely* in the notebook.\n",
       "    // Note - this is a bit hacky, but it is done because the \"notebook_saving.Notebook\"\n",
       "    // IPython event is triggered only after the cells have been serialised, which for\n",
       "    // our purposes (turning an active figure into a static one), is too late.\n",
       "    var cells = IPython.notebook.get_cells();\n",
       "    var ncells = cells.length;\n",
       "    for (var i=0; i<ncells; i++) {\n",
       "        var cell = cells[i];\n",
       "        if (cell.cell_type === 'code'){\n",
       "            for (var j=0; j<cell.output_area.outputs.length; j++) {\n",
       "                var data = cell.output_area.outputs[j];\n",
       "                if (data.data) {\n",
       "                    // IPython >= 3 moved mimebundle to data attribute of output\n",
       "                    data = data.data;\n",
       "                }\n",
       "                if (data['text/html'] == html_output) {\n",
       "                    return [cell, data, j];\n",
       "                }\n",
       "            }\n",
       "        }\n",
       "    }\n",
       "}\n",
       "\n",
       "// Register the function which deals with the matplotlib target/channel.\n",
       "// The kernel may be null if the page has been refreshed.\n",
       "if (IPython.notebook.kernel != null) {\n",
       "    IPython.notebook.kernel.comm_manager.register_target('matplotlib', mpl.mpl_figure_comm);\n",
       "}\n"
      ],
      "text/plain": [
       "<IPython.core.display.Javascript object>"
      ]
     },
     "metadata": {},
     "output_type": "display_data"
    },
    {
     "data": {
      "text/html": [
       "<img src=\"data:image/png;base64,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\" width=\"576\">"
      ],
      "text/plain": [
       "<IPython.core.display.HTML object>"
      ]
     },
     "metadata": {},
     "output_type": "display_data"
    }
   ],
   "source": [
    "## High-resolution plot outputs for Retina notebooks\n",
    "#%matplotlib nbagg\n",
    "#%matplotlib inline\n",
    "%config InlineBackend.figure_format = 'retina' \n",
    "#fig, ax  = plt.subplots(1, figsize=(13,5))\n",
    "## manupolate dataframe \n",
    "#df.resample('W').sum().plot \n",
    "\n",
    "# Set up a widget to manipulate RMSE by changing training/testing percentage of df\n",
    "perc_training = wg.FloatSlider(min=0.05,max=1,step=.01,description='% of training dataset:')\n",
    "n_ne = wg.IntSlider(min=2,max=10,step=1,description='n_neighbors parameter:')\n",
    "wg.interactive(knn_model, perc_fig=perc_training, n_neigh=n_ne)\n",
    "#knn_model(.8, 5)\n",
    "#display(perc_training, n_neigh)"
   ]
  },
  {
   "cell_type": "markdown",
   "metadata": {
    "extensions": {
     "jupyter_dashboards": {
      "version": 1,
      "views": {
       "grid_default": {
        "col": 0,
        "height": 9,
        "hidden": false,
        "row": 57,
        "width": 12
       },
       "report_default": {
        "hidden": false
       }
      }
     }
    },
    "slideshow": {
     "slide_type": "slide"
    }
   },
   "source": [
    "### Key take away from the univariate Knn model\n",
    " - The univariat Knn model applies one feature each step at a time to predict the \"target\" car price\n",
    " - By changing the widgets sliders, we can view the best univariate Knn model (i.e with lowest RMSE value compared to other univariate Knn models) as follows;\n",
    "- at 50-50 training/testing with default n_neighbor parameter (k = 5), the best univariate model  is with a \"height\" independent var, while setting training/testing with default n_neighbor parameter (k = 5) at 80-20, the best univariate model revealed with a \"compression\" independent var.\n",
    "- Increasing n_neighbor parameter doesn't countribute to the performance \n",
    "- Having build a slide widgets linked to the univariate Knn model gives another perspective of the best univarite Knn model with lowest RMSE testing procedures\n"
   ]
  },
  {
   "cell_type": "markdown",
   "metadata": {
    "extensions": {
     "jupyter_dashboards": {
      "version": 1,
      "views": {
       "grid_default": {
        "col": 0,
        "height": 4,
        "hidden": false,
        "row": 70,
        "width": 12
       },
       "report_default": {
        "hidden": false
       }
      }
     }
    },
    "slideshow": {
     "slide_type": "slide"
    }
   },
   "source": [
    "### Building multivariate k-nearest neighbors models: Predicting car prices   "
   ]
  },
  {
   "cell_type": "code",
   "execution_count": 31,
   "metadata": {
    "collapsed": true,
    "extensions": {
     "jupyter_dashboards": {
      "version": 1,
      "views": {
       "grid_default": {
        "hidden": true
       },
       "report_default": {
        "hidden": true
       }
      }
     }
    },
    "scrolled": true,
    "slideshow": {
     "slide_type": "slide"
    }
   },
   "outputs": [],
   "source": [
    "# Multivariate k-nearest neighbors \n",
    "\n",
    "## Building Multivariate k-nearest neighbors function\n",
    "def multi_knn_train_test(df,features_cols, target_col,prec_train, n_neighbor):\n",
    "    \"\"\"\n",
    "    Multivariate KNN model\n",
    "     - feature_nme: a col. that used as a feature input\n",
    "     - target_nme: a col. to predict \n",
    "     - df: dataframe input\n",
    "     - perc_fig: a '%' used to set up training/testing samples\n",
    "    \"\"\"\n",
    "    # Set up training /testing set\n",
    "    #features_cols = [col for idx, col in enumerate(list(df.columns)) if col != target_col]\n",
    "    perc_train_test = round(len(df[features_cols])* prec_train)\n",
    "    training_set = df.iloc[:perc_train_test]\n",
    "    testing_set = df.iloc[perc_train_test:]\n",
    "    \n",
    "    # Set up Multivariate k-nearest neighbors models\n",
    "    knn = KNeighborsRegressor(n_neighbors = n_neighbor, algorithm='brute')\n",
    "    fit = knn.fit(training_set[features_cols], training_set[target_col])\n",
    "    predicts = knn.predict(testing_set[features_cols])\n",
    "    RMSE = np.sqrt(mean_squared_error(testing_set[target_col], predicts))\n",
    "    #MAE = sum(np.abs(predicts - testing_set[target_nme])) / len(testing_set)\n",
    "    #RMSE_prop = RMSE/MAE\n",
    "    #results = {'RMSE':RMSE, 'MAE':MAE, 'RMSE proportion':RMSE_prop}\n",
    "    return RMSE\n",
    "\n",
    "## Link a float slide widget to multivariate Knn model\n",
    "def multi_knn_model(n_neigh, perc_fig, rand_n):\n",
    "    \"\"\"\n",
    "    apply knn func \"knn_train_test\" to find best multivariate model for \n",
    "    each random set of features\n",
    "    Inputs:\n",
    "    ________________\n",
    "       - n_neigh: int\n",
    "           n_neighbor parameter in Knn func.\n",
    "       - perc_fig: float\n",
    "           % of dataframe splitting up training and testing set\n",
    "       - rand_n: float\n",
    "           random 'n' number iterations tp run Knn model\n",
    "   Outputs:\n",
    "   _________________\n",
    "       - list of average RMSE\n",
    "    \"\"\"\n",
    "    ## create random, nonrepetitive pairs from a list of columns\n",
    "    #for iteration in range(rand_n):\n",
    "        #multi_col_rnd_selection = {idx:np.random.choice(cars_normalized_df.columns, idx, replace=False) for idx, col in enumerate(cars_normalized_df.columns)}\n",
    "        #multi_rnd_selection_excpt_0_1 = [item for item in multi_col_rnd_selection.values() if len(item) > 1]\n",
    "    ###################### New set up#######################   \n",
    "    result_1 = {}\n",
    "    features_cols_lst = [col for idx, col in enumerate(list(cars_normalized_df.columns)) if col != 'price']\n",
    "    for idx, col in enumerate(features_cols_lst):\n",
    "            x = np.random.choice(features_cols_lst, idx, replace=False)\n",
    "            result_1[idx] = x\n",
    "    res1 = [item for item in result_1.values() if len(item) > 1]\n",
    "            \n",
    "    ## Applying \"knn_train_test\" to find best multivariate Knn model based on random feature selction \n",
    "    ## Iterating thru each multi-col selection \n",
    "    RMSE_total = {}\n",
    "    for i in range(rand_n):\n",
    "        RMSE_RES = {}\n",
    "        for idx,pair in enumerate(res1):\n",
    "            RMSE_RES[len(pair)] = multi_knn_train_test(cars_normalized_df ,pair ,'price',perc_fig ,n_neigh)\n",
    "        RMSE_total[i] = RMSE_RES\n",
    "    lst_rmse = []    \n",
    "    for i_1 in range(len(RMSE_total.keys())):\n",
    "        x = list(list(RMSE_total.values())[i_1].values())\n",
    "        lst_rmse.append(x)\n",
    "    avrg_rmse = [sum(n)/len(n) for n in list(zip(*lst_rmse))]   \n",
    "    avrg_rmse_plt_df = pd.DataFrame(avrg_rmse, columns=['Avrg RMSE'] ,index=list(list(RMSE_total.values())[0]))\n",
    "    \n",
    "    ## Plotting RMSE of multivariate Knn model\n",
    "    #ax.clear()\n",
    "    #avrg_rmse_plt_df.plot(kind='bar', title='AVRG RMSE for N random iteration')\n",
    "\n",
    "    ## Plotting RMSE of multivariate Knn model\n",
    "    ax.clear()\n",
    "    ax.bar(avrg_rmse_plt_df.index,list(avrg_rmse_plt_df['Avrg RMSE']))\n",
    "    frm_color = 'white'\n",
    "    ax.tick_params(color=frm_color, labelcolor=frm_color)\n",
    "    for spine in ax.spines.values():\n",
    "        spine.set_edgecolor(frm_color)\n",
    "    plt.style.use('seaborn')\n",
    "    plt.title('Avrg RMSE for Knn model with n random Iteration', color='white')\n",
    "    plt.show()\n",
    "    "
   ]
  },
  {
   "cell_type": "code",
   "execution_count": 34,
   "metadata": {
    "cell_style": "center",
    "extensions": {
     "jupyter_dashboards": {
      "version": 1,
      "views": {
       "grid_default": {
        "col": 0,
        "height": 2,
        "hidden": false,
        "row": 41,
        "width": 12
       },
       "report_default": {
        "hidden": false
       }
      }
     }
    },
    "scrolled": true
   },
   "outputs": [
    {
     "data": {
      "application/javascript": [
       "/* Put everything inside the global mpl namespace */\n",
       "window.mpl = {};\n",
       "\n",
       "\n",
       "mpl.get_websocket_type = function() {\n",
       "    if (typeof(WebSocket) !== 'undefined') {\n",
       "        return WebSocket;\n",
       "    } else if (typeof(MozWebSocket) !== 'undefined') {\n",
       "        return MozWebSocket;\n",
       "    } else {\n",
       "        alert('Your browser does not have WebSocket support.' +\n",
       "              'Please try Chrome, Safari or Firefox ≥ 6. ' +\n",
       "              'Firefox 4 and 5 are also supported but you ' +\n",
       "              'have to enable WebSockets in about:config.');\n",
       "    };\n",
       "}\n",
       "\n",
       "mpl.figure = function(figure_id, websocket, ondownload, parent_element) {\n",
       "    this.id = figure_id;\n",
       "\n",
       "    this.ws = websocket;\n",
       "\n",
       "    this.supports_binary = (this.ws.binaryType != undefined);\n",
       "\n",
       "    if (!this.supports_binary) {\n",
       "        var warnings = document.getElementById(\"mpl-warnings\");\n",
       "        if (warnings) {\n",
       "            warnings.style.display = 'block';\n",
       "            warnings.textContent = (\n",
       "                \"This browser does not support binary websocket messages. \" +\n",
       "                    \"Performance may be slow.\");\n",
       "        }\n",
       "    }\n",
       "\n",
       "    this.imageObj = new Image();\n",
       "\n",
       "    this.context = undefined;\n",
       "    this.message = undefined;\n",
       "    this.canvas = undefined;\n",
       "    this.rubberband_canvas = undefined;\n",
       "    this.rubberband_context = undefined;\n",
       "    this.format_dropdown = undefined;\n",
       "\n",
       "    this.image_mode = 'full';\n",
       "\n",
       "    this.root = $('<div/>');\n",
       "    this._root_extra_style(this.root)\n",
       "    this.root.attr('style', 'display: inline-block');\n",
       "\n",
       "    $(parent_element).append(this.root);\n",
       "\n",
       "    this._init_header(this);\n",
       "    this._init_canvas(this);\n",
       "    this._init_toolbar(this);\n",
       "\n",
       "    var fig = this;\n",
       "\n",
       "    this.waiting = false;\n",
       "\n",
       "    this.ws.onopen =  function () {\n",
       "            fig.send_message(\"supports_binary\", {value: fig.supports_binary});\n",
       "            fig.send_message(\"send_image_mode\", {});\n",
       "            if (mpl.ratio != 1) {\n",
       "                fig.send_message(\"set_dpi_ratio\", {'dpi_ratio': mpl.ratio});\n",
       "            }\n",
       "            fig.send_message(\"refresh\", {});\n",
       "        }\n",
       "\n",
       "    this.imageObj.onload = function() {\n",
       "            if (fig.image_mode == 'full') {\n",
       "                // Full images could contain transparency (where diff images\n",
       "                // almost always do), so we need to clear the canvas so that\n",
       "                // there is no ghosting.\n",
       "                fig.context.clearRect(0, 0, fig.canvas.width, fig.canvas.height);\n",
       "            }\n",
       "            fig.context.drawImage(fig.imageObj, 0, 0);\n",
       "        };\n",
       "\n",
       "    this.imageObj.onunload = function() {\n",
       "        fig.ws.close();\n",
       "    }\n",
       "\n",
       "    this.ws.onmessage = this._make_on_message_function(this);\n",
       "\n",
       "    this.ondownload = ondownload;\n",
       "}\n",
       "\n",
       "mpl.figure.prototype._init_header = function() {\n",
       "    var titlebar = $(\n",
       "        '<div class=\"ui-dialog-titlebar ui-widget-header ui-corner-all ' +\n",
       "        'ui-helper-clearfix\"/>');\n",
       "    var titletext = $(\n",
       "        '<div class=\"ui-dialog-title\" style=\"width: 100%; ' +\n",
       "        'text-align: center; padding: 3px;\"/>');\n",
       "    titlebar.append(titletext)\n",
       "    this.root.append(titlebar);\n",
       "    this.header = titletext[0];\n",
       "}\n",
       "\n",
       "\n",
       "\n",
       "mpl.figure.prototype._canvas_extra_style = function(canvas_div) {\n",
       "\n",
       "}\n",
       "\n",
       "\n",
       "mpl.figure.prototype._root_extra_style = function(canvas_div) {\n",
       "\n",
       "}\n",
       "\n",
       "mpl.figure.prototype._init_canvas = function() {\n",
       "    var fig = this;\n",
       "\n",
       "    var canvas_div = $('<div/>');\n",
       "\n",
       "    canvas_div.attr('style', 'position: relative; clear: both; outline: 0');\n",
       "\n",
       "    function canvas_keyboard_event(event) {\n",
       "        return fig.key_event(event, event['data']);\n",
       "    }\n",
       "\n",
       "    canvas_div.keydown('key_press', canvas_keyboard_event);\n",
       "    canvas_div.keyup('key_release', canvas_keyboard_event);\n",
       "    this.canvas_div = canvas_div\n",
       "    this._canvas_extra_style(canvas_div)\n",
       "    this.root.append(canvas_div);\n",
       "\n",
       "    var canvas = $('<canvas/>');\n",
       "    canvas.addClass('mpl-canvas');\n",
       "    canvas.attr('style', \"left: 0; top: 0; z-index: 0; outline: 0\")\n",
       "\n",
       "    this.canvas = canvas[0];\n",
       "    this.context = canvas[0].getContext(\"2d\");\n",
       "\n",
       "    var backingStore = this.context.backingStorePixelRatio ||\n",
       "\tthis.context.webkitBackingStorePixelRatio ||\n",
       "\tthis.context.mozBackingStorePixelRatio ||\n",
       "\tthis.context.msBackingStorePixelRatio ||\n",
       "\tthis.context.oBackingStorePixelRatio ||\n",
       "\tthis.context.backingStorePixelRatio || 1;\n",
       "\n",
       "    mpl.ratio = (window.devicePixelRatio || 1) / backingStore;\n",
       "\n",
       "    var rubberband = $('<canvas/>');\n",
       "    rubberband.attr('style', \"position: absolute; left: 0; top: 0; z-index: 1;\")\n",
       "\n",
       "    var pass_mouse_events = true;\n",
       "\n",
       "    canvas_div.resizable({\n",
       "        start: function(event, ui) {\n",
       "            pass_mouse_events = false;\n",
       "        },\n",
       "        resize: function(event, ui) {\n",
       "            fig.request_resize(ui.size.width, ui.size.height);\n",
       "        },\n",
       "        stop: function(event, ui) {\n",
       "            pass_mouse_events = true;\n",
       "            fig.request_resize(ui.size.width, ui.size.height);\n",
       "        },\n",
       "    });\n",
       "\n",
       "    function mouse_event_fn(event) {\n",
       "        if (pass_mouse_events)\n",
       "            return fig.mouse_event(event, event['data']);\n",
       "    }\n",
       "\n",
       "    rubberband.mousedown('button_press', mouse_event_fn);\n",
       "    rubberband.mouseup('button_release', mouse_event_fn);\n",
       "    // Throttle sequential mouse events to 1 every 20ms.\n",
       "    rubberband.mousemove('motion_notify', mouse_event_fn);\n",
       "\n",
       "    rubberband.mouseenter('figure_enter', mouse_event_fn);\n",
       "    rubberband.mouseleave('figure_leave', mouse_event_fn);\n",
       "\n",
       "    canvas_div.on(\"wheel\", function (event) {\n",
       "        event = event.originalEvent;\n",
       "        event['data'] = 'scroll'\n",
       "        if (event.deltaY < 0) {\n",
       "            event.step = 1;\n",
       "        } else {\n",
       "            event.step = -1;\n",
       "        }\n",
       "        mouse_event_fn(event);\n",
       "    });\n",
       "\n",
       "    canvas_div.append(canvas);\n",
       "    canvas_div.append(rubberband);\n",
       "\n",
       "    this.rubberband = rubberband;\n",
       "    this.rubberband_canvas = rubberband[0];\n",
       "    this.rubberband_context = rubberband[0].getContext(\"2d\");\n",
       "    this.rubberband_context.strokeStyle = \"#000000\";\n",
       "\n",
       "    this._resize_canvas = function(width, height) {\n",
       "        // Keep the size of the canvas, canvas container, and rubber band\n",
       "        // canvas in synch.\n",
       "        canvas_div.css('width', width)\n",
       "        canvas_div.css('height', height)\n",
       "\n",
       "        canvas.attr('width', width * mpl.ratio);\n",
       "        canvas.attr('height', height * mpl.ratio);\n",
       "        canvas.attr('style', 'width: ' + width + 'px; height: ' + height + 'px;');\n",
       "\n",
       "        rubberband.attr('width', width);\n",
       "        rubberband.attr('height', height);\n",
       "    }\n",
       "\n",
       "    // Set the figure to an initial 600x600px, this will subsequently be updated\n",
       "    // upon first draw.\n",
       "    this._resize_canvas(600, 600);\n",
       "\n",
       "    // Disable right mouse context menu.\n",
       "    $(this.rubberband_canvas).bind(\"contextmenu\",function(e){\n",
       "        return false;\n",
       "    });\n",
       "\n",
       "    function set_focus () {\n",
       "        canvas.focus();\n",
       "        canvas_div.focus();\n",
       "    }\n",
       "\n",
       "    window.setTimeout(set_focus, 100);\n",
       "}\n",
       "\n",
       "mpl.figure.prototype._init_toolbar = function() {\n",
       "    var fig = this;\n",
       "\n",
       "    var nav_element = $('<div/>')\n",
       "    nav_element.attr('style', 'width: 100%');\n",
       "    this.root.append(nav_element);\n",
       "\n",
       "    // Define a callback function for later on.\n",
       "    function toolbar_event(event) {\n",
       "        return fig.toolbar_button_onclick(event['data']);\n",
       "    }\n",
       "    function toolbar_mouse_event(event) {\n",
       "        return fig.toolbar_button_onmouseover(event['data']);\n",
       "    }\n",
       "\n",
       "    for(var toolbar_ind in mpl.toolbar_items) {\n",
       "        var name = mpl.toolbar_items[toolbar_ind][0];\n",
       "        var tooltip = mpl.toolbar_items[toolbar_ind][1];\n",
       "        var image = mpl.toolbar_items[toolbar_ind][2];\n",
       "        var method_name = mpl.toolbar_items[toolbar_ind][3];\n",
       "\n",
       "        if (!name) {\n",
       "            // put a spacer in here.\n",
       "            continue;\n",
       "        }\n",
       "        var button = $('<button/>');\n",
       "        button.addClass('ui-button ui-widget ui-state-default ui-corner-all ' +\n",
       "                        'ui-button-icon-only');\n",
       "        button.attr('role', 'button');\n",
       "        button.attr('aria-disabled', 'false');\n",
       "        button.click(method_name, toolbar_event);\n",
       "        button.mouseover(tooltip, toolbar_mouse_event);\n",
       "\n",
       "        var icon_img = $('<span/>');\n",
       "        icon_img.addClass('ui-button-icon-primary ui-icon');\n",
       "        icon_img.addClass(image);\n",
       "        icon_img.addClass('ui-corner-all');\n",
       "\n",
       "        var tooltip_span = $('<span/>');\n",
       "        tooltip_span.addClass('ui-button-text');\n",
       "        tooltip_span.html(tooltip);\n",
       "\n",
       "        button.append(icon_img);\n",
       "        button.append(tooltip_span);\n",
       "\n",
       "        nav_element.append(button);\n",
       "    }\n",
       "\n",
       "    var fmt_picker_span = $('<span/>');\n",
       "\n",
       "    var fmt_picker = $('<select/>');\n",
       "    fmt_picker.addClass('mpl-toolbar-option ui-widget ui-widget-content');\n",
       "    fmt_picker_span.append(fmt_picker);\n",
       "    nav_element.append(fmt_picker_span);\n",
       "    this.format_dropdown = fmt_picker[0];\n",
       "\n",
       "    for (var ind in mpl.extensions) {\n",
       "        var fmt = mpl.extensions[ind];\n",
       "        var option = $(\n",
       "            '<option/>', {selected: fmt === mpl.default_extension}).html(fmt);\n",
       "        fmt_picker.append(option)\n",
       "    }\n",
       "\n",
       "    // Add hover states to the ui-buttons\n",
       "    $( \".ui-button\" ).hover(\n",
       "        function() { $(this).addClass(\"ui-state-hover\");},\n",
       "        function() { $(this).removeClass(\"ui-state-hover\");}\n",
       "    );\n",
       "\n",
       "    var status_bar = $('<span class=\"mpl-message\"/>');\n",
       "    nav_element.append(status_bar);\n",
       "    this.message = status_bar[0];\n",
       "}\n",
       "\n",
       "mpl.figure.prototype.request_resize = function(x_pixels, y_pixels) {\n",
       "    // Request matplotlib to resize the figure. Matplotlib will then trigger a resize in the client,\n",
       "    // which will in turn request a refresh of the image.\n",
       "    this.send_message('resize', {'width': x_pixels, 'height': y_pixels});\n",
       "}\n",
       "\n",
       "mpl.figure.prototype.send_message = function(type, properties) {\n",
       "    properties['type'] = type;\n",
       "    properties['figure_id'] = this.id;\n",
       "    this.ws.send(JSON.stringify(properties));\n",
       "}\n",
       "\n",
       "mpl.figure.prototype.send_draw_message = function() {\n",
       "    if (!this.waiting) {\n",
       "        this.waiting = true;\n",
       "        this.ws.send(JSON.stringify({type: \"draw\", figure_id: this.id}));\n",
       "    }\n",
       "}\n",
       "\n",
       "\n",
       "mpl.figure.prototype.handle_save = function(fig, msg) {\n",
       "    var format_dropdown = fig.format_dropdown;\n",
       "    var format = format_dropdown.options[format_dropdown.selectedIndex].value;\n",
       "    fig.ondownload(fig, format);\n",
       "}\n",
       "\n",
       "\n",
       "mpl.figure.prototype.handle_resize = function(fig, msg) {\n",
       "    var size = msg['size'];\n",
       "    if (size[0] != fig.canvas.width || size[1] != fig.canvas.height) {\n",
       "        fig._resize_canvas(size[0], size[1]);\n",
       "        fig.send_message(\"refresh\", {});\n",
       "    };\n",
       "}\n",
       "\n",
       "mpl.figure.prototype.handle_rubberband = function(fig, msg) {\n",
       "    var x0 = msg['x0'] / mpl.ratio;\n",
       "    var y0 = (fig.canvas.height - msg['y0']) / mpl.ratio;\n",
       "    var x1 = msg['x1'] / mpl.ratio;\n",
       "    var y1 = (fig.canvas.height - msg['y1']) / mpl.ratio;\n",
       "    x0 = Math.floor(x0) + 0.5;\n",
       "    y0 = Math.floor(y0) + 0.5;\n",
       "    x1 = Math.floor(x1) + 0.5;\n",
       "    y1 = Math.floor(y1) + 0.5;\n",
       "    var min_x = Math.min(x0, x1);\n",
       "    var min_y = Math.min(y0, y1);\n",
       "    var width = Math.abs(x1 - x0);\n",
       "    var height = Math.abs(y1 - y0);\n",
       "\n",
       "    fig.rubberband_context.clearRect(\n",
       "        0, 0, fig.canvas.width, fig.canvas.height);\n",
       "\n",
       "    fig.rubberband_context.strokeRect(min_x, min_y, width, height);\n",
       "}\n",
       "\n",
       "mpl.figure.prototype.handle_figure_label = function(fig, msg) {\n",
       "    // Updates the figure title.\n",
       "    fig.header.textContent = msg['label'];\n",
       "}\n",
       "\n",
       "mpl.figure.prototype.handle_cursor = function(fig, msg) {\n",
       "    var cursor = msg['cursor'];\n",
       "    switch(cursor)\n",
       "    {\n",
       "    case 0:\n",
       "        cursor = 'pointer';\n",
       "        break;\n",
       "    case 1:\n",
       "        cursor = 'default';\n",
       "        break;\n",
       "    case 2:\n",
       "        cursor = 'crosshair';\n",
       "        break;\n",
       "    case 3:\n",
       "        cursor = 'move';\n",
       "        break;\n",
       "    }\n",
       "    fig.rubberband_canvas.style.cursor = cursor;\n",
       "}\n",
       "\n",
       "mpl.figure.prototype.handle_message = function(fig, msg) {\n",
       "    fig.message.textContent = msg['message'];\n",
       "}\n",
       "\n",
       "mpl.figure.prototype.handle_draw = function(fig, msg) {\n",
       "    // Request the server to send over a new figure.\n",
       "    fig.send_draw_message();\n",
       "}\n",
       "\n",
       "mpl.figure.prototype.handle_image_mode = function(fig, msg) {\n",
       "    fig.image_mode = msg['mode'];\n",
       "}\n",
       "\n",
       "mpl.figure.prototype.updated_canvas_event = function() {\n",
       "    // Called whenever the canvas gets updated.\n",
       "    this.send_message(\"ack\", {});\n",
       "}\n",
       "\n",
       "// A function to construct a web socket function for onmessage handling.\n",
       "// Called in the figure constructor.\n",
       "mpl.figure.prototype._make_on_message_function = function(fig) {\n",
       "    return function socket_on_message(evt) {\n",
       "        if (evt.data instanceof Blob) {\n",
       "            /* FIXME: We get \"Resource interpreted as Image but\n",
       "             * transferred with MIME type text/plain:\" errors on\n",
       "             * Chrome.  But how to set the MIME type?  It doesn't seem\n",
       "             * to be part of the websocket stream */\n",
       "            evt.data.type = \"image/png\";\n",
       "\n",
       "            /* Free the memory for the previous frames */\n",
       "            if (fig.imageObj.src) {\n",
       "                (window.URL || window.webkitURL).revokeObjectURL(\n",
       "                    fig.imageObj.src);\n",
       "            }\n",
       "\n",
       "            fig.imageObj.src = (window.URL || window.webkitURL).createObjectURL(\n",
       "                evt.data);\n",
       "            fig.updated_canvas_event();\n",
       "            fig.waiting = false;\n",
       "            return;\n",
       "        }\n",
       "        else if (typeof evt.data === 'string' && evt.data.slice(0, 21) == \"data:image/png;base64\") {\n",
       "            fig.imageObj.src = evt.data;\n",
       "            fig.updated_canvas_event();\n",
       "            fig.waiting = false;\n",
       "            return;\n",
       "        }\n",
       "\n",
       "        var msg = JSON.parse(evt.data);\n",
       "        var msg_type = msg['type'];\n",
       "\n",
       "        // Call the  \"handle_{type}\" callback, which takes\n",
       "        // the figure and JSON message as its only arguments.\n",
       "        try {\n",
       "            var callback = fig[\"handle_\" + msg_type];\n",
       "        } catch (e) {\n",
       "            console.log(\"No handler for the '\" + msg_type + \"' message type: \", msg);\n",
       "            return;\n",
       "        }\n",
       "\n",
       "        if (callback) {\n",
       "            try {\n",
       "                // console.log(\"Handling '\" + msg_type + \"' message: \", msg);\n",
       "                callback(fig, msg);\n",
       "            } catch (e) {\n",
       "                console.log(\"Exception inside the 'handler_\" + msg_type + \"' callback:\", e, e.stack, msg);\n",
       "            }\n",
       "        }\n",
       "    };\n",
       "}\n",
       "\n",
       "// from http://stackoverflow.com/questions/1114465/getting-mouse-location-in-canvas\n",
       "mpl.findpos = function(e) {\n",
       "    //this section is from http://www.quirksmode.org/js/events_properties.html\n",
       "    var targ;\n",
       "    if (!e)\n",
       "        e = window.event;\n",
       "    if (e.target)\n",
       "        targ = e.target;\n",
       "    else if (e.srcElement)\n",
       "        targ = e.srcElement;\n",
       "    if (targ.nodeType == 3) // defeat Safari bug\n",
       "        targ = targ.parentNode;\n",
       "\n",
       "    // jQuery normalizes the pageX and pageY\n",
       "    // pageX,Y are the mouse positions relative to the document\n",
       "    // offset() returns the position of the element relative to the document\n",
       "    var x = e.pageX - $(targ).offset().left;\n",
       "    var y = e.pageY - $(targ).offset().top;\n",
       "\n",
       "    return {\"x\": x, \"y\": y};\n",
       "};\n",
       "\n",
       "/*\n",
       " * return a copy of an object with only non-object keys\n",
       " * we need this to avoid circular references\n",
       " * http://stackoverflow.com/a/24161582/3208463\n",
       " */\n",
       "function simpleKeys (original) {\n",
       "  return Object.keys(original).reduce(function (obj, key) {\n",
       "    if (typeof original[key] !== 'object')\n",
       "        obj[key] = original[key]\n",
       "    return obj;\n",
       "  }, {});\n",
       "}\n",
       "\n",
       "mpl.figure.prototype.mouse_event = function(event, name) {\n",
       "    var canvas_pos = mpl.findpos(event)\n",
       "\n",
       "    if (name === 'button_press')\n",
       "    {\n",
       "        this.canvas.focus();\n",
       "        this.canvas_div.focus();\n",
       "    }\n",
       "\n",
       "    var x = canvas_pos.x * mpl.ratio;\n",
       "    var y = canvas_pos.y * mpl.ratio;\n",
       "\n",
       "    this.send_message(name, {x: x, y: y, button: event.button,\n",
       "                             step: event.step,\n",
       "                             guiEvent: simpleKeys(event)});\n",
       "\n",
       "    /* This prevents the web browser from automatically changing to\n",
       "     * the text insertion cursor when the button is pressed.  We want\n",
       "     * to control all of the cursor setting manually through the\n",
       "     * 'cursor' event from matplotlib */\n",
       "    event.preventDefault();\n",
       "    return false;\n",
       "}\n",
       "\n",
       "mpl.figure.prototype._key_event_extra = function(event, name) {\n",
       "    // Handle any extra behaviour associated with a key event\n",
       "}\n",
       "\n",
       "mpl.figure.prototype.key_event = function(event, name) {\n",
       "\n",
       "    // Prevent repeat events\n",
       "    if (name == 'key_press')\n",
       "    {\n",
       "        if (event.which === this._key)\n",
       "            return;\n",
       "        else\n",
       "            this._key = event.which;\n",
       "    }\n",
       "    if (name == 'key_release')\n",
       "        this._key = null;\n",
       "\n",
       "    var value = '';\n",
       "    if (event.ctrlKey && event.which != 17)\n",
       "        value += \"ctrl+\";\n",
       "    if (event.altKey && event.which != 18)\n",
       "        value += \"alt+\";\n",
       "    if (event.shiftKey && event.which != 16)\n",
       "        value += \"shift+\";\n",
       "\n",
       "    value += 'k';\n",
       "    value += event.which.toString();\n",
       "\n",
       "    this._key_event_extra(event, name);\n",
       "\n",
       "    this.send_message(name, {key: value,\n",
       "                             guiEvent: simpleKeys(event)});\n",
       "    return false;\n",
       "}\n",
       "\n",
       "mpl.figure.prototype.toolbar_button_onclick = function(name) {\n",
       "    if (name == 'download') {\n",
       "        this.handle_save(this, null);\n",
       "    } else {\n",
       "        this.send_message(\"toolbar_button\", {name: name});\n",
       "    }\n",
       "};\n",
       "\n",
       "mpl.figure.prototype.toolbar_button_onmouseover = function(tooltip) {\n",
       "    this.message.textContent = tooltip;\n",
       "};\n",
       "mpl.toolbar_items = [[\"Home\", \"Reset original view\", \"fa fa-home icon-home\", \"home\"], [\"Back\", \"Back to  previous view\", \"fa fa-arrow-left icon-arrow-left\", \"back\"], [\"Forward\", \"Forward to next view\", \"fa fa-arrow-right icon-arrow-right\", \"forward\"], [\"\", \"\", \"\", \"\"], [\"Pan\", \"Pan axes with left mouse, zoom with right\", \"fa fa-arrows icon-move\", \"pan\"], [\"Zoom\", \"Zoom to rectangle\", \"fa fa-square-o icon-check-empty\", \"zoom\"], [\"\", \"\", \"\", \"\"], [\"Download\", \"Download plot\", \"fa fa-floppy-o icon-save\", \"download\"]];\n",
       "\n",
       "mpl.extensions = [\"eps\", \"jpeg\", \"pdf\", \"png\", \"ps\", \"raw\", \"svg\", \"tif\"];\n",
       "\n",
       "mpl.default_extension = \"png\";var comm_websocket_adapter = function(comm) {\n",
       "    // Create a \"websocket\"-like object which calls the given IPython comm\n",
       "    // object with the appropriate methods. Currently this is a non binary\n",
       "    // socket, so there is still some room for performance tuning.\n",
       "    var ws = {};\n",
       "\n",
       "    ws.close = function() {\n",
       "        comm.close()\n",
       "    };\n",
       "    ws.send = function(m) {\n",
       "        //console.log('sending', m);\n",
       "        comm.send(m);\n",
       "    };\n",
       "    // Register the callback with on_msg.\n",
       "    comm.on_msg(function(msg) {\n",
       "        //console.log('receiving', msg['content']['data'], msg);\n",
       "        // Pass the mpl event to the overriden (by mpl) onmessage function.\n",
       "        ws.onmessage(msg['content']['data'])\n",
       "    });\n",
       "    return ws;\n",
       "}\n",
       "\n",
       "mpl.mpl_figure_comm = function(comm, msg) {\n",
       "    // This is the function which gets called when the mpl process\n",
       "    // starts-up an IPython Comm through the \"matplotlib\" channel.\n",
       "\n",
       "    var id = msg.content.data.id;\n",
       "    // Get hold of the div created by the display call when the Comm\n",
       "    // socket was opened in Python.\n",
       "    var element = $(\"#\" + id);\n",
       "    var ws_proxy = comm_websocket_adapter(comm)\n",
       "\n",
       "    function ondownload(figure, format) {\n",
       "        window.open(figure.imageObj.src);\n",
       "    }\n",
       "\n",
       "    var fig = new mpl.figure(id, ws_proxy,\n",
       "                           ondownload,\n",
       "                           element.get(0));\n",
       "\n",
       "    // Call onopen now - mpl needs it, as it is assuming we've passed it a real\n",
       "    // web socket which is closed, not our websocket->open comm proxy.\n",
       "    ws_proxy.onopen();\n",
       "\n",
       "    fig.parent_element = element.get(0);\n",
       "    fig.cell_info = mpl.find_output_cell(\"<div id='\" + id + \"'></div>\");\n",
       "    if (!fig.cell_info) {\n",
       "        console.error(\"Failed to find cell for figure\", id, fig);\n",
       "        return;\n",
       "    }\n",
       "\n",
       "    var output_index = fig.cell_info[2]\n",
       "    var cell = fig.cell_info[0];\n",
       "\n",
       "};\n",
       "\n",
       "mpl.figure.prototype.handle_close = function(fig, msg) {\n",
       "    var width = fig.canvas.width/mpl.ratio\n",
       "    fig.root.unbind('remove')\n",
       "\n",
       "    // Update the output cell to use the data from the current canvas.\n",
       "    fig.push_to_output();\n",
       "    var dataURL = fig.canvas.toDataURL();\n",
       "    // Re-enable the keyboard manager in IPython - without this line, in FF,\n",
       "    // the notebook keyboard shortcuts fail.\n",
       "    IPython.keyboard_manager.enable()\n",
       "    $(fig.parent_element).html('<img src=\"' + dataURL + '\" width=\"' + width + '\">');\n",
       "    fig.close_ws(fig, msg);\n",
       "}\n",
       "\n",
       "mpl.figure.prototype.close_ws = function(fig, msg){\n",
       "    fig.send_message('closing', msg);\n",
       "    // fig.ws.close()\n",
       "}\n",
       "\n",
       "mpl.figure.prototype.push_to_output = function(remove_interactive) {\n",
       "    // Turn the data on the canvas into data in the output cell.\n",
       "    var width = this.canvas.width/mpl.ratio\n",
       "    var dataURL = this.canvas.toDataURL();\n",
       "    this.cell_info[1]['text/html'] = '<img src=\"' + dataURL + '\" width=\"' + width + '\">';\n",
       "}\n",
       "\n",
       "mpl.figure.prototype.updated_canvas_event = function() {\n",
       "    // Tell IPython that the notebook contents must change.\n",
       "    IPython.notebook.set_dirty(true);\n",
       "    this.send_message(\"ack\", {});\n",
       "    var fig = this;\n",
       "    // Wait a second, then push the new image to the DOM so\n",
       "    // that it is saved nicely (might be nice to debounce this).\n",
       "    setTimeout(function () { fig.push_to_output() }, 1000);\n",
       "}\n",
       "\n",
       "mpl.figure.prototype._init_toolbar = function() {\n",
       "    var fig = this;\n",
       "\n",
       "    var nav_element = $('<div/>')\n",
       "    nav_element.attr('style', 'width: 100%');\n",
       "    this.root.append(nav_element);\n",
       "\n",
       "    // Define a callback function for later on.\n",
       "    function toolbar_event(event) {\n",
       "        return fig.toolbar_button_onclick(event['data']);\n",
       "    }\n",
       "    function toolbar_mouse_event(event) {\n",
       "        return fig.toolbar_button_onmouseover(event['data']);\n",
       "    }\n",
       "\n",
       "    for(var toolbar_ind in mpl.toolbar_items){\n",
       "        var name = mpl.toolbar_items[toolbar_ind][0];\n",
       "        var tooltip = mpl.toolbar_items[toolbar_ind][1];\n",
       "        var image = mpl.toolbar_items[toolbar_ind][2];\n",
       "        var method_name = mpl.toolbar_items[toolbar_ind][3];\n",
       "\n",
       "        if (!name) { continue; };\n",
       "\n",
       "        var button = $('<button class=\"btn btn-default\" href=\"#\" title=\"' + name + '\"><i class=\"fa ' + image + ' fa-lg\"></i></button>');\n",
       "        button.click(method_name, toolbar_event);\n",
       "        button.mouseover(tooltip, toolbar_mouse_event);\n",
       "        nav_element.append(button);\n",
       "    }\n",
       "\n",
       "    // Add the status bar.\n",
       "    var status_bar = $('<span class=\"mpl-message\" style=\"text-align:right; float: right;\"/>');\n",
       "    nav_element.append(status_bar);\n",
       "    this.message = status_bar[0];\n",
       "\n",
       "    // Add the close button to the window.\n",
       "    var buttongrp = $('<div class=\"btn-group inline pull-right\"></div>');\n",
       "    var button = $('<button class=\"btn btn-mini btn-primary\" href=\"#\" title=\"Stop Interaction\"><i class=\"fa fa-power-off icon-remove icon-large\"></i></button>');\n",
       "    button.click(function (evt) { fig.handle_close(fig, {}); } );\n",
       "    button.mouseover('Stop Interaction', toolbar_mouse_event);\n",
       "    buttongrp.append(button);\n",
       "    var titlebar = this.root.find($('.ui-dialog-titlebar'));\n",
       "    titlebar.prepend(buttongrp);\n",
       "}\n",
       "\n",
       "mpl.figure.prototype._root_extra_style = function(el){\n",
       "    var fig = this\n",
       "    el.on(\"remove\", function(){\n",
       "\tfig.close_ws(fig, {});\n",
       "    });\n",
       "}\n",
       "\n",
       "mpl.figure.prototype._canvas_extra_style = function(el){\n",
       "    // this is important to make the div 'focusable\n",
       "    el.attr('tabindex', 0)\n",
       "    // reach out to IPython and tell the keyboard manager to turn it's self\n",
       "    // off when our div gets focus\n",
       "\n",
       "    // location in version 3\n",
       "    if (IPython.notebook.keyboard_manager) {\n",
       "        IPython.notebook.keyboard_manager.register_events(el);\n",
       "    }\n",
       "    else {\n",
       "        // location in version 2\n",
       "        IPython.keyboard_manager.register_events(el);\n",
       "    }\n",
       "\n",
       "}\n",
       "\n",
       "mpl.figure.prototype._key_event_extra = function(event, name) {\n",
       "    var manager = IPython.notebook.keyboard_manager;\n",
       "    if (!manager)\n",
       "        manager = IPython.keyboard_manager;\n",
       "\n",
       "    // Check for shift+enter\n",
       "    if (event.shiftKey && event.which == 13) {\n",
       "        this.canvas_div.blur();\n",
       "        event.shiftKey = false;\n",
       "        // Send a \"J\" for go to next cell\n",
       "        event.which = 74;\n",
       "        event.keyCode = 74;\n",
       "        manager.command_mode();\n",
       "        manager.handle_keydown(event);\n",
       "    }\n",
       "}\n",
       "\n",
       "mpl.figure.prototype.handle_save = function(fig, msg) {\n",
       "    fig.ondownload(fig, null);\n",
       "}\n",
       "\n",
       "\n",
       "mpl.find_output_cell = function(html_output) {\n",
       "    // Return the cell and output element which can be found *uniquely* in the notebook.\n",
       "    // Note - this is a bit hacky, but it is done because the \"notebook_saving.Notebook\"\n",
       "    // IPython event is triggered only after the cells have been serialised, which for\n",
       "    // our purposes (turning an active figure into a static one), is too late.\n",
       "    var cells = IPython.notebook.get_cells();\n",
       "    var ncells = cells.length;\n",
       "    for (var i=0; i<ncells; i++) {\n",
       "        var cell = cells[i];\n",
       "        if (cell.cell_type === 'code'){\n",
       "            for (var j=0; j<cell.output_area.outputs.length; j++) {\n",
       "                var data = cell.output_area.outputs[j];\n",
       "                if (data.data) {\n",
       "                    // IPython >= 3 moved mimebundle to data attribute of output\n",
       "                    data = data.data;\n",
       "                }\n",
       "                if (data['text/html'] == html_output) {\n",
       "                    return [cell, data, j];\n",
       "                }\n",
       "            }\n",
       "        }\n",
       "    }\n",
       "}\n",
       "\n",
       "// Register the function which deals with the matplotlib target/channel.\n",
       "// The kernel may be null if the page has been refreshed.\n",
       "if (IPython.notebook.kernel != null) {\n",
       "    IPython.notebook.kernel.comm_manager.register_target('matplotlib', mpl.mpl_figure_comm);\n",
       "}\n"
      ],
      "text/plain": [
       "<IPython.core.display.Javascript object>"
      ]
     },
     "metadata": {},
     "output_type": "display_data"
    },
    {
     "data": {
      "text/html": [
       "<img src=\"data:image/png;base64,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\" width=\"1080\">"
      ],
      "text/plain": [
       "<IPython.core.display.HTML object>"
      ]
     },
     "metadata": {},
     "output_type": "display_data"
    },
    {
     "data": {
      "application/vnd.jupyter.widget-view+json": {
       "model_id": "2179879321ec45bc9faaf02038867118",
       "version_major": 2,
       "version_minor": 0
      },
      "text/plain": [
       "A Jupyter Widget"
      ]
     },
     "metadata": {},
     "output_type": "display_data"
    }
   ],
   "source": [
    "## Applying multivariate k-nearest neighbors function to cars datatframe and find the best fit\n",
    "# Set up a widget to manipulate RMSE by changing training/testing percentage and n_neighbors parameter  of df \n",
    "%matplotlib nbagg\n",
    "#matplotlib inline\n",
    "%config InlineBackend.figure_format = 'retina' \n",
    "fig, ax  = plt.subplots(1, figsize=(15,5))\n",
    "\n",
    "## Link and apply Knn model to a plain plot\n",
    "#multi_knn_model(5, 0.8, 100)\n",
    "\n",
    "\n",
    "## Link and apply slide widgets \n",
    "perc_training = wg.FloatSlider(min=0.5,max=1,step=.01,description='% of training dataset:')\n",
    "n_neigh = wg.IntSlider(min=1,max=10,step=1,description='n_neighbors parameter:')\n",
    "rand_n = wg.IntSlider(min=1,max=100,step=1,description='n random Knn model iteration:')\n",
    "wg.interactive(multi_knn_model,n_neigh=n_neigh, perc_fig=perc_training, rand_n=rand_n)\n",
    "\n",
    "#display(perc_training, n_neigh)"
   ]
  },
  {
   "cell_type": "markdown",
   "metadata": {
    "extensions": {
     "jupyter_dashboards": {
      "version": 1,
      "views": {
       "grid_default": {
        "col": 0,
        "height": 4,
        "hidden": false,
        "row": 74,
        "width": 12
       },
       "report_default": {
        "hidden": false
       }
      }
     }
    }
   },
   "source": [
    "## Building multivariate k-nearest neighbors models: optimizing model parameters"
   ]
  },
  {
   "cell_type": "code",
   "execution_count": 12,
   "metadata": {
    "collapsed": true,
    "extensions": {
     "jupyter_dashboards": {
      "version": 1,
      "views": {
       "grid_default": {
        "hidden": true
       },
       "report_default": {
        "hidden": true
       }
      }
     }
    }
   },
   "outputs": [],
   "source": [
    "def multi_knn_model_results(n_neigh, perc_fig, rand_n):\n",
    "    \"\"\"\n",
    "    apply knn func \"knn_train_test\" to find best multivariate model for \n",
    "    each random set of features\n",
    "    Inputs:\n",
    "    ________________\n",
    "       - n_neigh: int\n",
    "            n_neighbor parameter in Knn func.\n",
    "       - perc_fig: float\n",
    "            % of dataframe splitting up training and testing set\n",
    "       - rand_n: float\n",
    "            random 'n' number iterations tp run Knn model\n",
    "    Output:\n",
    "    _________________\n",
    "       - list of average of RMSE \n",
    "    \"\"\"\n",
    "    ## create random, nonrepetitive pairs from a list of columns  \n",
    "    result_1 = {}\n",
    "    features_cols_lst = [col for idx, col in enumerate(list(cars_normalized_df.columns)) if col != 'price']\n",
    "    for idx, col in enumerate(features_cols_lst):\n",
    "            x = np.random.choice(features_cols_lst, idx, replace=False)\n",
    "            result_1[idx] = x\n",
    "    res1 = [item for item in result_1.values() if len(item) > 1]\n",
    "            \n",
    "    ## Applying \"knn_train_test\" to find best multivariate Knn model based on random feature selction \n",
    "    ## Iterating thru each multi-col selection \n",
    "    RMSE_total = {}\n",
    "    for i in range(rand_n):\n",
    "        RMSE_RES = {}\n",
    "        for idx,pair in enumerate(res1):\n",
    "            RMSE_RES[len(pair)] = multi_knn_train_test(cars_normalized_df ,pair ,'price',perc_fig ,n_neigh)\n",
    "        RMSE_total[i] = RMSE_RES\n",
    "    lst_rmse = []    \n",
    "    for i_1 in range(len(RMSE_total.keys())):\n",
    "        x = list(list(RMSE_total.values())[i_1].values())\n",
    "        lst_rmse.append(x)\n",
    "    avrg_rmse = [sum(n)/len(n) for n in list(zip(*lst_rmse))]   \n",
    "    avrg_rmse_plt_df = pd.DataFrame(avrg_rmse,columns=['Avrg RMSE'] ,index=list(list(RMSE_total.values())[0]))\n",
    "    return avrg_rmse_plt_df\n"
   ]
  },
  {
   "cell_type": "code",
   "execution_count": 13,
   "metadata": {
    "extensions": {
     "jupyter_dashboards": {
      "version": 1,
      "views": {
       "grid_default": {
        "col": 8,
        "height": 4,
        "hidden": false,
        "row": 16,
        "width": 4
       },
       "report_default": {
        "hidden": false
       }
      }
     }
    }
   },
   "outputs": [
    {
     "name": "stdout",
     "output_type": "stream",
     "text": [
      "CPU times: user 3 µs, sys: 1e+03 ns, total: 4 µs\n",
      "Wall time: 5.96 µs\n"
     ]
    }
   ],
   "source": [
    "# optimazing \"multi_knn_model_results\" parametrs\n",
    "# 1. n_neighbor parameter\n",
    "%time\n",
    "optimizing_k_niegh_para = list(\n",
    "    itertools.chain(\n",
    "        *[np.mean(multi_knn_model_results(iter_1,0.75,10)) for iter_1 in range(2, 60)]\n",
    "    )\n",
    ")\n",
    "# the range been selcted randomly to be betw(2,125) it can be chnaged !"
   ]
  },
  {
   "cell_type": "code",
   "execution_count": 14,
   "metadata": {
    "extensions": {
     "jupyter_dashboards": {
      "version": 1,
      "views": {
       "grid_default": {
        "col": 8,
        "height": 4,
        "hidden": false,
        "row": 43,
        "width": 4
       },
       "report_default": {
        "hidden": false
       }
      }
     }
    }
   },
   "outputs": [
    {
     "name": "stdout",
     "output_type": "stream",
     "text": [
      "CPU times: user 3 µs, sys: 0 ns, total: 3 µs\n",
      "Wall time: 5.96 µs\n"
     ]
    }
   ],
   "source": [
    "# 2.trainin / testing datset set up \n",
    "%time\n",
    "## Find the optimum point where Avrg-RMSE is the lowest\n",
    "optimizing_train_test_para = list(\n",
    "    itertools.chain(\n",
    "        *[np.mean(multi_knn_model_results(5,iter_2,10)) for iter_2 in [((x /.1) / 100) for x in range(1, 10)]]   \n",
    "    )\n",
    ")"
   ]
  },
  {
   "cell_type": "code",
   "execution_count": 15,
   "metadata": {
    "extensions": {
     "jupyter_dashboards": {
      "version": 1,
      "views": {
       "grid_default": {
        "col": 8,
        "height": 4,
        "hidden": false,
        "row": 66,
        "width": 4
       },
       "report_default": {
        "hidden": false
       }
      }
     }
    }
   },
   "outputs": [
    {
     "name": "stdout",
     "output_type": "stream",
     "text": [
      "CPU times: user 2 µs, sys: 1e+03 ns, total: 3 µs\n",
      "Wall time: 5.96 µs\n"
     ]
    }
   ],
   "source": [
    "# 3. Find the best Multi Knn model based on optmizing the prev. parameters\n",
    "%time\n",
    "\n",
    "optimizing_multi_knn_model = list(\n",
    "    itertools.chain(\n",
    "        *[np.mean(multi_knn_model_results(45,.8,iter_3)) for iter_3 in range(1, 50)]\n",
    "    )\n",
    ")        "
   ]
  },
  {
   "cell_type": "code",
   "execution_count": 16,
   "metadata": {
    "extensions": {
     "jupyter_dashboards": {
      "version": 1,
      "views": {
       "grid_default": {
        "col": 0,
        "height": 22,
        "hidden": false,
        "row": 115,
        "width": 4
       },
       "report_default": {
        "hidden": false
       }
      }
     }
    },
    "scrolled": true
   },
   "outputs": [
    {
     "data": {
      "text/plain": [
       "[<matplotlib.lines.Line2D at 0x1120a2be0>]"
      ]
     },
     "execution_count": 16,
     "metadata": {},
     "output_type": "execute_result"
    },
    {
     "data": {
      "text/plain": [
       "Text(0.5,1,'n_neighbor parameter - Hyperprameter')"
      ]
     },
     "execution_count": 16,
     "metadata": {},
     "output_type": "execute_result"
    },
    {
     "data": {
      "text/plain": [
       "Text(0,0.5,'AVRG RMSE')"
      ]
     },
     "execution_count": 16,
     "metadata": {},
     "output_type": "execute_result"
    },
    {
     "data": {
      "text/plain": [
       "[<matplotlib.lines.Line2D at 0x1120ac1d0>]"
      ]
     },
     "execution_count": 16,
     "metadata": {},
     "output_type": "execute_result"
    },
    {
     "data": {
      "text/plain": [
       "Text(0.5,1,'trainin / testing datset set up ')"
      ]
     },
     "execution_count": 16,
     "metadata": {},
     "output_type": "execute_result"
    },
    {
     "data": {
      "text/plain": [
       "Text(0,0.5,'AVRG RMSE')"
      ]
     },
     "execution_count": 16,
     "metadata": {},
     "output_type": "execute_result"
    },
    {
     "data": {
      "text/plain": [
       "(0.1, 8.4)"
      ]
     },
     "execution_count": 16,
     "metadata": {},
     "output_type": "execute_result"
    },
    {
     "data": {
      "text/plain": [
       "[<matplotlib.lines.Line2D at 0x1120ac898>]"
      ]
     },
     "execution_count": 16,
     "metadata": {},
     "output_type": "execute_result"
    },
    {
     "data": {
      "text/plain": [
       "Text(0.5,1,'Best Knn model')"
      ]
     },
     "execution_count": 16,
     "metadata": {},
     "output_type": "execute_result"
    },
    {
     "data": {
      "text/plain": [
       "Text(0,0.5,'AVRG RMSE')"
      ]
     },
     "execution_count": 16,
     "metadata": {},
     "output_type": "execute_result"
    },
    {
     "data": {
      "image/png": "[encoded data removed]",
      "text/plain": [
       "<matplotlib.figure.Figure at 0x1114866d8>"
      ]
     },
     "metadata": {
      "image/png": {
       "height": 698,
       "width": 897
      }
     },
     "output_type": "display_data"
    }
   ],
   "source": [
    "#%matplotlib nbagg\n",
    "%matplotlib inline\n",
    "%config InlineBackend.figure_format = 'retina' \n",
    "## Build a visualizations for parametrs\n",
    "fig, axs = plt.subplots(3, figsize=(15,12))\n",
    "\n",
    "##setting up the plot frame / title text color\n",
    "frm_color = 'white'\n",
    "for ax in axs:\n",
    "    ax.tick_params(color=frm_color, labelcolor=frm_color)\n",
    "    for spine in ax.spines.values():\n",
    "        spine.set_edgecolor(frm_color)\n",
    "        \n",
    "## plotting up the results\n",
    "axs[0].plot(optimizing_k_niegh_para)\n",
    "axs[0].set_title('n_neighbor parameter - Hyperprameter', color=frm_color)\n",
    "axs[0].set_ylabel('AVRG RMSE', color=frm_color)\n",
    "\n",
    "\n",
    "axs[1].plot(optimizing_train_test_para)\n",
    "axs[1].set_title('trainin / testing datset set up ', color=frm_color)\n",
    "axs[1].set_ylabel('AVRG RMSE', color=frm_color)\n",
    "axs[1].set_xlim(xmin=0.1)\n",
    "\n",
    "axs[2].plot(optimizing_multi_knn_model)\n",
    "axs[2].set_title('Best Knn model',  color=frm_color)\n",
    "axs[2].set_ylabel('AVRG RMSE', color=frm_color)"
   ]
  },
  {
   "cell_type": "markdown",
   "metadata": {
    "extensions": {
     "jupyter_dashboards": {
      "version": 1,
      "views": {
       "grid_default": {
        "col": 0,
        "height": 4,
        "hidden": false,
        "row": 78,
        "width": 12
       },
       "report_default": {
        "hidden": false
       }
      }
     }
    }
   },
   "source": [
    "### Key take away from the multivariate Knn model\n",
    "    - "
   ]
  },
  {
   "cell_type": "markdown",
   "metadata": {
    "extensions": {
     "jupyter_dashboards": {
      "version": 1,
      "views": {
       "grid_default": {
        "col": 1,
        "height": 4,
        "hidden": false,
        "row": 51,
        "width": 4
       },
       "report_default": {
        "hidden": false
       }
      }
     }
    }
   },
   "source": [
    "## Appendix: Add some functionality "
   ]
  },
  {
   "cell_type": "code",
   "execution_count": 17,
   "metadata": {
    "collapsed": true,
    "extensions": {
     "jupyter_dashboards": {
      "version": 1,
      "views": {
       "grid_default": {
        "hidden": true
       },
       "report_default": {
        "hidden": true
       }
      }
     }
    }
   },
   "outputs": [],
   "source": [
    "\n",
    "def search_text_google(text_str, lng, stop_val):\n",
    "    \"\"\"\n",
    "    Simple google search func \n",
    "    \"\"\"\n",
    "    for url in search(text_str, tld='com', lang=lng, stop=stop_val):\n",
    "        print(url)\n",
    "\n",
    "def download_data(url):\n",
    "    \"\"\"\n",
    "    Helps retrieving wheather applying request is sucsseful or not with \n",
    "    showing results \n",
    "    \"\"\"\n",
    "    Response = namedtuple('Response', ['data', 'error'])\n",
    "    try:\n",
    "        r = requests.get(url)\n",
    "    except Exception as e:\n",
    "        return Response(data = None , error = e)\n",
    "    if r.status_code == 200:\n",
    "        return Response(data=r, error=None)\n",
    "    else:\n",
    "        return Response(data=None, error=r.reason)\n",
    "\n",
    "def gen_all_features_combinations(df, target_col):\n",
    "    \"\"\"\n",
    "    This func generates (2^n -1) possible combinations for the features list (itertools should be imported)\n",
    "    within df excluding target col.\n",
    "      - df: defined dataframe \n",
    "      - target_col: the target column to be excluded from the main dataframe \n",
    "    \"\"\"\n",
    "    x =[col for idx, col in enumerate(list(df.columns)) if col != target_col]\n",
    "    features_lst = [list(subset) for l in range(0, len(x)+1) for subset in itertools.combinations(x, l)]\n",
    "    return features_lst\n",
    "\n",
    "#(2^n)n >> combination with repetition (itertools.permutations)\n",
    "#2^n >> combination without repetition (itertools.combinations)"
   ]
  },
  {
   "cell_type": "markdown",
   "metadata": {
    "extensions": {
     "jupyter_dashboards": {
      "version": 1,
      "views": {
       "grid_default": {
        "col": 7,
        "height": 4,
        "hidden": false,
        "row": 53,
        "width": 4
       },
       "report_default": {
        "hidden": false
       }
      }
     }
    }
   },
   "source": [
    "##  Multivariate Knn k-fold cross validation "
   ]
  },
  {
   "cell_type": "code",
   "execution_count": 18,
   "metadata": {
    "collapsed": true,
    "extensions": {
     "jupyter_dashboards": {
      "version": 1,
      "views": {
       "grid_default": {
        "hidden": true
       },
       "report_default": {
        "hidden": true
       }
      }
     }
    }
   },
   "outputs": [],
   "source": [
    "# Setting up k-fold for the dataset \n",
    "## Classify dataframe to 'i'th k-fold of training and testing seubset\n",
    "def set_Kfold(kfold_df, k_val):\n",
    "    \"\"\"\n",
    "    generating k-fold to prepare training /testing data subsets\n",
    "    Inputs:\n",
    "    _______________\n",
    "     - df: dataframe \n",
    "         input dataframe\n",
    "     - k_val: int\n",
    "         int value to define a k-fold to seubset dataframe \n",
    "     Output:\n",
    "     ______________\n",
    "     - generates dataframe with \"fold\" column representing k-fold for training/testing subset\n",
    "    \"\"\"\n",
    "    kfold_df['fold'] = 1\n",
    "    start = int(len(kfold_df)/k_val)\n",
    "    rng_vls = [int(x) for x in np.linspace(start=start, stop=len(kfold_df), num=k_val)]\n",
    "    for idx, val in enumerate(rng_vls):\n",
    "        kfold_df['fold'][rng_vls[idx]-start: val] = idx+1\n",
    "    return kfold_df \n"
   ]
  },
  {
   "cell_type": "code",
   "execution_count": 19,
   "metadata": {
    "collapsed": true,
    "extensions": {
     "jupyter_dashboards": {
      "version": 1,
      "views": {
       "grid_default": {
        "hidden": true
       },
       "report_default": {
        "hidden": true
       }
      }
     }
    }
   },
   "outputs": [],
   "source": [
    "## Apply multi Knn model and validating with k-fold methodology\n",
    "def train_and_validate_kFold(df, Kfold_num, n_neigh, feature_cols, target_cols):\n",
    "    \"\"\"\n",
    "    Multi Knn model with k-fold validation methodology\n",
    "    Inputs:\n",
    "    _______________\n",
    "     - df: dataframe \n",
    "         input dataframe\n",
    "     - kfold_num: int\n",
    "         int value to define a k-fold to seubset dataframe \n",
    "     Output:\n",
    "     ______________\n",
    "     - generates dataframe with \"fold\" column representing k-fold for training/testing subset\n",
    "    \"\"\"\n",
    "    new_kFold_df = set_Kfold(df, Kfold_num)\n",
    "    fold_ids = list(set(new_kFold_df['fold']))\n",
    "    rmse = []\n",
    "    for i in fold_ids:\n",
    "        training_set = new_kFold_df[new_kFold_df['fold']!=i]\n",
    "        testing_set =  new_kFold_df[new_kFold_df['fold']==i]\n",
    "\n",
    "        knn = KNeighborsRegressor(n_neighbors = n_neigh)\n",
    "        fits = knn.fit(training_set[feature_cols], training_set[target_cols])\n",
    "        predicts = knn.predict(testing_set[feature_cols])\n",
    "        iteration_i_rmse = (mean_squared_error(testing_set[target_cols], predicts))**.5\n",
    "        rmse.append(iteration_i_rmse)\n",
    "    return rmse"
   ]
  },
  {
   "cell_type": "code",
   "execution_count": 20,
   "metadata": {
    "collapsed": true,
    "extensions": {
     "jupyter_dashboards": {
      "version": 1,
      "views": {
       "grid_default": {
        "hidden": true
       },
       "report_default": {
        "hidden": true
       }
      }
     }
    }
   },
   "outputs": [],
   "source": [
    "## Apply multivariate Knn using cros k-fold methodology\n",
    "def multi_knn_model_kfold(n_neigh, Kfold_num, rand_n):\n",
    "    \"\"\"\n",
    "    apply knn func \"knn_train_test\" to find best multivariate model for \n",
    "    each random set of features\n",
    "    Inputs:\n",
    "    ________________\n",
    "       - n_neigh: int\n",
    "           n_neighbor parameter in Knn func.\n",
    "       - perc_fig: float\n",
    "           % of dataframe splitting up training and testing set\n",
    "       - rand_n: float\n",
    "           random 'n' number iterations tp run Knn model\n",
    "   Outputs:\n",
    "   _________________\n",
    "       - list of average RMSE\n",
    "    \"\"\"\n",
    "    ## create random, nonrepetitive pairs from a list of columns\n",
    "    #for iteration in range(rand_n):\n",
    "        #multi_col_rnd_selection = {idx:np.random.choice(cars_normalized_df.columns, idx, replace=False) for idx, col in enumerate(cars_normalized_df.columns)}\n",
    "        #multi_rnd_selection_excpt_0_1 = [item for item in multi_col_rnd_selection.values() if len(item) > 1]\n",
    "    ###################### New set up#######################   \n",
    "    result_1 = {}\n",
    "    features_cols_lst = [col for idx, col in enumerate(list(cars_normalized_df.columns)) if col != 'price']\n",
    "    for idx, col in enumerate(features_cols_lst):\n",
    "            x = np.random.choice(features_cols_lst, idx, replace=False)\n",
    "            result_1[idx] = x\n",
    "    res1 = [item for item in result_1.values() if len(item) > 1]\n",
    "            \n",
    "    ## Applying \"knn_train_test\" to find best multivariate Knn model based on random feature selction \n",
    "    ## Iterating thru each multi-col selection \n",
    "    RMSE_total = {}\n",
    "    for i in range(rand_n):\n",
    "        RMSE_RES = {}\n",
    "        for idx,pair in enumerate(res1):\n",
    "            Kfold_rmse = train_and_validate_kFold(cars_normalized_df, Kfold_num, n_neigh, pair,'price')\n",
    "            RMSE_RES[len(pair)] = np.mean(Kfold_rmse)\n",
    "                                    #multi_knn_train_test(cars_normalized_df ,pair ,'price',perc_fig ,n_neigh)\n",
    "        RMSE_total[i] = RMSE_RES\n",
    "    lst_rmse = []    \n",
    "    for i_1 in range(len(RMSE_total.keys())):\n",
    "        x = list(list(RMSE_total.values())[i_1].values())\n",
    "        lst_rmse.append(x)\n",
    "    avrg_rmse = [sum(n)/len(n) for n in list(zip(*lst_rmse))]   \n",
    "    avrg_rmse_plt_df = pd.DataFrame(avrg_rmse, columns=['Avrg RMSE'] ,index=list(list(RMSE_total.values())[0]))\n",
    "    \n",
    "    return avrg_rmse_plt_df\n"
   ]
  },
  {
   "cell_type": "code",
   "execution_count": 21,
   "metadata": {
    "collapsed": true,
    "extensions": {
     "jupyter_dashboards": {
      "version": 1,
      "views": {
       "grid_default": {
        "hidden": true
       },
       "report_default": {
        "hidden": true
       }
      }
     }
    },
    "scrolled": true
   },
   "outputs": [],
   "source": [
    "# Knn model interactivity \n",
    "def Kfold_iter(n_neigh, min_rng, max_rng, n_rnd):\n",
    "    \"\"\"\n",
    "    Apply multi_knn_model_kfold function to iterate thru a range of different kfolds\n",
    "    Imputs:\n",
    "    ____________\n",
    "     - n_neigh: int\n",
    "         n_neighbor parameter for Knn model\n",
    "     - min_rng: int\n",
    "         min value of a range \n",
    "     - max_rng: int\n",
    "         max value of a range \n",
    "     - min_rng: int\n",
    "         n range for random iterations\n",
    "    \"\"\"\n",
    "    avrg_rmse_kfolg = []\n",
    "    for i in range(min_rng, max_rng):\n",
    "        d = multi_knn_model_kfold(n_neigh, i, n_rnd)\n",
    "        avrg_rmse_kfolg.append(d['Avrg RMSE'].mean())\n",
    "        \n",
    "    #Set up the plot figures and style\n",
    "    ax.clear()\n",
    "    ax.bar([(idx+1) for idx, val in enumerate(avrg_rmse_kfolg)], avrg_rmse_kfolg)\n",
    "    frm_color = 'white'\n",
    "    ax.tick_params(color=frm_color, labelcolor=frm_color)\n",
    "    for spine in ax.spines.values():\n",
    "        spine.set_edgecolor(frm_color)\n",
    "    plt.style.use('seaborn')\n",
    "    plt.title('Multi Knn model with Kfold performance / Avrg-RMSE', color='white')\n",
    "    plt.show()"
   ]
  },
  {
   "cell_type": "code",
   "execution_count": 22,
   "metadata": {
    "extensions": {
     "jupyter_dashboards": {
      "version": 1,
      "views": {
       "grid_default": {
        "col": 0,
        "height": 10,
        "hidden": false,
        "row": 4,
        "width": 7
       },
       "report_default": {
        "hidden": false
       }
      }
     }
    }
   },
   "outputs": [
    {
     "name": "stderr",
     "output_type": "stream",
     "text": [
      "/Users/omar/anaconda3/lib/python3.6/site-packages/ipykernel_launcher.py:20: SettingWithCopyWarning: \n",
      "A value is trying to be set on a copy of a slice from a DataFrame\n",
      "\n",
      "See the caveats in the documentation: http://pandas.pydata.org/pandas-docs/stable/indexing.html#indexing-view-versus-copy\n"
     ]
    },
    {
     "data": {
      "image/png": "[encoded data removed]",
      "text/plain": [
       "<matplotlib.figure.Figure at 0x11210f0b8>"
      ]
     },
     "metadata": {
      "image/png": {
       "height": 317,
       "width": 710
      }
     },
     "output_type": "display_data"
    }
   ],
   "source": [
    "## Apply Multivariate Knn with kfold methodology\n",
    "fig, ax = plt.subplots(1, figsize=(12,5))\n",
    "Kfold_iter(10, 2, 11, 2)\n",
    "    "
   ]
  },
  {
   "cell_type": "code",
   "execution_count": 7,
   "metadata": {
    "collapsed": true,
    "extensions": {
     "jupyter_dashboards": {
      "version": 1,
      "views": {
       "grid_default": {
        "hidden": true
       },
       "report_default": {
        "hidden": true
       }
      }
     }
    }
   },
   "outputs": [],
   "source": []
  },
  {
   "cell_type": "code",
   "execution_count": 8,
   "metadata": {
    "extensions": {
     "jupyter_dashboards": {
      "version": 1,
      "views": {
       "grid_default": {
        "hidden": true
       },
       "report_default": {
        "hidden": true
       }
      }
     }
    }
   },
   "outputs": [
    {
     "data": {
      "text/plain": [
       "['omar', 'hazim']"
      ]
     },
     "execution_count": 8,
     "metadata": {},
     "output_type": "execute_result"
    }
   ],
   "source": [
    "nam"
   ]
  },
  {
   "cell_type": "code",
   "execution_count": null,
   "metadata": {
    "collapsed": true,
    "extensions": {
     "jupyter_dashboards": {
      "version": 1,
      "views": {
       "grid_default": {
        "hidden": true
       },
       "report_default": {
        "hidden": true
       }
      }
     }
    }
   },
   "outputs": [],
   "source": [
    "\n",
    "\n"
   ]
  },
  {
   "cell_type": "code",
   "execution_count": null,
   "metadata": {
    "collapsed": true,
    "extensions": {
     "jupyter_dashboards": {
      "version": 1,
      "views": {
       "grid_default": {
        "hidden": true
       },
       "report_default": {
        "hidden": true
       }
      }
     }
    }
   },
   "outputs": [],
   "source": []
  },
  {
   "cell_type": "code",
   "execution_count": null,
   "metadata": {
    "collapsed": true,
    "extensions": {
     "jupyter_dashboards": {
      "version": 1,
      "views": {
       "grid_default": {
        "col": 0,
        "height": 4,
        "hidden": true,
        "row": 11,
        "width": 12
       },
       "report_default": {
        "hidden": true
       }
      }
     }
    }
   },
   "outputs": [],
   "source": []
  },
  {
   "cell_type": "code",
   "execution_count": null,
   "metadata": {
    "collapsed": true,
    "extensions": {
     "jupyter_dashboards": {
      "version": 1,
      "views": {
       "grid_default": {
        "col": 0,
        "height": 4,
        "hidden": false,
        "row": 82,
        "width": 12
       },
       "report_default": {
        "hidden": true
       }
      }
     }
    }
   },
   "outputs": [],
   "source": []
  }
 ],
 "metadata": {
  "extensions": {
   "jupyter_dashboards": {
    "activeView": "grid_default",
    "version": 1,
    "views": {
     "grid_default": {
      "cellMargin": 10,
      "defaultCellHeight": 20,
      "maxColumns": 12,
      "name": "grid",
      "type": "grid"
     },
     "report_default": {
      "name": "report",
      "type": "report"
     }
    }
   }
  },
  "kernelspec": {
   "display_name": "Python 3",
   "language": "python",
   "name": "python3"
  },
  "language_info": {
   "codemirror_mode": {
    "name": "ipython",
    "version": 3
   },
   "file_extension": ".py",
   "mimetype": "text/x-python",
   "name": "python",
   "nbconvert_exporter": "python",
   "pygments_lexer": "ipython3",
   "version": "3.6.3"
  },
  "latex_envs": {
   "LaTeX_envs_menu_present": true,
   "autoclose": false,
   "autocomplete": true,
   "bibliofile": "biblio.bib",
   "cite_by": "apalike",
   "current_citInitial": 1,
   "eqLabelWithNumbers": true,
   "eqNumInitial": 1,
   "hotkeys": {
    "equation": "Ctrl-E",
    "itemize": "Ctrl-I"
   },
   "labels_anchors": false,
   "latex_user_defs": false,
   "report_style_numbering": false,
   "user_envs_cfg": false
  },
  "nbTranslate": {
   "displayLangs": [],
   "hotkey": "alt-t",
   "langInMainMenu": true,
   "sourceLang": "en",
   "targetLang": "fr",
   "useGoogleTranslate": true
  },
  "toc": {
   "nav_menu": {},
   "number_sections": true,
   "sideBar": true,
   "skip_h1_title": false,
   "toc_cell": false,
   "toc_position": {},
   "toc_section_display": "block",
   "toc_window_display": false
  }
 },
 "nbformat": 4,
 "nbformat_minor": 2
}
